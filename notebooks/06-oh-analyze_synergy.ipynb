{
 "cells": [
  {
   "cell_type": "markdown",
   "metadata": {},
   "source": [
    "# Analysis of Synergy Indices\n",
    "## A frequentist approach.\n"
   ]
  },
  {
   "cell_type": "code",
   "execution_count": 1,
   "outputs": [],
   "source": [
    "# Basic imports and setup.\n",
    "\n",
    "import sys\n",
    "import logging\n",
    "from pathlib import Path\n",
    "\n",
    "%load_ext autoreload\n",
    "%autoreload 2\n",
    "\n",
    "import matplotlib.pyplot as plt\n",
    "import numpy as np\n",
    "import pandas as pd\n",
    "import plotly.io as pio\n",
    "import seaborn as sns\n",
    "\n",
    "from neuropsymodelcomparison.dataprocessing import analysis\n",
    "from neuropsymodelcomparison import plot\n",
    "\n",
    "pd.set_option(\"display.max_rows\", 120)\n",
    "pd.set_option(\"display.max_columns\", 120)\n",
    "\n",
    "sns.set(style=\"darkgrid\")\n",
    "\n",
    "# Default file format for plotly figures.\n",
    "pio.kaleido.scope.default_format = \"pdf\"\n",
    "\n",
    "\n",
    "logging.basicConfig(level=logging.INFO, stream=sys.stdout)"
   ],
   "metadata": {
    "collapsed": false,
    "pycharm": {
     "name": "#%%\n"
    },
    "tags": []
   }
  },
  {
   "cell_type": "markdown",
   "metadata": {
    "collapsed": false,
    "pycharm": {
     "name": "#%%\n"
    }
   },
   "source": [
    "Get preprocessed trials data."
   ]
  },
  {
   "cell_type": "code",
   "execution_count": 2,
   "metadata": {},
   "outputs": [
    {
     "output_type": "execute_result",
     "data": {
      "text/plain": "         user session condition block     task  count   df1 mean  \\\nblock_id                                                           \n28          9       1   df1|df2     1      pre     28  57.286744   \n29          9       1   df1|df2     2  df1|df2     29  61.341153   \n30          9       1   df1|df2     3     post     30  59.048231   \n31         10       1   df1|df2     1      pre     20  64.677440   \n32         10       1   df1|df2     2  df1|df2     23  62.739136   \n\n          df1 variance   df2 mean  df2 variance  df1,df2 covariance  \\\nblock_id                                                              \n28            1.896588  66.294234      2.371020           -1.670264   \n29            2.957292  61.498744     32.293062           -1.113879   \n30           10.081573  64.725942     26.398456          -15.886674   \n31           14.666801  60.861312     12.463574          -12.214332   \n32           12.693437  60.771366      4.945265           -1.208985   \n\n            sum mean  sum variance  parallel absolute average  \\\nblock_id                                                        \n28        123.580978      0.927079                   1.523656   \n29        122.839898     33.022596                   2.300959   \n30        123.774173      4.706680                   2.670348   \n31        125.538753      2.701710                   4.202974   \n32        123.510502     15.220732                   2.446032   \n\n          parallel variance  orthogonal absolute average  orthogonal variance  \\\nblock_id                                                                        \n28                 3.804069                     0.552778             0.463540   \n29                18.739057                     2.104961            16.511298   \n30                34.126689                     0.787052             2.353340   \n31                25.779519                     0.812044             1.350855   \n32                10.028336                     2.133912             7.610366   \n\n                dV       dVz  rating  \nblock_id                              \n28        1.565527  1.052467       0  \n29        0.126396  0.063283       1  \n30        1.741959  1.337122       0  \n31        1.800835  1.474421       2  \n32        0.274166  0.137952       3  ",
      "text/html": "<div>\n<style scoped>\n    .dataframe tbody tr th:only-of-type {\n        vertical-align: middle;\n    }\n\n    .dataframe tbody tr th {\n        vertical-align: top;\n    }\n\n    .dataframe thead th {\n        text-align: right;\n    }\n</style>\n<table border=\"1\" class=\"dataframe\">\n  <thead>\n    <tr style=\"text-align: right;\">\n      <th></th>\n      <th>user</th>\n      <th>session</th>\n      <th>condition</th>\n      <th>block</th>\n      <th>task</th>\n      <th>count</th>\n      <th>df1 mean</th>\n      <th>df1 variance</th>\n      <th>df2 mean</th>\n      <th>df2 variance</th>\n      <th>df1,df2 covariance</th>\n      <th>sum mean</th>\n      <th>sum variance</th>\n      <th>parallel absolute average</th>\n      <th>parallel variance</th>\n      <th>orthogonal absolute average</th>\n      <th>orthogonal variance</th>\n      <th>dV</th>\n      <th>dVz</th>\n      <th>rating</th>\n    </tr>\n    <tr>\n      <th>block_id</th>\n      <th></th>\n      <th></th>\n      <th></th>\n      <th></th>\n      <th></th>\n      <th></th>\n      <th></th>\n      <th></th>\n      <th></th>\n      <th></th>\n      <th></th>\n      <th></th>\n      <th></th>\n      <th></th>\n      <th></th>\n      <th></th>\n      <th></th>\n      <th></th>\n      <th></th>\n      <th></th>\n    </tr>\n  </thead>\n  <tbody>\n    <tr>\n      <th>28</th>\n      <td>9</td>\n      <td>1</td>\n      <td>df1|df2</td>\n      <td>1</td>\n      <td>pre</td>\n      <td>28</td>\n      <td>57.286744</td>\n      <td>1.896588</td>\n      <td>66.294234</td>\n      <td>2.371020</td>\n      <td>-1.670264</td>\n      <td>123.580978</td>\n      <td>0.927079</td>\n      <td>1.523656</td>\n      <td>3.804069</td>\n      <td>0.552778</td>\n      <td>0.463540</td>\n      <td>1.565527</td>\n      <td>1.052467</td>\n      <td>0</td>\n    </tr>\n    <tr>\n      <th>29</th>\n      <td>9</td>\n      <td>1</td>\n      <td>df1|df2</td>\n      <td>2</td>\n      <td>df1|df2</td>\n      <td>29</td>\n      <td>61.341153</td>\n      <td>2.957292</td>\n      <td>61.498744</td>\n      <td>32.293062</td>\n      <td>-1.113879</td>\n      <td>122.839898</td>\n      <td>33.022596</td>\n      <td>2.300959</td>\n      <td>18.739057</td>\n      <td>2.104961</td>\n      <td>16.511298</td>\n      <td>0.126396</td>\n      <td>0.063283</td>\n      <td>1</td>\n    </tr>\n    <tr>\n      <th>30</th>\n      <td>9</td>\n      <td>1</td>\n      <td>df1|df2</td>\n      <td>3</td>\n      <td>post</td>\n      <td>30</td>\n      <td>59.048231</td>\n      <td>10.081573</td>\n      <td>64.725942</td>\n      <td>26.398456</td>\n      <td>-15.886674</td>\n      <td>123.774173</td>\n      <td>4.706680</td>\n      <td>2.670348</td>\n      <td>34.126689</td>\n      <td>0.787052</td>\n      <td>2.353340</td>\n      <td>1.741959</td>\n      <td>1.337122</td>\n      <td>0</td>\n    </tr>\n    <tr>\n      <th>31</th>\n      <td>10</td>\n      <td>1</td>\n      <td>df1|df2</td>\n      <td>1</td>\n      <td>pre</td>\n      <td>20</td>\n      <td>64.677440</td>\n      <td>14.666801</td>\n      <td>60.861312</td>\n      <td>12.463574</td>\n      <td>-12.214332</td>\n      <td>125.538753</td>\n      <td>2.701710</td>\n      <td>4.202974</td>\n      <td>25.779519</td>\n      <td>0.812044</td>\n      <td>1.350855</td>\n      <td>1.800835</td>\n      <td>1.474421</td>\n      <td>2</td>\n    </tr>\n    <tr>\n      <th>32</th>\n      <td>10</td>\n      <td>1</td>\n      <td>df1|df2</td>\n      <td>2</td>\n      <td>df1|df2</td>\n      <td>23</td>\n      <td>62.739136</td>\n      <td>12.693437</td>\n      <td>60.771366</td>\n      <td>4.945265</td>\n      <td>-1.208985</td>\n      <td>123.510502</td>\n      <td>15.220732</td>\n      <td>2.446032</td>\n      <td>10.028336</td>\n      <td>2.133912</td>\n      <td>7.610366</td>\n      <td>0.274166</td>\n      <td>0.137952</td>\n      <td>3</td>\n    </tr>\n  </tbody>\n</table>\n</div>"
     },
     "metadata": {},
     "execution_count": 2
    }
   ],
   "source": [
    "data_path = Path('../reports/block_stats.csv')\n",
    "figures_path = Path('../reports/figures')\n",
    "\n",
    "df = pd.read_csv(data_path, index_col='block_id', dtype={'exclude': bool})\n",
    "df = df.loc[~df['exclude']].drop('exclude', axis='columns')\n",
    "# Easier on memory and faster groupby.\n",
    "df[['user', 'session', 'block', 'condition', 'task']] = df[['user', 'session', 'block', 'condition', 'task']].astype('category')\n",
    "\n",
    "# When we view statistics by task, we want them to to be displyed in a certain order.\n",
    "task_display_order = ['pre', 'df1', 'df2', 'df1|df2', 'post']\n",
    "df.task.cat.reorder_categories(task_display_order, inplace=True)\n",
    "condition_display_order = ['df1', 'df2', 'df1|df2']\n",
    "df.condition.cat.reorder_categories(condition_display_order, inplace=True)\n",
    "\n",
    "df.head()"
   ]
  },
  {
   "cell_type": "markdown",
   "metadata": {},
   "source": [
    "## Projection variance per direction to UCM\n",
    "\n",
    "###  For each participant"
   ]
  },
  {
   "cell_type": "code",
   "execution_count": 4,
   "metadata": {},
   "outputs": [
    {
     "output_type": "display_data",
     "data": {
      "application/vnd.plotly.v1+json": {
       "config": {
        "plotlyServerURL": "https://plot.ly"
       },
       "data": [
        {
         "customdata": [
          [
           4,
           2.9543965393939597,
           13,
           1,
           "pre",
           0
          ],
          [
           4,
           20.793863780006,
           13,
           2,
           "df1",
           1
          ],
          [
           4,
           17.227964853255994,
           13,
           3,
           "post",
           2
          ]
         ],
         "hovertemplate": "projection=parallel<br>condition=df1<br>variance=%{customdata[1]:.3f}<br>participant=%{customdata[2]}<br>block=%{customdata[3]}<br>task=%{customdata[4]}<extra></extra>",
         "legendgroup": "parallel",
         "line": {
          "color": "lightgreen",
          "dash": "solid"
         },
         "mode": "lines",
         "name": "parallel",
         "showlegend": true,
         "type": "scattergl",
         "x": [
          1,
          2,
          3
         ],
         "xaxis": "x",
         "y": [
          2.9543965393939597,
          20.793863780006,
          17.227964853255994
         ],
         "yaxis": "y"
        },
        {
         "customdata": [
          [
           5,
           196.27953427899087,
           14,
           1,
           "pre",
           0
          ],
          [
           5,
           52.007306225492364,
           14,
           2,
           "df1",
           1
          ],
          [
           5,
           28.92210695646905,
           14,
           3,
           "post",
           2
          ]
         ],
         "hovertemplate": "projection=parallel<br>condition=df1<br>variance=%{customdata[1]:.3f}<br>participant=%{customdata[2]}<br>block=%{customdata[3]}<br>task=%{customdata[4]}<extra></extra>",
         "legendgroup": "parallel",
         "line": {
          "color": "lightgreen",
          "dash": "solid"
         },
         "mode": "lines",
         "name": "parallel",
         "showlegend": false,
         "type": "scattergl",
         "x": [
          1,
          2,
          3
         ],
         "xaxis": "x",
         "y": [
          196.27953427899087,
          52.007306225492364,
          28.92210695646905
         ],
         "yaxis": "y"
        },
        {
         "customdata": [
          [
           20,
           21.507106115177898,
           29,
           1,
           "pre",
           0
          ],
          [
           20,
           20.15728082199534,
           29,
           2,
           "df1",
           1
          ],
          [
           20,
           2.0549762478819185,
           29,
           3,
           "post",
           2
          ]
         ],
         "hovertemplate": "projection=parallel<br>condition=df1<br>variance=%{customdata[1]:.3f}<br>participant=%{customdata[2]}<br>block=%{customdata[3]}<br>task=%{customdata[4]}<extra></extra>",
         "legendgroup": "parallel",
         "line": {
          "color": "lightgreen",
          "dash": "solid"
         },
         "mode": "lines",
         "name": "parallel",
         "showlegend": false,
         "type": "scattergl",
         "x": [
          1,
          2,
          3
         ],
         "xaxis": "x",
         "y": [
          21.507106115177898,
          20.15728082199534,
          2.0549762478819185
         ],
         "yaxis": "y"
        },
        {
         "customdata": [
          [
           23,
           7.079318869301168,
           34,
           1,
           "pre",
           0
          ],
          [
           23,
           32.98175917186311,
           34,
           2,
           "df1",
           1
          ],
          [
           23,
           4.30839407397218,
           34,
           3,
           "post",
           2
          ]
         ],
         "hovertemplate": "projection=parallel<br>condition=df1<br>variance=%{customdata[1]:.3f}<br>participant=%{customdata[2]}<br>block=%{customdata[3]}<br>task=%{customdata[4]}<extra></extra>",
         "legendgroup": "parallel",
         "line": {
          "color": "lightgreen",
          "dash": "solid"
         },
         "mode": "lines",
         "name": "parallel",
         "showlegend": false,
         "type": "scattergl",
         "x": [
          1,
          2,
          3
         ],
         "xaxis": "x",
         "y": [
          7.079318869301168,
          32.98175917186311,
          4.30839407397218
         ],
         "yaxis": "y"
        },
        {
         "customdata": [
          [
           26,
           148.78549789403152,
           37,
           1,
           "pre",
           0
          ],
          [
           26,
           75.77529308977944,
           37,
           2,
           "df1",
           1
          ],
          [
           26,
           255.40344176609887,
           37,
           3,
           "post",
           2
          ]
         ],
         "hovertemplate": "projection=parallel<br>condition=df1<br>variance=%{customdata[1]:.3f}<br>participant=%{customdata[2]}<br>block=%{customdata[3]}<br>task=%{customdata[4]}<extra></extra>",
         "legendgroup": "parallel",
         "line": {
          "color": "lightgreen",
          "dash": "solid"
         },
         "mode": "lines",
         "name": "parallel",
         "showlegend": false,
         "type": "scattergl",
         "x": [
          1,
          2,
          3
         ],
         "xaxis": "x",
         "y": [
          148.78549789403152,
          75.77529308977944,
          255.40344176609887
         ],
         "yaxis": "y"
        },
        {
         "customdata": [
          [
           28,
           3.5739131443913217,
           43,
           1,
           "pre",
           0
          ],
          [
           28,
           12.829015984597996,
           43,
           2,
           "df1",
           1
          ],
          [
           28,
           9.5613543100365,
           43,
           3,
           "post",
           2
          ]
         ],
         "hovertemplate": "projection=parallel<br>condition=df1<br>variance=%{customdata[1]:.3f}<br>participant=%{customdata[2]}<br>block=%{customdata[3]}<br>task=%{customdata[4]}<extra></extra>",
         "legendgroup": "parallel",
         "line": {
          "color": "lightgreen",
          "dash": "solid"
         },
         "mode": "lines",
         "name": "parallel",
         "showlegend": false,
         "type": "scattergl",
         "x": [
          1,
          2,
          3
         ],
         "xaxis": "x",
         "y": [
          3.5739131443913217,
          12.829015984597996,
          9.5613543100365
         ],
         "yaxis": "y"
        },
        {
         "customdata": [
          [
           3,
           63.647129223330076,
           12,
           1,
           "pre",
           0
          ],
          [
           3,
           19.08476521353437,
           12,
           2,
           "df2",
           1
          ],
          [
           3,
           77.36564212486267,
           12,
           3,
           "post",
           2
          ]
         ],
         "hovertemplate": "projection=parallel<br>condition=df2<br>variance=%{customdata[1]:.3f}<br>participant=%{customdata[2]}<br>block=%{customdata[3]}<br>task=%{customdata[4]}<extra></extra>",
         "legendgroup": "parallel",
         "line": {
          "color": "lightgreen",
          "dash": "solid"
         },
         "mode": "lines",
         "name": "parallel",
         "showlegend": false,
         "type": "scattergl",
         "x": [
          1,
          2,
          3
         ],
         "xaxis": "x2",
         "y": [
          63.647129223330076,
          19.08476521353437,
          77.36564212486267
         ],
         "yaxis": "y2"
        },
        {
         "customdata": [
          [
           11,
           5.844673800494951,
           20,
           1,
           "pre",
           0
          ],
          [
           11,
           30.642093628805892,
           20,
           2,
           "df2",
           1
          ],
          [
           11,
           2.988979276673602,
           20,
           3,
           "post",
           2
          ]
         ],
         "hovertemplate": "projection=parallel<br>condition=df2<br>variance=%{customdata[1]:.3f}<br>participant=%{customdata[2]}<br>block=%{customdata[3]}<br>task=%{customdata[4]}<extra></extra>",
         "legendgroup": "parallel",
         "line": {
          "color": "lightgreen",
          "dash": "solid"
         },
         "mode": "lines",
         "name": "parallel",
         "showlegend": false,
         "type": "scattergl",
         "x": [
          1,
          2,
          3
         ],
         "xaxis": "x2",
         "y": [
          5.844673800494951,
          30.642093628805892,
          2.988979276673602
         ],
         "yaxis": "y2"
        },
        {
         "customdata": [
          [
           13,
           24.374488656877993,
           22,
           1,
           "pre",
           0
          ],
          [
           13,
           41.996432476071966,
           22,
           2,
           "df2",
           1
          ],
          [
           13,
           14.537881383631165,
           22,
           3,
           "post",
           2
          ]
         ],
         "hovertemplate": "projection=parallel<br>condition=df2<br>variance=%{customdata[1]:.3f}<br>participant=%{customdata[2]}<br>block=%{customdata[3]}<br>task=%{customdata[4]}<extra></extra>",
         "legendgroup": "parallel",
         "line": {
          "color": "lightgreen",
          "dash": "solid"
         },
         "mode": "lines",
         "name": "parallel",
         "showlegend": false,
         "type": "scattergl",
         "x": [
          1,
          2,
          3
         ],
         "xaxis": "x2",
         "y": [
          24.374488656877993,
          41.996432476071966,
          14.537881383631165
         ],
         "yaxis": "y2"
        },
        {
         "customdata": [
          [
           15,
           3.336158393798665,
           24,
           1,
           "pre",
           0
          ],
          [
           15,
           14.597090478845608,
           24,
           2,
           "df2",
           1
          ],
          [
           15,
           2.8482689665322227,
           24,
           3,
           "post",
           2
          ]
         ],
         "hovertemplate": "projection=parallel<br>condition=df2<br>variance=%{customdata[1]:.3f}<br>participant=%{customdata[2]}<br>block=%{customdata[3]}<br>task=%{customdata[4]}<extra></extra>",
         "legendgroup": "parallel",
         "line": {
          "color": "lightgreen",
          "dash": "solid"
         },
         "mode": "lines",
         "name": "parallel",
         "showlegend": false,
         "type": "scattergl",
         "x": [
          1,
          2,
          3
         ],
         "xaxis": "x2",
         "y": [
          3.336158393798665,
          14.597090478845608,
          2.8482689665322227
         ],
         "yaxis": "y2"
        },
        {
         "customdata": [
          [
           16,
           3.2461528108264512,
           25,
           1,
           "pre",
           0
          ],
          [
           16,
           84.79213194012112,
           25,
           2,
           "df2",
           1
          ],
          [
           16,
           4.8784051879731205,
           25,
           3,
           "post",
           2
          ]
         ],
         "hovertemplate": "projection=parallel<br>condition=df2<br>variance=%{customdata[1]:.3f}<br>participant=%{customdata[2]}<br>block=%{customdata[3]}<br>task=%{customdata[4]}<extra></extra>",
         "legendgroup": "parallel",
         "line": {
          "color": "lightgreen",
          "dash": "solid"
         },
         "mode": "lines",
         "name": "parallel",
         "showlegend": false,
         "type": "scattergl",
         "x": [
          1,
          2,
          3
         ],
         "xaxis": "x2",
         "y": [
          3.2461528108264512,
          84.79213194012112,
          4.8784051879731205
         ],
         "yaxis": "y2"
        },
        {
         "customdata": [
          [
           21,
           7.633613484721997,
           31,
           1,
           "pre",
           0
          ],
          [
           21,
           51.15366477971578,
           31,
           2,
           "df2",
           1
          ],
          [
           21,
           2.458859823851168,
           31,
           3,
           "post",
           2
          ]
         ],
         "hovertemplate": "projection=parallel<br>condition=df2<br>variance=%{customdata[1]:.3f}<br>participant=%{customdata[2]}<br>block=%{customdata[3]}<br>task=%{customdata[4]}<extra></extra>",
         "legendgroup": "parallel",
         "line": {
          "color": "lightgreen",
          "dash": "solid"
         },
         "mode": "lines",
         "name": "parallel",
         "showlegend": false,
         "type": "scattergl",
         "x": [
          1,
          2,
          3
         ],
         "xaxis": "x2",
         "y": [
          7.633613484721997,
          51.15366477971578,
          2.458859823851168
         ],
         "yaxis": "y2"
        },
        {
         "customdata": [
          [
           25,
           12.877715097269164,
           36,
           1,
           "pre",
           0
          ],
          [
           25,
           20.72259839963911,
           36,
           2,
           "df2",
           1
          ],
          [
           25,
           5.063803674731887,
           36,
           3,
           "post",
           2
          ]
         ],
         "hovertemplate": "projection=parallel<br>condition=df2<br>variance=%{customdata[1]:.3f}<br>participant=%{customdata[2]}<br>block=%{customdata[3]}<br>task=%{customdata[4]}<extra></extra>",
         "legendgroup": "parallel",
         "line": {
          "color": "lightgreen",
          "dash": "solid"
         },
         "mode": "lines",
         "name": "parallel",
         "showlegend": false,
         "type": "scattergl",
         "x": [
          1,
          2,
          3
         ],
         "xaxis": "x2",
         "y": [
          12.877715097269164,
          20.72259839963911,
          5.063803674731887
         ],
         "yaxis": "y2"
        },
        {
         "customdata": [
          [
           27,
           15.198476844791074,
           42,
           1,
           "pre",
           0
          ],
          [
           27,
           55.28786743343576,
           42,
           2,
           "df2",
           1
          ],
          [
           27,
           12.195517559046614,
           42,
           3,
           "post",
           2
          ]
         ],
         "hovertemplate": "projection=parallel<br>condition=df2<br>variance=%{customdata[1]:.3f}<br>participant=%{customdata[2]}<br>block=%{customdata[3]}<br>task=%{customdata[4]}<extra></extra>",
         "legendgroup": "parallel",
         "line": {
          "color": "lightgreen",
          "dash": "solid"
         },
         "mode": "lines",
         "name": "parallel",
         "showlegend": false,
         "type": "scattergl",
         "x": [
          1,
          2,
          3
         ],
         "xaxis": "x2",
         "y": [
          15.198476844791074,
          55.28786743343576,
          12.195517559046614
         ],
         "yaxis": "y2"
        },
        {
         "customdata": [
          [
           0,
           3.804068600067858,
           9,
           1,
           "pre",
           0
          ],
          [
           0,
           18.739056649970134,
           9,
           2,
           "df1|df2",
           1
          ],
          [
           0,
           34.12668864356361,
           9,
           3,
           "post",
           2
          ]
         ],
         "hovertemplate": "projection=parallel<br>condition=df1|df2<br>variance=%{customdata[1]:.3f}<br>participant=%{customdata[2]}<br>block=%{customdata[3]}<br>task=%{customdata[4]}<extra></extra>",
         "legendgroup": "parallel",
         "line": {
          "color": "lightgreen",
          "dash": "solid"
         },
         "mode": "lines",
         "name": "parallel",
         "showlegend": false,
         "type": "scattergl",
         "x": [
          1,
          2,
          3
         ],
         "xaxis": "x3",
         "y": [
          3.804068600067858,
          18.739056649970134,
          34.12668864356361
         ],
         "yaxis": "y3"
        },
        {
         "customdata": [
          [
           1,
           25.779519461313,
           10,
           1,
           "pre",
           0
          ],
          [
           1,
           10.02833636700435,
           10,
           2,
           "df1|df2",
           1
          ],
          [
           1,
           7.9533024598138296,
           10,
           3,
           "post",
           2
          ]
         ],
         "hovertemplate": "projection=parallel<br>condition=df1|df2<br>variance=%{customdata[1]:.3f}<br>participant=%{customdata[2]}<br>block=%{customdata[3]}<br>task=%{customdata[4]}<extra></extra>",
         "legendgroup": "parallel",
         "line": {
          "color": "lightgreen",
          "dash": "solid"
         },
         "mode": "lines",
         "name": "parallel",
         "showlegend": false,
         "type": "scattergl",
         "x": [
          1,
          2,
          3
         ],
         "xaxis": "x3",
         "y": [
          25.779519461313,
          10.02833636700435,
          7.9533024598138296
         ],
         "yaxis": "y3"
        },
        {
         "customdata": [
          [
           2,
           20.679633131348268,
           11,
           1,
           "pre",
           0
          ],
          [
           2,
           20.876882639869766,
           11,
           2,
           "df1|df2",
           1
          ],
          [
           2,
           28.21815688889617,
           11,
           3,
           "post",
           2
          ]
         ],
         "hovertemplate": "projection=parallel<br>condition=df1|df2<br>variance=%{customdata[1]:.3f}<br>participant=%{customdata[2]}<br>block=%{customdata[3]}<br>task=%{customdata[4]}<extra></extra>",
         "legendgroup": "parallel",
         "line": {
          "color": "lightgreen",
          "dash": "solid"
         },
         "mode": "lines",
         "name": "parallel",
         "showlegend": false,
         "type": "scattergl",
         "x": [
          1,
          2,
          3
         ],
         "xaxis": "x3",
         "y": [
          20.679633131348268,
          20.876882639869766,
          28.21815688889617
         ],
         "yaxis": "y3"
        },
        {
         "customdata": [
          [
           6,
           20.03646023931827,
           15,
           1,
           "pre",
           0
          ],
          [
           6,
           16.841756005031268,
           15,
           2,
           "df1|df2",
           1
          ],
          [
           6,
           5.9165862003150975,
           15,
           3,
           "post",
           2
          ]
         ],
         "hovertemplate": "projection=parallel<br>condition=df1|df2<br>variance=%{customdata[1]:.3f}<br>participant=%{customdata[2]}<br>block=%{customdata[3]}<br>task=%{customdata[4]}<extra></extra>",
         "legendgroup": "parallel",
         "line": {
          "color": "lightgreen",
          "dash": "solid"
         },
         "mode": "lines",
         "name": "parallel",
         "showlegend": false,
         "type": "scattergl",
         "x": [
          1,
          2,
          3
         ],
         "xaxis": "x3",
         "y": [
          20.03646023931827,
          16.841756005031268,
          5.9165862003150975
         ],
         "yaxis": "y3"
        },
        {
         "customdata": [
          [
           7,
           38.47630709431504,
           16,
           1,
           "pre",
           0
          ],
          [
           7,
           51.624231024838544,
           16,
           2,
           "df1|df2",
           1
          ],
          [
           7,
           22.83020621801534,
           16,
           3,
           "post",
           2
          ]
         ],
         "hovertemplate": "projection=parallel<br>condition=df1|df2<br>variance=%{customdata[1]:.3f}<br>participant=%{customdata[2]}<br>block=%{customdata[3]}<br>task=%{customdata[4]}<extra></extra>",
         "legendgroup": "parallel",
         "line": {
          "color": "lightgreen",
          "dash": "solid"
         },
         "mode": "lines",
         "name": "parallel",
         "showlegend": false,
         "type": "scattergl",
         "x": [
          1,
          2,
          3
         ],
         "xaxis": "x3",
         "y": [
          38.47630709431504,
          51.624231024838544,
          22.83020621801534
         ],
         "yaxis": "y3"
        },
        {
         "customdata": [
          [
           8,
           3.935435186774074,
           17,
           1,
           "pre",
           0
          ],
          [
           8,
           16.190214133128528,
           17,
           2,
           "df1|df2",
           1
          ],
          [
           8,
           8.731583318829768,
           17,
           3,
           "post",
           2
          ]
         ],
         "hovertemplate": "projection=parallel<br>condition=df1|df2<br>variance=%{customdata[1]:.3f}<br>participant=%{customdata[2]}<br>block=%{customdata[3]}<br>task=%{customdata[4]}<extra></extra>",
         "legendgroup": "parallel",
         "line": {
          "color": "lightgreen",
          "dash": "solid"
         },
         "mode": "lines",
         "name": "parallel",
         "showlegend": false,
         "type": "scattergl",
         "x": [
          1,
          2,
          3
         ],
         "xaxis": "x3",
         "y": [
          3.935435186774074,
          16.190214133128528,
          8.731583318829768
         ],
         "yaxis": "y3"
        },
        {
         "customdata": [
          [
           9,
           7.188272363541015,
           18,
           1,
           "pre",
           0
          ],
          [
           9,
           24.904096801434303,
           18,
           2,
           "df1|df2",
           1
          ],
          [
           9,
           40.386758603693316,
           18,
           3,
           "post",
           2
          ]
         ],
         "hovertemplate": "projection=parallel<br>condition=df1|df2<br>variance=%{customdata[1]:.3f}<br>participant=%{customdata[2]}<br>block=%{customdata[3]}<br>task=%{customdata[4]}<extra></extra>",
         "legendgroup": "parallel",
         "line": {
          "color": "lightgreen",
          "dash": "solid"
         },
         "mode": "lines",
         "name": "parallel",
         "showlegend": false,
         "type": "scattergl",
         "x": [
          1,
          2,
          3
         ],
         "xaxis": "x3",
         "y": [
          7.188272363541015,
          24.904096801434303,
          40.386758603693316
         ],
         "yaxis": "y3"
        },
        {
         "customdata": [
          [
           10,
           8.905134991921356,
           19,
           1,
           "pre",
           0
          ],
          [
           10,
           2.078352796366577,
           19,
           2,
           "df1|df2",
           1
          ],
          [
           10,
           4.016926490203685,
           19,
           3,
           "post",
           2
          ]
         ],
         "hovertemplate": "projection=parallel<br>condition=df1|df2<br>variance=%{customdata[1]:.3f}<br>participant=%{customdata[2]}<br>block=%{customdata[3]}<br>task=%{customdata[4]}<extra></extra>",
         "legendgroup": "parallel",
         "line": {
          "color": "lightgreen",
          "dash": "solid"
         },
         "mode": "lines",
         "name": "parallel",
         "showlegend": false,
         "type": "scattergl",
         "x": [
          1,
          2,
          3
         ],
         "xaxis": "x3",
         "y": [
          8.905134991921356,
          2.078352796366577,
          4.016926490203685
         ],
         "yaxis": "y3"
        },
        {
         "customdata": [
          [
           12,
           3.9479238488856065,
           21,
           1,
           "pre",
           0
          ],
          [
           12,
           0.6518236043633752,
           21,
           2,
           "df1|df2",
           1
          ],
          [
           12,
           11.91911382666907,
           21,
           3,
           "post",
           2
          ]
         ],
         "hovertemplate": "projection=parallel<br>condition=df1|df2<br>variance=%{customdata[1]:.3f}<br>participant=%{customdata[2]}<br>block=%{customdata[3]}<br>task=%{customdata[4]}<extra></extra>",
         "legendgroup": "parallel",
         "line": {
          "color": "lightgreen",
          "dash": "solid"
         },
         "mode": "lines",
         "name": "parallel",
         "showlegend": false,
         "type": "scattergl",
         "x": [
          1,
          2,
          3
         ],
         "xaxis": "x3",
         "y": [
          3.9479238488856065,
          0.6518236043633752,
          11.91911382666907
         ],
         "yaxis": "y3"
        },
        {
         "customdata": [
          [
           14,
           5.437349511928273,
           23,
           1,
           "pre",
           0
          ],
          [
           14,
           14.837237223647925,
           23,
           2,
           "df1|df2",
           1
          ],
          [
           14,
           27.91660603567037,
           23,
           3,
           "post",
           2
          ]
         ],
         "hovertemplate": "projection=parallel<br>condition=df1|df2<br>variance=%{customdata[1]:.3f}<br>participant=%{customdata[2]}<br>block=%{customdata[3]}<br>task=%{customdata[4]}<extra></extra>",
         "legendgroup": "parallel",
         "line": {
          "color": "lightgreen",
          "dash": "solid"
         },
         "mode": "lines",
         "name": "parallel",
         "showlegend": false,
         "type": "scattergl",
         "x": [
          1,
          2,
          3
         ],
         "xaxis": "x3",
         "y": [
          5.437349511928273,
          14.837237223647925,
          27.91660603567037
         ],
         "yaxis": "y3"
        },
        {
         "customdata": [
          [
           17,
           9.682019881834707,
           26,
           1,
           "pre",
           0
          ],
          [
           17,
           0.5819445839858483,
           26,
           2,
           "df1|df2",
           1
          ],
          [
           17,
           3.1996359782374304,
           26,
           3,
           "post",
           2
          ]
         ],
         "hovertemplate": "projection=parallel<br>condition=df1|df2<br>variance=%{customdata[1]:.3f}<br>participant=%{customdata[2]}<br>block=%{customdata[3]}<br>task=%{customdata[4]}<extra></extra>",
         "legendgroup": "parallel",
         "line": {
          "color": "lightgreen",
          "dash": "solid"
         },
         "mode": "lines",
         "name": "parallel",
         "showlegend": false,
         "type": "scattergl",
         "x": [
          1,
          2,
          3
         ],
         "xaxis": "x3",
         "y": [
          9.682019881834707,
          0.5819445839858483,
          3.1996359782374304
         ],
         "yaxis": "y3"
        },
        {
         "customdata": [
          [
           18,
           8.438888272661599,
           27,
           1,
           "pre",
           0
          ],
          [
           18,
           7.393362421122278,
           27,
           2,
           "df1|df2",
           1
          ],
          [
           18,
           6.4806577554356055,
           27,
           3,
           "post",
           2
          ]
         ],
         "hovertemplate": "projection=parallel<br>condition=df1|df2<br>variance=%{customdata[1]:.3f}<br>participant=%{customdata[2]}<br>block=%{customdata[3]}<br>task=%{customdata[4]}<extra></extra>",
         "legendgroup": "parallel",
         "line": {
          "color": "lightgreen",
          "dash": "solid"
         },
         "mode": "lines",
         "name": "parallel",
         "showlegend": false,
         "type": "scattergl",
         "x": [
          1,
          2,
          3
         ],
         "xaxis": "x3",
         "y": [
          8.438888272661599,
          7.393362421122278,
          6.4806577554356055
         ],
         "yaxis": "y3"
        },
        {
         "customdata": [
          [
           19,
           7.1734324827237765,
           28,
           1,
           "pre",
           0
          ],
          [
           19,
           8.672326404904434,
           28,
           2,
           "df1|df2",
           1
          ],
          [
           19,
           22.170270921201435,
           28,
           3,
           "post",
           2
          ]
         ],
         "hovertemplate": "projection=parallel<br>condition=df1|df2<br>variance=%{customdata[1]:.3f}<br>participant=%{customdata[2]}<br>block=%{customdata[3]}<br>task=%{customdata[4]}<extra></extra>",
         "legendgroup": "parallel",
         "line": {
          "color": "lightgreen",
          "dash": "solid"
         },
         "mode": "lines",
         "name": "parallel",
         "showlegend": false,
         "type": "scattergl",
         "x": [
          1,
          2,
          3
         ],
         "xaxis": "x3",
         "y": [
          7.1734324827237765,
          8.672326404904434,
          22.170270921201435
         ],
         "yaxis": "y3"
        },
        {
         "customdata": [
          [
           22,
           11.656000324411842,
           32,
           1,
           "pre",
           0
          ],
          [
           22,
           39.011394016871655,
           32,
           2,
           "df1|df2",
           1
          ],
          [
           22,
           33.91290134575171,
           32,
           3,
           "post",
           2
          ]
         ],
         "hovertemplate": "projection=parallel<br>condition=df1|df2<br>variance=%{customdata[1]:.3f}<br>participant=%{customdata[2]}<br>block=%{customdata[3]}<br>task=%{customdata[4]}<extra></extra>",
         "legendgroup": "parallel",
         "line": {
          "color": "lightgreen",
          "dash": "solid"
         },
         "mode": "lines",
         "name": "parallel",
         "showlegend": false,
         "type": "scattergl",
         "x": [
          1,
          2,
          3
         ],
         "xaxis": "x3",
         "y": [
          11.656000324411842,
          39.011394016871655,
          33.91290134575171
         ],
         "yaxis": "y3"
        },
        {
         "customdata": [
          [
           24,
           10.449756734233326,
           35,
           1,
           "pre",
           0
          ],
          [
           24,
           14.928694458621381,
           35,
           2,
           "df1|df2",
           1
          ],
          [
           24,
           20.96316808135279,
           35,
           3,
           "post",
           2
          ]
         ],
         "hovertemplate": "projection=parallel<br>condition=df1|df2<br>variance=%{customdata[1]:.3f}<br>participant=%{customdata[2]}<br>block=%{customdata[3]}<br>task=%{customdata[4]}<extra></extra>",
         "legendgroup": "parallel",
         "line": {
          "color": "lightgreen",
          "dash": "solid"
         },
         "mode": "lines",
         "name": "parallel",
         "showlegend": false,
         "type": "scattergl",
         "x": [
          1,
          2,
          3
         ],
         "xaxis": "x3",
         "y": [
          10.449756734233326,
          14.928694458621381,
          20.96316808135279
         ],
         "yaxis": "y3"
        },
        {
         "customdata": [
          [
           29,
           41.850956234634474,
           44,
           1,
           "pre",
           0
          ],
          [
           29,
           99.25414046314579,
           44,
           2,
           "df1|df2",
           1
          ],
          [
           29,
           54.188373260851705,
           44,
           3,
           "post",
           2
          ]
         ],
         "hovertemplate": "projection=parallel<br>condition=df1|df2<br>variance=%{customdata[1]:.3f}<br>participant=%{customdata[2]}<br>block=%{customdata[3]}<br>task=%{customdata[4]}<extra></extra>",
         "legendgroup": "parallel",
         "line": {
          "color": "lightgreen",
          "dash": "solid"
         },
         "mode": "lines",
         "name": "parallel",
         "showlegend": false,
         "type": "scattergl",
         "x": [
          1,
          2,
          3
         ],
         "xaxis": "x3",
         "y": [
          41.850956234634474,
          99.25414046314579,
          54.188373260851705
         ],
         "yaxis": "y3"
        },
        {
         "customdata": [
          [
           4,
           16.151461475976706,
           13,
           1,
           "pre",
           0
          ],
          [
           4,
           9.045201066811321,
           13,
           2,
           "df1",
           1
          ],
          [
           4,
           4.3261171904423765,
           13,
           3,
           "post",
           2
          ]
         ],
         "hovertemplate": "projection=orthogonal<br>condition=df1<br>variance=%{customdata[1]:.3f}<br>participant=%{customdata[2]}<br>block=%{customdata[3]}<br>task=%{customdata[4]}<extra></extra>",
         "legendgroup": "orthogonal",
         "line": {
          "color": "salmon",
          "dash": "solid"
         },
         "mode": "lines",
         "name": "orthogonal",
         "showlegend": true,
         "type": "scattergl",
         "x": [
          1,
          2,
          3
         ],
         "xaxis": "x",
         "y": [
          16.151461475976706,
          9.045201066811321,
          4.3261171904423765
         ],
         "yaxis": "y"
        },
        {
         "customdata": [
          [
           5,
           16.49856077448672,
           14,
           1,
           "pre",
           0
          ],
          [
           5,
           31.90738331258468,
           14,
           2,
           "df1",
           1
          ],
          [
           5,
           2.601381330533353,
           14,
           3,
           "post",
           2
          ]
         ],
         "hovertemplate": "projection=orthogonal<br>condition=df1<br>variance=%{customdata[1]:.3f}<br>participant=%{customdata[2]}<br>block=%{customdata[3]}<br>task=%{customdata[4]}<extra></extra>",
         "legendgroup": "orthogonal",
         "line": {
          "color": "salmon",
          "dash": "solid"
         },
         "mode": "lines",
         "name": "orthogonal",
         "showlegend": false,
         "type": "scattergl",
         "x": [
          1,
          2,
          3
         ],
         "xaxis": "x",
         "y": [
          16.49856077448672,
          31.90738331258468,
          2.601381330533353
         ],
         "yaxis": "y"
        },
        {
         "customdata": [
          [
           20,
           0.5210430409499307,
           29,
           1,
           "pre",
           0
          ],
          [
           20,
           12.45280378912782,
           29,
           2,
           "df1",
           1
          ],
          [
           20,
           0.4704733276044813,
           29,
           3,
           "post",
           2
          ]
         ],
         "hovertemplate": "projection=orthogonal<br>condition=df1<br>variance=%{customdata[1]:.3f}<br>participant=%{customdata[2]}<br>block=%{customdata[3]}<br>task=%{customdata[4]}<extra></extra>",
         "legendgroup": "orthogonal",
         "line": {
          "color": "salmon",
          "dash": "solid"
         },
         "mode": "lines",
         "name": "orthogonal",
         "showlegend": false,
         "type": "scattergl",
         "x": [
          1,
          2,
          3
         ],
         "xaxis": "x",
         "y": [
          0.5210430409499307,
          12.45280378912782,
          0.4704733276044813
         ],
         "yaxis": "y"
        },
        {
         "customdata": [
          [
           23,
           3.473884363265608,
           34,
           1,
           "pre",
           0
          ],
          [
           23,
           40.61664016359911,
           34,
           2,
           "df1",
           1
          ],
          [
           23,
           2.649831827081333,
           34,
           3,
           "post",
           2
          ]
         ],
         "hovertemplate": "projection=orthogonal<br>condition=df1<br>variance=%{customdata[1]:.3f}<br>participant=%{customdata[2]}<br>block=%{customdata[3]}<br>task=%{customdata[4]}<extra></extra>",
         "legendgroup": "orthogonal",
         "line": {
          "color": "salmon",
          "dash": "solid"
         },
         "mode": "lines",
         "name": "orthogonal",
         "showlegend": false,
         "type": "scattergl",
         "x": [
          1,
          2,
          3
         ],
         "xaxis": "x",
         "y": [
          3.473884363265608,
          40.61664016359911,
          2.649831827081333
         ],
         "yaxis": "y"
        },
        {
         "customdata": [
          [
           26,
           5.8123213909704114,
           37,
           1,
           "pre",
           0
          ],
          [
           26,
           64.11810929600345,
           37,
           2,
           "df1",
           1
          ],
          [
           26,
           2.2230092794105025,
           37,
           3,
           "post",
           2
          ]
         ],
         "hovertemplate": "projection=orthogonal<br>condition=df1<br>variance=%{customdata[1]:.3f}<br>participant=%{customdata[2]}<br>block=%{customdata[3]}<br>task=%{customdata[4]}<extra></extra>",
         "legendgroup": "orthogonal",
         "line": {
          "color": "salmon",
          "dash": "solid"
         },
         "mode": "lines",
         "name": "orthogonal",
         "showlegend": false,
         "type": "scattergl",
         "x": [
          1,
          2,
          3
         ],
         "xaxis": "x",
         "y": [
          5.8123213909704114,
          64.11810929600345,
          2.2230092794105025
         ],
         "yaxis": "y"
        },
        {
         "customdata": [
          [
           28,
           4.37960315621557,
           43,
           1,
           "pre",
           0
          ],
          [
           28,
           9.626128255089784,
           43,
           2,
           "df1",
           1
          ],
          [
           28,
           1.2594103332538638,
           43,
           3,
           "post",
           2
          ]
         ],
         "hovertemplate": "projection=orthogonal<br>condition=df1<br>variance=%{customdata[1]:.3f}<br>participant=%{customdata[2]}<br>block=%{customdata[3]}<br>task=%{customdata[4]}<extra></extra>",
         "legendgroup": "orthogonal",
         "line": {
          "color": "salmon",
          "dash": "solid"
         },
         "mode": "lines",
         "name": "orthogonal",
         "showlegend": false,
         "type": "scattergl",
         "x": [
          1,
          2,
          3
         ],
         "xaxis": "x",
         "y": [
          4.37960315621557,
          9.626128255089784,
          1.2594103332538638
         ],
         "yaxis": "y"
        },
        {
         "customdata": [
          [
           3,
           2.6022071258159314,
           12,
           1,
           "pre",
           0
          ],
          [
           3,
           13.02164706490376,
           12,
           2,
           "df2",
           1
          ],
          [
           3,
           2.6171535961123427,
           12,
           3,
           "post",
           2
          ]
         ],
         "hovertemplate": "projection=orthogonal<br>condition=df2<br>variance=%{customdata[1]:.3f}<br>participant=%{customdata[2]}<br>block=%{customdata[3]}<br>task=%{customdata[4]}<extra></extra>",
         "legendgroup": "orthogonal",
         "line": {
          "color": "salmon",
          "dash": "solid"
         },
         "mode": "lines",
         "name": "orthogonal",
         "showlegend": false,
         "type": "scattergl",
         "x": [
          1,
          2,
          3
         ],
         "xaxis": "x2",
         "y": [
          2.6022071258159314,
          13.02164706490376,
          2.6171535961123427
         ],
         "yaxis": "y2"
        },
        {
         "customdata": [
          [
           11,
           3.017726141357163,
           20,
           1,
           "pre",
           0
          ],
          [
           11,
           18.77716874451947,
           20,
           2,
           "df2",
           1
          ],
          [
           11,
           4.463519510539242,
           20,
           3,
           "post",
           2
          ]
         ],
         "hovertemplate": "projection=orthogonal<br>condition=df2<br>variance=%{customdata[1]:.3f}<br>participant=%{customdata[2]}<br>block=%{customdata[3]}<br>task=%{customdata[4]}<extra></extra>",
         "legendgroup": "orthogonal",
         "line": {
          "color": "salmon",
          "dash": "solid"
         },
         "mode": "lines",
         "name": "orthogonal",
         "showlegend": false,
         "type": "scattergl",
         "x": [
          1,
          2,
          3
         ],
         "xaxis": "x2",
         "y": [
          3.017726141357163,
          18.77716874451947,
          4.463519510539242
         ],
         "yaxis": "y2"
        },
        {
         "customdata": [
          [
           13,
           14.101418789775481,
           22,
           1,
           "pre",
           0
          ],
          [
           13,
           34.069600201255696,
           22,
           2,
           "df2",
           1
          ],
          [
           13,
           26.016719778028392,
           22,
           3,
           "post",
           2
          ]
         ],
         "hovertemplate": "projection=orthogonal<br>condition=df2<br>variance=%{customdata[1]:.3f}<br>participant=%{customdata[2]}<br>block=%{customdata[3]}<br>task=%{customdata[4]}<extra></extra>",
         "legendgroup": "orthogonal",
         "line": {
          "color": "salmon",
          "dash": "solid"
         },
         "mode": "lines",
         "name": "orthogonal",
         "showlegend": false,
         "type": "scattergl",
         "x": [
          1,
          2,
          3
         ],
         "xaxis": "x2",
         "y": [
          14.101418789775481,
          34.069600201255696,
          26.016719778028392
         ],
         "yaxis": "y2"
        },
        {
         "customdata": [
          [
           15,
           1.6437468011564436,
           24,
           1,
           "pre",
           0
          ],
          [
           15,
           11.092836159798946,
           24,
           2,
           "df2",
           1
          ],
          [
           15,
           0.3683901332401893,
           24,
           3,
           "post",
           2
          ]
         ],
         "hovertemplate": "projection=orthogonal<br>condition=df2<br>variance=%{customdata[1]:.3f}<br>participant=%{customdata[2]}<br>block=%{customdata[3]}<br>task=%{customdata[4]}<extra></extra>",
         "legendgroup": "orthogonal",
         "line": {
          "color": "salmon",
          "dash": "solid"
         },
         "mode": "lines",
         "name": "orthogonal",
         "showlegend": false,
         "type": "scattergl",
         "x": [
          1,
          2,
          3
         ],
         "xaxis": "x2",
         "y": [
          1.6437468011564436,
          11.092836159798946,
          0.3683901332401893
         ],
         "yaxis": "y2"
        },
        {
         "customdata": [
          [
           16,
           3.2608663958397837,
           25,
           1,
           "pre",
           0
          ],
          [
           16,
           43.870446063784115,
           25,
           2,
           "df2",
           1
          ],
          [
           16,
           2.8637016341124477,
           25,
           3,
           "post",
           2
          ]
         ],
         "hovertemplate": "projection=orthogonal<br>condition=df2<br>variance=%{customdata[1]:.3f}<br>participant=%{customdata[2]}<br>block=%{customdata[3]}<br>task=%{customdata[4]}<extra></extra>",
         "legendgroup": "orthogonal",
         "line": {
          "color": "salmon",
          "dash": "solid"
         },
         "mode": "lines",
         "name": "orthogonal",
         "showlegend": false,
         "type": "scattergl",
         "x": [
          1,
          2,
          3
         ],
         "xaxis": "x2",
         "y": [
          3.2608663958397837,
          43.870446063784115,
          2.8637016341124477
         ],
         "yaxis": "y2"
        },
        {
         "customdata": [
          [
           21,
           0.8966558611569573,
           31,
           1,
           "pre",
           0
          ],
          [
           21,
           30.92589496725184,
           31,
           2,
           "df2",
           1
          ],
          [
           21,
           1.2517049365516104,
           31,
           3,
           "post",
           2
          ]
         ],
         "hovertemplate": "projection=orthogonal<br>condition=df2<br>variance=%{customdata[1]:.3f}<br>participant=%{customdata[2]}<br>block=%{customdata[3]}<br>task=%{customdata[4]}<extra></extra>",
         "legendgroup": "orthogonal",
         "line": {
          "color": "salmon",
          "dash": "solid"
         },
         "mode": "lines",
         "name": "orthogonal",
         "showlegend": false,
         "type": "scattergl",
         "x": [
          1,
          2,
          3
         ],
         "xaxis": "x2",
         "y": [
          0.8966558611569573,
          30.92589496725184,
          1.2517049365516104
         ],
         "yaxis": "y2"
        },
        {
         "customdata": [
          [
           25,
           2.7910905992958326,
           36,
           1,
           "pre",
           0
          ],
          [
           25,
           27.7100738111554,
           36,
           2,
           "df2",
           1
          ],
          [
           25,
           3.184248086551277,
           36,
           3,
           "post",
           2
          ]
         ],
         "hovertemplate": "projection=orthogonal<br>condition=df2<br>variance=%{customdata[1]:.3f}<br>participant=%{customdata[2]}<br>block=%{customdata[3]}<br>task=%{customdata[4]}<extra></extra>",
         "legendgroup": "orthogonal",
         "line": {
          "color": "salmon",
          "dash": "solid"
         },
         "mode": "lines",
         "name": "orthogonal",
         "showlegend": false,
         "type": "scattergl",
         "x": [
          1,
          2,
          3
         ],
         "xaxis": "x2",
         "y": [
          2.7910905992958326,
          27.7100738111554,
          3.184248086551277
         ],
         "yaxis": "y2"
        },
        {
         "customdata": [
          [
           27,
           5.197680066067901,
           42,
           1,
           "pre",
           0
          ],
          [
           27,
           34.40278693617989,
           42,
           2,
           "df2",
           1
          ],
          [
           27,
           3.3309817244606457,
           42,
           3,
           "post",
           2
          ]
         ],
         "hovertemplate": "projection=orthogonal<br>condition=df2<br>variance=%{customdata[1]:.3f}<br>participant=%{customdata[2]}<br>block=%{customdata[3]}<br>task=%{customdata[4]}<extra></extra>",
         "legendgroup": "orthogonal",
         "line": {
          "color": "salmon",
          "dash": "solid"
         },
         "mode": "lines",
         "name": "orthogonal",
         "showlegend": false,
         "type": "scattergl",
         "x": [
          1,
          2,
          3
         ],
         "xaxis": "x2",
         "y": [
          5.197680066067901,
          34.40278693617989,
          3.3309817244606457
         ],
         "yaxis": "y2"
        },
        {
         "customdata": [
          [
           0,
           0.4635396343369897,
           9,
           1,
           "pre",
           0
          ],
          [
           0,
           16.511297888449587,
           9,
           2,
           "df1|df2",
           1
          ],
          [
           0,
           2.3533400121671617,
           9,
           3,
           "post",
           2
          ]
         ],
         "hovertemplate": "projection=orthogonal<br>condition=df1|df2<br>variance=%{customdata[1]:.3f}<br>participant=%{customdata[2]}<br>block=%{customdata[3]}<br>task=%{customdata[4]}<extra></extra>",
         "legendgroup": "orthogonal",
         "line": {
          "color": "salmon",
          "dash": "solid"
         },
         "mode": "lines",
         "name": "orthogonal",
         "showlegend": false,
         "type": "scattergl",
         "x": [
          1,
          2,
          3
         ],
         "xaxis": "x3",
         "y": [
          0.4635396343369897,
          16.511297888449587,
          2.3533400121671617
         ],
         "yaxis": "y3"
        },
        {
         "customdata": [
          [
           1,
           1.3508550273604991,
           10,
           1,
           "pre",
           0
          ],
          [
           1,
           7.610366105886768,
           10,
           2,
           "df1|df2",
           1
          ],
          [
           1,
           5.261341730807491,
           10,
           3,
           "post",
           2
          ]
         ],
         "hovertemplate": "projection=orthogonal<br>condition=df1|df2<br>variance=%{customdata[1]:.3f}<br>participant=%{customdata[2]}<br>block=%{customdata[3]}<br>task=%{customdata[4]}<extra></extra>",
         "legendgroup": "orthogonal",
         "line": {
          "color": "salmon",
          "dash": "solid"
         },
         "mode": "lines",
         "name": "orthogonal",
         "showlegend": false,
         "type": "scattergl",
         "x": [
          1,
          2,
          3
         ],
         "xaxis": "x3",
         "y": [
          1.3508550273604991,
          7.610366105886768,
          5.261341730807491
         ],
         "yaxis": "y3"
        },
        {
         "customdata": [
          [
           2,
           2.525528801707132,
           11,
           1,
           "pre",
           0
          ],
          [
           2,
           39.742956134343096,
           11,
           2,
           "df1|df2",
           1
          ],
          [
           2,
           1.1516040901944096,
           11,
           3,
           "post",
           2
          ]
         ],
         "hovertemplate": "projection=orthogonal<br>condition=df1|df2<br>variance=%{customdata[1]:.3f}<br>participant=%{customdata[2]}<br>block=%{customdata[3]}<br>task=%{customdata[4]}<extra></extra>",
         "legendgroup": "orthogonal",
         "line": {
          "color": "salmon",
          "dash": "solid"
         },
         "mode": "lines",
         "name": "orthogonal",
         "showlegend": false,
         "type": "scattergl",
         "x": [
          1,
          2,
          3
         ],
         "xaxis": "x3",
         "y": [
          2.525528801707132,
          39.742956134343096,
          1.1516040901944096
         ],
         "yaxis": "y3"
        },
        {
         "customdata": [
          [
           6,
           8.526160108764941,
           15,
           1,
           "pre",
           0
          ],
          [
           6,
           25.59099119176205,
           15,
           2,
           "df1|df2",
           1
          ],
          [
           6,
           16.231592094329365,
           15,
           3,
           "post",
           2
          ]
         ],
         "hovertemplate": "projection=orthogonal<br>condition=df1|df2<br>variance=%{customdata[1]:.3f}<br>participant=%{customdata[2]}<br>block=%{customdata[3]}<br>task=%{customdata[4]}<extra></extra>",
         "legendgroup": "orthogonal",
         "line": {
          "color": "salmon",
          "dash": "solid"
         },
         "mode": "lines",
         "name": "orthogonal",
         "showlegend": false,
         "type": "scattergl",
         "x": [
          1,
          2,
          3
         ],
         "xaxis": "x3",
         "y": [
          8.526160108764941,
          25.59099119176205,
          16.231592094329365
         ],
         "yaxis": "y3"
        },
        {
         "customdata": [
          [
           7,
           4.106244120505101,
           16,
           1,
           "pre",
           0
          ],
          [
           7,
           18.3128693474486,
           16,
           2,
           "df1|df2",
           1
          ],
          [
           7,
           3.7735574381157706,
           16,
           3,
           "post",
           2
          ]
         ],
         "hovertemplate": "projection=orthogonal<br>condition=df1|df2<br>variance=%{customdata[1]:.3f}<br>participant=%{customdata[2]}<br>block=%{customdata[3]}<br>task=%{customdata[4]}<extra></extra>",
         "legendgroup": "orthogonal",
         "line": {
          "color": "salmon",
          "dash": "solid"
         },
         "mode": "lines",
         "name": "orthogonal",
         "showlegend": false,
         "type": "scattergl",
         "x": [
          1,
          2,
          3
         ],
         "xaxis": "x3",
         "y": [
          4.106244120505101,
          18.3128693474486,
          3.7735574381157706
         ],
         "yaxis": "y3"
        },
        {
         "customdata": [
          [
           8,
           5.447787034446231,
           17,
           1,
           "pre",
           0
          ],
          [
           8,
           7.489641853334557,
           17,
           2,
           "df1|df2",
           1
          ],
          [
           8,
           0.8800668008466676,
           17,
           3,
           "post",
           2
          ]
         ],
         "hovertemplate": "projection=orthogonal<br>condition=df1|df2<br>variance=%{customdata[1]:.3f}<br>participant=%{customdata[2]}<br>block=%{customdata[3]}<br>task=%{customdata[4]}<extra></extra>",
         "legendgroup": "orthogonal",
         "line": {
          "color": "salmon",
          "dash": "solid"
         },
         "mode": "lines",
         "name": "orthogonal",
         "showlegend": false,
         "type": "scattergl",
         "x": [
          1,
          2,
          3
         ],
         "xaxis": "x3",
         "y": [
          5.447787034446231,
          7.489641853334557,
          0.8800668008466676
         ],
         "yaxis": "y3"
        },
        {
         "customdata": [
          [
           9,
           0.8855227448547851,
           18,
           1,
           "pre",
           0
          ],
          [
           9,
           17.692094343029574,
           18,
           2,
           "df1|df2",
           1
          ],
          [
           9,
           0.7532415498964434,
           18,
           3,
           "post",
           2
          ]
         ],
         "hovertemplate": "projection=orthogonal<br>condition=df1|df2<br>variance=%{customdata[1]:.3f}<br>participant=%{customdata[2]}<br>block=%{customdata[3]}<br>task=%{customdata[4]}<extra></extra>",
         "legendgroup": "orthogonal",
         "line": {
          "color": "salmon",
          "dash": "solid"
         },
         "mode": "lines",
         "name": "orthogonal",
         "showlegend": false,
         "type": "scattergl",
         "x": [
          1,
          2,
          3
         ],
         "xaxis": "x3",
         "y": [
          0.8855227448547851,
          17.692094343029574,
          0.7532415498964434
         ],
         "yaxis": "y3"
        },
        {
         "customdata": [
          [
           10,
           1.4988185390472588,
           19,
           1,
           "pre",
           0
          ],
          [
           10,
           0.8056768046874146,
           19,
           2,
           "df1|df2",
           1
          ],
          [
           10,
           0.3899344507673016,
           19,
           3,
           "post",
           2
          ]
         ],
         "hovertemplate": "projection=orthogonal<br>condition=df1|df2<br>variance=%{customdata[1]:.3f}<br>participant=%{customdata[2]}<br>block=%{customdata[3]}<br>task=%{customdata[4]}<extra></extra>",
         "legendgroup": "orthogonal",
         "line": {
          "color": "salmon",
          "dash": "solid"
         },
         "mode": "lines",
         "name": "orthogonal",
         "showlegend": false,
         "type": "scattergl",
         "x": [
          1,
          2,
          3
         ],
         "xaxis": "x3",
         "y": [
          1.4988185390472588,
          0.8056768046874146,
          0.3899344507673016
         ],
         "yaxis": "y3"
        },
        {
         "customdata": [
          [
           12,
           0.5602622440736104,
           21,
           1,
           "pre",
           0
          ],
          [
           12,
           0.9808019009288944,
           21,
           2,
           "df1|df2",
           1
          ],
          [
           12,
           0.3858877121797816,
           21,
           3,
           "post",
           2
          ]
         ],
         "hovertemplate": "projection=orthogonal<br>condition=df1|df2<br>variance=%{customdata[1]:.3f}<br>participant=%{customdata[2]}<br>block=%{customdata[3]}<br>task=%{customdata[4]}<extra></extra>",
         "legendgroup": "orthogonal",
         "line": {
          "color": "salmon",
          "dash": "solid"
         },
         "mode": "lines",
         "name": "orthogonal",
         "showlegend": false,
         "type": "scattergl",
         "x": [
          1,
          2,
          3
         ],
         "xaxis": "x3",
         "y": [
          0.5602622440736104,
          0.9808019009288944,
          0.3858877121797816
         ],
         "yaxis": "y3"
        },
        {
         "customdata": [
          [
           14,
           1.0880947343038367,
           23,
           1,
           "pre",
           0
          ],
          [
           14,
           10.661465948427931,
           23,
           2,
           "df1|df2",
           1
          ],
          [
           14,
           0.7021739345847816,
           23,
           3,
           "post",
           2
          ]
         ],
         "hovertemplate": "projection=orthogonal<br>condition=df1|df2<br>variance=%{customdata[1]:.3f}<br>participant=%{customdata[2]}<br>block=%{customdata[3]}<br>task=%{customdata[4]}<extra></extra>",
         "legendgroup": "orthogonal",
         "line": {
          "color": "salmon",
          "dash": "solid"
         },
         "mode": "lines",
         "name": "orthogonal",
         "showlegend": false,
         "type": "scattergl",
         "x": [
          1,
          2,
          3
         ],
         "xaxis": "x3",
         "y": [
          1.0880947343038367,
          10.661465948427931,
          0.7021739345847816
         ],
         "yaxis": "y3"
        },
        {
         "customdata": [
          [
           17,
           0.951537341063257,
           26,
           1,
           "pre",
           0
          ],
          [
           17,
           1.0189225313425705,
           26,
           2,
           "df1|df2",
           1
          ],
          [
           17,
           0.5037226899915187,
           26,
           3,
           "post",
           2
          ]
         ],
         "hovertemplate": "projection=orthogonal<br>condition=df1|df2<br>variance=%{customdata[1]:.3f}<br>participant=%{customdata[2]}<br>block=%{customdata[3]}<br>task=%{customdata[4]}<extra></extra>",
         "legendgroup": "orthogonal",
         "line": {
          "color": "salmon",
          "dash": "solid"
         },
         "mode": "lines",
         "name": "orthogonal",
         "showlegend": false,
         "type": "scattergl",
         "x": [
          1,
          2,
          3
         ],
         "xaxis": "x3",
         "y": [
          0.951537341063257,
          1.0189225313425705,
          0.5037226899915187
         ],
         "yaxis": "y3"
        },
        {
         "customdata": [
          [
           18,
           1.550968219137164,
           27,
           1,
           "pre",
           0
          ],
          [
           18,
           3.0736156653204967,
           27,
           2,
           "df1|df2",
           1
          ],
          [
           18,
           0.5118076127356105,
           27,
           3,
           "post",
           2
          ]
         ],
         "hovertemplate": "projection=orthogonal<br>condition=df1|df2<br>variance=%{customdata[1]:.3f}<br>participant=%{customdata[2]}<br>block=%{customdata[3]}<br>task=%{customdata[4]}<extra></extra>",
         "legendgroup": "orthogonal",
         "line": {
          "color": "salmon",
          "dash": "solid"
         },
         "mode": "lines",
         "name": "orthogonal",
         "showlegend": false,
         "type": "scattergl",
         "x": [
          1,
          2,
          3
         ],
         "xaxis": "x3",
         "y": [
          1.550968219137164,
          3.0736156653204967,
          0.5118076127356105
         ],
         "yaxis": "y3"
        },
        {
         "customdata": [
          [
           19,
           1.117337979991083,
           28,
           1,
           "pre",
           0
          ],
          [
           19,
           8.407311107860004,
           28,
           2,
           "df1|df2",
           1
          ],
          [
           19,
           3.1849500402651585,
           28,
           3,
           "post",
           2
          ]
         ],
         "hovertemplate": "projection=orthogonal<br>condition=df1|df2<br>variance=%{customdata[1]:.3f}<br>participant=%{customdata[2]}<br>block=%{customdata[3]}<br>task=%{customdata[4]}<extra></extra>",
         "legendgroup": "orthogonal",
         "line": {
          "color": "salmon",
          "dash": "solid"
         },
         "mode": "lines",
         "name": "orthogonal",
         "showlegend": false,
         "type": "scattergl",
         "x": [
          1,
          2,
          3
         ],
         "xaxis": "x3",
         "y": [
          1.117337979991083,
          8.407311107860004,
          3.1849500402651585
         ],
         "yaxis": "y3"
        },
        {
         "customdata": [
          [
           22,
           47.97991946759529,
           32,
           1,
           "pre",
           0
          ],
          [
           22,
           14.324196577847685,
           32,
           2,
           "df1|df2",
           1
          ],
          [
           22,
           3.8853862745501937,
           32,
           3,
           "post",
           2
          ]
         ],
         "hovertemplate": "projection=orthogonal<br>condition=df1|df2<br>variance=%{customdata[1]:.3f}<br>participant=%{customdata[2]}<br>block=%{customdata[3]}<br>task=%{customdata[4]}<extra></extra>",
         "legendgroup": "orthogonal",
         "line": {
          "color": "salmon",
          "dash": "solid"
         },
         "mode": "lines",
         "name": "orthogonal",
         "showlegend": false,
         "type": "scattergl",
         "x": [
          1,
          2,
          3
         ],
         "xaxis": "x3",
         "y": [
          47.97991946759529,
          14.324196577847685,
          3.8853862745501937
         ],
         "yaxis": "y3"
        },
        {
         "customdata": [
          [
           24,
           21.992709507003703,
           35,
           1,
           "pre",
           0
          ],
          [
           24,
           25.680400445409518,
           35,
           2,
           "df1|df2",
           1
          ],
          [
           24,
           9.220017683331935,
           35,
           3,
           "post",
           2
          ]
         ],
         "hovertemplate": "projection=orthogonal<br>condition=df1|df2<br>variance=%{customdata[1]:.3f}<br>participant=%{customdata[2]}<br>block=%{customdata[3]}<br>task=%{customdata[4]}<extra></extra>",
         "legendgroup": "orthogonal",
         "line": {
          "color": "salmon",
          "dash": "solid"
         },
         "mode": "lines",
         "name": "orthogonal",
         "showlegend": false,
         "type": "scattergl",
         "x": [
          1,
          2,
          3
         ],
         "xaxis": "x3",
         "y": [
          21.992709507003703,
          25.680400445409518,
          9.220017683331935
         ],
         "yaxis": "y3"
        },
        {
         "customdata": [
          [
           29,
           16.942487967657293,
           44,
           1,
           "pre",
           0
          ],
          [
           29,
           67.81195339198146,
           44,
           2,
           "df1|df2",
           1
          ],
          [
           29,
           2.1414454589634984,
           44,
           3,
           "post",
           2
          ]
         ],
         "hovertemplate": "projection=orthogonal<br>condition=df1|df2<br>variance=%{customdata[1]:.3f}<br>participant=%{customdata[2]}<br>block=%{customdata[3]}<br>task=%{customdata[4]}<extra></extra>",
         "legendgroup": "orthogonal",
         "line": {
          "color": "salmon",
          "dash": "solid"
         },
         "mode": "lines",
         "name": "orthogonal",
         "showlegend": false,
         "type": "scattergl",
         "x": [
          1,
          2,
          3
         ],
         "xaxis": "x3",
         "y": [
          16.942487967657293,
          67.81195339198146,
          2.1414454589634984
         ],
         "yaxis": "y3"
        }
       ],
       "layout": {
        "annotations": [
         {
          "font": {},
          "showarrow": false,
          "text": "condition=df1",
          "x": 0.15999999999999998,
          "xanchor": "center",
          "xref": "paper",
          "y": 1,
          "yanchor": "bottom",
          "yref": "paper"
         },
         {
          "font": {},
          "showarrow": false,
          "text": "condition=df2",
          "x": 0.49999999999999994,
          "xanchor": "center",
          "xref": "paper",
          "y": 1,
          "yanchor": "bottom",
          "yref": "paper"
         },
         {
          "font": {},
          "showarrow": false,
          "text": "condition=df1|df2",
          "x": 0.8399999999999999,
          "xanchor": "center",
          "xref": "paper",
          "y": 1,
          "yanchor": "bottom",
          "yref": "paper"
         }
        ],
        "legend": {
         "orientation": "v",
         "title": {
          "text": "PROJECTION"
         },
         "xanchor": "right",
         "yanchor": "top"
        },
        "margin": {
         "b": 40,
         "l": 40,
         "r": 10,
         "t": 40
        },
        "template": {
         "data": {
          "bar": [
           {
            "error_x": {
             "color": "#2a3f5f"
            },
            "error_y": {
             "color": "#2a3f5f"
            },
            "marker": {
             "line": {
              "color": "#E5ECF6",
              "width": 0.5
             }
            },
            "type": "bar"
           }
          ],
          "barpolar": [
           {
            "marker": {
             "line": {
              "color": "#E5ECF6",
              "width": 0.5
             }
            },
            "type": "barpolar"
           }
          ],
          "carpet": [
           {
            "aaxis": {
             "endlinecolor": "#2a3f5f",
             "gridcolor": "white",
             "linecolor": "white",
             "minorgridcolor": "white",
             "startlinecolor": "#2a3f5f"
            },
            "baxis": {
             "endlinecolor": "#2a3f5f",
             "gridcolor": "white",
             "linecolor": "white",
             "minorgridcolor": "white",
             "startlinecolor": "#2a3f5f"
            },
            "type": "carpet"
           }
          ],
          "choropleth": [
           {
            "colorbar": {
             "outlinewidth": 0,
             "ticks": ""
            },
            "type": "choropleth"
           }
          ],
          "contour": [
           {
            "colorbar": {
             "outlinewidth": 0,
             "ticks": ""
            },
            "colorscale": [
             [
              0,
              "#0d0887"
             ],
             [
              0.1111111111111111,
              "#46039f"
             ],
             [
              0.2222222222222222,
              "#7201a8"
             ],
             [
              0.3333333333333333,
              "#9c179e"
             ],
             [
              0.4444444444444444,
              "#bd3786"
             ],
             [
              0.5555555555555556,
              "#d8576b"
             ],
             [
              0.6666666666666666,
              "#ed7953"
             ],
             [
              0.7777777777777778,
              "#fb9f3a"
             ],
             [
              0.8888888888888888,
              "#fdca26"
             ],
             [
              1,
              "#f0f921"
             ]
            ],
            "type": "contour"
           }
          ],
          "contourcarpet": [
           {
            "colorbar": {
             "outlinewidth": 0,
             "ticks": ""
            },
            "type": "contourcarpet"
           }
          ],
          "heatmap": [
           {
            "colorbar": {
             "outlinewidth": 0,
             "ticks": ""
            },
            "colorscale": [
             [
              0,
              "#0d0887"
             ],
             [
              0.1111111111111111,
              "#46039f"
             ],
             [
              0.2222222222222222,
              "#7201a8"
             ],
             [
              0.3333333333333333,
              "#9c179e"
             ],
             [
              0.4444444444444444,
              "#bd3786"
             ],
             [
              0.5555555555555556,
              "#d8576b"
             ],
             [
              0.6666666666666666,
              "#ed7953"
             ],
             [
              0.7777777777777778,
              "#fb9f3a"
             ],
             [
              0.8888888888888888,
              "#fdca26"
             ],
             [
              1,
              "#f0f921"
             ]
            ],
            "type": "heatmap"
           }
          ],
          "heatmapgl": [
           {
            "colorbar": {
             "outlinewidth": 0,
             "ticks": ""
            },
            "colorscale": [
             [
              0,
              "#0d0887"
             ],
             [
              0.1111111111111111,
              "#46039f"
             ],
             [
              0.2222222222222222,
              "#7201a8"
             ],
             [
              0.3333333333333333,
              "#9c179e"
             ],
             [
              0.4444444444444444,
              "#bd3786"
             ],
             [
              0.5555555555555556,
              "#d8576b"
             ],
             [
              0.6666666666666666,
              "#ed7953"
             ],
             [
              0.7777777777777778,
              "#fb9f3a"
             ],
             [
              0.8888888888888888,
              "#fdca26"
             ],
             [
              1,
              "#f0f921"
             ]
            ],
            "type": "heatmapgl"
           }
          ],
          "histogram": [
           {
            "marker": {
             "colorbar": {
              "outlinewidth": 0,
              "ticks": ""
             }
            },
            "type": "histogram"
           }
          ],
          "histogram2d": [
           {
            "colorbar": {
             "outlinewidth": 0,
             "ticks": ""
            },
            "colorscale": [
             [
              0,
              "#0d0887"
             ],
             [
              0.1111111111111111,
              "#46039f"
             ],
             [
              0.2222222222222222,
              "#7201a8"
             ],
             [
              0.3333333333333333,
              "#9c179e"
             ],
             [
              0.4444444444444444,
              "#bd3786"
             ],
             [
              0.5555555555555556,
              "#d8576b"
             ],
             [
              0.6666666666666666,
              "#ed7953"
             ],
             [
              0.7777777777777778,
              "#fb9f3a"
             ],
             [
              0.8888888888888888,
              "#fdca26"
             ],
             [
              1,
              "#f0f921"
             ]
            ],
            "type": "histogram2d"
           }
          ],
          "histogram2dcontour": [
           {
            "colorbar": {
             "outlinewidth": 0,
             "ticks": ""
            },
            "colorscale": [
             [
              0,
              "#0d0887"
             ],
             [
              0.1111111111111111,
              "#46039f"
             ],
             [
              0.2222222222222222,
              "#7201a8"
             ],
             [
              0.3333333333333333,
              "#9c179e"
             ],
             [
              0.4444444444444444,
              "#bd3786"
             ],
             [
              0.5555555555555556,
              "#d8576b"
             ],
             [
              0.6666666666666666,
              "#ed7953"
             ],
             [
              0.7777777777777778,
              "#fb9f3a"
             ],
             [
              0.8888888888888888,
              "#fdca26"
             ],
             [
              1,
              "#f0f921"
             ]
            ],
            "type": "histogram2dcontour"
           }
          ],
          "mesh3d": [
           {
            "colorbar": {
             "outlinewidth": 0,
             "ticks": ""
            },
            "type": "mesh3d"
           }
          ],
          "parcoords": [
           {
            "line": {
             "colorbar": {
              "outlinewidth": 0,
              "ticks": ""
             }
            },
            "type": "parcoords"
           }
          ],
          "pie": [
           {
            "automargin": true,
            "type": "pie"
           }
          ],
          "scatter": [
           {
            "marker": {
             "colorbar": {
              "outlinewidth": 0,
              "ticks": ""
             }
            },
            "type": "scatter"
           }
          ],
          "scatter3d": [
           {
            "line": {
             "colorbar": {
              "outlinewidth": 0,
              "ticks": ""
             }
            },
            "marker": {
             "colorbar": {
              "outlinewidth": 0,
              "ticks": ""
             }
            },
            "type": "scatter3d"
           }
          ],
          "scattercarpet": [
           {
            "marker": {
             "colorbar": {
              "outlinewidth": 0,
              "ticks": ""
             }
            },
            "type": "scattercarpet"
           }
          ],
          "scattergeo": [
           {
            "marker": {
             "colorbar": {
              "outlinewidth": 0,
              "ticks": ""
             }
            },
            "type": "scattergeo"
           }
          ],
          "scattergl": [
           {
            "marker": {
             "colorbar": {
              "outlinewidth": 0,
              "ticks": ""
             }
            },
            "type": "scattergl"
           }
          ],
          "scattermapbox": [
           {
            "marker": {
             "colorbar": {
              "outlinewidth": 0,
              "ticks": ""
             }
            },
            "type": "scattermapbox"
           }
          ],
          "scatterpolar": [
           {
            "marker": {
             "colorbar": {
              "outlinewidth": 0,
              "ticks": ""
             }
            },
            "type": "scatterpolar"
           }
          ],
          "scatterpolargl": [
           {
            "marker": {
             "colorbar": {
              "outlinewidth": 0,
              "ticks": ""
             }
            },
            "type": "scatterpolargl"
           }
          ],
          "scatterternary": [
           {
            "marker": {
             "colorbar": {
              "outlinewidth": 0,
              "ticks": ""
             }
            },
            "type": "scatterternary"
           }
          ],
          "surface": [
           {
            "colorbar": {
             "outlinewidth": 0,
             "ticks": ""
            },
            "colorscale": [
             [
              0,
              "#0d0887"
             ],
             [
              0.1111111111111111,
              "#46039f"
             ],
             [
              0.2222222222222222,
              "#7201a8"
             ],
             [
              0.3333333333333333,
              "#9c179e"
             ],
             [
              0.4444444444444444,
              "#bd3786"
             ],
             [
              0.5555555555555556,
              "#d8576b"
             ],
             [
              0.6666666666666666,
              "#ed7953"
             ],
             [
              0.7777777777777778,
              "#fb9f3a"
             ],
             [
              0.8888888888888888,
              "#fdca26"
             ],
             [
              1,
              "#f0f921"
             ]
            ],
            "type": "surface"
           }
          ],
          "table": [
           {
            "cells": {
             "fill": {
              "color": "#EBF0F8"
             },
             "line": {
              "color": "white"
             }
            },
            "header": {
             "fill": {
              "color": "#C8D4E3"
             },
             "line": {
              "color": "white"
             }
            },
            "type": "table"
           }
          ]
         },
         "layout": {
          "annotationdefaults": {
           "arrowcolor": "#2a3f5f",
           "arrowhead": 0,
           "arrowwidth": 1
          },
          "coloraxis": {
           "colorbar": {
            "outlinewidth": 0,
            "ticks": ""
           }
          },
          "colorscale": {
           "diverging": [
            [
             0,
             "#8e0152"
            ],
            [
             0.1,
             "#c51b7d"
            ],
            [
             0.2,
             "#de77ae"
            ],
            [
             0.3,
             "#f1b6da"
            ],
            [
             0.4,
             "#fde0ef"
            ],
            [
             0.5,
             "#f7f7f7"
            ],
            [
             0.6,
             "#e6f5d0"
            ],
            [
             0.7,
             "#b8e186"
            ],
            [
             0.8,
             "#7fbc41"
            ],
            [
             0.9,
             "#4d9221"
            ],
            [
             1,
             "#276419"
            ]
           ],
           "sequential": [
            [
             0,
             "#0d0887"
            ],
            [
             0.1111111111111111,
             "#46039f"
            ],
            [
             0.2222222222222222,
             "#7201a8"
            ],
            [
             0.3333333333333333,
             "#9c179e"
            ],
            [
             0.4444444444444444,
             "#bd3786"
            ],
            [
             0.5555555555555556,
             "#d8576b"
            ],
            [
             0.6666666666666666,
             "#ed7953"
            ],
            [
             0.7777777777777778,
             "#fb9f3a"
            ],
            [
             0.8888888888888888,
             "#fdca26"
            ],
            [
             1,
             "#f0f921"
            ]
           ],
           "sequentialminus": [
            [
             0,
             "#0d0887"
            ],
            [
             0.1111111111111111,
             "#46039f"
            ],
            [
             0.2222222222222222,
             "#7201a8"
            ],
            [
             0.3333333333333333,
             "#9c179e"
            ],
            [
             0.4444444444444444,
             "#bd3786"
            ],
            [
             0.5555555555555556,
             "#d8576b"
            ],
            [
             0.6666666666666666,
             "#ed7953"
            ],
            [
             0.7777777777777778,
             "#fb9f3a"
            ],
            [
             0.8888888888888888,
             "#fdca26"
            ],
            [
             1,
             "#f0f921"
            ]
           ]
          },
          "colorway": [
           "#636efa",
           "#EF553B",
           "#00cc96",
           "#ab63fa",
           "#FFA15A",
           "#19d3f3",
           "#FF6692",
           "#B6E880",
           "#FF97FF",
           "#FECB52"
          ],
          "font": {
           "color": "#2a3f5f"
          },
          "geo": {
           "bgcolor": "white",
           "lakecolor": "white",
           "landcolor": "#E5ECF6",
           "showlakes": true,
           "showland": true,
           "subunitcolor": "white"
          },
          "hoverlabel": {
           "align": "left"
          },
          "hovermode": "closest",
          "mapbox": {
           "style": "light"
          },
          "paper_bgcolor": "white",
          "plot_bgcolor": "#E5ECF6",
          "polar": {
           "angularaxis": {
            "gridcolor": "white",
            "linecolor": "white",
            "ticks": ""
           },
           "bgcolor": "#E5ECF6",
           "radialaxis": {
            "gridcolor": "white",
            "linecolor": "white",
            "ticks": ""
           }
          },
          "scene": {
           "xaxis": {
            "backgroundcolor": "#E5ECF6",
            "gridcolor": "white",
            "gridwidth": 2,
            "linecolor": "white",
            "showbackground": true,
            "ticks": "",
            "zerolinecolor": "white"
           },
           "yaxis": {
            "backgroundcolor": "#E5ECF6",
            "gridcolor": "white",
            "gridwidth": 2,
            "linecolor": "white",
            "showbackground": true,
            "ticks": "",
            "zerolinecolor": "white"
           },
           "zaxis": {
            "backgroundcolor": "#E5ECF6",
            "gridcolor": "white",
            "gridwidth": 2,
            "linecolor": "white",
            "showbackground": true,
            "ticks": "",
            "zerolinecolor": "white"
           }
          },
          "shapedefaults": {
           "line": {
            "color": "#2a3f5f"
           }
          },
          "ternary": {
           "aaxis": {
            "gridcolor": "white",
            "linecolor": "white",
            "ticks": ""
           },
           "baxis": {
            "gridcolor": "white",
            "linecolor": "white",
            "ticks": ""
           },
           "bgcolor": "#E5ECF6",
           "caxis": {
            "gridcolor": "white",
            "linecolor": "white",
            "ticks": ""
           }
          },
          "title": {
           "x": 0.05
          },
          "xaxis": {
           "automargin": true,
           "gridcolor": "white",
           "linecolor": "white",
           "ticks": "",
           "title": {
            "standoff": 15
           },
           "zerolinecolor": "white",
           "zerolinewidth": 2
          },
          "yaxis": {
           "automargin": true,
           "gridcolor": "white",
           "linecolor": "white",
           "ticks": "",
           "title": {
            "standoff": 15
           },
           "zerolinecolor": "white",
           "zerolinewidth": 2
          }
         }
        },
        "width": 1000,
        "xaxis": {
         "anchor": "y",
         "domain": [
          0,
          0.31999999999999995
         ],
         "range": [
          0.5,
          3.5
         ],
         "tickvals": [
          1,
          2,
          3
         ],
         "title": {
          "text": "Block"
         }
        },
        "xaxis2": {
         "anchor": "y2",
         "domain": [
          0.33999999999999997,
          0.6599999999999999
         ],
         "matches": "x",
         "range": [
          0.5,
          3.5
         ],
         "tickvals": [
          1,
          2,
          3
         ],
         "title": {
          "text": "Block"
         }
        },
        "xaxis3": {
         "anchor": "y3",
         "domain": [
          0.6799999999999999,
          0.9999999999999999
         ],
         "matches": "x",
         "range": [
          0.5,
          3.5
         ],
         "tickvals": [
          1,
          2,
          3
         ],
         "title": {
          "text": "Block"
         }
        },
        "yaxis": {
         "anchor": "x",
         "domain": [
          0,
          1
         ],
         "title": {
          "text": "Variance"
         }
        },
        "yaxis2": {
         "anchor": "x2",
         "domain": [
          0,
          1
         ],
         "matches": "y",
         "showticklabels": false
        },
        "yaxis3": {
         "anchor": "x3",
         "domain": [
          0,
          1
         ],
         "matches": "y",
         "showticklabels": false
        }
       }
      },
      "text/html": "<div>\n        \n        \n            <div id=\"a5768782-9567-43fd-b379-a701c531d82d\" class=\"plotly-graph-div\" style=\"height:525px; width:1000px;\"></div>\n            <script type=\"text/javascript\">\n                require([\"plotly\"], function(Plotly) {\n                    window.PLOTLYENV=window.PLOTLYENV || {};\n                    \n                if (document.getElementById(\"a5768782-9567-43fd-b379-a701c531d82d\")) {\n                    Plotly.newPlot(\n                        'a5768782-9567-43fd-b379-a701c531d82d',\n                        [{\"customdata\": [[4.0, 2.9543965393939597, 13.0, 1.0, \"pre\", 0], [4.0, 20.793863780006, 13.0, 2.0, \"df1\", 1], [4.0, 17.227964853255994, 13.0, 3.0, \"post\", 2]], \"hovertemplate\": \"projection=parallel<br>condition=df1<br>variance=%{customdata[1]:.3f}<br>participant=%{customdata[2]}<br>block=%{customdata[3]}<br>task=%{customdata[4]}<extra></extra>\", \"legendgroup\": \"parallel\", \"line\": {\"color\": \"lightgreen\", \"dash\": \"solid\"}, \"mode\": \"lines\", \"name\": \"parallel\", \"showlegend\": true, \"type\": \"scattergl\", \"x\": [1, 2, 3], \"xaxis\": \"x\", \"y\": [2.9543965393939597, 20.793863780006, 17.227964853255994], \"yaxis\": \"y\"}, {\"customdata\": [[5.0, 196.27953427899087, 14.0, 1.0, \"pre\", 0], [5.0, 52.007306225492364, 14.0, 2.0, \"df1\", 1], [5.0, 28.92210695646905, 14.0, 3.0, \"post\", 2]], \"hovertemplate\": \"projection=parallel<br>condition=df1<br>variance=%{customdata[1]:.3f}<br>participant=%{customdata[2]}<br>block=%{customdata[3]}<br>task=%{customdata[4]}<extra></extra>\", \"legendgroup\": \"parallel\", \"line\": {\"color\": \"lightgreen\", \"dash\": \"solid\"}, \"mode\": \"lines\", \"name\": \"parallel\", \"showlegend\": false, \"type\": \"scattergl\", \"x\": [1, 2, 3], \"xaxis\": \"x\", \"y\": [196.27953427899087, 52.007306225492364, 28.92210695646905], \"yaxis\": \"y\"}, {\"customdata\": [[20.0, 21.507106115177898, 29.0, 1.0, \"pre\", 0], [20.0, 20.15728082199534, 29.0, 2.0, \"df1\", 1], [20.0, 2.0549762478819185, 29.0, 3.0, \"post\", 2]], \"hovertemplate\": \"projection=parallel<br>condition=df1<br>variance=%{customdata[1]:.3f}<br>participant=%{customdata[2]}<br>block=%{customdata[3]}<br>task=%{customdata[4]}<extra></extra>\", \"legendgroup\": \"parallel\", \"line\": {\"color\": \"lightgreen\", \"dash\": \"solid\"}, \"mode\": \"lines\", \"name\": \"parallel\", \"showlegend\": false, \"type\": \"scattergl\", \"x\": [1, 2, 3], \"xaxis\": \"x\", \"y\": [21.507106115177898, 20.15728082199534, 2.0549762478819185], \"yaxis\": \"y\"}, {\"customdata\": [[23.0, 7.079318869301168, 34.0, 1.0, \"pre\", 0], [23.0, 32.98175917186311, 34.0, 2.0, \"df1\", 1], [23.0, 4.30839407397218, 34.0, 3.0, \"post\", 2]], \"hovertemplate\": \"projection=parallel<br>condition=df1<br>variance=%{customdata[1]:.3f}<br>participant=%{customdata[2]}<br>block=%{customdata[3]}<br>task=%{customdata[4]}<extra></extra>\", \"legendgroup\": \"parallel\", \"line\": {\"color\": \"lightgreen\", \"dash\": \"solid\"}, \"mode\": \"lines\", \"name\": \"parallel\", \"showlegend\": false, \"type\": \"scattergl\", \"x\": [1, 2, 3], \"xaxis\": \"x\", \"y\": [7.079318869301168, 32.98175917186311, 4.30839407397218], \"yaxis\": \"y\"}, {\"customdata\": [[26.0, 148.78549789403152, 37.0, 1.0, \"pre\", 0], [26.0, 75.77529308977944, 37.0, 2.0, \"df1\", 1], [26.0, 255.40344176609887, 37.0, 3.0, \"post\", 2]], \"hovertemplate\": \"projection=parallel<br>condition=df1<br>variance=%{customdata[1]:.3f}<br>participant=%{customdata[2]}<br>block=%{customdata[3]}<br>task=%{customdata[4]}<extra></extra>\", \"legendgroup\": \"parallel\", \"line\": {\"color\": \"lightgreen\", \"dash\": \"solid\"}, \"mode\": \"lines\", \"name\": \"parallel\", \"showlegend\": false, \"type\": \"scattergl\", \"x\": [1, 2, 3], \"xaxis\": \"x\", \"y\": [148.78549789403152, 75.77529308977944, 255.40344176609887], \"yaxis\": \"y\"}, {\"customdata\": [[28.0, 3.5739131443913217, 43.0, 1.0, \"pre\", 0], [28.0, 12.829015984597996, 43.0, 2.0, \"df1\", 1], [28.0, 9.5613543100365, 43.0, 3.0, \"post\", 2]], \"hovertemplate\": \"projection=parallel<br>condition=df1<br>variance=%{customdata[1]:.3f}<br>participant=%{customdata[2]}<br>block=%{customdata[3]}<br>task=%{customdata[4]}<extra></extra>\", \"legendgroup\": \"parallel\", \"line\": {\"color\": \"lightgreen\", \"dash\": \"solid\"}, \"mode\": \"lines\", \"name\": \"parallel\", \"showlegend\": false, \"type\": \"scattergl\", \"x\": [1, 2, 3], \"xaxis\": \"x\", \"y\": [3.5739131443913217, 12.829015984597996, 9.5613543100365], \"yaxis\": \"y\"}, {\"customdata\": [[3.0, 63.647129223330076, 12.0, 1.0, \"pre\", 0], [3.0, 19.08476521353437, 12.0, 2.0, \"df2\", 1], [3.0, 77.36564212486267, 12.0, 3.0, \"post\", 2]], \"hovertemplate\": \"projection=parallel<br>condition=df2<br>variance=%{customdata[1]:.3f}<br>participant=%{customdata[2]}<br>block=%{customdata[3]}<br>task=%{customdata[4]}<extra></extra>\", \"legendgroup\": \"parallel\", \"line\": {\"color\": \"lightgreen\", \"dash\": \"solid\"}, \"mode\": \"lines\", \"name\": \"parallel\", \"showlegend\": false, \"type\": \"scattergl\", \"x\": [1, 2, 3], \"xaxis\": \"x2\", \"y\": [63.647129223330076, 19.08476521353437, 77.36564212486267], \"yaxis\": \"y2\"}, {\"customdata\": [[11.0, 5.844673800494951, 20.0, 1.0, \"pre\", 0], [11.0, 30.642093628805892, 20.0, 2.0, \"df2\", 1], [11.0, 2.988979276673602, 20.0, 3.0, \"post\", 2]], \"hovertemplate\": \"projection=parallel<br>condition=df2<br>variance=%{customdata[1]:.3f}<br>participant=%{customdata[2]}<br>block=%{customdata[3]}<br>task=%{customdata[4]}<extra></extra>\", \"legendgroup\": \"parallel\", \"line\": {\"color\": \"lightgreen\", \"dash\": \"solid\"}, \"mode\": \"lines\", \"name\": \"parallel\", \"showlegend\": false, \"type\": \"scattergl\", \"x\": [1, 2, 3], \"xaxis\": \"x2\", \"y\": [5.844673800494951, 30.642093628805892, 2.988979276673602], \"yaxis\": \"y2\"}, {\"customdata\": [[13.0, 24.374488656877993, 22.0, 1.0, \"pre\", 0], [13.0, 41.996432476071966, 22.0, 2.0, \"df2\", 1], [13.0, 14.537881383631165, 22.0, 3.0, \"post\", 2]], \"hovertemplate\": \"projection=parallel<br>condition=df2<br>variance=%{customdata[1]:.3f}<br>participant=%{customdata[2]}<br>block=%{customdata[3]}<br>task=%{customdata[4]}<extra></extra>\", \"legendgroup\": \"parallel\", \"line\": {\"color\": \"lightgreen\", \"dash\": \"solid\"}, \"mode\": \"lines\", \"name\": \"parallel\", \"showlegend\": false, \"type\": \"scattergl\", \"x\": [1, 2, 3], \"xaxis\": \"x2\", \"y\": [24.374488656877993, 41.996432476071966, 14.537881383631165], \"yaxis\": \"y2\"}, {\"customdata\": [[15.0, 3.336158393798665, 24.0, 1.0, \"pre\", 0], [15.0, 14.597090478845608, 24.0, 2.0, \"df2\", 1], [15.0, 2.8482689665322227, 24.0, 3.0, \"post\", 2]], \"hovertemplate\": \"projection=parallel<br>condition=df2<br>variance=%{customdata[1]:.3f}<br>participant=%{customdata[2]}<br>block=%{customdata[3]}<br>task=%{customdata[4]}<extra></extra>\", \"legendgroup\": \"parallel\", \"line\": {\"color\": \"lightgreen\", \"dash\": \"solid\"}, \"mode\": \"lines\", \"name\": \"parallel\", \"showlegend\": false, \"type\": \"scattergl\", \"x\": [1, 2, 3], \"xaxis\": \"x2\", \"y\": [3.336158393798665, 14.597090478845608, 2.8482689665322227], \"yaxis\": \"y2\"}, {\"customdata\": [[16.0, 3.2461528108264512, 25.0, 1.0, \"pre\", 0], [16.0, 84.79213194012112, 25.0, 2.0, \"df2\", 1], [16.0, 4.8784051879731205, 25.0, 3.0, \"post\", 2]], \"hovertemplate\": \"projection=parallel<br>condition=df2<br>variance=%{customdata[1]:.3f}<br>participant=%{customdata[2]}<br>block=%{customdata[3]}<br>task=%{customdata[4]}<extra></extra>\", \"legendgroup\": \"parallel\", \"line\": {\"color\": \"lightgreen\", \"dash\": \"solid\"}, \"mode\": \"lines\", \"name\": \"parallel\", \"showlegend\": false, \"type\": \"scattergl\", \"x\": [1, 2, 3], \"xaxis\": \"x2\", \"y\": [3.2461528108264512, 84.79213194012112, 4.8784051879731205], \"yaxis\": \"y2\"}, {\"customdata\": [[21.0, 7.633613484721997, 31.0, 1.0, \"pre\", 0], [21.0, 51.15366477971578, 31.0, 2.0, \"df2\", 1], [21.0, 2.458859823851168, 31.0, 3.0, \"post\", 2]], \"hovertemplate\": \"projection=parallel<br>condition=df2<br>variance=%{customdata[1]:.3f}<br>participant=%{customdata[2]}<br>block=%{customdata[3]}<br>task=%{customdata[4]}<extra></extra>\", \"legendgroup\": \"parallel\", \"line\": {\"color\": \"lightgreen\", \"dash\": \"solid\"}, \"mode\": \"lines\", \"name\": \"parallel\", \"showlegend\": false, \"type\": \"scattergl\", \"x\": [1, 2, 3], \"xaxis\": \"x2\", \"y\": [7.633613484721997, 51.15366477971578, 2.458859823851168], \"yaxis\": \"y2\"}, {\"customdata\": [[25.0, 12.877715097269164, 36.0, 1.0, \"pre\", 0], [25.0, 20.72259839963911, 36.0, 2.0, \"df2\", 1], [25.0, 5.063803674731887, 36.0, 3.0, \"post\", 2]], \"hovertemplate\": \"projection=parallel<br>condition=df2<br>variance=%{customdata[1]:.3f}<br>participant=%{customdata[2]}<br>block=%{customdata[3]}<br>task=%{customdata[4]}<extra></extra>\", \"legendgroup\": \"parallel\", \"line\": {\"color\": \"lightgreen\", \"dash\": \"solid\"}, \"mode\": \"lines\", \"name\": \"parallel\", \"showlegend\": false, \"type\": \"scattergl\", \"x\": [1, 2, 3], \"xaxis\": \"x2\", \"y\": [12.877715097269164, 20.72259839963911, 5.063803674731887], \"yaxis\": \"y2\"}, {\"customdata\": [[27.0, 15.198476844791074, 42.0, 1.0, \"pre\", 0], [27.0, 55.28786743343576, 42.0, 2.0, \"df2\", 1], [27.0, 12.195517559046614, 42.0, 3.0, \"post\", 2]], \"hovertemplate\": \"projection=parallel<br>condition=df2<br>variance=%{customdata[1]:.3f}<br>participant=%{customdata[2]}<br>block=%{customdata[3]}<br>task=%{customdata[4]}<extra></extra>\", \"legendgroup\": \"parallel\", \"line\": {\"color\": \"lightgreen\", \"dash\": \"solid\"}, \"mode\": \"lines\", \"name\": \"parallel\", \"showlegend\": false, \"type\": \"scattergl\", \"x\": [1, 2, 3], \"xaxis\": \"x2\", \"y\": [15.198476844791074, 55.28786743343576, 12.195517559046614], \"yaxis\": \"y2\"}, {\"customdata\": [[0.0, 3.804068600067858, 9.0, 1.0, \"pre\", 0], [0.0, 18.739056649970134, 9.0, 2.0, \"df1|df2\", 1], [0.0, 34.12668864356361, 9.0, 3.0, \"post\", 2]], \"hovertemplate\": \"projection=parallel<br>condition=df1|df2<br>variance=%{customdata[1]:.3f}<br>participant=%{customdata[2]}<br>block=%{customdata[3]}<br>task=%{customdata[4]}<extra></extra>\", \"legendgroup\": \"parallel\", \"line\": {\"color\": \"lightgreen\", \"dash\": \"solid\"}, \"mode\": \"lines\", \"name\": \"parallel\", \"showlegend\": false, \"type\": \"scattergl\", \"x\": [1, 2, 3], \"xaxis\": \"x3\", \"y\": [3.804068600067858, 18.739056649970134, 34.12668864356361], \"yaxis\": \"y3\"}, {\"customdata\": [[1.0, 25.779519461313, 10.0, 1.0, \"pre\", 0], [1.0, 10.02833636700435, 10.0, 2.0, \"df1|df2\", 1], [1.0, 7.9533024598138296, 10.0, 3.0, \"post\", 2]], \"hovertemplate\": \"projection=parallel<br>condition=df1|df2<br>variance=%{customdata[1]:.3f}<br>participant=%{customdata[2]}<br>block=%{customdata[3]}<br>task=%{customdata[4]}<extra></extra>\", \"legendgroup\": \"parallel\", \"line\": {\"color\": \"lightgreen\", \"dash\": \"solid\"}, \"mode\": \"lines\", \"name\": \"parallel\", \"showlegend\": false, \"type\": \"scattergl\", \"x\": [1, 2, 3], \"xaxis\": \"x3\", \"y\": [25.779519461313, 10.02833636700435, 7.9533024598138296], \"yaxis\": \"y3\"}, {\"customdata\": [[2.0, 20.679633131348268, 11.0, 1.0, \"pre\", 0], [2.0, 20.876882639869766, 11.0, 2.0, \"df1|df2\", 1], [2.0, 28.21815688889617, 11.0, 3.0, \"post\", 2]], \"hovertemplate\": \"projection=parallel<br>condition=df1|df2<br>variance=%{customdata[1]:.3f}<br>participant=%{customdata[2]}<br>block=%{customdata[3]}<br>task=%{customdata[4]}<extra></extra>\", \"legendgroup\": \"parallel\", \"line\": {\"color\": \"lightgreen\", \"dash\": \"solid\"}, \"mode\": \"lines\", \"name\": \"parallel\", \"showlegend\": false, \"type\": \"scattergl\", \"x\": [1, 2, 3], \"xaxis\": \"x3\", \"y\": [20.679633131348268, 20.876882639869766, 28.21815688889617], \"yaxis\": \"y3\"}, {\"customdata\": [[6.0, 20.03646023931827, 15.0, 1.0, \"pre\", 0], [6.0, 16.841756005031268, 15.0, 2.0, \"df1|df2\", 1], [6.0, 5.9165862003150975, 15.0, 3.0, \"post\", 2]], \"hovertemplate\": \"projection=parallel<br>condition=df1|df2<br>variance=%{customdata[1]:.3f}<br>participant=%{customdata[2]}<br>block=%{customdata[3]}<br>task=%{customdata[4]}<extra></extra>\", \"legendgroup\": \"parallel\", \"line\": {\"color\": \"lightgreen\", \"dash\": \"solid\"}, \"mode\": \"lines\", \"name\": \"parallel\", \"showlegend\": false, \"type\": \"scattergl\", \"x\": [1, 2, 3], \"xaxis\": \"x3\", \"y\": [20.03646023931827, 16.841756005031268, 5.9165862003150975], \"yaxis\": \"y3\"}, {\"customdata\": [[7.0, 38.47630709431504, 16.0, 1.0, \"pre\", 0], [7.0, 51.624231024838544, 16.0, 2.0, \"df1|df2\", 1], [7.0, 22.83020621801534, 16.0, 3.0, \"post\", 2]], \"hovertemplate\": \"projection=parallel<br>condition=df1|df2<br>variance=%{customdata[1]:.3f}<br>participant=%{customdata[2]}<br>block=%{customdata[3]}<br>task=%{customdata[4]}<extra></extra>\", \"legendgroup\": \"parallel\", \"line\": {\"color\": \"lightgreen\", \"dash\": \"solid\"}, \"mode\": \"lines\", \"name\": \"parallel\", \"showlegend\": false, \"type\": \"scattergl\", \"x\": [1, 2, 3], \"xaxis\": \"x3\", \"y\": [38.47630709431504, 51.624231024838544, 22.83020621801534], \"yaxis\": \"y3\"}, {\"customdata\": [[8.0, 3.935435186774074, 17.0, 1.0, \"pre\", 0], [8.0, 16.190214133128528, 17.0, 2.0, \"df1|df2\", 1], [8.0, 8.731583318829768, 17.0, 3.0, \"post\", 2]], \"hovertemplate\": \"projection=parallel<br>condition=df1|df2<br>variance=%{customdata[1]:.3f}<br>participant=%{customdata[2]}<br>block=%{customdata[3]}<br>task=%{customdata[4]}<extra></extra>\", \"legendgroup\": \"parallel\", \"line\": {\"color\": \"lightgreen\", \"dash\": \"solid\"}, \"mode\": \"lines\", \"name\": \"parallel\", \"showlegend\": false, \"type\": \"scattergl\", \"x\": [1, 2, 3], \"xaxis\": \"x3\", \"y\": [3.935435186774074, 16.190214133128528, 8.731583318829768], \"yaxis\": \"y3\"}, {\"customdata\": [[9.0, 7.188272363541015, 18.0, 1.0, \"pre\", 0], [9.0, 24.904096801434303, 18.0, 2.0, \"df1|df2\", 1], [9.0, 40.386758603693316, 18.0, 3.0, \"post\", 2]], \"hovertemplate\": \"projection=parallel<br>condition=df1|df2<br>variance=%{customdata[1]:.3f}<br>participant=%{customdata[2]}<br>block=%{customdata[3]}<br>task=%{customdata[4]}<extra></extra>\", \"legendgroup\": \"parallel\", \"line\": {\"color\": \"lightgreen\", \"dash\": \"solid\"}, \"mode\": \"lines\", \"name\": \"parallel\", \"showlegend\": false, \"type\": \"scattergl\", \"x\": [1, 2, 3], \"xaxis\": \"x3\", \"y\": [7.188272363541015, 24.904096801434303, 40.386758603693316], \"yaxis\": \"y3\"}, {\"customdata\": [[10.0, 8.905134991921356, 19.0, 1.0, \"pre\", 0], [10.0, 2.078352796366577, 19.0, 2.0, \"df1|df2\", 1], [10.0, 4.016926490203685, 19.0, 3.0, \"post\", 2]], \"hovertemplate\": \"projection=parallel<br>condition=df1|df2<br>variance=%{customdata[1]:.3f}<br>participant=%{customdata[2]}<br>block=%{customdata[3]}<br>task=%{customdata[4]}<extra></extra>\", \"legendgroup\": \"parallel\", \"line\": {\"color\": \"lightgreen\", \"dash\": \"solid\"}, \"mode\": \"lines\", \"name\": \"parallel\", \"showlegend\": false, \"type\": \"scattergl\", \"x\": [1, 2, 3], \"xaxis\": \"x3\", \"y\": [8.905134991921356, 2.078352796366577, 4.016926490203685], \"yaxis\": \"y3\"}, {\"customdata\": [[12.0, 3.9479238488856065, 21.0, 1.0, \"pre\", 0], [12.0, 0.6518236043633752, 21.0, 2.0, \"df1|df2\", 1], [12.0, 11.91911382666907, 21.0, 3.0, \"post\", 2]], \"hovertemplate\": \"projection=parallel<br>condition=df1|df2<br>variance=%{customdata[1]:.3f}<br>participant=%{customdata[2]}<br>block=%{customdata[3]}<br>task=%{customdata[4]}<extra></extra>\", \"legendgroup\": \"parallel\", \"line\": {\"color\": \"lightgreen\", \"dash\": \"solid\"}, \"mode\": \"lines\", \"name\": \"parallel\", \"showlegend\": false, \"type\": \"scattergl\", \"x\": [1, 2, 3], \"xaxis\": \"x3\", \"y\": [3.9479238488856065, 0.6518236043633752, 11.91911382666907], \"yaxis\": \"y3\"}, {\"customdata\": [[14.0, 5.437349511928273, 23.0, 1.0, \"pre\", 0], [14.0, 14.837237223647925, 23.0, 2.0, \"df1|df2\", 1], [14.0, 27.91660603567037, 23.0, 3.0, \"post\", 2]], \"hovertemplate\": \"projection=parallel<br>condition=df1|df2<br>variance=%{customdata[1]:.3f}<br>participant=%{customdata[2]}<br>block=%{customdata[3]}<br>task=%{customdata[4]}<extra></extra>\", \"legendgroup\": \"parallel\", \"line\": {\"color\": \"lightgreen\", \"dash\": \"solid\"}, \"mode\": \"lines\", \"name\": \"parallel\", \"showlegend\": false, \"type\": \"scattergl\", \"x\": [1, 2, 3], \"xaxis\": \"x3\", \"y\": [5.437349511928273, 14.837237223647925, 27.91660603567037], \"yaxis\": \"y3\"}, {\"customdata\": [[17.0, 9.682019881834707, 26.0, 1.0, \"pre\", 0], [17.0, 0.5819445839858483, 26.0, 2.0, \"df1|df2\", 1], [17.0, 3.1996359782374304, 26.0, 3.0, \"post\", 2]], \"hovertemplate\": \"projection=parallel<br>condition=df1|df2<br>variance=%{customdata[1]:.3f}<br>participant=%{customdata[2]}<br>block=%{customdata[3]}<br>task=%{customdata[4]}<extra></extra>\", \"legendgroup\": \"parallel\", \"line\": {\"color\": \"lightgreen\", \"dash\": \"solid\"}, \"mode\": \"lines\", \"name\": \"parallel\", \"showlegend\": false, \"type\": \"scattergl\", \"x\": [1, 2, 3], \"xaxis\": \"x3\", \"y\": [9.682019881834707, 0.5819445839858483, 3.1996359782374304], \"yaxis\": \"y3\"}, {\"customdata\": [[18.0, 8.438888272661599, 27.0, 1.0, \"pre\", 0], [18.0, 7.393362421122278, 27.0, 2.0, \"df1|df2\", 1], [18.0, 6.4806577554356055, 27.0, 3.0, \"post\", 2]], \"hovertemplate\": \"projection=parallel<br>condition=df1|df2<br>variance=%{customdata[1]:.3f}<br>participant=%{customdata[2]}<br>block=%{customdata[3]}<br>task=%{customdata[4]}<extra></extra>\", \"legendgroup\": \"parallel\", \"line\": {\"color\": \"lightgreen\", \"dash\": \"solid\"}, \"mode\": \"lines\", \"name\": \"parallel\", \"showlegend\": false, \"type\": \"scattergl\", \"x\": [1, 2, 3], \"xaxis\": \"x3\", \"y\": [8.438888272661599, 7.393362421122278, 6.4806577554356055], \"yaxis\": \"y3\"}, {\"customdata\": [[19.0, 7.1734324827237765, 28.0, 1.0, \"pre\", 0], [19.0, 8.672326404904434, 28.0, 2.0, \"df1|df2\", 1], [19.0, 22.170270921201435, 28.0, 3.0, \"post\", 2]], \"hovertemplate\": \"projection=parallel<br>condition=df1|df2<br>variance=%{customdata[1]:.3f}<br>participant=%{customdata[2]}<br>block=%{customdata[3]}<br>task=%{customdata[4]}<extra></extra>\", \"legendgroup\": \"parallel\", \"line\": {\"color\": \"lightgreen\", \"dash\": \"solid\"}, \"mode\": \"lines\", \"name\": \"parallel\", \"showlegend\": false, \"type\": \"scattergl\", \"x\": [1, 2, 3], \"xaxis\": \"x3\", \"y\": [7.1734324827237765, 8.672326404904434, 22.170270921201435], \"yaxis\": \"y3\"}, {\"customdata\": [[22.0, 11.656000324411842, 32.0, 1.0, \"pre\", 0], [22.0, 39.011394016871655, 32.0, 2.0, \"df1|df2\", 1], [22.0, 33.91290134575171, 32.0, 3.0, \"post\", 2]], \"hovertemplate\": \"projection=parallel<br>condition=df1|df2<br>variance=%{customdata[1]:.3f}<br>participant=%{customdata[2]}<br>block=%{customdata[3]}<br>task=%{customdata[4]}<extra></extra>\", \"legendgroup\": \"parallel\", \"line\": {\"color\": \"lightgreen\", \"dash\": \"solid\"}, \"mode\": \"lines\", \"name\": \"parallel\", \"showlegend\": false, \"type\": \"scattergl\", \"x\": [1, 2, 3], \"xaxis\": \"x3\", \"y\": [11.656000324411842, 39.011394016871655, 33.91290134575171], \"yaxis\": \"y3\"}, {\"customdata\": [[24.0, 10.449756734233326, 35.0, 1.0, \"pre\", 0], [24.0, 14.928694458621381, 35.0, 2.0, \"df1|df2\", 1], [24.0, 20.96316808135279, 35.0, 3.0, \"post\", 2]], \"hovertemplate\": \"projection=parallel<br>condition=df1|df2<br>variance=%{customdata[1]:.3f}<br>participant=%{customdata[2]}<br>block=%{customdata[3]}<br>task=%{customdata[4]}<extra></extra>\", \"legendgroup\": \"parallel\", \"line\": {\"color\": \"lightgreen\", \"dash\": \"solid\"}, \"mode\": \"lines\", \"name\": \"parallel\", \"showlegend\": false, \"type\": \"scattergl\", \"x\": [1, 2, 3], \"xaxis\": \"x3\", \"y\": [10.449756734233326, 14.928694458621381, 20.96316808135279], \"yaxis\": \"y3\"}, {\"customdata\": [[29.0, 41.850956234634474, 44.0, 1.0, \"pre\", 0], [29.0, 99.25414046314579, 44.0, 2.0, \"df1|df2\", 1], [29.0, 54.188373260851705, 44.0, 3.0, \"post\", 2]], \"hovertemplate\": \"projection=parallel<br>condition=df1|df2<br>variance=%{customdata[1]:.3f}<br>participant=%{customdata[2]}<br>block=%{customdata[3]}<br>task=%{customdata[4]}<extra></extra>\", \"legendgroup\": \"parallel\", \"line\": {\"color\": \"lightgreen\", \"dash\": \"solid\"}, \"mode\": \"lines\", \"name\": \"parallel\", \"showlegend\": false, \"type\": \"scattergl\", \"x\": [1, 2, 3], \"xaxis\": \"x3\", \"y\": [41.850956234634474, 99.25414046314579, 54.188373260851705], \"yaxis\": \"y3\"}, {\"customdata\": [[4.0, 16.151461475976706, 13.0, 1.0, \"pre\", 0], [4.0, 9.045201066811321, 13.0, 2.0, \"df1\", 1], [4.0, 4.3261171904423765, 13.0, 3.0, \"post\", 2]], \"hovertemplate\": \"projection=orthogonal<br>condition=df1<br>variance=%{customdata[1]:.3f}<br>participant=%{customdata[2]}<br>block=%{customdata[3]}<br>task=%{customdata[4]}<extra></extra>\", \"legendgroup\": \"orthogonal\", \"line\": {\"color\": \"salmon\", \"dash\": \"solid\"}, \"mode\": \"lines\", \"name\": \"orthogonal\", \"showlegend\": true, \"type\": \"scattergl\", \"x\": [1, 2, 3], \"xaxis\": \"x\", \"y\": [16.151461475976706, 9.045201066811321, 4.3261171904423765], \"yaxis\": \"y\"}, {\"customdata\": [[5.0, 16.49856077448672, 14.0, 1.0, \"pre\", 0], [5.0, 31.90738331258468, 14.0, 2.0, \"df1\", 1], [5.0, 2.601381330533353, 14.0, 3.0, \"post\", 2]], \"hovertemplate\": \"projection=orthogonal<br>condition=df1<br>variance=%{customdata[1]:.3f}<br>participant=%{customdata[2]}<br>block=%{customdata[3]}<br>task=%{customdata[4]}<extra></extra>\", \"legendgroup\": \"orthogonal\", \"line\": {\"color\": \"salmon\", \"dash\": \"solid\"}, \"mode\": \"lines\", \"name\": \"orthogonal\", \"showlegend\": false, \"type\": \"scattergl\", \"x\": [1, 2, 3], \"xaxis\": \"x\", \"y\": [16.49856077448672, 31.90738331258468, 2.601381330533353], \"yaxis\": \"y\"}, {\"customdata\": [[20.0, 0.5210430409499307, 29.0, 1.0, \"pre\", 0], [20.0, 12.45280378912782, 29.0, 2.0, \"df1\", 1], [20.0, 0.4704733276044813, 29.0, 3.0, \"post\", 2]], \"hovertemplate\": \"projection=orthogonal<br>condition=df1<br>variance=%{customdata[1]:.3f}<br>participant=%{customdata[2]}<br>block=%{customdata[3]}<br>task=%{customdata[4]}<extra></extra>\", \"legendgroup\": \"orthogonal\", \"line\": {\"color\": \"salmon\", \"dash\": \"solid\"}, \"mode\": \"lines\", \"name\": \"orthogonal\", \"showlegend\": false, \"type\": \"scattergl\", \"x\": [1, 2, 3], \"xaxis\": \"x\", \"y\": [0.5210430409499307, 12.45280378912782, 0.4704733276044813], \"yaxis\": \"y\"}, {\"customdata\": [[23.0, 3.473884363265608, 34.0, 1.0, \"pre\", 0], [23.0, 40.61664016359911, 34.0, 2.0, \"df1\", 1], [23.0, 2.649831827081333, 34.0, 3.0, \"post\", 2]], \"hovertemplate\": \"projection=orthogonal<br>condition=df1<br>variance=%{customdata[1]:.3f}<br>participant=%{customdata[2]}<br>block=%{customdata[3]}<br>task=%{customdata[4]}<extra></extra>\", \"legendgroup\": \"orthogonal\", \"line\": {\"color\": \"salmon\", \"dash\": \"solid\"}, \"mode\": \"lines\", \"name\": \"orthogonal\", \"showlegend\": false, \"type\": \"scattergl\", \"x\": [1, 2, 3], \"xaxis\": \"x\", \"y\": [3.473884363265608, 40.61664016359911, 2.649831827081333], \"yaxis\": \"y\"}, {\"customdata\": [[26.0, 5.8123213909704114, 37.0, 1.0, \"pre\", 0], [26.0, 64.11810929600345, 37.0, 2.0, \"df1\", 1], [26.0, 2.2230092794105025, 37.0, 3.0, \"post\", 2]], \"hovertemplate\": \"projection=orthogonal<br>condition=df1<br>variance=%{customdata[1]:.3f}<br>participant=%{customdata[2]}<br>block=%{customdata[3]}<br>task=%{customdata[4]}<extra></extra>\", \"legendgroup\": \"orthogonal\", \"line\": {\"color\": \"salmon\", \"dash\": \"solid\"}, \"mode\": \"lines\", \"name\": \"orthogonal\", \"showlegend\": false, \"type\": \"scattergl\", \"x\": [1, 2, 3], \"xaxis\": \"x\", \"y\": [5.8123213909704114, 64.11810929600345, 2.2230092794105025], \"yaxis\": \"y\"}, {\"customdata\": [[28.0, 4.37960315621557, 43.0, 1.0, \"pre\", 0], [28.0, 9.626128255089784, 43.0, 2.0, \"df1\", 1], [28.0, 1.2594103332538638, 43.0, 3.0, \"post\", 2]], \"hovertemplate\": \"projection=orthogonal<br>condition=df1<br>variance=%{customdata[1]:.3f}<br>participant=%{customdata[2]}<br>block=%{customdata[3]}<br>task=%{customdata[4]}<extra></extra>\", \"legendgroup\": \"orthogonal\", \"line\": {\"color\": \"salmon\", \"dash\": \"solid\"}, \"mode\": \"lines\", \"name\": \"orthogonal\", \"showlegend\": false, \"type\": \"scattergl\", \"x\": [1, 2, 3], \"xaxis\": \"x\", \"y\": [4.37960315621557, 9.626128255089784, 1.2594103332538638], \"yaxis\": \"y\"}, {\"customdata\": [[3.0, 2.6022071258159314, 12.0, 1.0, \"pre\", 0], [3.0, 13.02164706490376, 12.0, 2.0, \"df2\", 1], [3.0, 2.6171535961123427, 12.0, 3.0, \"post\", 2]], \"hovertemplate\": \"projection=orthogonal<br>condition=df2<br>variance=%{customdata[1]:.3f}<br>participant=%{customdata[2]}<br>block=%{customdata[3]}<br>task=%{customdata[4]}<extra></extra>\", \"legendgroup\": \"orthogonal\", \"line\": {\"color\": \"salmon\", \"dash\": \"solid\"}, \"mode\": \"lines\", \"name\": \"orthogonal\", \"showlegend\": false, \"type\": \"scattergl\", \"x\": [1, 2, 3], \"xaxis\": \"x2\", \"y\": [2.6022071258159314, 13.02164706490376, 2.6171535961123427], \"yaxis\": \"y2\"}, {\"customdata\": [[11.0, 3.017726141357163, 20.0, 1.0, \"pre\", 0], [11.0, 18.77716874451947, 20.0, 2.0, \"df2\", 1], [11.0, 4.463519510539242, 20.0, 3.0, \"post\", 2]], \"hovertemplate\": \"projection=orthogonal<br>condition=df2<br>variance=%{customdata[1]:.3f}<br>participant=%{customdata[2]}<br>block=%{customdata[3]}<br>task=%{customdata[4]}<extra></extra>\", \"legendgroup\": \"orthogonal\", \"line\": {\"color\": \"salmon\", \"dash\": \"solid\"}, \"mode\": \"lines\", \"name\": \"orthogonal\", \"showlegend\": false, \"type\": \"scattergl\", \"x\": [1, 2, 3], \"xaxis\": \"x2\", \"y\": [3.017726141357163, 18.77716874451947, 4.463519510539242], \"yaxis\": \"y2\"}, {\"customdata\": [[13.0, 14.101418789775481, 22.0, 1.0, \"pre\", 0], [13.0, 34.069600201255696, 22.0, 2.0, \"df2\", 1], [13.0, 26.016719778028392, 22.0, 3.0, \"post\", 2]], \"hovertemplate\": \"projection=orthogonal<br>condition=df2<br>variance=%{customdata[1]:.3f}<br>participant=%{customdata[2]}<br>block=%{customdata[3]}<br>task=%{customdata[4]}<extra></extra>\", \"legendgroup\": \"orthogonal\", \"line\": {\"color\": \"salmon\", \"dash\": \"solid\"}, \"mode\": \"lines\", \"name\": \"orthogonal\", \"showlegend\": false, \"type\": \"scattergl\", \"x\": [1, 2, 3], \"xaxis\": \"x2\", \"y\": [14.101418789775481, 34.069600201255696, 26.016719778028392], \"yaxis\": \"y2\"}, {\"customdata\": [[15.0, 1.6437468011564436, 24.0, 1.0, \"pre\", 0], [15.0, 11.092836159798946, 24.0, 2.0, \"df2\", 1], [15.0, 0.3683901332401893, 24.0, 3.0, \"post\", 2]], \"hovertemplate\": \"projection=orthogonal<br>condition=df2<br>variance=%{customdata[1]:.3f}<br>participant=%{customdata[2]}<br>block=%{customdata[3]}<br>task=%{customdata[4]}<extra></extra>\", \"legendgroup\": \"orthogonal\", \"line\": {\"color\": \"salmon\", \"dash\": \"solid\"}, \"mode\": \"lines\", \"name\": \"orthogonal\", \"showlegend\": false, \"type\": \"scattergl\", \"x\": [1, 2, 3], \"xaxis\": \"x2\", \"y\": [1.6437468011564436, 11.092836159798946, 0.3683901332401893], \"yaxis\": \"y2\"}, {\"customdata\": [[16.0, 3.2608663958397837, 25.0, 1.0, \"pre\", 0], [16.0, 43.870446063784115, 25.0, 2.0, \"df2\", 1], [16.0, 2.8637016341124477, 25.0, 3.0, \"post\", 2]], \"hovertemplate\": \"projection=orthogonal<br>condition=df2<br>variance=%{customdata[1]:.3f}<br>participant=%{customdata[2]}<br>block=%{customdata[3]}<br>task=%{customdata[4]}<extra></extra>\", \"legendgroup\": \"orthogonal\", \"line\": {\"color\": \"salmon\", \"dash\": \"solid\"}, \"mode\": \"lines\", \"name\": \"orthogonal\", \"showlegend\": false, \"type\": \"scattergl\", \"x\": [1, 2, 3], \"xaxis\": \"x2\", \"y\": [3.2608663958397837, 43.870446063784115, 2.8637016341124477], \"yaxis\": \"y2\"}, {\"customdata\": [[21.0, 0.8966558611569573, 31.0, 1.0, \"pre\", 0], [21.0, 30.92589496725184, 31.0, 2.0, \"df2\", 1], [21.0, 1.2517049365516104, 31.0, 3.0, \"post\", 2]], \"hovertemplate\": \"projection=orthogonal<br>condition=df2<br>variance=%{customdata[1]:.3f}<br>participant=%{customdata[2]}<br>block=%{customdata[3]}<br>task=%{customdata[4]}<extra></extra>\", \"legendgroup\": \"orthogonal\", \"line\": {\"color\": \"salmon\", \"dash\": \"solid\"}, \"mode\": \"lines\", \"name\": \"orthogonal\", \"showlegend\": false, \"type\": \"scattergl\", \"x\": [1, 2, 3], \"xaxis\": \"x2\", \"y\": [0.8966558611569573, 30.92589496725184, 1.2517049365516104], \"yaxis\": \"y2\"}, {\"customdata\": [[25.0, 2.7910905992958326, 36.0, 1.0, \"pre\", 0], [25.0, 27.7100738111554, 36.0, 2.0, \"df2\", 1], [25.0, 3.184248086551277, 36.0, 3.0, \"post\", 2]], \"hovertemplate\": \"projection=orthogonal<br>condition=df2<br>variance=%{customdata[1]:.3f}<br>participant=%{customdata[2]}<br>block=%{customdata[3]}<br>task=%{customdata[4]}<extra></extra>\", \"legendgroup\": \"orthogonal\", \"line\": {\"color\": \"salmon\", \"dash\": \"solid\"}, \"mode\": \"lines\", \"name\": \"orthogonal\", \"showlegend\": false, \"type\": \"scattergl\", \"x\": [1, 2, 3], \"xaxis\": \"x2\", \"y\": [2.7910905992958326, 27.7100738111554, 3.184248086551277], \"yaxis\": \"y2\"}, {\"customdata\": [[27.0, 5.197680066067901, 42.0, 1.0, \"pre\", 0], [27.0, 34.40278693617989, 42.0, 2.0, \"df2\", 1], [27.0, 3.3309817244606457, 42.0, 3.0, \"post\", 2]], \"hovertemplate\": \"projection=orthogonal<br>condition=df2<br>variance=%{customdata[1]:.3f}<br>participant=%{customdata[2]}<br>block=%{customdata[3]}<br>task=%{customdata[4]}<extra></extra>\", \"legendgroup\": \"orthogonal\", \"line\": {\"color\": \"salmon\", \"dash\": \"solid\"}, \"mode\": \"lines\", \"name\": \"orthogonal\", \"showlegend\": false, \"type\": \"scattergl\", \"x\": [1, 2, 3], \"xaxis\": \"x2\", \"y\": [5.197680066067901, 34.40278693617989, 3.3309817244606457], \"yaxis\": \"y2\"}, {\"customdata\": [[0.0, 0.4635396343369897, 9.0, 1.0, \"pre\", 0], [0.0, 16.511297888449587, 9.0, 2.0, \"df1|df2\", 1], [0.0, 2.3533400121671617, 9.0, 3.0, \"post\", 2]], \"hovertemplate\": \"projection=orthogonal<br>condition=df1|df2<br>variance=%{customdata[1]:.3f}<br>participant=%{customdata[2]}<br>block=%{customdata[3]}<br>task=%{customdata[4]}<extra></extra>\", \"legendgroup\": \"orthogonal\", \"line\": {\"color\": \"salmon\", \"dash\": \"solid\"}, \"mode\": \"lines\", \"name\": \"orthogonal\", \"showlegend\": false, \"type\": \"scattergl\", \"x\": [1, 2, 3], \"xaxis\": \"x3\", \"y\": [0.4635396343369897, 16.511297888449587, 2.3533400121671617], \"yaxis\": \"y3\"}, {\"customdata\": [[1.0, 1.3508550273604991, 10.0, 1.0, \"pre\", 0], [1.0, 7.610366105886768, 10.0, 2.0, \"df1|df2\", 1], [1.0, 5.261341730807491, 10.0, 3.0, \"post\", 2]], \"hovertemplate\": \"projection=orthogonal<br>condition=df1|df2<br>variance=%{customdata[1]:.3f}<br>participant=%{customdata[2]}<br>block=%{customdata[3]}<br>task=%{customdata[4]}<extra></extra>\", \"legendgroup\": \"orthogonal\", \"line\": {\"color\": \"salmon\", \"dash\": \"solid\"}, \"mode\": \"lines\", \"name\": \"orthogonal\", \"showlegend\": false, \"type\": \"scattergl\", \"x\": [1, 2, 3], \"xaxis\": \"x3\", \"y\": [1.3508550273604991, 7.610366105886768, 5.261341730807491], \"yaxis\": \"y3\"}, {\"customdata\": [[2.0, 2.525528801707132, 11.0, 1.0, \"pre\", 0], [2.0, 39.742956134343096, 11.0, 2.0, \"df1|df2\", 1], [2.0, 1.1516040901944096, 11.0, 3.0, \"post\", 2]], \"hovertemplate\": \"projection=orthogonal<br>condition=df1|df2<br>variance=%{customdata[1]:.3f}<br>participant=%{customdata[2]}<br>block=%{customdata[3]}<br>task=%{customdata[4]}<extra></extra>\", \"legendgroup\": \"orthogonal\", \"line\": {\"color\": \"salmon\", \"dash\": \"solid\"}, \"mode\": \"lines\", \"name\": \"orthogonal\", \"showlegend\": false, \"type\": \"scattergl\", \"x\": [1, 2, 3], \"xaxis\": \"x3\", \"y\": [2.525528801707132, 39.742956134343096, 1.1516040901944096], \"yaxis\": \"y3\"}, {\"customdata\": [[6.0, 8.526160108764941, 15.0, 1.0, \"pre\", 0], [6.0, 25.59099119176205, 15.0, 2.0, \"df1|df2\", 1], [6.0, 16.231592094329365, 15.0, 3.0, \"post\", 2]], \"hovertemplate\": \"projection=orthogonal<br>condition=df1|df2<br>variance=%{customdata[1]:.3f}<br>participant=%{customdata[2]}<br>block=%{customdata[3]}<br>task=%{customdata[4]}<extra></extra>\", \"legendgroup\": \"orthogonal\", \"line\": {\"color\": \"salmon\", \"dash\": \"solid\"}, \"mode\": \"lines\", \"name\": \"orthogonal\", \"showlegend\": false, \"type\": \"scattergl\", \"x\": [1, 2, 3], \"xaxis\": \"x3\", \"y\": [8.526160108764941, 25.59099119176205, 16.231592094329365], \"yaxis\": \"y3\"}, {\"customdata\": [[7.0, 4.106244120505101, 16.0, 1.0, \"pre\", 0], [7.0, 18.3128693474486, 16.0, 2.0, \"df1|df2\", 1], [7.0, 3.7735574381157706, 16.0, 3.0, \"post\", 2]], \"hovertemplate\": \"projection=orthogonal<br>condition=df1|df2<br>variance=%{customdata[1]:.3f}<br>participant=%{customdata[2]}<br>block=%{customdata[3]}<br>task=%{customdata[4]}<extra></extra>\", \"legendgroup\": \"orthogonal\", \"line\": {\"color\": \"salmon\", \"dash\": \"solid\"}, \"mode\": \"lines\", \"name\": \"orthogonal\", \"showlegend\": false, \"type\": \"scattergl\", \"x\": [1, 2, 3], \"xaxis\": \"x3\", \"y\": [4.106244120505101, 18.3128693474486, 3.7735574381157706], \"yaxis\": \"y3\"}, {\"customdata\": [[8.0, 5.447787034446231, 17.0, 1.0, \"pre\", 0], [8.0, 7.489641853334557, 17.0, 2.0, \"df1|df2\", 1], [8.0, 0.8800668008466676, 17.0, 3.0, \"post\", 2]], \"hovertemplate\": \"projection=orthogonal<br>condition=df1|df2<br>variance=%{customdata[1]:.3f}<br>participant=%{customdata[2]}<br>block=%{customdata[3]}<br>task=%{customdata[4]}<extra></extra>\", \"legendgroup\": \"orthogonal\", \"line\": {\"color\": \"salmon\", \"dash\": \"solid\"}, \"mode\": \"lines\", \"name\": \"orthogonal\", \"showlegend\": false, \"type\": \"scattergl\", \"x\": [1, 2, 3], \"xaxis\": \"x3\", \"y\": [5.447787034446231, 7.489641853334557, 0.8800668008466676], \"yaxis\": \"y3\"}, {\"customdata\": [[9.0, 0.8855227448547851, 18.0, 1.0, \"pre\", 0], [9.0, 17.692094343029574, 18.0, 2.0, \"df1|df2\", 1], [9.0, 0.7532415498964434, 18.0, 3.0, \"post\", 2]], \"hovertemplate\": \"projection=orthogonal<br>condition=df1|df2<br>variance=%{customdata[1]:.3f}<br>participant=%{customdata[2]}<br>block=%{customdata[3]}<br>task=%{customdata[4]}<extra></extra>\", \"legendgroup\": \"orthogonal\", \"line\": {\"color\": \"salmon\", \"dash\": \"solid\"}, \"mode\": \"lines\", \"name\": \"orthogonal\", \"showlegend\": false, \"type\": \"scattergl\", \"x\": [1, 2, 3], \"xaxis\": \"x3\", \"y\": [0.8855227448547851, 17.692094343029574, 0.7532415498964434], \"yaxis\": \"y3\"}, {\"customdata\": [[10.0, 1.4988185390472588, 19.0, 1.0, \"pre\", 0], [10.0, 0.8056768046874146, 19.0, 2.0, \"df1|df2\", 1], [10.0, 0.3899344507673016, 19.0, 3.0, \"post\", 2]], \"hovertemplate\": \"projection=orthogonal<br>condition=df1|df2<br>variance=%{customdata[1]:.3f}<br>participant=%{customdata[2]}<br>block=%{customdata[3]}<br>task=%{customdata[4]}<extra></extra>\", \"legendgroup\": \"orthogonal\", \"line\": {\"color\": \"salmon\", \"dash\": \"solid\"}, \"mode\": \"lines\", \"name\": \"orthogonal\", \"showlegend\": false, \"type\": \"scattergl\", \"x\": [1, 2, 3], \"xaxis\": \"x3\", \"y\": [1.4988185390472588, 0.8056768046874146, 0.3899344507673016], \"yaxis\": \"y3\"}, {\"customdata\": [[12.0, 0.5602622440736104, 21.0, 1.0, \"pre\", 0], [12.0, 0.9808019009288944, 21.0, 2.0, \"df1|df2\", 1], [12.0, 0.3858877121797816, 21.0, 3.0, \"post\", 2]], \"hovertemplate\": \"projection=orthogonal<br>condition=df1|df2<br>variance=%{customdata[1]:.3f}<br>participant=%{customdata[2]}<br>block=%{customdata[3]}<br>task=%{customdata[4]}<extra></extra>\", \"legendgroup\": \"orthogonal\", \"line\": {\"color\": \"salmon\", \"dash\": \"solid\"}, \"mode\": \"lines\", \"name\": \"orthogonal\", \"showlegend\": false, \"type\": \"scattergl\", \"x\": [1, 2, 3], \"xaxis\": \"x3\", \"y\": [0.5602622440736104, 0.9808019009288944, 0.3858877121797816], \"yaxis\": \"y3\"}, {\"customdata\": [[14.0, 1.0880947343038367, 23.0, 1.0, \"pre\", 0], [14.0, 10.661465948427931, 23.0, 2.0, \"df1|df2\", 1], [14.0, 0.7021739345847816, 23.0, 3.0, \"post\", 2]], \"hovertemplate\": \"projection=orthogonal<br>condition=df1|df2<br>variance=%{customdata[1]:.3f}<br>participant=%{customdata[2]}<br>block=%{customdata[3]}<br>task=%{customdata[4]}<extra></extra>\", \"legendgroup\": \"orthogonal\", \"line\": {\"color\": \"salmon\", \"dash\": \"solid\"}, \"mode\": \"lines\", \"name\": \"orthogonal\", \"showlegend\": false, \"type\": \"scattergl\", \"x\": [1, 2, 3], \"xaxis\": \"x3\", \"y\": [1.0880947343038367, 10.661465948427931, 0.7021739345847816], \"yaxis\": \"y3\"}, {\"customdata\": [[17.0, 0.951537341063257, 26.0, 1.0, \"pre\", 0], [17.0, 1.0189225313425705, 26.0, 2.0, \"df1|df2\", 1], [17.0, 0.5037226899915187, 26.0, 3.0, \"post\", 2]], \"hovertemplate\": \"projection=orthogonal<br>condition=df1|df2<br>variance=%{customdata[1]:.3f}<br>participant=%{customdata[2]}<br>block=%{customdata[3]}<br>task=%{customdata[4]}<extra></extra>\", \"legendgroup\": \"orthogonal\", \"line\": {\"color\": \"salmon\", \"dash\": \"solid\"}, \"mode\": \"lines\", \"name\": \"orthogonal\", \"showlegend\": false, \"type\": \"scattergl\", \"x\": [1, 2, 3], \"xaxis\": \"x3\", \"y\": [0.951537341063257, 1.0189225313425705, 0.5037226899915187], \"yaxis\": \"y3\"}, {\"customdata\": [[18.0, 1.550968219137164, 27.0, 1.0, \"pre\", 0], [18.0, 3.0736156653204967, 27.0, 2.0, \"df1|df2\", 1], [18.0, 0.5118076127356105, 27.0, 3.0, \"post\", 2]], \"hovertemplate\": \"projection=orthogonal<br>condition=df1|df2<br>variance=%{customdata[1]:.3f}<br>participant=%{customdata[2]}<br>block=%{customdata[3]}<br>task=%{customdata[4]}<extra></extra>\", \"legendgroup\": \"orthogonal\", \"line\": {\"color\": \"salmon\", \"dash\": \"solid\"}, \"mode\": \"lines\", \"name\": \"orthogonal\", \"showlegend\": false, \"type\": \"scattergl\", \"x\": [1, 2, 3], \"xaxis\": \"x3\", \"y\": [1.550968219137164, 3.0736156653204967, 0.5118076127356105], \"yaxis\": \"y3\"}, {\"customdata\": [[19.0, 1.117337979991083, 28.0, 1.0, \"pre\", 0], [19.0, 8.407311107860004, 28.0, 2.0, \"df1|df2\", 1], [19.0, 3.1849500402651585, 28.0, 3.0, \"post\", 2]], \"hovertemplate\": \"projection=orthogonal<br>condition=df1|df2<br>variance=%{customdata[1]:.3f}<br>participant=%{customdata[2]}<br>block=%{customdata[3]}<br>task=%{customdata[4]}<extra></extra>\", \"legendgroup\": \"orthogonal\", \"line\": {\"color\": \"salmon\", \"dash\": \"solid\"}, \"mode\": \"lines\", \"name\": \"orthogonal\", \"showlegend\": false, \"type\": \"scattergl\", \"x\": [1, 2, 3], \"xaxis\": \"x3\", \"y\": [1.117337979991083, 8.407311107860004, 3.1849500402651585], \"yaxis\": \"y3\"}, {\"customdata\": [[22.0, 47.97991946759529, 32.0, 1.0, \"pre\", 0], [22.0, 14.324196577847685, 32.0, 2.0, \"df1|df2\", 1], [22.0, 3.8853862745501937, 32.0, 3.0, \"post\", 2]], \"hovertemplate\": \"projection=orthogonal<br>condition=df1|df2<br>variance=%{customdata[1]:.3f}<br>participant=%{customdata[2]}<br>block=%{customdata[3]}<br>task=%{customdata[4]}<extra></extra>\", \"legendgroup\": \"orthogonal\", \"line\": {\"color\": \"salmon\", \"dash\": \"solid\"}, \"mode\": \"lines\", \"name\": \"orthogonal\", \"showlegend\": false, \"type\": \"scattergl\", \"x\": [1, 2, 3], \"xaxis\": \"x3\", \"y\": [47.97991946759529, 14.324196577847685, 3.8853862745501937], \"yaxis\": \"y3\"}, {\"customdata\": [[24.0, 21.992709507003703, 35.0, 1.0, \"pre\", 0], [24.0, 25.680400445409518, 35.0, 2.0, \"df1|df2\", 1], [24.0, 9.220017683331935, 35.0, 3.0, \"post\", 2]], \"hovertemplate\": \"projection=orthogonal<br>condition=df1|df2<br>variance=%{customdata[1]:.3f}<br>participant=%{customdata[2]}<br>block=%{customdata[3]}<br>task=%{customdata[4]}<extra></extra>\", \"legendgroup\": \"orthogonal\", \"line\": {\"color\": \"salmon\", \"dash\": \"solid\"}, \"mode\": \"lines\", \"name\": \"orthogonal\", \"showlegend\": false, \"type\": \"scattergl\", \"x\": [1, 2, 3], \"xaxis\": \"x3\", \"y\": [21.992709507003703, 25.680400445409518, 9.220017683331935], \"yaxis\": \"y3\"}, {\"customdata\": [[29.0, 16.942487967657293, 44.0, 1.0, \"pre\", 0], [29.0, 67.81195339198146, 44.0, 2.0, \"df1|df2\", 1], [29.0, 2.1414454589634984, 44.0, 3.0, \"post\", 2]], \"hovertemplate\": \"projection=orthogonal<br>condition=df1|df2<br>variance=%{customdata[1]:.3f}<br>participant=%{customdata[2]}<br>block=%{customdata[3]}<br>task=%{customdata[4]}<extra></extra>\", \"legendgroup\": \"orthogonal\", \"line\": {\"color\": \"salmon\", \"dash\": \"solid\"}, \"mode\": \"lines\", \"name\": \"orthogonal\", \"showlegend\": false, \"type\": \"scattergl\", \"x\": [1, 2, 3], \"xaxis\": \"x3\", \"y\": [16.942487967657293, 67.81195339198146, 2.1414454589634984], \"yaxis\": \"y3\"}],\n                        {\"annotations\": [{\"font\": {}, \"showarrow\": false, \"text\": \"condition=df1\", \"x\": 0.15999999999999998, \"xanchor\": \"center\", \"xref\": \"paper\", \"y\": 1.0, \"yanchor\": \"bottom\", \"yref\": \"paper\"}, {\"font\": {}, \"showarrow\": false, \"text\": \"condition=df2\", \"x\": 0.49999999999999994, \"xanchor\": \"center\", \"xref\": \"paper\", \"y\": 1.0, \"yanchor\": \"bottom\", \"yref\": \"paper\"}, {\"font\": {}, \"showarrow\": false, \"text\": \"condition=df1|df2\", \"x\": 0.8399999999999999, \"xanchor\": \"center\", \"xref\": \"paper\", \"y\": 1.0, \"yanchor\": \"bottom\", \"yref\": \"paper\"}], \"legend\": {\"orientation\": \"v\", \"title\": {\"text\": \"PROJECTION\"}, \"xanchor\": \"right\", \"yanchor\": \"top\"}, \"margin\": {\"b\": 40, \"l\": 40, \"r\": 10, \"t\": 40}, \"template\": {\"data\": {\"bar\": [{\"error_x\": {\"color\": \"#2a3f5f\"}, \"error_y\": {\"color\": \"#2a3f5f\"}, \"marker\": {\"line\": {\"color\": \"#E5ECF6\", \"width\": 0.5}}, \"type\": \"bar\"}], \"barpolar\": [{\"marker\": {\"line\": {\"color\": \"#E5ECF6\", \"width\": 0.5}}, \"type\": \"barpolar\"}], \"carpet\": [{\"aaxis\": {\"endlinecolor\": \"#2a3f5f\", \"gridcolor\": \"white\", \"linecolor\": \"white\", \"minorgridcolor\": \"white\", \"startlinecolor\": \"#2a3f5f\"}, \"baxis\": {\"endlinecolor\": \"#2a3f5f\", \"gridcolor\": \"white\", \"linecolor\": \"white\", \"minorgridcolor\": \"white\", \"startlinecolor\": \"#2a3f5f\"}, \"type\": \"carpet\"}], \"choropleth\": [{\"colorbar\": {\"outlinewidth\": 0, \"ticks\": \"\"}, \"type\": \"choropleth\"}], \"contour\": [{\"colorbar\": {\"outlinewidth\": 0, \"ticks\": \"\"}, \"colorscale\": [[0.0, \"#0d0887\"], [0.1111111111111111, \"#46039f\"], [0.2222222222222222, \"#7201a8\"], [0.3333333333333333, \"#9c179e\"], [0.4444444444444444, \"#bd3786\"], [0.5555555555555556, \"#d8576b\"], [0.6666666666666666, \"#ed7953\"], [0.7777777777777778, \"#fb9f3a\"], [0.8888888888888888, \"#fdca26\"], [1.0, \"#f0f921\"]], \"type\": \"contour\"}], \"contourcarpet\": [{\"colorbar\": {\"outlinewidth\": 0, \"ticks\": \"\"}, \"type\": \"contourcarpet\"}], \"heatmap\": [{\"colorbar\": {\"outlinewidth\": 0, \"ticks\": \"\"}, \"colorscale\": [[0.0, \"#0d0887\"], [0.1111111111111111, \"#46039f\"], [0.2222222222222222, \"#7201a8\"], [0.3333333333333333, \"#9c179e\"], [0.4444444444444444, \"#bd3786\"], [0.5555555555555556, \"#d8576b\"], [0.6666666666666666, \"#ed7953\"], [0.7777777777777778, \"#fb9f3a\"], [0.8888888888888888, \"#fdca26\"], [1.0, \"#f0f921\"]], \"type\": \"heatmap\"}], \"heatmapgl\": [{\"colorbar\": {\"outlinewidth\": 0, \"ticks\": \"\"}, \"colorscale\": [[0.0, \"#0d0887\"], [0.1111111111111111, \"#46039f\"], [0.2222222222222222, \"#7201a8\"], [0.3333333333333333, \"#9c179e\"], [0.4444444444444444, \"#bd3786\"], [0.5555555555555556, \"#d8576b\"], [0.6666666666666666, \"#ed7953\"], [0.7777777777777778, \"#fb9f3a\"], [0.8888888888888888, \"#fdca26\"], [1.0, \"#f0f921\"]], \"type\": \"heatmapgl\"}], \"histogram\": [{\"marker\": {\"colorbar\": {\"outlinewidth\": 0, \"ticks\": \"\"}}, \"type\": \"histogram\"}], \"histogram2d\": [{\"colorbar\": {\"outlinewidth\": 0, \"ticks\": \"\"}, \"colorscale\": [[0.0, \"#0d0887\"], [0.1111111111111111, \"#46039f\"], [0.2222222222222222, \"#7201a8\"], [0.3333333333333333, \"#9c179e\"], [0.4444444444444444, \"#bd3786\"], [0.5555555555555556, \"#d8576b\"], [0.6666666666666666, \"#ed7953\"], [0.7777777777777778, \"#fb9f3a\"], [0.8888888888888888, \"#fdca26\"], [1.0, \"#f0f921\"]], \"type\": \"histogram2d\"}], \"histogram2dcontour\": [{\"colorbar\": {\"outlinewidth\": 0, \"ticks\": \"\"}, \"colorscale\": [[0.0, \"#0d0887\"], [0.1111111111111111, \"#46039f\"], [0.2222222222222222, \"#7201a8\"], [0.3333333333333333, \"#9c179e\"], [0.4444444444444444, \"#bd3786\"], [0.5555555555555556, \"#d8576b\"], [0.6666666666666666, \"#ed7953\"], [0.7777777777777778, \"#fb9f3a\"], [0.8888888888888888, \"#fdca26\"], [1.0, \"#f0f921\"]], \"type\": \"histogram2dcontour\"}], \"mesh3d\": [{\"colorbar\": {\"outlinewidth\": 0, \"ticks\": \"\"}, \"type\": \"mesh3d\"}], \"parcoords\": [{\"line\": {\"colorbar\": {\"outlinewidth\": 0, \"ticks\": \"\"}}, \"type\": \"parcoords\"}], \"pie\": [{\"automargin\": true, \"type\": \"pie\"}], \"scatter\": [{\"marker\": {\"colorbar\": {\"outlinewidth\": 0, \"ticks\": \"\"}}, \"type\": \"scatter\"}], \"scatter3d\": [{\"line\": {\"colorbar\": {\"outlinewidth\": 0, \"ticks\": \"\"}}, \"marker\": {\"colorbar\": {\"outlinewidth\": 0, \"ticks\": \"\"}}, \"type\": \"scatter3d\"}], \"scattercarpet\": [{\"marker\": {\"colorbar\": {\"outlinewidth\": 0, \"ticks\": \"\"}}, \"type\": \"scattercarpet\"}], \"scattergeo\": [{\"marker\": {\"colorbar\": {\"outlinewidth\": 0, \"ticks\": \"\"}}, \"type\": \"scattergeo\"}], \"scattergl\": [{\"marker\": {\"colorbar\": {\"outlinewidth\": 0, \"ticks\": \"\"}}, \"type\": \"scattergl\"}], \"scattermapbox\": [{\"marker\": {\"colorbar\": {\"outlinewidth\": 0, \"ticks\": \"\"}}, \"type\": \"scattermapbox\"}], \"scatterpolar\": [{\"marker\": {\"colorbar\": {\"outlinewidth\": 0, \"ticks\": \"\"}}, \"type\": \"scatterpolar\"}], \"scatterpolargl\": [{\"marker\": {\"colorbar\": {\"outlinewidth\": 0, \"ticks\": \"\"}}, \"type\": \"scatterpolargl\"}], \"scatterternary\": [{\"marker\": {\"colorbar\": {\"outlinewidth\": 0, \"ticks\": \"\"}}, \"type\": \"scatterternary\"}], \"surface\": [{\"colorbar\": {\"outlinewidth\": 0, \"ticks\": \"\"}, \"colorscale\": [[0.0, \"#0d0887\"], [0.1111111111111111, \"#46039f\"], [0.2222222222222222, \"#7201a8\"], [0.3333333333333333, \"#9c179e\"], [0.4444444444444444, \"#bd3786\"], [0.5555555555555556, \"#d8576b\"], [0.6666666666666666, \"#ed7953\"], [0.7777777777777778, \"#fb9f3a\"], [0.8888888888888888, \"#fdca26\"], [1.0, \"#f0f921\"]], \"type\": \"surface\"}], \"table\": [{\"cells\": {\"fill\": {\"color\": \"#EBF0F8\"}, \"line\": {\"color\": \"white\"}}, \"header\": {\"fill\": {\"color\": \"#C8D4E3\"}, \"line\": {\"color\": \"white\"}}, \"type\": \"table\"}]}, \"layout\": {\"annotationdefaults\": {\"arrowcolor\": \"#2a3f5f\", \"arrowhead\": 0, \"arrowwidth\": 1}, \"coloraxis\": {\"colorbar\": {\"outlinewidth\": 0, \"ticks\": \"\"}}, \"colorscale\": {\"diverging\": [[0, \"#8e0152\"], [0.1, \"#c51b7d\"], [0.2, \"#de77ae\"], [0.3, \"#f1b6da\"], [0.4, \"#fde0ef\"], [0.5, \"#f7f7f7\"], [0.6, \"#e6f5d0\"], [0.7, \"#b8e186\"], [0.8, \"#7fbc41\"], [0.9, \"#4d9221\"], [1, \"#276419\"]], \"sequential\": [[0.0, \"#0d0887\"], [0.1111111111111111, \"#46039f\"], [0.2222222222222222, \"#7201a8\"], [0.3333333333333333, \"#9c179e\"], [0.4444444444444444, \"#bd3786\"], [0.5555555555555556, \"#d8576b\"], [0.6666666666666666, \"#ed7953\"], [0.7777777777777778, \"#fb9f3a\"], [0.8888888888888888, \"#fdca26\"], [1.0, \"#f0f921\"]], \"sequentialminus\": [[0.0, \"#0d0887\"], [0.1111111111111111, \"#46039f\"], [0.2222222222222222, \"#7201a8\"], [0.3333333333333333, \"#9c179e\"], [0.4444444444444444, \"#bd3786\"], [0.5555555555555556, \"#d8576b\"], [0.6666666666666666, \"#ed7953\"], [0.7777777777777778, \"#fb9f3a\"], [0.8888888888888888, \"#fdca26\"], [1.0, \"#f0f921\"]]}, \"colorway\": [\"#636efa\", \"#EF553B\", \"#00cc96\", \"#ab63fa\", \"#FFA15A\", \"#19d3f3\", \"#FF6692\", \"#B6E880\", \"#FF97FF\", \"#FECB52\"], \"font\": {\"color\": \"#2a3f5f\"}, \"geo\": {\"bgcolor\": \"white\", \"lakecolor\": \"white\", \"landcolor\": \"#E5ECF6\", \"showlakes\": true, \"showland\": true, \"subunitcolor\": \"white\"}, \"hoverlabel\": {\"align\": \"left\"}, \"hovermode\": \"closest\", \"mapbox\": {\"style\": \"light\"}, \"paper_bgcolor\": \"white\", \"plot_bgcolor\": \"#E5ECF6\", \"polar\": {\"angularaxis\": {\"gridcolor\": \"white\", \"linecolor\": \"white\", \"ticks\": \"\"}, \"bgcolor\": \"#E5ECF6\", \"radialaxis\": {\"gridcolor\": \"white\", \"linecolor\": \"white\", \"ticks\": \"\"}}, \"scene\": {\"xaxis\": {\"backgroundcolor\": \"#E5ECF6\", \"gridcolor\": \"white\", \"gridwidth\": 2, \"linecolor\": \"white\", \"showbackground\": true, \"ticks\": \"\", \"zerolinecolor\": \"white\"}, \"yaxis\": {\"backgroundcolor\": \"#E5ECF6\", \"gridcolor\": \"white\", \"gridwidth\": 2, \"linecolor\": \"white\", \"showbackground\": true, \"ticks\": \"\", \"zerolinecolor\": \"white\"}, \"zaxis\": {\"backgroundcolor\": \"#E5ECF6\", \"gridcolor\": \"white\", \"gridwidth\": 2, \"linecolor\": \"white\", \"showbackground\": true, \"ticks\": \"\", \"zerolinecolor\": \"white\"}}, \"shapedefaults\": {\"line\": {\"color\": \"#2a3f5f\"}}, \"ternary\": {\"aaxis\": {\"gridcolor\": \"white\", \"linecolor\": \"white\", \"ticks\": \"\"}, \"baxis\": {\"gridcolor\": \"white\", \"linecolor\": \"white\", \"ticks\": \"\"}, \"bgcolor\": \"#E5ECF6\", \"caxis\": {\"gridcolor\": \"white\", \"linecolor\": \"white\", \"ticks\": \"\"}}, \"title\": {\"x\": 0.05}, \"xaxis\": {\"automargin\": true, \"gridcolor\": \"white\", \"linecolor\": \"white\", \"ticks\": \"\", \"title\": {\"standoff\": 15}, \"zerolinecolor\": \"white\", \"zerolinewidth\": 2}, \"yaxis\": {\"automargin\": true, \"gridcolor\": \"white\", \"linecolor\": \"white\", \"ticks\": \"\", \"title\": {\"standoff\": 15}, \"zerolinecolor\": \"white\", \"zerolinewidth\": 2}}}, \"width\": 1000, \"xaxis\": {\"anchor\": \"y\", \"domain\": [0.0, 0.31999999999999995], \"range\": [0.5, 3.5], \"tickvals\": [1, 2, 3], \"title\": {\"text\": \"Block\"}}, \"xaxis2\": {\"anchor\": \"y2\", \"domain\": [0.33999999999999997, 0.6599999999999999], \"matches\": \"x\", \"range\": [0.5, 3.5], \"tickvals\": [1, 2, 3], \"title\": {\"text\": \"Block\"}}, \"xaxis3\": {\"anchor\": \"y3\", \"domain\": [0.6799999999999999, 0.9999999999999999], \"matches\": \"x\", \"range\": [0.5, 3.5], \"tickvals\": [1, 2, 3], \"title\": {\"text\": \"Block\"}}, \"yaxis\": {\"anchor\": \"x\", \"domain\": [0.0, 1.0], \"title\": {\"text\": \"Variance\"}}, \"yaxis2\": {\"anchor\": \"x2\", \"domain\": [0.0, 1.0], \"matches\": \"y\", \"showticklabels\": false}, \"yaxis3\": {\"anchor\": \"x3\", \"domain\": [0.0, 1.0], \"matches\": \"y\", \"showticklabels\": false}},\n                        {\"responsive\": true}\n                    ).then(function(){\n                            \nvar gd = document.getElementById('a5768782-9567-43fd-b379-a701c531d82d');\nvar x = new MutationObserver(function (mutations, observer) {{\n        var display = window.getComputedStyle(gd).display;\n        if (!display || display === 'none') {{\n            console.log([gd, 'removed!']);\n            Plotly.purge(gd);\n            observer.disconnect();\n        }}\n}});\n\n// Listen for the removal of the full notebook cells\nvar notebookContainer = gd.closest('#notebook-container');\nif (notebookContainer) {{\n    x.observe(notebookContainer, {childList: true});\n}}\n\n// Listen for the clearing of the current output cell\nvar outputEl = gd.closest('.output');\nif (outputEl) {{\n    x.observe(outputEl, {childList: true});\n}}\n\n                        })\n                };\n                });\n            </script>\n        </div>"
     },
     "metadata": {}
    }
   ],
   "source": [
    "df_long = analysis.wide_to_long(df, ['parallel', 'orthogonal'], suffixes='variance', j='projection')\n",
    "fig_proj_line = plot.generate_lines_plot(df_long, \"variance\", by='user', color_col='projection', category_orders={'condition': condition_display_order}, width=1000)\n",
    "fig_proj_line.show()"
   ]
  },
  {
   "cell_type": "markdown",
   "metadata": {},
   "source": [
    "### Across participants"
   ]
  },
  {
   "cell_type": "code",
   "execution_count": 4,
   "metadata": {
    "tags": []
   },
   "outputs": [
    {
     "output_type": "stream",
     "name": "stdout",
     "text": "INFO:root:Written figure to /home/olaf/code/NeuroPsyResearchAnalysis/reports/figures/line-plot-projections.pdf\n"
    },
    {
     "output_type": "display_data",
     "data": {
      "text/plain": "<Figure size 855.725x360 with 3 Axes>",
      "image/svg+xml": "<?xml version=\"1.0\" encoding=\"utf-8\" standalone=\"no\"?>\n<!DOCTYPE svg PUBLIC \"-//W3C//DTD SVG 1.1//EN\"\n  \"http://www.w3.org/Graphics/SVG/1.1/DTD/svg11.dtd\">\n<!-- Created with matplotlib (https://matplotlib.org/) -->\n<svg height=\"346.910312pt\" version=\"1.1\" viewBox=\"0 0 842.299638 346.910312\" width=\"842.299638pt\" xmlns=\"http://www.w3.org/2000/svg\" xmlns:xlink=\"http://www.w3.org/1999/xlink\">\n <metadata>\n  <rdf:RDF xmlns:cc=\"http://creativecommons.org/ns#\" xmlns:dc=\"http://purl.org/dc/elements/1.1/\" xmlns:rdf=\"http://www.w3.org/1999/02/22-rdf-syntax-ns#\">\n   <cc:Work>\n    <dc:type rdf:resource=\"http://purl.org/dc/dcmitype/StillImage\"/>\n    <dc:date>2020-08-31T00:50:17.935618</dc:date>\n    <dc:format>image/svg+xml</dc:format>\n    <dc:creator>\n     <cc:Agent>\n      <dc:title>Matplotlib v3.3.1, https://matplotlib.org/</dc:title>\n     </cc:Agent>\n    </dc:creator>\n   </cc:Work>\n  </rdf:RDF>\n </metadata>\n <defs>\n  <style type=\"text/css\">*{stroke-linecap:butt;stroke-linejoin:round;}</style>\n </defs>\n <g id=\"figure_1\">\n  <g id=\"patch_1\">\n   <path d=\"M 0 346.910312 \nL 842.299638 346.910312 \nL 842.299638 0 \nL 0 0 \nz\n\" style=\"fill:#ffffff;\"/>\n  </g>\n  <g id=\"axes_1\">\n   <g id=\"patch_2\">\n    <path d=\"M 53.31 303.950625 \nL 271.051018 303.950625 \nL 271.051018 22.370625 \nL 53.31 22.370625 \nz\n\" style=\"fill:#eaeaf2;\"/>\n   </g>\n   <g id=\"matplotlib.axis_1\">\n    <g id=\"xtick_1\">\n     <g id=\"text_1\">\n      <!-- 1 -->\n      <g style=\"fill:#262626;\" transform=\"translate(86.100795 321.808906)scale(0.11 -0.11)\">\n       <defs>\n        <path d=\"M 12.40625 8.296875 \nL 28.515625 8.296875 \nL 28.515625 63.921875 \nL 10.984375 60.40625 \nL 10.984375 69.390625 \nL 28.421875 72.90625 \nL 38.28125 72.90625 \nL 38.28125 8.296875 \nL 54.390625 8.296875 \nL 54.390625 0 \nL 12.40625 0 \nz\n\" id=\"DejaVuSans-49\"/>\n       </defs>\n       <use xlink:href=\"#DejaVuSans-49\"/>\n      </g>\n     </g>\n    </g>\n    <g id=\"xtick_2\">\n     <g id=\"text_2\">\n      <!-- 2 -->\n      <g style=\"fill:#262626;\" transform=\"translate(158.681134 321.808906)scale(0.11 -0.11)\">\n       <defs>\n        <path d=\"M 19.1875 8.296875 \nL 53.609375 8.296875 \nL 53.609375 0 \nL 7.328125 0 \nL 7.328125 8.296875 \nQ 12.9375 14.109375 22.625 23.890625 \nQ 32.328125 33.6875 34.8125 36.53125 \nQ 39.546875 41.84375 41.421875 45.53125 \nQ 43.3125 49.21875 43.3125 52.78125 \nQ 43.3125 58.59375 39.234375 62.25 \nQ 35.15625 65.921875 28.609375 65.921875 \nQ 23.96875 65.921875 18.8125 64.3125 \nQ 13.671875 62.703125 7.8125 59.421875 \nL 7.8125 69.390625 \nQ 13.765625 71.78125 18.9375 73 \nQ 24.125 74.21875 28.421875 74.21875 \nQ 39.75 74.21875 46.484375 68.546875 \nQ 53.21875 62.890625 53.21875 53.421875 \nQ 53.21875 48.921875 51.53125 44.890625 \nQ 49.859375 40.875 45.40625 35.40625 \nQ 44.1875 33.984375 37.640625 27.21875 \nQ 31.109375 20.453125 19.1875 8.296875 \nz\n\" id=\"DejaVuSans-50\"/>\n       </defs>\n       <use xlink:href=\"#DejaVuSans-50\"/>\n      </g>\n     </g>\n    </g>\n    <g id=\"xtick_3\">\n     <g id=\"text_3\">\n      <!-- 3 -->\n      <g style=\"fill:#262626;\" transform=\"translate(231.261473 321.808906)scale(0.11 -0.11)\">\n       <defs>\n        <path d=\"M 40.578125 39.3125 \nQ 47.65625 37.796875 51.625 33 \nQ 55.609375 28.21875 55.609375 21.1875 \nQ 55.609375 10.40625 48.1875 4.484375 \nQ 40.765625 -1.421875 27.09375 -1.421875 \nQ 22.515625 -1.421875 17.65625 -0.515625 \nQ 12.796875 0.390625 7.625 2.203125 \nL 7.625 11.71875 \nQ 11.71875 9.328125 16.59375 8.109375 \nQ 21.484375 6.890625 26.8125 6.890625 \nQ 36.078125 6.890625 40.9375 10.546875 \nQ 45.796875 14.203125 45.796875 21.1875 \nQ 45.796875 27.640625 41.28125 31.265625 \nQ 36.765625 34.90625 28.71875 34.90625 \nL 20.21875 34.90625 \nL 20.21875 43.015625 \nL 29.109375 43.015625 \nQ 36.375 43.015625 40.234375 45.921875 \nQ 44.09375 48.828125 44.09375 54.296875 \nQ 44.09375 59.90625 40.109375 62.90625 \nQ 36.140625 65.921875 28.71875 65.921875 \nQ 24.65625 65.921875 20.015625 65.03125 \nQ 15.375 64.15625 9.8125 62.3125 \nL 9.8125 71.09375 \nQ 15.4375 72.65625 20.34375 73.4375 \nQ 25.25 74.21875 29.59375 74.21875 \nQ 40.828125 74.21875 47.359375 69.109375 \nQ 53.90625 64.015625 53.90625 55.328125 \nQ 53.90625 49.265625 50.4375 45.09375 \nQ 46.96875 40.921875 40.578125 39.3125 \nz\n\" id=\"DejaVuSans-51\"/>\n       </defs>\n       <use xlink:href=\"#DejaVuSans-51\"/>\n      </g>\n     </g>\n    </g>\n    <g id=\"text_4\">\n     <!-- Block -->\n     <g style=\"fill:#262626;\" transform=\"translate(145.952384 337.214687)scale(0.12 -0.12)\">\n      <defs>\n       <path d=\"M 19.671875 34.8125 \nL 19.671875 8.109375 \nL 35.5 8.109375 \nQ 43.453125 8.109375 47.28125 11.40625 \nQ 51.125 14.703125 51.125 21.484375 \nQ 51.125 28.328125 47.28125 31.5625 \nQ 43.453125 34.8125 35.5 34.8125 \nz\nM 19.671875 64.796875 \nL 19.671875 42.828125 \nL 34.28125 42.828125 \nQ 41.5 42.828125 45.03125 45.53125 \nQ 48.578125 48.25 48.578125 53.8125 \nQ 48.578125 59.328125 45.03125 62.0625 \nQ 41.5 64.796875 34.28125 64.796875 \nz\nM 9.8125 72.90625 \nL 35.015625 72.90625 \nQ 46.296875 72.90625 52.390625 68.21875 \nQ 58.5 63.53125 58.5 54.890625 \nQ 58.5 48.1875 55.375 44.234375 \nQ 52.25 40.28125 46.1875 39.3125 \nQ 53.46875 37.75 57.5 32.78125 \nQ 61.53125 27.828125 61.53125 20.40625 \nQ 61.53125 10.640625 54.890625 5.3125 \nQ 48.25 0 35.984375 0 \nL 9.8125 0 \nz\n\" id=\"DejaVuSans-66\"/>\n       <path d=\"M 9.421875 75.984375 \nL 18.40625 75.984375 \nL 18.40625 0 \nL 9.421875 0 \nz\n\" id=\"DejaVuSans-108\"/>\n       <path d=\"M 30.609375 48.390625 \nQ 23.390625 48.390625 19.1875 42.75 \nQ 14.984375 37.109375 14.984375 27.296875 \nQ 14.984375 17.484375 19.15625 11.84375 \nQ 23.34375 6.203125 30.609375 6.203125 \nQ 37.796875 6.203125 41.984375 11.859375 \nQ 46.1875 17.53125 46.1875 27.296875 \nQ 46.1875 37.015625 41.984375 42.703125 \nQ 37.796875 48.390625 30.609375 48.390625 \nz\nM 30.609375 56 \nQ 42.328125 56 49.015625 48.375 \nQ 55.71875 40.765625 55.71875 27.296875 \nQ 55.71875 13.875 49.015625 6.21875 \nQ 42.328125 -1.421875 30.609375 -1.421875 \nQ 18.84375 -1.421875 12.171875 6.21875 \nQ 5.515625 13.875 5.515625 27.296875 \nQ 5.515625 40.765625 12.171875 48.375 \nQ 18.84375 56 30.609375 56 \nz\n\" id=\"DejaVuSans-111\"/>\n       <path d=\"M 48.78125 52.59375 \nL 48.78125 44.1875 \nQ 44.96875 46.296875 41.140625 47.34375 \nQ 37.3125 48.390625 33.40625 48.390625 \nQ 24.65625 48.390625 19.8125 42.84375 \nQ 14.984375 37.3125 14.984375 27.296875 \nQ 14.984375 17.28125 19.8125 11.734375 \nQ 24.65625 6.203125 33.40625 6.203125 \nQ 37.3125 6.203125 41.140625 7.25 \nQ 44.96875 8.296875 48.78125 10.40625 \nL 48.78125 2.09375 \nQ 45.015625 0.34375 40.984375 -0.53125 \nQ 36.96875 -1.421875 32.421875 -1.421875 \nQ 20.0625 -1.421875 12.78125 6.34375 \nQ 5.515625 14.109375 5.515625 27.296875 \nQ 5.515625 40.671875 12.859375 48.328125 \nQ 20.21875 56 33.015625 56 \nQ 37.15625 56 41.109375 55.140625 \nQ 45.0625 54.296875 48.78125 52.59375 \nz\n\" id=\"DejaVuSans-99\"/>\n       <path d=\"M 9.078125 75.984375 \nL 18.109375 75.984375 \nL 18.109375 31.109375 \nL 44.921875 54.6875 \nL 56.390625 54.6875 \nL 27.390625 29.109375 \nL 57.625 0 \nL 45.90625 0 \nL 18.109375 26.703125 \nL 18.109375 0 \nL 9.078125 0 \nz\n\" id=\"DejaVuSans-107\"/>\n      </defs>\n      <use xlink:href=\"#DejaVuSans-66\"/>\n      <use x=\"68.603516\" xlink:href=\"#DejaVuSans-108\"/>\n      <use x=\"96.386719\" xlink:href=\"#DejaVuSans-111\"/>\n      <use x=\"157.568359\" xlink:href=\"#DejaVuSans-99\"/>\n      <use x=\"212.548828\" xlink:href=\"#DejaVuSans-107\"/>\n     </g>\n    </g>\n   </g>\n   <g id=\"matplotlib.axis_2\">\n    <g id=\"ytick_1\">\n     <g id=\"line2d_1\">\n      <path clip-path=\"url(#p9052513f82)\" d=\"M 53.31 293.682032 \nL 271.051018 293.682032 \n\" style=\"fill:none;stroke:#ffffff;stroke-linecap:round;\"/>\n     </g>\n     <g id=\"text_5\">\n      <!-- 0 -->\n      <g style=\"fill:#262626;\" transform=\"translate(36.81125 297.861173)scale(0.11 -0.11)\">\n       <defs>\n        <path d=\"M 31.78125 66.40625 \nQ 24.171875 66.40625 20.328125 58.90625 \nQ 16.5 51.421875 16.5 36.375 \nQ 16.5 21.390625 20.328125 13.890625 \nQ 24.171875 6.390625 31.78125 6.390625 \nQ 39.453125 6.390625 43.28125 13.890625 \nQ 47.125 21.390625 47.125 36.375 \nQ 47.125 51.421875 43.28125 58.90625 \nQ 39.453125 66.40625 31.78125 66.40625 \nz\nM 31.78125 74.21875 \nQ 44.046875 74.21875 50.515625 64.515625 \nQ 56.984375 54.828125 56.984375 36.375 \nQ 56.984375 17.96875 50.515625 8.265625 \nQ 44.046875 -1.421875 31.78125 -1.421875 \nQ 19.53125 -1.421875 13.0625 8.265625 \nQ 6.59375 17.96875 6.59375 36.375 \nQ 6.59375 54.828125 13.0625 64.515625 \nQ 19.53125 74.21875 31.78125 74.21875 \nz\n\" id=\"DejaVuSans-48\"/>\n       </defs>\n       <use xlink:href=\"#DejaVuSans-48\"/>\n      </g>\n     </g>\n    </g>\n    <g id=\"ytick_2\">\n     <g id=\"line2d_2\">\n      <path clip-path=\"url(#p9052513f82)\" d=\"M 53.31 255.58405 \nL 271.051018 255.58405 \n\" style=\"fill:none;stroke:#ffffff;stroke-linecap:round;\"/>\n     </g>\n     <g id=\"text_6\">\n      <!-- 20 -->\n      <g style=\"fill:#262626;\" transform=\"translate(29.8125 259.76319)scale(0.11 -0.11)\">\n       <use xlink:href=\"#DejaVuSans-50\"/>\n       <use x=\"63.623047\" xlink:href=\"#DejaVuSans-48\"/>\n      </g>\n     </g>\n    </g>\n    <g id=\"ytick_3\">\n     <g id=\"line2d_3\">\n      <path clip-path=\"url(#p9052513f82)\" d=\"M 53.31 217.486067 \nL 271.051018 217.486067 \n\" style=\"fill:none;stroke:#ffffff;stroke-linecap:round;\"/>\n     </g>\n     <g id=\"text_7\">\n      <!-- 40 -->\n      <g style=\"fill:#262626;\" transform=\"translate(29.8125 221.665208)scale(0.11 -0.11)\">\n       <defs>\n        <path d=\"M 37.796875 64.3125 \nL 12.890625 25.390625 \nL 37.796875 25.390625 \nz\nM 35.203125 72.90625 \nL 47.609375 72.90625 \nL 47.609375 25.390625 \nL 58.015625 25.390625 \nL 58.015625 17.1875 \nL 47.609375 17.1875 \nL 47.609375 0 \nL 37.796875 0 \nL 37.796875 17.1875 \nL 4.890625 17.1875 \nL 4.890625 26.703125 \nz\n\" id=\"DejaVuSans-52\"/>\n       </defs>\n       <use xlink:href=\"#DejaVuSans-52\"/>\n       <use x=\"63.623047\" xlink:href=\"#DejaVuSans-48\"/>\n      </g>\n     </g>\n    </g>\n    <g id=\"ytick_4\">\n     <g id=\"line2d_4\">\n      <path clip-path=\"url(#p9052513f82)\" d=\"M 53.31 179.388085 \nL 271.051018 179.388085 \n\" style=\"fill:none;stroke:#ffffff;stroke-linecap:round;\"/>\n     </g>\n     <g id=\"text_8\">\n      <!-- 60 -->\n      <g style=\"fill:#262626;\" transform=\"translate(29.8125 183.567226)scale(0.11 -0.11)\">\n       <defs>\n        <path d=\"M 33.015625 40.375 \nQ 26.375 40.375 22.484375 35.828125 \nQ 18.609375 31.296875 18.609375 23.390625 \nQ 18.609375 15.53125 22.484375 10.953125 \nQ 26.375 6.390625 33.015625 6.390625 \nQ 39.65625 6.390625 43.53125 10.953125 \nQ 47.40625 15.53125 47.40625 23.390625 \nQ 47.40625 31.296875 43.53125 35.828125 \nQ 39.65625 40.375 33.015625 40.375 \nz\nM 52.59375 71.296875 \nL 52.59375 62.3125 \nQ 48.875 64.0625 45.09375 64.984375 \nQ 41.3125 65.921875 37.59375 65.921875 \nQ 27.828125 65.921875 22.671875 59.328125 \nQ 17.53125 52.734375 16.796875 39.40625 \nQ 19.671875 43.65625 24.015625 45.921875 \nQ 28.375 48.1875 33.59375 48.1875 \nQ 44.578125 48.1875 50.953125 41.515625 \nQ 57.328125 34.859375 57.328125 23.390625 \nQ 57.328125 12.15625 50.6875 5.359375 \nQ 44.046875 -1.421875 33.015625 -1.421875 \nQ 20.359375 -1.421875 13.671875 8.265625 \nQ 6.984375 17.96875 6.984375 36.375 \nQ 6.984375 53.65625 15.1875 63.9375 \nQ 23.390625 74.21875 37.203125 74.21875 \nQ 40.921875 74.21875 44.703125 73.484375 \nQ 48.484375 72.75 52.59375 71.296875 \nz\n\" id=\"DejaVuSans-54\"/>\n       </defs>\n       <use xlink:href=\"#DejaVuSans-54\"/>\n       <use x=\"63.623047\" xlink:href=\"#DejaVuSans-48\"/>\n      </g>\n     </g>\n    </g>\n    <g id=\"ytick_5\">\n     <g id=\"line2d_5\">\n      <path clip-path=\"url(#p9052513f82)\" d=\"M 53.31 141.290103 \nL 271.051018 141.290103 \n\" style=\"fill:none;stroke:#ffffff;stroke-linecap:round;\"/>\n     </g>\n     <g id=\"text_9\">\n      <!-- 80 -->\n      <g style=\"fill:#262626;\" transform=\"translate(29.8125 145.469243)scale(0.11 -0.11)\">\n       <defs>\n        <path d=\"M 31.78125 34.625 \nQ 24.75 34.625 20.71875 30.859375 \nQ 16.703125 27.09375 16.703125 20.515625 \nQ 16.703125 13.921875 20.71875 10.15625 \nQ 24.75 6.390625 31.78125 6.390625 \nQ 38.8125 6.390625 42.859375 10.171875 \nQ 46.921875 13.96875 46.921875 20.515625 \nQ 46.921875 27.09375 42.890625 30.859375 \nQ 38.875 34.625 31.78125 34.625 \nz\nM 21.921875 38.8125 \nQ 15.578125 40.375 12.03125 44.71875 \nQ 8.5 49.078125 8.5 55.328125 \nQ 8.5 64.0625 14.71875 69.140625 \nQ 20.953125 74.21875 31.78125 74.21875 \nQ 42.671875 74.21875 48.875 69.140625 \nQ 55.078125 64.0625 55.078125 55.328125 \nQ 55.078125 49.078125 51.53125 44.71875 \nQ 48 40.375 41.703125 38.8125 \nQ 48.828125 37.15625 52.796875 32.3125 \nQ 56.78125 27.484375 56.78125 20.515625 \nQ 56.78125 9.90625 50.3125 4.234375 \nQ 43.84375 -1.421875 31.78125 -1.421875 \nQ 19.734375 -1.421875 13.25 4.234375 \nQ 6.78125 9.90625 6.78125 20.515625 \nQ 6.78125 27.484375 10.78125 32.3125 \nQ 14.796875 37.15625 21.921875 38.8125 \nz\nM 18.3125 54.390625 \nQ 18.3125 48.734375 21.84375 45.5625 \nQ 25.390625 42.390625 31.78125 42.390625 \nQ 38.140625 42.390625 41.71875 45.5625 \nQ 45.3125 48.734375 45.3125 54.390625 \nQ 45.3125 60.0625 41.71875 63.234375 \nQ 38.140625 66.40625 31.78125 66.40625 \nQ 25.390625 66.40625 21.84375 63.234375 \nQ 18.3125 60.0625 18.3125 54.390625 \nz\n\" id=\"DejaVuSans-56\"/>\n       </defs>\n       <use xlink:href=\"#DejaVuSans-56\"/>\n       <use x=\"63.623047\" xlink:href=\"#DejaVuSans-48\"/>\n      </g>\n     </g>\n    </g>\n    <g id=\"ytick_6\">\n     <g id=\"line2d_6\">\n      <path clip-path=\"url(#p9052513f82)\" d=\"M 53.31 103.192121 \nL 271.051018 103.192121 \n\" style=\"fill:none;stroke:#ffffff;stroke-linecap:round;\"/>\n     </g>\n     <g id=\"text_10\">\n      <!-- 100 -->\n      <g style=\"fill:#262626;\" transform=\"translate(22.81375 107.371261)scale(0.11 -0.11)\">\n       <use xlink:href=\"#DejaVuSans-49\"/>\n       <use x=\"63.623047\" xlink:href=\"#DejaVuSans-48\"/>\n       <use x=\"127.246094\" xlink:href=\"#DejaVuSans-48\"/>\n      </g>\n     </g>\n    </g>\n    <g id=\"ytick_7\">\n     <g id=\"line2d_7\">\n      <path clip-path=\"url(#p9052513f82)\" d=\"M 53.31 65.094138 \nL 271.051018 65.094138 \n\" style=\"fill:none;stroke:#ffffff;stroke-linecap:round;\"/>\n     </g>\n     <g id=\"text_11\">\n      <!-- 120 -->\n      <g style=\"fill:#262626;\" transform=\"translate(22.81375 69.273279)scale(0.11 -0.11)\">\n       <use xlink:href=\"#DejaVuSans-49\"/>\n       <use x=\"63.623047\" xlink:href=\"#DejaVuSans-50\"/>\n       <use x=\"127.246094\" xlink:href=\"#DejaVuSans-48\"/>\n      </g>\n     </g>\n    </g>\n    <g id=\"ytick_8\">\n     <g id=\"line2d_8\">\n      <path clip-path=\"url(#p9052513f82)\" d=\"M 53.31 26.996156 \nL 271.051018 26.996156 \n\" style=\"fill:none;stroke:#ffffff;stroke-linecap:round;\"/>\n     </g>\n     <g id=\"text_12\">\n      <!-- 140 -->\n      <g style=\"fill:#262626;\" transform=\"translate(22.81375 31.175297)scale(0.11 -0.11)\">\n       <use xlink:href=\"#DejaVuSans-49\"/>\n       <use x=\"63.623047\" xlink:href=\"#DejaVuSans-52\"/>\n       <use x=\"127.246094\" xlink:href=\"#DejaVuSans-48\"/>\n      </g>\n     </g>\n    </g>\n    <g id=\"text_13\">\n     <!-- Variance -->\n     <g style=\"fill:#262626;\" transform=\"translate(16.318125 189.080625)rotate(-90)scale(0.12 -0.12)\">\n      <defs>\n       <path d=\"M 28.609375 0 \nL 0.78125 72.90625 \nL 11.078125 72.90625 \nL 34.1875 11.53125 \nL 57.328125 72.90625 \nL 67.578125 72.90625 \nL 39.796875 0 \nz\n\" id=\"DejaVuSans-86\"/>\n       <path d=\"M 34.28125 27.484375 \nQ 23.390625 27.484375 19.1875 25 \nQ 14.984375 22.515625 14.984375 16.5 \nQ 14.984375 11.71875 18.140625 8.90625 \nQ 21.296875 6.109375 26.703125 6.109375 \nQ 34.1875 6.109375 38.703125 11.40625 \nQ 43.21875 16.703125 43.21875 25.484375 \nL 43.21875 27.484375 \nz\nM 52.203125 31.203125 \nL 52.203125 0 \nL 43.21875 0 \nL 43.21875 8.296875 \nQ 40.140625 3.328125 35.546875 0.953125 \nQ 30.953125 -1.421875 24.3125 -1.421875 \nQ 15.921875 -1.421875 10.953125 3.296875 \nQ 6 8.015625 6 15.921875 \nQ 6 25.140625 12.171875 29.828125 \nQ 18.359375 34.515625 30.609375 34.515625 \nL 43.21875 34.515625 \nL 43.21875 35.40625 \nQ 43.21875 41.609375 39.140625 45 \nQ 35.0625 48.390625 27.6875 48.390625 \nQ 23 48.390625 18.546875 47.265625 \nQ 14.109375 46.140625 10.015625 43.890625 \nL 10.015625 52.203125 \nQ 14.9375 54.109375 19.578125 55.046875 \nQ 24.21875 56 28.609375 56 \nQ 40.484375 56 46.34375 49.84375 \nQ 52.203125 43.703125 52.203125 31.203125 \nz\n\" id=\"DejaVuSans-97\"/>\n       <path d=\"M 41.109375 46.296875 \nQ 39.59375 47.171875 37.8125 47.578125 \nQ 36.03125 48 33.890625 48 \nQ 26.265625 48 22.1875 43.046875 \nQ 18.109375 38.09375 18.109375 28.8125 \nL 18.109375 0 \nL 9.078125 0 \nL 9.078125 54.6875 \nL 18.109375 54.6875 \nL 18.109375 46.1875 \nQ 20.953125 51.171875 25.484375 53.578125 \nQ 30.03125 56 36.53125 56 \nQ 37.453125 56 38.578125 55.875 \nQ 39.703125 55.765625 41.0625 55.515625 \nz\n\" id=\"DejaVuSans-114\"/>\n       <path d=\"M 9.421875 54.6875 \nL 18.40625 54.6875 \nL 18.40625 0 \nL 9.421875 0 \nz\nM 9.421875 75.984375 \nL 18.40625 75.984375 \nL 18.40625 64.59375 \nL 9.421875 64.59375 \nz\n\" id=\"DejaVuSans-105\"/>\n       <path d=\"M 54.890625 33.015625 \nL 54.890625 0 \nL 45.90625 0 \nL 45.90625 32.71875 \nQ 45.90625 40.484375 42.875 44.328125 \nQ 39.84375 48.1875 33.796875 48.1875 \nQ 26.515625 48.1875 22.3125 43.546875 \nQ 18.109375 38.921875 18.109375 30.90625 \nL 18.109375 0 \nL 9.078125 0 \nL 9.078125 54.6875 \nL 18.109375 54.6875 \nL 18.109375 46.1875 \nQ 21.34375 51.125 25.703125 53.5625 \nQ 30.078125 56 35.796875 56 \nQ 45.21875 56 50.046875 50.171875 \nQ 54.890625 44.34375 54.890625 33.015625 \nz\n\" id=\"DejaVuSans-110\"/>\n       <path d=\"M 56.203125 29.59375 \nL 56.203125 25.203125 \nL 14.890625 25.203125 \nQ 15.484375 15.921875 20.484375 11.0625 \nQ 25.484375 6.203125 34.421875 6.203125 \nQ 39.59375 6.203125 44.453125 7.46875 \nQ 49.3125 8.734375 54.109375 11.28125 \nL 54.109375 2.78125 \nQ 49.265625 0.734375 44.1875 -0.34375 \nQ 39.109375 -1.421875 33.890625 -1.421875 \nQ 20.796875 -1.421875 13.15625 6.1875 \nQ 5.515625 13.8125 5.515625 26.8125 \nQ 5.515625 40.234375 12.765625 48.109375 \nQ 20.015625 56 32.328125 56 \nQ 43.359375 56 49.78125 48.890625 \nQ 56.203125 41.796875 56.203125 29.59375 \nz\nM 47.21875 32.234375 \nQ 47.125 39.59375 43.09375 43.984375 \nQ 39.0625 48.390625 32.421875 48.390625 \nQ 24.90625 48.390625 20.390625 44.140625 \nQ 15.875 39.890625 15.1875 32.171875 \nz\n\" id=\"DejaVuSans-101\"/>\n      </defs>\n      <use xlink:href=\"#DejaVuSans-86\"/>\n      <use x=\"60.658203\" xlink:href=\"#DejaVuSans-97\"/>\n      <use x=\"121.9375\" xlink:href=\"#DejaVuSans-114\"/>\n      <use x=\"163.050781\" xlink:href=\"#DejaVuSans-105\"/>\n      <use x=\"190.833984\" xlink:href=\"#DejaVuSans-97\"/>\n      <use x=\"252.113281\" xlink:href=\"#DejaVuSans-110\"/>\n      <use x=\"315.492188\" xlink:href=\"#DejaVuSans-99\"/>\n      <use x=\"370.472656\" xlink:href=\"#DejaVuSans-101\"/>\n     </g>\n    </g>\n   </g>\n   <g id=\"PathCollection_1\">\n    <defs>\n     <path d=\"M 0 3.383948 \nC 0.897434 3.383948 1.758231 3.027394 2.392813 2.392813 \nC 3.027394 1.758231 3.383948 0.897434 3.383948 0 \nC 3.383948 -0.897434 3.027394 -1.758231 2.392813 -2.392813 \nC 1.758231 -3.027394 0.897434 -3.383948 0 -3.383948 \nC -0.897434 -3.383948 -1.758231 -3.027394 -2.392813 -2.392813 \nC -3.027394 -1.758231 -3.383948 -0.897434 -3.383948 0 \nC -3.383948 0.897434 -3.027394 1.758231 -2.392813 2.392813 \nC -1.758231 3.027394 -0.897434 3.383948 0 3.383948 \nz\n\" id=\"m74d275996d\" style=\"stroke:#90ee90;stroke-width:2.025;\"/>\n    </defs>\n    <g clip-path=\"url(#p9052513f82)\">\n     <use style=\"fill:#90ee90;stroke:#90ee90;stroke-width:2.025;\" x=\"87.785661\" xlink:href=\"#m74d275996d\" y=\"172.981348\"/>\n     <use style=\"fill:#90ee90;stroke:#90ee90;stroke-width:2.025;\" x=\"160.366\" xlink:href=\"#m74d275996d\" y=\"225.567755\"/>\n     <use style=\"fill:#90ee90;stroke:#90ee90;stroke-width:2.025;\" x=\"232.94634\" xlink:href=\"#m74d275996d\" y=\"192.888029\"/>\n    </g>\n   </g>\n   <g id=\"line2d_9\">\n    <path clip-path=\"url(#p9052513f82)\" d=\"M 87.785661 172.981348 \nL 160.366 225.567755 \nL 232.94634 192.888029 \n\" style=\"fill:none;stroke:#90ee90;stroke-linecap:round;stroke-width:2.7;\"/>\n   </g>\n   <g id=\"line2d_10\">\n    <path clip-path=\"url(#p9052513f82)\" d=\"M 87.785661 281.573973 \nL 87.785661 51.508158 \n\" style=\"fill:none;stroke:#90ee90;stroke-linecap:round;stroke-width:2.7;\"/>\n   </g>\n   <g id=\"line2d_11\">\n    <path clip-path=\"url(#p9052513f82)\" d=\"M 160.366 255.663987 \nL 160.366 188.122638 \n\" style=\"fill:none;stroke:#90ee90;stroke-linecap:round;stroke-width:2.7;\"/>\n   </g>\n   <g id=\"line2d_12\">\n    <path clip-path=\"url(#p9052513f82)\" d=\"M 232.94634 279.806803 \nL 232.94634 35.169716 \n\" style=\"fill:none;stroke:#90ee90;stroke-linecap:round;stroke-width:2.7;\"/>\n   </g>\n   <g id=\"PathCollection_2\">\n    <defs>\n     <path d=\"M 0 3.383948 \nC 0.897434 3.383948 1.758231 3.027394 2.392813 2.392813 \nC 3.027394 1.758231 3.383948 0.897434 3.383948 0 \nC 3.383948 -0.897434 3.027394 -1.758231 2.392813 -2.392813 \nC 1.758231 -3.027394 0.897434 -3.383948 0 -3.383948 \nC -0.897434 -3.383948 -1.758231 -3.027394 -2.392813 -2.392813 \nC -3.027394 -1.758231 -3.383948 -0.897434 -3.383948 0 \nC -3.383948 0.897434 -3.027394 1.758231 -2.392813 2.392813 \nC -1.758231 3.027394 -0.897434 3.383948 0 3.383948 \nz\n\" id=\"m23645eb8ab\" style=\"stroke:#fa8072;stroke-width:2.025;\"/>\n    </defs>\n    <g clip-path=\"url(#p9052513f82)\">\n     <use style=\"fill:#fa8072;stroke:#fa8072;stroke-width:2.025;\" x=\"91.414678\" xlink:href=\"#m23645eb8ab\" y=\"278.812112\"/>\n     <use style=\"fill:#fa8072;stroke:#fa8072;stroke-width:2.025;\" x=\"163.995017\" xlink:href=\"#m23645eb8ab\" y=\"240.419063\"/>\n     <use style=\"fill:#fa8072;stroke:#fa8072;stroke-width:2.025;\" x=\"236.575357\" xlink:href=\"#m23645eb8ab\" y=\"289.386414\"/>\n    </g>\n   </g>\n   <g id=\"line2d_13\">\n    <path clip-path=\"url(#p9052513f82)\" d=\"M 91.414678 278.812112 \nL 163.995017 240.419063 \nL 236.575357 289.386414 \n\" style=\"fill:none;stroke:#fa8072;stroke-linecap:round;stroke-width:2.7;\"/>\n   </g>\n   <g id=\"line2d_14\">\n    <path clip-path=\"url(#p9052513f82)\" d=\"M 91.414678 287.622072 \nL 91.414678 269.934997 \n\" style=\"fill:none;stroke:#fa8072;stroke-linecap:round;stroke-width:2.7;\"/>\n   </g>\n   <g id=\"line2d_15\">\n    <path clip-path=\"url(#p9052513f82)\" d=\"M 163.995017 267.927187 \nL 163.995017 205.634053 \n\" style=\"fill:none;stroke:#fa8072;stroke-linecap:round;stroke-width:2.7;\"/>\n   </g>\n   <g id=\"line2d_16\">\n    <path clip-path=\"url(#p9052513f82)\" d=\"M 236.575357 291.151534 \nL 236.575357 287.509608 \n\" style=\"fill:none;stroke:#fa8072;stroke-linecap:round;stroke-width:2.7;\"/>\n   </g>\n   <g id=\"patch_3\">\n    <path d=\"M 53.31 303.950625 \nL 53.31 22.370625 \n\" style=\"fill:none;stroke:#ffffff;stroke-linecap:square;stroke-linejoin:miter;stroke-width:1.25;\"/>\n   </g>\n   <g id=\"patch_4\">\n    <path d=\"M 53.31 303.950625 \nL 271.051018 303.950625 \n\" style=\"fill:none;stroke:#ffffff;stroke-linecap:square;stroke-linejoin:miter;stroke-width:1.25;\"/>\n   </g>\n   <g id=\"text_14\">\n    <!-- condition = df1 -->\n    <g style=\"fill:#262626;\" transform=\"translate(115.858634 16.370625)scale(0.12 -0.12)\">\n     <defs>\n      <path d=\"M 45.40625 46.390625 \nL 45.40625 75.984375 \nL 54.390625 75.984375 \nL 54.390625 0 \nL 45.40625 0 \nL 45.40625 8.203125 \nQ 42.578125 3.328125 38.25 0.953125 \nQ 33.9375 -1.421875 27.875 -1.421875 \nQ 17.96875 -1.421875 11.734375 6.484375 \nQ 5.515625 14.40625 5.515625 27.296875 \nQ 5.515625 40.1875 11.734375 48.09375 \nQ 17.96875 56 27.875 56 \nQ 33.9375 56 38.25 53.625 \nQ 42.578125 51.265625 45.40625 46.390625 \nz\nM 14.796875 27.296875 \nQ 14.796875 17.390625 18.875 11.75 \nQ 22.953125 6.109375 30.078125 6.109375 \nQ 37.203125 6.109375 41.296875 11.75 \nQ 45.40625 17.390625 45.40625 27.296875 \nQ 45.40625 37.203125 41.296875 42.84375 \nQ 37.203125 48.484375 30.078125 48.484375 \nQ 22.953125 48.484375 18.875 42.84375 \nQ 14.796875 37.203125 14.796875 27.296875 \nz\n\" id=\"DejaVuSans-100\"/>\n      <path d=\"M 18.3125 70.21875 \nL 18.3125 54.6875 \nL 36.8125 54.6875 \nL 36.8125 47.703125 \nL 18.3125 47.703125 \nL 18.3125 18.015625 \nQ 18.3125 11.328125 20.140625 9.421875 \nQ 21.96875 7.515625 27.59375 7.515625 \nL 36.8125 7.515625 \nL 36.8125 0 \nL 27.59375 0 \nQ 17.1875 0 13.234375 3.875 \nQ 9.28125 7.765625 9.28125 18.015625 \nL 9.28125 47.703125 \nL 2.6875 47.703125 \nL 2.6875 54.6875 \nL 9.28125 54.6875 \nL 9.28125 70.21875 \nz\n\" id=\"DejaVuSans-116\"/>\n      <path id=\"DejaVuSans-32\"/>\n      <path d=\"M 10.59375 45.40625 \nL 73.1875 45.40625 \nL 73.1875 37.203125 \nL 10.59375 37.203125 \nz\nM 10.59375 25.484375 \nL 73.1875 25.484375 \nL 73.1875 17.1875 \nL 10.59375 17.1875 \nz\n\" id=\"DejaVuSans-61\"/>\n      <path d=\"M 37.109375 75.984375 \nL 37.109375 68.5 \nL 28.515625 68.5 \nQ 23.6875 68.5 21.796875 66.546875 \nQ 19.921875 64.59375 19.921875 59.515625 \nL 19.921875 54.6875 \nL 34.71875 54.6875 \nL 34.71875 47.703125 \nL 19.921875 47.703125 \nL 19.921875 0 \nL 10.890625 0 \nL 10.890625 47.703125 \nL 2.296875 47.703125 \nL 2.296875 54.6875 \nL 10.890625 54.6875 \nL 10.890625 58.5 \nQ 10.890625 67.625 15.140625 71.796875 \nQ 19.390625 75.984375 28.609375 75.984375 \nz\n\" id=\"DejaVuSans-102\"/>\n     </defs>\n     <use xlink:href=\"#DejaVuSans-99\"/>\n     <use x=\"54.980469\" xlink:href=\"#DejaVuSans-111\"/>\n     <use x=\"116.162109\" xlink:href=\"#DejaVuSans-110\"/>\n     <use x=\"179.541016\" xlink:href=\"#DejaVuSans-100\"/>\n     <use x=\"243.017578\" xlink:href=\"#DejaVuSans-105\"/>\n     <use x=\"270.800781\" xlink:href=\"#DejaVuSans-116\"/>\n     <use x=\"310.009766\" xlink:href=\"#DejaVuSans-105\"/>\n     <use x=\"337.792969\" xlink:href=\"#DejaVuSans-111\"/>\n     <use x=\"398.974609\" xlink:href=\"#DejaVuSans-110\"/>\n     <use x=\"462.353516\" xlink:href=\"#DejaVuSans-32\"/>\n     <use x=\"494.140625\" xlink:href=\"#DejaVuSans-61\"/>\n     <use x=\"577.929688\" xlink:href=\"#DejaVuSans-32\"/>\n     <use x=\"609.716797\" xlink:href=\"#DejaVuSans-100\"/>\n     <use x=\"673.193359\" xlink:href=\"#DejaVuSans-102\"/>\n     <use x=\"708.398438\" xlink:href=\"#DejaVuSans-49\"/>\n    </g>\n   </g>\n  </g>\n  <g id=\"axes_2\">\n   <g id=\"patch_5\">\n    <path d=\"M 283.943185 303.950625 \nL 501.684203 303.950625 \nL 501.684203 22.370625 \nL 283.943185 22.370625 \nz\n\" style=\"fill:#eaeaf2;\"/>\n   </g>\n   <g id=\"matplotlib.axis_3\">\n    <g id=\"xtick_4\">\n     <g id=\"text_15\">\n      <!-- 1 -->\n      <g style=\"fill:#262626;\" transform=\"translate(316.73398 321.808906)scale(0.11 -0.11)\">\n       <use xlink:href=\"#DejaVuSans-49\"/>\n      </g>\n     </g>\n    </g>\n    <g id=\"xtick_5\">\n     <g id=\"text_16\">\n      <!-- 2 -->\n      <g style=\"fill:#262626;\" transform=\"translate(389.314319 321.808906)scale(0.11 -0.11)\">\n       <use xlink:href=\"#DejaVuSans-50\"/>\n      </g>\n     </g>\n    </g>\n    <g id=\"xtick_6\">\n     <g id=\"text_17\">\n      <!-- 3 -->\n      <g style=\"fill:#262626;\" transform=\"translate(461.894658 321.808906)scale(0.11 -0.11)\">\n       <use xlink:href=\"#DejaVuSans-51\"/>\n      </g>\n     </g>\n    </g>\n    <g id=\"text_18\">\n     <!-- Block -->\n     <g style=\"fill:#262626;\" transform=\"translate(376.585569 337.214687)scale(0.12 -0.12)\">\n      <use xlink:href=\"#DejaVuSans-66\"/>\n      <use x=\"68.603516\" xlink:href=\"#DejaVuSans-108\"/>\n      <use x=\"96.386719\" xlink:href=\"#DejaVuSans-111\"/>\n      <use x=\"157.568359\" xlink:href=\"#DejaVuSans-99\"/>\n      <use x=\"212.548828\" xlink:href=\"#DejaVuSans-107\"/>\n     </g>\n    </g>\n   </g>\n   <g id=\"matplotlib.axis_4\">\n    <g id=\"ytick_9\">\n     <g id=\"line2d_17\">\n      <path clip-path=\"url(#pc8635258f2)\" d=\"M 283.943185 293.682032 \nL 501.684203 293.682032 \n\" style=\"fill:none;stroke:#ffffff;stroke-linecap:round;\"/>\n     </g>\n    </g>\n    <g id=\"ytick_10\">\n     <g id=\"line2d_18\">\n      <path clip-path=\"url(#pc8635258f2)\" d=\"M 283.943185 255.58405 \nL 501.684203 255.58405 \n\" style=\"fill:none;stroke:#ffffff;stroke-linecap:round;\"/>\n     </g>\n    </g>\n    <g id=\"ytick_11\">\n     <g id=\"line2d_19\">\n      <path clip-path=\"url(#pc8635258f2)\" d=\"M 283.943185 217.486067 \nL 501.684203 217.486067 \n\" style=\"fill:none;stroke:#ffffff;stroke-linecap:round;\"/>\n     </g>\n    </g>\n    <g id=\"ytick_12\">\n     <g id=\"line2d_20\">\n      <path clip-path=\"url(#pc8635258f2)\" d=\"M 283.943185 179.388085 \nL 501.684203 179.388085 \n\" style=\"fill:none;stroke:#ffffff;stroke-linecap:round;\"/>\n     </g>\n    </g>\n    <g id=\"ytick_13\">\n     <g id=\"line2d_21\">\n      <path clip-path=\"url(#pc8635258f2)\" d=\"M 283.943185 141.290103 \nL 501.684203 141.290103 \n\" style=\"fill:none;stroke:#ffffff;stroke-linecap:round;\"/>\n     </g>\n    </g>\n    <g id=\"ytick_14\">\n     <g id=\"line2d_22\">\n      <path clip-path=\"url(#pc8635258f2)\" d=\"M 283.943185 103.192121 \nL 501.684203 103.192121 \n\" style=\"fill:none;stroke:#ffffff;stroke-linecap:round;\"/>\n     </g>\n    </g>\n    <g id=\"ytick_15\">\n     <g id=\"line2d_23\">\n      <path clip-path=\"url(#pc8635258f2)\" d=\"M 283.943185 65.094138 \nL 501.684203 65.094138 \n\" style=\"fill:none;stroke:#ffffff;stroke-linecap:round;\"/>\n     </g>\n    </g>\n    <g id=\"ytick_16\">\n     <g id=\"line2d_24\">\n      <path clip-path=\"url(#pc8635258f2)\" d=\"M 283.943185 26.996156 \nL 501.684203 26.996156 \n\" style=\"fill:none;stroke:#ffffff;stroke-linecap:round;\"/>\n     </g>\n    </g>\n   </g>\n   <g id=\"PathCollection_3\">\n    <g clip-path=\"url(#pc8635258f2)\">\n     <use style=\"fill:#90ee90;stroke:#90ee90;stroke-width:2.025;\" x=\"318.418846\" xlink:href=\"#m74d275996d\" y=\"261.261028\"/>\n     <use style=\"fill:#90ee90;stroke:#90ee90;stroke-width:2.025;\" x=\"390.999186\" xlink:href=\"#m74d275996d\" y=\"217.89642\"/>\n     <use style=\"fill:#90ee90;stroke:#90ee90;stroke-width:2.025;\" x=\"463.579525\" xlink:href=\"#m74d275996d\" y=\"264.551991\"/>\n    </g>\n   </g>\n   <g id=\"line2d_25\">\n    <path clip-path=\"url(#pc8635258f2)\" d=\"M 318.418846 261.261028 \nL 390.999186 217.89642 \nL 463.579525 264.551991 \n\" style=\"fill:none;stroke:#90ee90;stroke-linecap:round;stroke-width:2.7;\"/>\n   </g>\n   <g id=\"line2d_26\">\n    <path clip-path=\"url(#pc8635258f2)\" d=\"M 318.418846 280.586598 \nL 318.418846 231.96077 \n\" style=\"fill:none;stroke:#90ee90;stroke-linecap:round;stroke-width:2.7;\"/>\n   </g>\n   <g id=\"line2d_27\">\n    <path clip-path=\"url(#pc8635258f2)\" d=\"M 390.999186 244.365038 \nL 390.999186 187.440605 \n\" style=\"fill:none;stroke:#90ee90;stroke-linecap:round;stroke-width:2.7;\"/>\n   </g>\n   <g id=\"line2d_28\">\n    <path clip-path=\"url(#pc8635258f2)\" d=\"M 463.579525 285.622665 \nL 463.579525 228.44717 \n\" style=\"fill:none;stroke:#90ee90;stroke-linecap:round;stroke-width:2.7;\"/>\n   </g>\n   <g id=\"PathCollection_4\">\n    <g clip-path=\"url(#pc8635258f2)\">\n     <use style=\"fill:#fa8072;stroke:#fa8072;stroke-width:2.025;\" x=\"322.047863\" xlink:href=\"#m23645eb8ab\" y=\"285.702554\"/>\n     <use style=\"fill:#fa8072;stroke:#fa8072;stroke-width:2.025;\" x=\"394.628203\" xlink:href=\"#m23645eb8ab\" y=\"242.756827\"/>\n     <use style=\"fill:#fa8072;stroke:#fa8072;stroke-width:2.025;\" x=\"467.208542\" xlink:href=\"#m23645eb8ab\" y=\"283.182128\"/>\n    </g>\n   </g>\n   <g id=\"line2d_29\">\n    <path clip-path=\"url(#pc8635258f2)\" d=\"M 322.047863 285.702554 \nL 394.628203 242.756827 \nL 467.208542 283.182128 \n\" style=\"fill:none;stroke:#fa8072;stroke-linecap:round;stroke-width:2.7;\"/>\n   </g>\n   <g id=\"line2d_30\">\n    <path clip-path=\"url(#pc8635258f2)\" d=\"M 322.047863 289.469967 \nL 322.047863 280.284555 \n\" style=\"fill:none;stroke:#fa8072;stroke-linecap:round;stroke-width:2.7;\"/>\n   </g>\n   <g id=\"line2d_31\">\n    <path clip-path=\"url(#pc8635258f2)\" d=\"M 394.628203 256.341071 \nL 394.628203 228.532634 \n\" style=\"fill:none;stroke:#fa8072;stroke-linecap:round;stroke-width:2.7;\"/>\n   </g>\n   <g id=\"line2d_32\">\n    <path clip-path=\"url(#pc8635258f2)\" d=\"M 467.208542 290.054527 \nL 467.208542 271.827197 \n\" style=\"fill:none;stroke:#fa8072;stroke-linecap:round;stroke-width:2.7;\"/>\n   </g>\n   <g id=\"patch_6\">\n    <path d=\"M 283.943185 303.950625 \nL 283.943185 22.370625 \n\" style=\"fill:none;stroke:#ffffff;stroke-linecap:square;stroke-linejoin:miter;stroke-width:1.25;\"/>\n   </g>\n   <g id=\"patch_7\">\n    <path d=\"M 283.943185 303.950625 \nL 501.684203 303.950625 \n\" style=\"fill:none;stroke:#ffffff;stroke-linecap:square;stroke-linejoin:miter;stroke-width:1.25;\"/>\n   </g>\n   <g id=\"text_19\">\n    <!-- condition = df2 -->\n    <g style=\"fill:#262626;\" transform=\"translate(346.491819 16.370625)scale(0.12 -0.12)\">\n     <use xlink:href=\"#DejaVuSans-99\"/>\n     <use x=\"54.980469\" xlink:href=\"#DejaVuSans-111\"/>\n     <use x=\"116.162109\" xlink:href=\"#DejaVuSans-110\"/>\n     <use x=\"179.541016\" xlink:href=\"#DejaVuSans-100\"/>\n     <use x=\"243.017578\" xlink:href=\"#DejaVuSans-105\"/>\n     <use x=\"270.800781\" xlink:href=\"#DejaVuSans-116\"/>\n     <use x=\"310.009766\" xlink:href=\"#DejaVuSans-105\"/>\n     <use x=\"337.792969\" xlink:href=\"#DejaVuSans-111\"/>\n     <use x=\"398.974609\" xlink:href=\"#DejaVuSans-110\"/>\n     <use x=\"462.353516\" xlink:href=\"#DejaVuSans-32\"/>\n     <use x=\"494.140625\" xlink:href=\"#DejaVuSans-61\"/>\n     <use x=\"577.929688\" xlink:href=\"#DejaVuSans-32\"/>\n     <use x=\"609.716797\" xlink:href=\"#DejaVuSans-100\"/>\n     <use x=\"673.193359\" xlink:href=\"#DejaVuSans-102\"/>\n     <use x=\"708.398438\" xlink:href=\"#DejaVuSans-50\"/>\n    </g>\n   </g>\n  </g>\n  <g id=\"axes_3\">\n   <g id=\"patch_8\">\n    <path d=\"M 514.576371 303.950625 \nL 732.317388 303.950625 \nL 732.317388 22.370625 \nL 514.576371 22.370625 \nz\n\" style=\"fill:#eaeaf2;\"/>\n   </g>\n   <g id=\"matplotlib.axis_5\">\n    <g id=\"xtick_7\">\n     <g id=\"text_20\">\n      <!-- 1 -->\n      <g style=\"fill:#262626;\" transform=\"translate(547.367165 321.808906)scale(0.11 -0.11)\">\n       <use xlink:href=\"#DejaVuSans-49\"/>\n      </g>\n     </g>\n    </g>\n    <g id=\"xtick_8\">\n     <g id=\"text_21\">\n      <!-- 2 -->\n      <g style=\"fill:#262626;\" transform=\"translate(619.947504 321.808906)scale(0.11 -0.11)\">\n       <use xlink:href=\"#DejaVuSans-50\"/>\n      </g>\n     </g>\n    </g>\n    <g id=\"xtick_9\">\n     <g id=\"text_22\">\n      <!-- 3 -->\n      <g style=\"fill:#262626;\" transform=\"translate(692.527844 321.808906)scale(0.11 -0.11)\">\n       <use xlink:href=\"#DejaVuSans-51\"/>\n      </g>\n     </g>\n    </g>\n    <g id=\"text_23\">\n     <!-- Block -->\n     <g style=\"fill:#262626;\" transform=\"translate(607.218754 337.214687)scale(0.12 -0.12)\">\n      <use xlink:href=\"#DejaVuSans-66\"/>\n      <use x=\"68.603516\" xlink:href=\"#DejaVuSans-108\"/>\n      <use x=\"96.386719\" xlink:href=\"#DejaVuSans-111\"/>\n      <use x=\"157.568359\" xlink:href=\"#DejaVuSans-99\"/>\n      <use x=\"212.548828\" xlink:href=\"#DejaVuSans-107\"/>\n     </g>\n    </g>\n   </g>\n   <g id=\"matplotlib.axis_6\">\n    <g id=\"ytick_17\">\n     <g id=\"line2d_33\">\n      <path clip-path=\"url(#pbbfabd2774)\" d=\"M 514.576371 293.682032 \nL 732.317388 293.682032 \n\" style=\"fill:none;stroke:#ffffff;stroke-linecap:round;\"/>\n     </g>\n    </g>\n    <g id=\"ytick_18\">\n     <g id=\"line2d_34\">\n      <path clip-path=\"url(#pbbfabd2774)\" d=\"M 514.576371 255.58405 \nL 732.317388 255.58405 \n\" style=\"fill:none;stroke:#ffffff;stroke-linecap:round;\"/>\n     </g>\n    </g>\n    <g id=\"ytick_19\">\n     <g id=\"line2d_35\">\n      <path clip-path=\"url(#pbbfabd2774)\" d=\"M 514.576371 217.486067 \nL 732.317388 217.486067 \n\" style=\"fill:none;stroke:#ffffff;stroke-linecap:round;\"/>\n     </g>\n    </g>\n    <g id=\"ytick_20\">\n     <g id=\"line2d_36\">\n      <path clip-path=\"url(#pbbfabd2774)\" d=\"M 514.576371 179.388085 \nL 732.317388 179.388085 \n\" style=\"fill:none;stroke:#ffffff;stroke-linecap:round;\"/>\n     </g>\n    </g>\n    <g id=\"ytick_21\">\n     <g id=\"line2d_37\">\n      <path clip-path=\"url(#pbbfabd2774)\" d=\"M 514.576371 141.290103 \nL 732.317388 141.290103 \n\" style=\"fill:none;stroke:#ffffff;stroke-linecap:round;\"/>\n     </g>\n    </g>\n    <g id=\"ytick_22\">\n     <g id=\"line2d_38\">\n      <path clip-path=\"url(#pbbfabd2774)\" d=\"M 514.576371 103.192121 \nL 732.317388 103.192121 \n\" style=\"fill:none;stroke:#ffffff;stroke-linecap:round;\"/>\n     </g>\n    </g>\n    <g id=\"ytick_23\">\n     <g id=\"line2d_39\">\n      <path clip-path=\"url(#pbbfabd2774)\" d=\"M 514.576371 65.094138 \nL 732.317388 65.094138 \n\" style=\"fill:none;stroke:#ffffff;stroke-linecap:round;\"/>\n     </g>\n    </g>\n    <g id=\"ytick_24\">\n     <g id=\"line2d_40\">\n      <path clip-path=\"url(#pbbfabd2774)\" d=\"M 514.576371 26.996156 \nL 732.317388 26.996156 \n\" style=\"fill:none;stroke:#ffffff;stroke-linecap:round;\"/>\n     </g>\n    </g>\n   </g>\n   <g id=\"PathCollection_5\">\n    <g clip-path=\"url(#pbbfabd2774)\">\n     <use style=\"fill:#90ee90;stroke:#90ee90;stroke-width:2.025;\" x=\"549.052032\" xlink:href=\"#m74d275996d\" y=\"266.603753\"/>\n     <use style=\"fill:#90ee90;stroke:#90ee90;stroke-width:2.025;\" x=\"621.632371\" xlink:href=\"#m74d275996d\" y=\"252.415506\"/>\n     <use style=\"fill:#90ee90;stroke:#90ee90;stroke-width:2.025;\" x=\"694.21271\" xlink:href=\"#m74d275996d\" y=\"254.044542\"/>\n    </g>\n   </g>\n   <g id=\"line2d_41\">\n    <path clip-path=\"url(#pbbfabd2774)\" d=\"M 549.052032 266.603753 \nL 621.632371 252.415506 \nL 694.21271 254.044542 \n\" style=\"fill:none;stroke:#90ee90;stroke-linecap:round;stroke-width:2.7;\"/>\n   </g>\n   <g id=\"line2d_42\">\n    <path clip-path=\"url(#pbbfabd2774)\" d=\"M 549.052032 276.170694 \nL 549.052032 256.112525 \n\" style=\"fill:none;stroke:#90ee90;stroke-linecap:round;stroke-width:2.7;\"/>\n   </g>\n   <g id=\"line2d_43\">\n    <path clip-path=\"url(#pbbfabd2774)\" d=\"M 621.632371 271.907606 \nL 621.632371 227.28447 \n\" style=\"fill:none;stroke:#90ee90;stroke-linecap:round;stroke-width:2.7;\"/>\n   </g>\n   <g id=\"line2d_44\">\n    <path clip-path=\"url(#pbbfabd2774)\" d=\"M 694.21271 266.674599 \nL 694.21271 240.074989 \n\" style=\"fill:none;stroke:#90ee90;stroke-linecap:round;stroke-width:2.7;\"/>\n   </g>\n   <g id=\"PathCollection_6\">\n    <g clip-path=\"url(#pbbfabd2774)\">\n     <use style=\"fill:#fa8072;stroke:#fa8072;stroke-width:2.025;\" x=\"552.681049\" xlink:href=\"#m23645eb8ab\" y=\"279.753913\"/>\n     <use style=\"fill:#fa8072;stroke:#fa8072;stroke-width:2.025;\" x=\"625.261388\" xlink:href=\"#m23645eb8ab\" y=\"262.047067\"/>\n     <use style=\"fill:#fa8072;stroke:#fa8072;stroke-width:2.025;\" x=\"697.841727\" xlink:href=\"#m23645eb8ab\" y=\"287.570869\"/>\n    </g>\n   </g>\n   <g id=\"line2d_45\">\n    <path clip-path=\"url(#pbbfabd2774)\" d=\"M 552.681049 279.753913 \nL 625.261388 262.047067 \nL 697.841727 287.570869 \n\" style=\"fill:none;stroke:#fa8072;stroke-linecap:round;stroke-width:2.7;\"/>\n   </g>\n   <g id=\"line2d_46\">\n    <path clip-path=\"url(#pbbfabd2774)\" d=\"M 552.681049 288.236499 \nL 552.681049 266.358542 \n\" style=\"fill:none;stroke:#fa8072;stroke-linecap:round;stroke-width:2.7;\"/>\n   </g>\n   <g id=\"line2d_47\">\n    <path clip-path=\"url(#pbbfabd2774)\" d=\"M 625.261388 275.401389 \nL 625.261388 243.929524 \n\" style=\"fill:none;stroke:#fa8072;stroke-linecap:round;stroke-width:2.7;\"/>\n   </g>\n   <g id=\"line2d_48\">\n    <path clip-path=\"url(#pbbfabd2774)\" d=\"M 697.841727 290.783115 \nL 697.841727 283.256304 \n\" style=\"fill:none;stroke:#fa8072;stroke-linecap:round;stroke-width:2.7;\"/>\n   </g>\n   <g id=\"patch_9\">\n    <path d=\"M 514.576371 303.950625 \nL 514.576371 22.370625 \n\" style=\"fill:none;stroke:#ffffff;stroke-linecap:square;stroke-linejoin:miter;stroke-width:1.25;\"/>\n   </g>\n   <g id=\"patch_10\">\n    <path d=\"M 514.576371 303.950625 \nL 732.317388 303.950625 \n\" style=\"fill:none;stroke:#ffffff;stroke-linecap:square;stroke-linejoin:miter;stroke-width:1.25;\"/>\n   </g>\n   <g id=\"text_24\">\n    <!-- condition = df1|df2 -->\n    <g style=\"fill:#262626;\" transform=\"translate(565.365004 16.370625)scale(0.12 -0.12)\">\n     <defs>\n      <path d=\"M 21 76.421875 \nL 21 -23.578125 \nL 12.703125 -23.578125 \nL 12.703125 76.421875 \nz\n\" id=\"DejaVuSans-124\"/>\n     </defs>\n     <use xlink:href=\"#DejaVuSans-99\"/>\n     <use x=\"54.980469\" xlink:href=\"#DejaVuSans-111\"/>\n     <use x=\"116.162109\" xlink:href=\"#DejaVuSans-110\"/>\n     <use x=\"179.541016\" xlink:href=\"#DejaVuSans-100\"/>\n     <use x=\"243.017578\" xlink:href=\"#DejaVuSans-105\"/>\n     <use x=\"270.800781\" xlink:href=\"#DejaVuSans-116\"/>\n     <use x=\"310.009766\" xlink:href=\"#DejaVuSans-105\"/>\n     <use x=\"337.792969\" xlink:href=\"#DejaVuSans-111\"/>\n     <use x=\"398.974609\" xlink:href=\"#DejaVuSans-110\"/>\n     <use x=\"462.353516\" xlink:href=\"#DejaVuSans-32\"/>\n     <use x=\"494.140625\" xlink:href=\"#DejaVuSans-61\"/>\n     <use x=\"577.929688\" xlink:href=\"#DejaVuSans-32\"/>\n     <use x=\"609.716797\" xlink:href=\"#DejaVuSans-100\"/>\n     <use x=\"673.193359\" xlink:href=\"#DejaVuSans-102\"/>\n     <use x=\"708.398438\" xlink:href=\"#DejaVuSans-49\"/>\n     <use x=\"772.021484\" xlink:href=\"#DejaVuSans-124\"/>\n     <use x=\"805.712891\" xlink:href=\"#DejaVuSans-100\"/>\n     <use x=\"869.189453\" xlink:href=\"#DejaVuSans-102\"/>\n     <use x=\"904.394531\" xlink:href=\"#DejaVuSans-50\"/>\n    </g>\n   </g>\n  </g>\n  <g id=\"legend_1\">\n   <g id=\"text_25\">\n    <!-- Projection -->\n    <g style=\"fill:#262626;\" transform=\"translate(757.458935 160.620469)scale(0.12 -0.12)\">\n     <defs>\n      <path d=\"M 19.671875 64.796875 \nL 19.671875 37.40625 \nL 32.078125 37.40625 \nQ 38.96875 37.40625 42.71875 40.96875 \nQ 46.484375 44.53125 46.484375 51.125 \nQ 46.484375 57.671875 42.71875 61.234375 \nQ 38.96875 64.796875 32.078125 64.796875 \nz\nM 9.8125 72.90625 \nL 32.078125 72.90625 \nQ 44.34375 72.90625 50.609375 67.359375 \nQ 56.890625 61.8125 56.890625 51.125 \nQ 56.890625 40.328125 50.609375 34.8125 \nQ 44.34375 29.296875 32.078125 29.296875 \nL 19.671875 29.296875 \nL 19.671875 0 \nL 9.8125 0 \nz\n\" id=\"DejaVuSans-80\"/>\n      <path d=\"M 9.421875 54.6875 \nL 18.40625 54.6875 \nL 18.40625 -0.984375 \nQ 18.40625 -11.421875 14.421875 -16.109375 \nQ 10.453125 -20.796875 1.609375 -20.796875 \nL -1.8125 -20.796875 \nL -1.8125 -13.1875 \nL 0.59375 -13.1875 \nQ 5.71875 -13.1875 7.5625 -10.8125 \nQ 9.421875 -8.453125 9.421875 -0.984375 \nz\nM 9.421875 75.984375 \nL 18.40625 75.984375 \nL 18.40625 64.59375 \nL 9.421875 64.59375 \nz\n\" id=\"DejaVuSans-106\"/>\n     </defs>\n     <use xlink:href=\"#DejaVuSans-80\"/>\n     <use x=\"58.552734\" xlink:href=\"#DejaVuSans-114\"/>\n     <use x=\"97.416016\" xlink:href=\"#DejaVuSans-111\"/>\n     <use x=\"158.597656\" xlink:href=\"#DejaVuSans-106\"/>\n     <use x=\"186.380859\" xlink:href=\"#DejaVuSans-101\"/>\n     <use x=\"247.904297\" xlink:href=\"#DejaVuSans-99\"/>\n     <use x=\"302.884766\" xlink:href=\"#DejaVuSans-116\"/>\n     <use x=\"342.09375\" xlink:href=\"#DejaVuSans-105\"/>\n     <use x=\"369.876953\" xlink:href=\"#DejaVuSans-111\"/>\n     <use x=\"431.058594\" xlink:href=\"#DejaVuSans-110\"/>\n    </g>\n   </g>\n   <g id=\"PathCollection_7\">\n    <g>\n     <use style=\"fill:#90ee90;stroke:#90ee90;stroke-width:2.025;\" x=\"752.850732\" xlink:href=\"#m74d275996d\" y=\"174.086875\"/>\n    </g>\n   </g>\n   <g id=\"text_26\">\n    <!-- parallel -->\n    <g style=\"fill:#262626;\" transform=\"translate(772.650732 176.974375)scale(0.11 -0.11)\">\n     <defs>\n      <path d=\"M 18.109375 8.203125 \nL 18.109375 -20.796875 \nL 9.078125 -20.796875 \nL 9.078125 54.6875 \nL 18.109375 54.6875 \nL 18.109375 46.390625 \nQ 20.953125 51.265625 25.265625 53.625 \nQ 29.59375 56 35.59375 56 \nQ 45.5625 56 51.78125 48.09375 \nQ 58.015625 40.1875 58.015625 27.296875 \nQ 58.015625 14.40625 51.78125 6.484375 \nQ 45.5625 -1.421875 35.59375 -1.421875 \nQ 29.59375 -1.421875 25.265625 0.953125 \nQ 20.953125 3.328125 18.109375 8.203125 \nz\nM 48.6875 27.296875 \nQ 48.6875 37.203125 44.609375 42.84375 \nQ 40.53125 48.484375 33.40625 48.484375 \nQ 26.265625 48.484375 22.1875 42.84375 \nQ 18.109375 37.203125 18.109375 27.296875 \nQ 18.109375 17.390625 22.1875 11.75 \nQ 26.265625 6.109375 33.40625 6.109375 \nQ 40.53125 6.109375 44.609375 11.75 \nQ 48.6875 17.390625 48.6875 27.296875 \nz\n\" id=\"DejaVuSans-112\"/>\n     </defs>\n     <use xlink:href=\"#DejaVuSans-112\"/>\n     <use x=\"63.476562\" xlink:href=\"#DejaVuSans-97\"/>\n     <use x=\"124.755859\" xlink:href=\"#DejaVuSans-114\"/>\n     <use x=\"165.869141\" xlink:href=\"#DejaVuSans-97\"/>\n     <use x=\"227.148438\" xlink:href=\"#DejaVuSans-108\"/>\n     <use x=\"254.931641\" xlink:href=\"#DejaVuSans-108\"/>\n     <use x=\"282.714844\" xlink:href=\"#DejaVuSans-101\"/>\n     <use x=\"344.238281\" xlink:href=\"#DejaVuSans-108\"/>\n    </g>\n   </g>\n   <g id=\"PathCollection_8\">\n    <g>\n     <use style=\"fill:#fa8072;stroke:#fa8072;stroke-width:2.025;\" x=\"752.850732\" xlink:href=\"#m23645eb8ab\" y=\"190.232812\"/>\n    </g>\n   </g>\n   <g id=\"text_27\">\n    <!-- orthogonal -->\n    <g style=\"fill:#262626;\" transform=\"translate(772.650732 193.120312)scale(0.11 -0.11)\">\n     <defs>\n      <path d=\"M 54.890625 33.015625 \nL 54.890625 0 \nL 45.90625 0 \nL 45.90625 32.71875 \nQ 45.90625 40.484375 42.875 44.328125 \nQ 39.84375 48.1875 33.796875 48.1875 \nQ 26.515625 48.1875 22.3125 43.546875 \nQ 18.109375 38.921875 18.109375 30.90625 \nL 18.109375 0 \nL 9.078125 0 \nL 9.078125 75.984375 \nL 18.109375 75.984375 \nL 18.109375 46.1875 \nQ 21.34375 51.125 25.703125 53.5625 \nQ 30.078125 56 35.796875 56 \nQ 45.21875 56 50.046875 50.171875 \nQ 54.890625 44.34375 54.890625 33.015625 \nz\n\" id=\"DejaVuSans-104\"/>\n      <path d=\"M 45.40625 27.984375 \nQ 45.40625 37.75 41.375 43.109375 \nQ 37.359375 48.484375 30.078125 48.484375 \nQ 22.859375 48.484375 18.828125 43.109375 \nQ 14.796875 37.75 14.796875 27.984375 \nQ 14.796875 18.265625 18.828125 12.890625 \nQ 22.859375 7.515625 30.078125 7.515625 \nQ 37.359375 7.515625 41.375 12.890625 \nQ 45.40625 18.265625 45.40625 27.984375 \nz\nM 54.390625 6.78125 \nQ 54.390625 -7.171875 48.1875 -13.984375 \nQ 42 -20.796875 29.203125 -20.796875 \nQ 24.46875 -20.796875 20.265625 -20.09375 \nQ 16.0625 -19.390625 12.109375 -17.921875 \nL 12.109375 -9.1875 \nQ 16.0625 -11.328125 19.921875 -12.34375 \nQ 23.78125 -13.375 27.78125 -13.375 \nQ 36.625 -13.375 41.015625 -8.765625 \nQ 45.40625 -4.15625 45.40625 5.171875 \nL 45.40625 9.625 \nQ 42.625 4.78125 38.28125 2.390625 \nQ 33.9375 0 27.875 0 \nQ 17.828125 0 11.671875 7.65625 \nQ 5.515625 15.328125 5.515625 27.984375 \nQ 5.515625 40.671875 11.671875 48.328125 \nQ 17.828125 56 27.875 56 \nQ 33.9375 56 38.28125 53.609375 \nQ 42.625 51.21875 45.40625 46.390625 \nL 45.40625 54.6875 \nL 54.390625 54.6875 \nz\n\" id=\"DejaVuSans-103\"/>\n     </defs>\n     <use xlink:href=\"#DejaVuSans-111\"/>\n     <use x=\"61.181641\" xlink:href=\"#DejaVuSans-114\"/>\n     <use x=\"102.294922\" xlink:href=\"#DejaVuSans-116\"/>\n     <use x=\"141.503906\" xlink:href=\"#DejaVuSans-104\"/>\n     <use x=\"204.882812\" xlink:href=\"#DejaVuSans-111\"/>\n     <use x=\"266.064453\" xlink:href=\"#DejaVuSans-103\"/>\n     <use x=\"329.541016\" xlink:href=\"#DejaVuSans-111\"/>\n     <use x=\"390.722656\" xlink:href=\"#DejaVuSans-110\"/>\n     <use x=\"454.101562\" xlink:href=\"#DejaVuSans-97\"/>\n     <use x=\"515.380859\" xlink:href=\"#DejaVuSans-108\"/>\n    </g>\n   </g>\n  </g>\n </g>\n <defs>\n  <clipPath id=\"p9052513f82\">\n   <rect height=\"281.58\" width=\"217.741018\" x=\"53.31\" y=\"22.370625\"/>\n  </clipPath>\n  <clipPath id=\"pc8635258f2\">\n   <rect height=\"281.58\" width=\"217.741018\" x=\"283.943185\" y=\"22.370625\"/>\n  </clipPath>\n  <clipPath id=\"pbbfabd2774\">\n   <rect height=\"281.58\" width=\"217.741018\" x=\"514.576371\" y=\"22.370625\"/>\n  </clipPath>\n </defs>\n</svg>\n",
      "image/png": "[encoded data removed]"
     },
     "metadata": {}
    }
   ],
   "source": [
    "fig_proj_line2 = sns.catplot(x=\"Block\", y=\"Variance\", hue=\"Projection\", col=\"condition\", col_order=condition_display_order, data=df_long.rename(columns={'variance': 'Variance', 'block': 'Block', 'projection': 'Projection'}), kind=\"point\", dodge=True, width=10, aspect=.7, palette={'parallel': 'lightgreen', 'orthogonal': 'salmon'})\n",
    "\n",
    "fig_filepath = figures_path / 'line-plot-projections.pdf'\n",
    "plt.savefig(str(fig_filepath))\n",
    "logging.info(f\"Written figure to {fig_filepath.resolve()}\")"
   ]
  },
  {
   "cell_type": "code",
   "execution_count": 5,
   "metadata": {},
   "outputs": [
    {
     "output_type": "display_data",
     "data": {
      "application/vnd.plotly.v1+json": {
       "config": {
        "plotlyServerURL": "https://plot.ly"
       },
       "data": [
        {
         "box": {
          "line": {
           "color": "dimgray"
          },
          "visible": true,
          "width": 0.5
         },
         "hoverinfo": "y+text",
         "jitter": 0.1,
         "legendgroup": "parallel",
         "line": {
          "color": "lightgreen"
         },
         "meanline": {
          "color": "dimgray",
          "visible": true
         },
         "name": "parallel",
         "pointpos": -0.5,
         "points": "all",
         "scalegroup": "parallel",
         "scalemode": "count",
         "showlegend": true,
         "side": "negative",
         "spanmode": "hard",
         "text": [
          "parallel<br />participant: 9<br />block: 1<br />condition: df1|df2",
          "parallel<br />participant: 10<br />block: 1<br />condition: df1|df2",
          "parallel<br />participant: 11<br />block: 1<br />condition: df1|df2",
          "parallel<br />participant: 12<br />block: 1<br />condition: df2",
          "parallel<br />participant: 13<br />block: 1<br />condition: df1",
          "parallel<br />participant: 14<br />block: 1<br />condition: df1",
          "parallel<br />participant: 15<br />block: 1<br />condition: df1|df2",
          "parallel<br />participant: 16<br />block: 1<br />condition: df1|df2",
          "parallel<br />participant: 17<br />block: 1<br />condition: df1|df2",
          "parallel<br />participant: 18<br />block: 1<br />condition: df1|df2",
          "parallel<br />participant: 19<br />block: 1<br />condition: df1|df2",
          "parallel<br />participant: 20<br />block: 1<br />condition: df2",
          "parallel<br />participant: 21<br />block: 1<br />condition: df1|df2",
          "parallel<br />participant: 22<br />block: 1<br />condition: df2",
          "parallel<br />participant: 23<br />block: 1<br />condition: df1|df2",
          "parallel<br />participant: 24<br />block: 1<br />condition: df2",
          "parallel<br />participant: 25<br />block: 1<br />condition: df2",
          "parallel<br />participant: 26<br />block: 1<br />condition: df1|df2",
          "parallel<br />participant: 27<br />block: 1<br />condition: df1|df2",
          "parallel<br />participant: 28<br />block: 1<br />condition: df1|df2",
          "parallel<br />participant: 29<br />block: 1<br />condition: df1",
          "parallel<br />participant: 31<br />block: 1<br />condition: df2",
          "parallel<br />participant: 32<br />block: 1<br />condition: df1|df2",
          "parallel<br />participant: 34<br />block: 1<br />condition: df1",
          "parallel<br />participant: 35<br />block: 1<br />condition: df1|df2",
          "parallel<br />participant: 36<br />block: 1<br />condition: df2",
          "parallel<br />participant: 37<br />block: 1<br />condition: df1",
          "parallel<br />participant: 42<br />block: 1<br />condition: df2",
          "parallel<br />participant: 43<br />block: 1<br />condition: df1",
          "parallel<br />participant: 44<br />block: 1<br />condition: df1|df2"
         ],
         "type": "violin",
         "x": [
          0,
          0,
          0,
          0,
          0,
          0,
          0,
          0,
          0,
          0,
          0,
          0,
          0,
          0,
          0,
          0,
          0,
          0,
          0,
          0,
          0,
          0,
          0,
          0,
          0,
          0,
          0,
          0,
          0,
          0
         ],
         "y": [
          3.804068600067858,
          25.779519461313,
          20.679633131348268,
          63.647129223330076,
          2.9543965393939597,
          196.27953427899087,
          20.03646023931827,
          38.47630709431504,
          3.935435186774074,
          7.188272363541015,
          8.905134991921356,
          5.844673800494951,
          3.9479238488856065,
          24.374488656877993,
          5.437349511928273,
          3.336158393798665,
          3.2461528108264512,
          9.682019881834707,
          8.438888272661599,
          7.1734324827237765,
          21.507106115177898,
          7.633613484721997,
          11.656000324411842,
          7.079318869301168,
          10.449756734233326,
          12.877715097269164,
          148.78549789403152,
          15.198476844791074,
          3.5739131443913217,
          41.850956234634474
         ]
        },
        {
         "box": {
          "line": {
           "color": "dimgray"
          },
          "visible": true,
          "width": 0.5
         },
         "hoverinfo": "y+text",
         "jitter": 0.1,
         "legendgroup": "orthogonal",
         "line": {
          "color": "salmon"
         },
         "meanline": {
          "color": "dimgray",
          "visible": true
         },
         "name": "orthogonal",
         "pointpos": 0.5,
         "points": "all",
         "scalegroup": "orthogonal",
         "scalemode": "count",
         "showlegend": true,
         "side": "positive",
         "spanmode": "hard",
         "text": [
          "orthogonal<br />participant: 9<br />block: 1<br />condition: df1|df2",
          "orthogonal<br />participant: 10<br />block: 1<br />condition: df1|df2",
          "orthogonal<br />participant: 11<br />block: 1<br />condition: df1|df2",
          "orthogonal<br />participant: 12<br />block: 1<br />condition: df2",
          "orthogonal<br />participant: 13<br />block: 1<br />condition: df1",
          "orthogonal<br />participant: 14<br />block: 1<br />condition: df1",
          "orthogonal<br />participant: 15<br />block: 1<br />condition: df1|df2",
          "orthogonal<br />participant: 16<br />block: 1<br />condition: df1|df2",
          "orthogonal<br />participant: 17<br />block: 1<br />condition: df1|df2",
          "orthogonal<br />participant: 18<br />block: 1<br />condition: df1|df2",
          "orthogonal<br />participant: 19<br />block: 1<br />condition: df1|df2",
          "orthogonal<br />participant: 20<br />block: 1<br />condition: df2",
          "orthogonal<br />participant: 21<br />block: 1<br />condition: df1|df2",
          "orthogonal<br />participant: 22<br />block: 1<br />condition: df2",
          "orthogonal<br />participant: 23<br />block: 1<br />condition: df1|df2",
          "orthogonal<br />participant: 24<br />block: 1<br />condition: df2",
          "orthogonal<br />participant: 25<br />block: 1<br />condition: df2",
          "orthogonal<br />participant: 26<br />block: 1<br />condition: df1|df2",
          "orthogonal<br />participant: 27<br />block: 1<br />condition: df1|df2",
          "orthogonal<br />participant: 28<br />block: 1<br />condition: df1|df2",
          "orthogonal<br />participant: 29<br />block: 1<br />condition: df1",
          "orthogonal<br />participant: 31<br />block: 1<br />condition: df2",
          "orthogonal<br />participant: 32<br />block: 1<br />condition: df1|df2",
          "orthogonal<br />participant: 34<br />block: 1<br />condition: df1",
          "orthogonal<br />participant: 35<br />block: 1<br />condition: df1|df2",
          "orthogonal<br />participant: 36<br />block: 1<br />condition: df2",
          "orthogonal<br />participant: 37<br />block: 1<br />condition: df1",
          "orthogonal<br />participant: 42<br />block: 1<br />condition: df2",
          "orthogonal<br />participant: 43<br />block: 1<br />condition: df1",
          "orthogonal<br />participant: 44<br />block: 1<br />condition: df1|df2"
         ],
         "type": "violin",
         "x": [
          0,
          0,
          0,
          0,
          0,
          0,
          0,
          0,
          0,
          0,
          0,
          0,
          0,
          0,
          0,
          0,
          0,
          0,
          0,
          0,
          0,
          0,
          0,
          0,
          0,
          0,
          0,
          0,
          0,
          0
         ],
         "y": [
          0.4635396343369897,
          1.3508550273604991,
          2.525528801707132,
          2.6022071258159314,
          16.151461475976706,
          16.49856077448672,
          8.526160108764941,
          4.106244120505101,
          5.447787034446231,
          0.8855227448547851,
          1.4988185390472588,
          3.017726141357163,
          0.5602622440736104,
          14.101418789775481,
          1.0880947343038367,
          1.6437468011564436,
          3.2608663958397837,
          0.951537341063257,
          1.550968219137164,
          1.117337979991083,
          0.5210430409499307,
          0.8966558611569573,
          47.97991946759529,
          3.473884363265608,
          21.992709507003703,
          2.7910905992958326,
          5.8123213909704114,
          5.197680066067901,
          4.37960315621557,
          16.942487967657293
         ]
        },
        {
         "box": {
          "line": {
           "color": "dimgray"
          },
          "visible": true,
          "width": 0.5
         },
         "hoverinfo": "y+text",
         "jitter": 0.1,
         "legendgroup": "parallel",
         "line": {
          "color": "lightgreen"
         },
         "meanline": {
          "color": "dimgray",
          "visible": true
         },
         "name": "parallel",
         "pointpos": -0.5,
         "points": "all",
         "scalegroup": "parallel",
         "scalemode": "count",
         "showlegend": false,
         "side": "negative",
         "spanmode": "hard",
         "text": [
          "parallel<br />participant: 13<br />block: 2<br />condition: df1",
          "parallel<br />participant: 14<br />block: 2<br />condition: df1",
          "parallel<br />participant: 29<br />block: 2<br />condition: df1",
          "parallel<br />participant: 34<br />block: 2<br />condition: df1",
          "parallel<br />participant: 37<br />block: 2<br />condition: df1",
          "parallel<br />participant: 43<br />block: 2<br />condition: df1"
         ],
         "type": "violin",
         "x": [
          1,
          1,
          1,
          1,
          1,
          1
         ],
         "y": [
          20.793863780006,
          52.007306225492364,
          20.15728082199534,
          32.98175917186311,
          75.77529308977944,
          12.829015984597996
         ]
        },
        {
         "box": {
          "line": {
           "color": "dimgray"
          },
          "visible": true,
          "width": 0.5
         },
         "hoverinfo": "y+text",
         "jitter": 0.1,
         "legendgroup": "orthogonal",
         "line": {
          "color": "salmon"
         },
         "meanline": {
          "color": "dimgray",
          "visible": true
         },
         "name": "orthogonal",
         "pointpos": 0.5,
         "points": "all",
         "scalegroup": "orthogonal",
         "scalemode": "count",
         "showlegend": false,
         "side": "positive",
         "spanmode": "hard",
         "text": [
          "orthogonal<br />participant: 13<br />block: 2<br />condition: df1",
          "orthogonal<br />participant: 14<br />block: 2<br />condition: df1",
          "orthogonal<br />participant: 29<br />block: 2<br />condition: df1",
          "orthogonal<br />participant: 34<br />block: 2<br />condition: df1",
          "orthogonal<br />participant: 37<br />block: 2<br />condition: df1",
          "orthogonal<br />participant: 43<br />block: 2<br />condition: df1"
         ],
         "type": "violin",
         "x": [
          1,
          1,
          1,
          1,
          1,
          1
         ],
         "y": [
          9.045201066811321,
          31.90738331258468,
          12.45280378912782,
          40.61664016359911,
          64.11810929600345,
          9.626128255089784
         ]
        },
        {
         "box": {
          "line": {
           "color": "dimgray"
          },
          "visible": true,
          "width": 0.5
         },
         "hoverinfo": "y+text",
         "jitter": 0.1,
         "legendgroup": "parallel",
         "line": {
          "color": "lightgreen"
         },
         "meanline": {
          "color": "dimgray",
          "visible": true
         },
         "name": "parallel",
         "pointpos": -0.5,
         "points": "all",
         "scalegroup": "parallel",
         "scalemode": "count",
         "showlegend": false,
         "side": "negative",
         "spanmode": "hard",
         "text": [
          "parallel<br />participant: 12<br />block: 2<br />condition: df2",
          "parallel<br />participant: 20<br />block: 2<br />condition: df2",
          "parallel<br />participant: 22<br />block: 2<br />condition: df2",
          "parallel<br />participant: 24<br />block: 2<br />condition: df2",
          "parallel<br />participant: 25<br />block: 2<br />condition: df2",
          "parallel<br />participant: 31<br />block: 2<br />condition: df2",
          "parallel<br />participant: 36<br />block: 2<br />condition: df2",
          "parallel<br />participant: 42<br />block: 2<br />condition: df2"
         ],
         "type": "violin",
         "x": [
          2,
          2,
          2,
          2,
          2,
          2,
          2,
          2
         ],
         "y": [
          19.08476521353437,
          30.642093628805892,
          41.996432476071966,
          14.597090478845608,
          84.79213194012112,
          51.15366477971578,
          20.72259839963911,
          55.28786743343576
         ]
        },
        {
         "box": {
          "line": {
           "color": "dimgray"
          },
          "visible": true,
          "width": 0.5
         },
         "hoverinfo": "y+text",
         "jitter": 0.1,
         "legendgroup": "orthogonal",
         "line": {
          "color": "salmon"
         },
         "meanline": {
          "color": "dimgray",
          "visible": true
         },
         "name": "orthogonal",
         "pointpos": 0.5,
         "points": "all",
         "scalegroup": "orthogonal",
         "scalemode": "count",
         "showlegend": false,
         "side": "positive",
         "spanmode": "hard",
         "text": [
          "orthogonal<br />participant: 12<br />block: 2<br />condition: df2",
          "orthogonal<br />participant: 20<br />block: 2<br />condition: df2",
          "orthogonal<br />participant: 22<br />block: 2<br />condition: df2",
          "orthogonal<br />participant: 24<br />block: 2<br />condition: df2",
          "orthogonal<br />participant: 25<br />block: 2<br />condition: df2",
          "orthogonal<br />participant: 31<br />block: 2<br />condition: df2",
          "orthogonal<br />participant: 36<br />block: 2<br />condition: df2",
          "orthogonal<br />participant: 42<br />block: 2<br />condition: df2"
         ],
         "type": "violin",
         "x": [
          2,
          2,
          2,
          2,
          2,
          2,
          2,
          2
         ],
         "y": [
          13.02164706490376,
          18.77716874451947,
          34.069600201255696,
          11.092836159798946,
          43.870446063784115,
          30.92589496725184,
          27.7100738111554,
          34.40278693617989
         ]
        },
        {
         "box": {
          "line": {
           "color": "dimgray"
          },
          "visible": true,
          "width": 0.5
         },
         "hoverinfo": "y+text",
         "jitter": 0.1,
         "legendgroup": "parallel",
         "line": {
          "color": "lightgreen"
         },
         "meanline": {
          "color": "dimgray",
          "visible": true
         },
         "name": "parallel",
         "pointpos": -0.5,
         "points": "all",
         "scalegroup": "parallel",
         "scalemode": "count",
         "showlegend": false,
         "side": "negative",
         "spanmode": "hard",
         "text": [
          "parallel<br />participant: 9<br />block: 2<br />condition: df1|df2",
          "parallel<br />participant: 10<br />block: 2<br />condition: df1|df2",
          "parallel<br />participant: 11<br />block: 2<br />condition: df1|df2",
          "parallel<br />participant: 15<br />block: 2<br />condition: df1|df2",
          "parallel<br />participant: 16<br />block: 2<br />condition: df1|df2",
          "parallel<br />participant: 17<br />block: 2<br />condition: df1|df2",
          "parallel<br />participant: 18<br />block: 2<br />condition: df1|df2",
          "parallel<br />participant: 19<br />block: 2<br />condition: df1|df2",
          "parallel<br />participant: 21<br />block: 2<br />condition: df1|df2",
          "parallel<br />participant: 23<br />block: 2<br />condition: df1|df2",
          "parallel<br />participant: 26<br />block: 2<br />condition: df1|df2",
          "parallel<br />participant: 27<br />block: 2<br />condition: df1|df2",
          "parallel<br />participant: 28<br />block: 2<br />condition: df1|df2",
          "parallel<br />participant: 32<br />block: 2<br />condition: df1|df2",
          "parallel<br />participant: 35<br />block: 2<br />condition: df1|df2",
          "parallel<br />participant: 44<br />block: 2<br />condition: df1|df2"
         ],
         "type": "violin",
         "x": [
          3,
          3,
          3,
          3,
          3,
          3,
          3,
          3,
          3,
          3,
          3,
          3,
          3,
          3,
          3,
          3
         ],
         "y": [
          18.739056649970134,
          10.02833636700435,
          20.876882639869766,
          16.841756005031268,
          51.624231024838544,
          16.190214133128528,
          24.904096801434303,
          2.078352796366577,
          0.6518236043633752,
          14.837237223647925,
          0.5819445839858483,
          7.393362421122278,
          8.672326404904434,
          39.011394016871655,
          14.928694458621381,
          99.25414046314579
         ]
        },
        {
         "box": {
          "line": {
           "color": "dimgray"
          },
          "visible": true,
          "width": 0.5
         },
         "hoverinfo": "y+text",
         "jitter": 0.1,
         "legendgroup": "orthogonal",
         "line": {
          "color": "salmon"
         },
         "meanline": {
          "color": "dimgray",
          "visible": true
         },
         "name": "orthogonal",
         "pointpos": 0.5,
         "points": "all",
         "scalegroup": "orthogonal",
         "scalemode": "count",
         "showlegend": false,
         "side": "positive",
         "spanmode": "hard",
         "text": [
          "orthogonal<br />participant: 9<br />block: 2<br />condition: df1|df2",
          "orthogonal<br />participant: 10<br />block: 2<br />condition: df1|df2",
          "orthogonal<br />participant: 11<br />block: 2<br />condition: df1|df2",
          "orthogonal<br />participant: 15<br />block: 2<br />condition: df1|df2",
          "orthogonal<br />participant: 16<br />block: 2<br />condition: df1|df2",
          "orthogonal<br />participant: 17<br />block: 2<br />condition: df1|df2",
          "orthogonal<br />participant: 18<br />block: 2<br />condition: df1|df2",
          "orthogonal<br />participant: 19<br />block: 2<br />condition: df1|df2",
          "orthogonal<br />participant: 21<br />block: 2<br />condition: df1|df2",
          "orthogonal<br />participant: 23<br />block: 2<br />condition: df1|df2",
          "orthogonal<br />participant: 26<br />block: 2<br />condition: df1|df2",
          "orthogonal<br />participant: 27<br />block: 2<br />condition: df1|df2",
          "orthogonal<br />participant: 28<br />block: 2<br />condition: df1|df2",
          "orthogonal<br />participant: 32<br />block: 2<br />condition: df1|df2",
          "orthogonal<br />participant: 35<br />block: 2<br />condition: df1|df2",
          "orthogonal<br />participant: 44<br />block: 2<br />condition: df1|df2"
         ],
         "type": "violin",
         "x": [
          3,
          3,
          3,
          3,
          3,
          3,
          3,
          3,
          3,
          3,
          3,
          3,
          3,
          3,
          3,
          3
         ],
         "y": [
          16.511297888449587,
          7.610366105886768,
          39.742956134343096,
          25.59099119176205,
          18.3128693474486,
          7.489641853334557,
          17.692094343029574,
          0.8056768046874146,
          0.9808019009288944,
          10.661465948427931,
          1.0189225313425705,
          3.0736156653204967,
          8.407311107860004,
          14.324196577847685,
          25.680400445409518,
          67.81195339198146
         ]
        },
        {
         "box": {
          "line": {
           "color": "dimgray"
          },
          "visible": true,
          "width": 0.5
         },
         "hoverinfo": "y+text",
         "jitter": 0.1,
         "legendgroup": "parallel",
         "line": {
          "color": "lightgreen"
         },
         "meanline": {
          "color": "dimgray",
          "visible": true
         },
         "name": "parallel",
         "pointpos": -0.5,
         "points": "all",
         "scalegroup": "parallel",
         "scalemode": "count",
         "showlegend": false,
         "side": "negative",
         "spanmode": "hard",
         "text": [
          "parallel<br />participant: 9<br />block: 3<br />condition: df1|df2",
          "parallel<br />participant: 10<br />block: 3<br />condition: df1|df2",
          "parallel<br />participant: 11<br />block: 3<br />condition: df1|df2",
          "parallel<br />participant: 12<br />block: 3<br />condition: df2",
          "parallel<br />participant: 13<br />block: 3<br />condition: df1",
          "parallel<br />participant: 14<br />block: 3<br />condition: df1",
          "parallel<br />participant: 15<br />block: 3<br />condition: df1|df2",
          "parallel<br />participant: 16<br />block: 3<br />condition: df1|df2",
          "parallel<br />participant: 17<br />block: 3<br />condition: df1|df2",
          "parallel<br />participant: 18<br />block: 3<br />condition: df1|df2",
          "parallel<br />participant: 19<br />block: 3<br />condition: df1|df2",
          "parallel<br />participant: 20<br />block: 3<br />condition: df2",
          "parallel<br />participant: 21<br />block: 3<br />condition: df1|df2",
          "parallel<br />participant: 22<br />block: 3<br />condition: df2",
          "parallel<br />participant: 23<br />block: 3<br />condition: df1|df2",
          "parallel<br />participant: 24<br />block: 3<br />condition: df2",
          "parallel<br />participant: 25<br />block: 3<br />condition: df2",
          "parallel<br />participant: 26<br />block: 3<br />condition: df1|df2",
          "parallel<br />participant: 27<br />block: 3<br />condition: df1|df2",
          "parallel<br />participant: 28<br />block: 3<br />condition: df1|df2",
          "parallel<br />participant: 29<br />block: 3<br />condition: df1",
          "parallel<br />participant: 31<br />block: 3<br />condition: df2",
          "parallel<br />participant: 32<br />block: 3<br />condition: df1|df2",
          "parallel<br />participant: 34<br />block: 3<br />condition: df1",
          "parallel<br />participant: 35<br />block: 3<br />condition: df1|df2",
          "parallel<br />participant: 36<br />block: 3<br />condition: df2",
          "parallel<br />participant: 37<br />block: 3<br />condition: df1",
          "parallel<br />participant: 42<br />block: 3<br />condition: df2",
          "parallel<br />participant: 43<br />block: 3<br />condition: df1",
          "parallel<br />participant: 44<br />block: 3<br />condition: df1|df2"
         ],
         "type": "violin",
         "x": [
          4,
          4,
          4,
          4,
          4,
          4,
          4,
          4,
          4,
          4,
          4,
          4,
          4,
          4,
          4,
          4,
          4,
          4,
          4,
          4,
          4,
          4,
          4,
          4,
          4,
          4,
          4,
          4,
          4,
          4
         ],
         "y": [
          34.12668864356361,
          7.9533024598138296,
          28.21815688889617,
          77.36564212486267,
          17.227964853255994,
          28.92210695646905,
          5.9165862003150975,
          22.83020621801534,
          8.731583318829768,
          40.386758603693316,
          4.016926490203685,
          2.988979276673602,
          11.91911382666907,
          14.537881383631165,
          27.91660603567037,
          2.8482689665322227,
          4.8784051879731205,
          3.1996359782374304,
          6.4806577554356055,
          22.170270921201435,
          2.0549762478819185,
          2.458859823851168,
          33.91290134575171,
          4.30839407397218,
          20.96316808135279,
          5.063803674731887,
          255.40344176609887,
          12.195517559046614,
          9.5613543100365,
          54.188373260851705
         ]
        },
        {
         "box": {
          "line": {
           "color": "dimgray"
          },
          "visible": true,
          "width": 0.5
         },
         "hoverinfo": "y+text",
         "jitter": 0.1,
         "legendgroup": "orthogonal",
         "line": {
          "color": "salmon"
         },
         "meanline": {
          "color": "dimgray",
          "visible": true
         },
         "name": "orthogonal",
         "pointpos": 0.5,
         "points": "all",
         "scalegroup": "orthogonal",
         "scalemode": "count",
         "showlegend": false,
         "side": "positive",
         "spanmode": "hard",
         "text": [
          "orthogonal<br />participant: 9<br />block: 3<br />condition: df1|df2",
          "orthogonal<br />participant: 10<br />block: 3<br />condition: df1|df2",
          "orthogonal<br />participant: 11<br />block: 3<br />condition: df1|df2",
          "orthogonal<br />participant: 12<br />block: 3<br />condition: df2",
          "orthogonal<br />participant: 13<br />block: 3<br />condition: df1",
          "orthogonal<br />participant: 14<br />block: 3<br />condition: df1",
          "orthogonal<br />participant: 15<br />block: 3<br />condition: df1|df2",
          "orthogonal<br />participant: 16<br />block: 3<br />condition: df1|df2",
          "orthogonal<br />participant: 17<br />block: 3<br />condition: df1|df2",
          "orthogonal<br />participant: 18<br />block: 3<br />condition: df1|df2",
          "orthogonal<br />participant: 19<br />block: 3<br />condition: df1|df2",
          "orthogonal<br />participant: 20<br />block: 3<br />condition: df2",
          "orthogonal<br />participant: 21<br />block: 3<br />condition: df1|df2",
          "orthogonal<br />participant: 22<br />block: 3<br />condition: df2",
          "orthogonal<br />participant: 23<br />block: 3<br />condition: df1|df2",
          "orthogonal<br />participant: 24<br />block: 3<br />condition: df2",
          "orthogonal<br />participant: 25<br />block: 3<br />condition: df2",
          "orthogonal<br />participant: 26<br />block: 3<br />condition: df1|df2",
          "orthogonal<br />participant: 27<br />block: 3<br />condition: df1|df2",
          "orthogonal<br />participant: 28<br />block: 3<br />condition: df1|df2",
          "orthogonal<br />participant: 29<br />block: 3<br />condition: df1",
          "orthogonal<br />participant: 31<br />block: 3<br />condition: df2",
          "orthogonal<br />participant: 32<br />block: 3<br />condition: df1|df2",
          "orthogonal<br />participant: 34<br />block: 3<br />condition: df1",
          "orthogonal<br />participant: 35<br />block: 3<br />condition: df1|df2",
          "orthogonal<br />participant: 36<br />block: 3<br />condition: df2",
          "orthogonal<br />participant: 37<br />block: 3<br />condition: df1",
          "orthogonal<br />participant: 42<br />block: 3<br />condition: df2",
          "orthogonal<br />participant: 43<br />block: 3<br />condition: df1",
          "orthogonal<br />participant: 44<br />block: 3<br />condition: df1|df2"
         ],
         "type": "violin",
         "x": [
          4,
          4,
          4,
          4,
          4,
          4,
          4,
          4,
          4,
          4,
          4,
          4,
          4,
          4,
          4,
          4,
          4,
          4,
          4,
          4,
          4,
          4,
          4,
          4,
          4,
          4,
          4,
          4,
          4,
          4
         ],
         "y": [
          2.3533400121671617,
          5.261341730807491,
          1.1516040901944096,
          2.6171535961123427,
          4.3261171904423765,
          2.601381330533353,
          16.231592094329365,
          3.7735574381157706,
          0.8800668008466676,
          0.7532415498964434,
          0.3899344507673016,
          4.463519510539242,
          0.3858877121797816,
          26.016719778028392,
          0.7021739345847816,
          0.3683901332401893,
          2.8637016341124477,
          0.5037226899915187,
          0.5118076127356105,
          3.1849500402651585,
          0.4704733276044813,
          1.2517049365516104,
          3.8853862745501937,
          2.649831827081333,
          9.220017683331935,
          3.184248086551277,
          2.2230092794105025,
          3.3309817244606457,
          1.2594103332538638,
          2.1414454589634984
         ]
        }
       ],
       "layout": {
        "hovermode": "closest",
        "legend": {
         "orientation": "v",
         "title": {
          "text": "PROJECTION"
         },
         "xanchor": "right",
         "yanchor": "top"
        },
        "margin": {
         "b": 40,
         "l": 40,
         "r": 10,
         "t": 40
        },
        "template": {
         "data": {
          "bar": [
           {
            "error_x": {
             "color": "#2a3f5f"
            },
            "error_y": {
             "color": "#2a3f5f"
            },
            "marker": {
             "line": {
              "color": "#E5ECF6",
              "width": 0.5
             }
            },
            "type": "bar"
           }
          ],
          "barpolar": [
           {
            "marker": {
             "line": {
              "color": "#E5ECF6",
              "width": 0.5
             }
            },
            "type": "barpolar"
           }
          ],
          "carpet": [
           {
            "aaxis": {
             "endlinecolor": "#2a3f5f",
             "gridcolor": "white",
             "linecolor": "white",
             "minorgridcolor": "white",
             "startlinecolor": "#2a3f5f"
            },
            "baxis": {
             "endlinecolor": "#2a3f5f",
             "gridcolor": "white",
             "linecolor": "white",
             "minorgridcolor": "white",
             "startlinecolor": "#2a3f5f"
            },
            "type": "carpet"
           }
          ],
          "choropleth": [
           {
            "colorbar": {
             "outlinewidth": 0,
             "ticks": ""
            },
            "type": "choropleth"
           }
          ],
          "contour": [
           {
            "colorbar": {
             "outlinewidth": 0,
             "ticks": ""
            },
            "colorscale": [
             [
              0,
              "#0d0887"
             ],
             [
              0.1111111111111111,
              "#46039f"
             ],
             [
              0.2222222222222222,
              "#7201a8"
             ],
             [
              0.3333333333333333,
              "#9c179e"
             ],
             [
              0.4444444444444444,
              "#bd3786"
             ],
             [
              0.5555555555555556,
              "#d8576b"
             ],
             [
              0.6666666666666666,
              "#ed7953"
             ],
             [
              0.7777777777777778,
              "#fb9f3a"
             ],
             [
              0.8888888888888888,
              "#fdca26"
             ],
             [
              1,
              "#f0f921"
             ]
            ],
            "type": "contour"
           }
          ],
          "contourcarpet": [
           {
            "colorbar": {
             "outlinewidth": 0,
             "ticks": ""
            },
            "type": "contourcarpet"
           }
          ],
          "heatmap": [
           {
            "colorbar": {
             "outlinewidth": 0,
             "ticks": ""
            },
            "colorscale": [
             [
              0,
              "#0d0887"
             ],
             [
              0.1111111111111111,
              "#46039f"
             ],
             [
              0.2222222222222222,
              "#7201a8"
             ],
             [
              0.3333333333333333,
              "#9c179e"
             ],
             [
              0.4444444444444444,
              "#bd3786"
             ],
             [
              0.5555555555555556,
              "#d8576b"
             ],
             [
              0.6666666666666666,
              "#ed7953"
             ],
             [
              0.7777777777777778,
              "#fb9f3a"
             ],
             [
              0.8888888888888888,
              "#fdca26"
             ],
             [
              1,
              "#f0f921"
             ]
            ],
            "type": "heatmap"
           }
          ],
          "heatmapgl": [
           {
            "colorbar": {
             "outlinewidth": 0,
             "ticks": ""
            },
            "colorscale": [
             [
              0,
              "#0d0887"
             ],
             [
              0.1111111111111111,
              "#46039f"
             ],
             [
              0.2222222222222222,
              "#7201a8"
             ],
             [
              0.3333333333333333,
              "#9c179e"
             ],
             [
              0.4444444444444444,
              "#bd3786"
             ],
             [
              0.5555555555555556,
              "#d8576b"
             ],
             [
              0.6666666666666666,
              "#ed7953"
             ],
             [
              0.7777777777777778,
              "#fb9f3a"
             ],
             [
              0.8888888888888888,
              "#fdca26"
             ],
             [
              1,
              "#f0f921"
             ]
            ],
            "type": "heatmapgl"
           }
          ],
          "histogram": [
           {
            "marker": {
             "colorbar": {
              "outlinewidth": 0,
              "ticks": ""
             }
            },
            "type": "histogram"
           }
          ],
          "histogram2d": [
           {
            "colorbar": {
             "outlinewidth": 0,
             "ticks": ""
            },
            "colorscale": [
             [
              0,
              "#0d0887"
             ],
             [
              0.1111111111111111,
              "#46039f"
             ],
             [
              0.2222222222222222,
              "#7201a8"
             ],
             [
              0.3333333333333333,
              "#9c179e"
             ],
             [
              0.4444444444444444,
              "#bd3786"
             ],
             [
              0.5555555555555556,
              "#d8576b"
             ],
             [
              0.6666666666666666,
              "#ed7953"
             ],
             [
              0.7777777777777778,
              "#fb9f3a"
             ],
             [
              0.8888888888888888,
              "#fdca26"
             ],
             [
              1,
              "#f0f921"
             ]
            ],
            "type": "histogram2d"
           }
          ],
          "histogram2dcontour": [
           {
            "colorbar": {
             "outlinewidth": 0,
             "ticks": ""
            },
            "colorscale": [
             [
              0,
              "#0d0887"
             ],
             [
              0.1111111111111111,
              "#46039f"
             ],
             [
              0.2222222222222222,
              "#7201a8"
             ],
             [
              0.3333333333333333,
              "#9c179e"
             ],
             [
              0.4444444444444444,
              "#bd3786"
             ],
             [
              0.5555555555555556,
              "#d8576b"
             ],
             [
              0.6666666666666666,
              "#ed7953"
             ],
             [
              0.7777777777777778,
              "#fb9f3a"
             ],
             [
              0.8888888888888888,
              "#fdca26"
             ],
             [
              1,
              "#f0f921"
             ]
            ],
            "type": "histogram2dcontour"
           }
          ],
          "mesh3d": [
           {
            "colorbar": {
             "outlinewidth": 0,
             "ticks": ""
            },
            "type": "mesh3d"
           }
          ],
          "parcoords": [
           {
            "line": {
             "colorbar": {
              "outlinewidth": 0,
              "ticks": ""
             }
            },
            "type": "parcoords"
           }
          ],
          "pie": [
           {
            "automargin": true,
            "type": "pie"
           }
          ],
          "scatter": [
           {
            "marker": {
             "colorbar": {
              "outlinewidth": 0,
              "ticks": ""
             }
            },
            "type": "scatter"
           }
          ],
          "scatter3d": [
           {
            "line": {
             "colorbar": {
              "outlinewidth": 0,
              "ticks": ""
             }
            },
            "marker": {
             "colorbar": {
              "outlinewidth": 0,
              "ticks": ""
             }
            },
            "type": "scatter3d"
           }
          ],
          "scattercarpet": [
           {
            "marker": {
             "colorbar": {
              "outlinewidth": 0,
              "ticks": ""
             }
            },
            "type": "scattercarpet"
           }
          ],
          "scattergeo": [
           {
            "marker": {
             "colorbar": {
              "outlinewidth": 0,
              "ticks": ""
             }
            },
            "type": "scattergeo"
           }
          ],
          "scattergl": [
           {
            "marker": {
             "colorbar": {
              "outlinewidth": 0,
              "ticks": ""
             }
            },
            "type": "scattergl"
           }
          ],
          "scattermapbox": [
           {
            "marker": {
             "colorbar": {
              "outlinewidth": 0,
              "ticks": ""
             }
            },
            "type": "scattermapbox"
           }
          ],
          "scatterpolar": [
           {
            "marker": {
             "colorbar": {
              "outlinewidth": 0,
              "ticks": ""
             }
            },
            "type": "scatterpolar"
           }
          ],
          "scatterpolargl": [
           {
            "marker": {
             "colorbar": {
              "outlinewidth": 0,
              "ticks": ""
             }
            },
            "type": "scatterpolargl"
           }
          ],
          "scatterternary": [
           {
            "marker": {
             "colorbar": {
              "outlinewidth": 0,
              "ticks": ""
             }
            },
            "type": "scatterternary"
           }
          ],
          "surface": [
           {
            "colorbar": {
             "outlinewidth": 0,
             "ticks": ""
            },
            "colorscale": [
             [
              0,
              "#0d0887"
             ],
             [
              0.1111111111111111,
              "#46039f"
             ],
             [
              0.2222222222222222,
              "#7201a8"
             ],
             [
              0.3333333333333333,
              "#9c179e"
             ],
             [
              0.4444444444444444,
              "#bd3786"
             ],
             [
              0.5555555555555556,
              "#d8576b"
             ],
             [
              0.6666666666666666,
              "#ed7953"
             ],
             [
              0.7777777777777778,
              "#fb9f3a"
             ],
             [
              0.8888888888888888,
              "#fdca26"
             ],
             [
              1,
              "#f0f921"
             ]
            ],
            "type": "surface"
           }
          ],
          "table": [
           {
            "cells": {
             "fill": {
              "color": "#EBF0F8"
             },
             "line": {
              "color": "white"
             }
            },
            "header": {
             "fill": {
              "color": "#C8D4E3"
             },
             "line": {
              "color": "white"
             }
            },
            "type": "table"
           }
          ]
         },
         "layout": {
          "annotationdefaults": {
           "arrowcolor": "#2a3f5f",
           "arrowhead": 0,
           "arrowwidth": 1
          },
          "coloraxis": {
           "colorbar": {
            "outlinewidth": 0,
            "ticks": ""
           }
          },
          "colorscale": {
           "diverging": [
            [
             0,
             "#8e0152"
            ],
            [
             0.1,
             "#c51b7d"
            ],
            [
             0.2,
             "#de77ae"
            ],
            [
             0.3,
             "#f1b6da"
            ],
            [
             0.4,
             "#fde0ef"
            ],
            [
             0.5,
             "#f7f7f7"
            ],
            [
             0.6,
             "#e6f5d0"
            ],
            [
             0.7,
             "#b8e186"
            ],
            [
             0.8,
             "#7fbc41"
            ],
            [
             0.9,
             "#4d9221"
            ],
            [
             1,
             "#276419"
            ]
           ],
           "sequential": [
            [
             0,
             "#0d0887"
            ],
            [
             0.1111111111111111,
             "#46039f"
            ],
            [
             0.2222222222222222,
             "#7201a8"
            ],
            [
             0.3333333333333333,
             "#9c179e"
            ],
            [
             0.4444444444444444,
             "#bd3786"
            ],
            [
             0.5555555555555556,
             "#d8576b"
            ],
            [
             0.6666666666666666,
             "#ed7953"
            ],
            [
             0.7777777777777778,
             "#fb9f3a"
            ],
            [
             0.8888888888888888,
             "#fdca26"
            ],
            [
             1,
             "#f0f921"
            ]
           ],
           "sequentialminus": [
            [
             0,
             "#0d0887"
            ],
            [
             0.1111111111111111,
             "#46039f"
            ],
            [
             0.2222222222222222,
             "#7201a8"
            ],
            [
             0.3333333333333333,
             "#9c179e"
            ],
            [
             0.4444444444444444,
             "#bd3786"
            ],
            [
             0.5555555555555556,
             "#d8576b"
            ],
            [
             0.6666666666666666,
             "#ed7953"
            ],
            [
             0.7777777777777778,
             "#fb9f3a"
            ],
            [
             0.8888888888888888,
             "#fdca26"
            ],
            [
             1,
             "#f0f921"
            ]
           ]
          },
          "colorway": [
           "#636efa",
           "#EF553B",
           "#00cc96",
           "#ab63fa",
           "#FFA15A",
           "#19d3f3",
           "#FF6692",
           "#B6E880",
           "#FF97FF",
           "#FECB52"
          ],
          "font": {
           "color": "#2a3f5f"
          },
          "geo": {
           "bgcolor": "white",
           "lakecolor": "white",
           "landcolor": "#E5ECF6",
           "showlakes": true,
           "showland": true,
           "subunitcolor": "white"
          },
          "hoverlabel": {
           "align": "left"
          },
          "hovermode": "closest",
          "mapbox": {
           "style": "light"
          },
          "paper_bgcolor": "white",
          "plot_bgcolor": "#E5ECF6",
          "polar": {
           "angularaxis": {
            "gridcolor": "white",
            "linecolor": "white",
            "ticks": ""
           },
           "bgcolor": "#E5ECF6",
           "radialaxis": {
            "gridcolor": "white",
            "linecolor": "white",
            "ticks": ""
           }
          },
          "scene": {
           "xaxis": {
            "backgroundcolor": "#E5ECF6",
            "gridcolor": "white",
            "gridwidth": 2,
            "linecolor": "white",
            "showbackground": true,
            "ticks": "",
            "zerolinecolor": "white"
           },
           "yaxis": {
            "backgroundcolor": "#E5ECF6",
            "gridcolor": "white",
            "gridwidth": 2,
            "linecolor": "white",
            "showbackground": true,
            "ticks": "",
            "zerolinecolor": "white"
           },
           "zaxis": {
            "backgroundcolor": "#E5ECF6",
            "gridcolor": "white",
            "gridwidth": 2,
            "linecolor": "white",
            "showbackground": true,
            "ticks": "",
            "zerolinecolor": "white"
           }
          },
          "shapedefaults": {
           "line": {
            "color": "#2a3f5f"
           }
          },
          "ternary": {
           "aaxis": {
            "gridcolor": "white",
            "linecolor": "white",
            "ticks": ""
           },
           "baxis": {
            "gridcolor": "white",
            "linecolor": "white",
            "ticks": ""
           },
           "bgcolor": "#E5ECF6",
           "caxis": {
            "gridcolor": "white",
            "linecolor": "white",
            "ticks": ""
           }
          },
          "title": {
           "x": 0.05
          },
          "xaxis": {
           "automargin": true,
           "gridcolor": "white",
           "linecolor": "white",
           "ticks": "",
           "title": {
            "standoff": 15
           },
           "zerolinecolor": "white",
           "zerolinewidth": 2
          },
          "yaxis": {
           "automargin": true,
           "gridcolor": "white",
           "linecolor": "white",
           "ticks": "",
           "title": {
            "standoff": 15
           },
           "zerolinecolor": "white",
           "zerolinewidth": 2
          }
         }
        },
        "violingap": 0,
        "violingroupgap": 0,
        "violinmode": "overlay",
        "width": 1000,
        "xaxis": {
         "ticktext": [
          "pre",
          "df1|df2",
          "post",
          "df2",
          "df1"
         ],
         "tickvals": [
          0,
          3,
          4,
          2,
          1
         ],
         "title": {
          "text": "Task"
         }
        },
        "yaxis": {
         "title": {
          "text": "Variance"
         },
         "zeroline": true,
         "zerolinecolor": "LightPink",
         "zerolinewidth": 2
        }
       }
      },
      "text/html": "<div>\n        \n        \n            <div id=\"bb8bedf3-5663-43bf-a689-6f48110e6a3a\" class=\"plotly-graph-div\" style=\"height:525px; width:1000px;\"></div>\n            <script type=\"text/javascript\">\n                require([\"plotly\"], function(Plotly) {\n                    window.PLOTLYENV=window.PLOTLYENV || {};\n                    \n                if (document.getElementById(\"bb8bedf3-5663-43bf-a689-6f48110e6a3a\")) {\n                    Plotly.newPlot(\n                        'bb8bedf3-5663-43bf-a689-6f48110e6a3a',\n                        [{\"box\": {\"line\": {\"color\": \"dimgray\"}, \"visible\": true, \"width\": 0.5}, \"hoverinfo\": \"y+text\", \"jitter\": 0.1, \"legendgroup\": \"parallel\", \"line\": {\"color\": \"lightgreen\"}, \"meanline\": {\"color\": \"dimgray\", \"visible\": true}, \"name\": \"parallel\", \"pointpos\": -0.5, \"points\": \"all\", \"scalegroup\": \"parallel\", \"scalemode\": \"count\", \"showlegend\": true, \"side\": \"negative\", \"spanmode\": \"hard\", \"text\": [\"parallel<br />participant: 9<br />block: 1<br />condition: df1|df2\", \"parallel<br />participant: 10<br />block: 1<br />condition: df1|df2\", \"parallel<br />participant: 11<br />block: 1<br />condition: df1|df2\", \"parallel<br />participant: 12<br />block: 1<br />condition: df2\", \"parallel<br />participant: 13<br />block: 1<br />condition: df1\", \"parallel<br />participant: 14<br />block: 1<br />condition: df1\", \"parallel<br />participant: 15<br />block: 1<br />condition: df1|df2\", \"parallel<br />participant: 16<br />block: 1<br />condition: df1|df2\", \"parallel<br />participant: 17<br />block: 1<br />condition: df1|df2\", \"parallel<br />participant: 18<br />block: 1<br />condition: df1|df2\", \"parallel<br />participant: 19<br />block: 1<br />condition: df1|df2\", \"parallel<br />participant: 20<br />block: 1<br />condition: df2\", \"parallel<br />participant: 21<br />block: 1<br />condition: df1|df2\", \"parallel<br />participant: 22<br />block: 1<br />condition: df2\", \"parallel<br />participant: 23<br />block: 1<br />condition: df1|df2\", \"parallel<br />participant: 24<br />block: 1<br />condition: df2\", \"parallel<br />participant: 25<br />block: 1<br />condition: df2\", \"parallel<br />participant: 26<br />block: 1<br />condition: df1|df2\", \"parallel<br />participant: 27<br />block: 1<br />condition: df1|df2\", \"parallel<br />participant: 28<br />block: 1<br />condition: df1|df2\", \"parallel<br />participant: 29<br />block: 1<br />condition: df1\", \"parallel<br />participant: 31<br />block: 1<br />condition: df2\", \"parallel<br />participant: 32<br />block: 1<br />condition: df1|df2\", \"parallel<br />participant: 34<br />block: 1<br />condition: df1\", \"parallel<br />participant: 35<br />block: 1<br />condition: df1|df2\", \"parallel<br />participant: 36<br />block: 1<br />condition: df2\", \"parallel<br />participant: 37<br />block: 1<br />condition: df1\", \"parallel<br />participant: 42<br />block: 1<br />condition: df2\", \"parallel<br />participant: 43<br />block: 1<br />condition: df1\", \"parallel<br />participant: 44<br />block: 1<br />condition: df1|df2\"], \"type\": \"violin\", \"x\": [0, 0, 0, 0, 0, 0, 0, 0, 0, 0, 0, 0, 0, 0, 0, 0, 0, 0, 0, 0, 0, 0, 0, 0, 0, 0, 0, 0, 0, 0], \"y\": [3.804068600067858, 25.779519461313, 20.679633131348268, 63.647129223330076, 2.9543965393939597, 196.27953427899087, 20.03646023931827, 38.47630709431504, 3.935435186774074, 7.188272363541015, 8.905134991921356, 5.844673800494951, 3.9479238488856065, 24.374488656877993, 5.437349511928273, 3.336158393798665, 3.2461528108264512, 9.682019881834707, 8.438888272661599, 7.1734324827237765, 21.507106115177898, 7.633613484721997, 11.656000324411842, 7.079318869301168, 10.449756734233326, 12.877715097269164, 148.78549789403152, 15.198476844791074, 3.5739131443913217, 41.850956234634474]}, {\"box\": {\"line\": {\"color\": \"dimgray\"}, \"visible\": true, \"width\": 0.5}, \"hoverinfo\": \"y+text\", \"jitter\": 0.1, \"legendgroup\": \"orthogonal\", \"line\": {\"color\": \"salmon\"}, \"meanline\": {\"color\": \"dimgray\", \"visible\": true}, \"name\": \"orthogonal\", \"pointpos\": 0.5, \"points\": \"all\", \"scalegroup\": \"orthogonal\", \"scalemode\": \"count\", \"showlegend\": true, \"side\": \"positive\", \"spanmode\": \"hard\", \"text\": [\"orthogonal<br />participant: 9<br />block: 1<br />condition: df1|df2\", \"orthogonal<br />participant: 10<br />block: 1<br />condition: df1|df2\", \"orthogonal<br />participant: 11<br />block: 1<br />condition: df1|df2\", \"orthogonal<br />participant: 12<br />block: 1<br />condition: df2\", \"orthogonal<br />participant: 13<br />block: 1<br />condition: df1\", \"orthogonal<br />participant: 14<br />block: 1<br />condition: df1\", \"orthogonal<br />participant: 15<br />block: 1<br />condition: df1|df2\", \"orthogonal<br />participant: 16<br />block: 1<br />condition: df1|df2\", \"orthogonal<br />participant: 17<br />block: 1<br />condition: df1|df2\", \"orthogonal<br />participant: 18<br />block: 1<br />condition: df1|df2\", \"orthogonal<br />participant: 19<br />block: 1<br />condition: df1|df2\", \"orthogonal<br />participant: 20<br />block: 1<br />condition: df2\", \"orthogonal<br />participant: 21<br />block: 1<br />condition: df1|df2\", \"orthogonal<br />participant: 22<br />block: 1<br />condition: df2\", \"orthogonal<br />participant: 23<br />block: 1<br />condition: df1|df2\", \"orthogonal<br />participant: 24<br />block: 1<br />condition: df2\", \"orthogonal<br />participant: 25<br />block: 1<br />condition: df2\", \"orthogonal<br />participant: 26<br />block: 1<br />condition: df1|df2\", \"orthogonal<br />participant: 27<br />block: 1<br />condition: df1|df2\", \"orthogonal<br />participant: 28<br />block: 1<br />condition: df1|df2\", \"orthogonal<br />participant: 29<br />block: 1<br />condition: df1\", \"orthogonal<br />participant: 31<br />block: 1<br />condition: df2\", \"orthogonal<br />participant: 32<br />block: 1<br />condition: df1|df2\", \"orthogonal<br />participant: 34<br />block: 1<br />condition: df1\", \"orthogonal<br />participant: 35<br />block: 1<br />condition: df1|df2\", \"orthogonal<br />participant: 36<br />block: 1<br />condition: df2\", \"orthogonal<br />participant: 37<br />block: 1<br />condition: df1\", \"orthogonal<br />participant: 42<br />block: 1<br />condition: df2\", \"orthogonal<br />participant: 43<br />block: 1<br />condition: df1\", \"orthogonal<br />participant: 44<br />block: 1<br />condition: df1|df2\"], \"type\": \"violin\", \"x\": [0, 0, 0, 0, 0, 0, 0, 0, 0, 0, 0, 0, 0, 0, 0, 0, 0, 0, 0, 0, 0, 0, 0, 0, 0, 0, 0, 0, 0, 0], \"y\": [0.4635396343369897, 1.3508550273604991, 2.525528801707132, 2.6022071258159314, 16.151461475976706, 16.49856077448672, 8.526160108764941, 4.106244120505101, 5.447787034446231, 0.8855227448547851, 1.4988185390472588, 3.017726141357163, 0.5602622440736104, 14.101418789775481, 1.0880947343038367, 1.6437468011564436, 3.2608663958397837, 0.951537341063257, 1.550968219137164, 1.117337979991083, 0.5210430409499307, 0.8966558611569573, 47.97991946759529, 3.473884363265608, 21.992709507003703, 2.7910905992958326, 5.8123213909704114, 5.197680066067901, 4.37960315621557, 16.942487967657293]}, {\"box\": {\"line\": {\"color\": \"dimgray\"}, \"visible\": true, \"width\": 0.5}, \"hoverinfo\": \"y+text\", \"jitter\": 0.1, \"legendgroup\": \"parallel\", \"line\": {\"color\": \"lightgreen\"}, \"meanline\": {\"color\": \"dimgray\", \"visible\": true}, \"name\": \"parallel\", \"pointpos\": -0.5, \"points\": \"all\", \"scalegroup\": \"parallel\", \"scalemode\": \"count\", \"showlegend\": false, \"side\": \"negative\", \"spanmode\": \"hard\", \"text\": [\"parallel<br />participant: 13<br />block: 2<br />condition: df1\", \"parallel<br />participant: 14<br />block: 2<br />condition: df1\", \"parallel<br />participant: 29<br />block: 2<br />condition: df1\", \"parallel<br />participant: 34<br />block: 2<br />condition: df1\", \"parallel<br />participant: 37<br />block: 2<br />condition: df1\", \"parallel<br />participant: 43<br />block: 2<br />condition: df1\"], \"type\": \"violin\", \"x\": [1, 1, 1, 1, 1, 1], \"y\": [20.793863780006, 52.007306225492364, 20.15728082199534, 32.98175917186311, 75.77529308977944, 12.829015984597996]}, {\"box\": {\"line\": {\"color\": \"dimgray\"}, \"visible\": true, \"width\": 0.5}, \"hoverinfo\": \"y+text\", \"jitter\": 0.1, \"legendgroup\": \"orthogonal\", \"line\": {\"color\": \"salmon\"}, \"meanline\": {\"color\": \"dimgray\", \"visible\": true}, \"name\": \"orthogonal\", \"pointpos\": 0.5, \"points\": \"all\", \"scalegroup\": \"orthogonal\", \"scalemode\": \"count\", \"showlegend\": false, \"side\": \"positive\", \"spanmode\": \"hard\", \"text\": [\"orthogonal<br />participant: 13<br />block: 2<br />condition: df1\", \"orthogonal<br />participant: 14<br />block: 2<br />condition: df1\", \"orthogonal<br />participant: 29<br />block: 2<br />condition: df1\", \"orthogonal<br />participant: 34<br />block: 2<br />condition: df1\", \"orthogonal<br />participant: 37<br />block: 2<br />condition: df1\", \"orthogonal<br />participant: 43<br />block: 2<br />condition: df1\"], \"type\": \"violin\", \"x\": [1, 1, 1, 1, 1, 1], \"y\": [9.045201066811321, 31.90738331258468, 12.45280378912782, 40.61664016359911, 64.11810929600345, 9.626128255089784]}, {\"box\": {\"line\": {\"color\": \"dimgray\"}, \"visible\": true, \"width\": 0.5}, \"hoverinfo\": \"y+text\", \"jitter\": 0.1, \"legendgroup\": \"parallel\", \"line\": {\"color\": \"lightgreen\"}, \"meanline\": {\"color\": \"dimgray\", \"visible\": true}, \"name\": \"parallel\", \"pointpos\": -0.5, \"points\": \"all\", \"scalegroup\": \"parallel\", \"scalemode\": \"count\", \"showlegend\": false, \"side\": \"negative\", \"spanmode\": \"hard\", \"text\": [\"parallel<br />participant: 12<br />block: 2<br />condition: df2\", \"parallel<br />participant: 20<br />block: 2<br />condition: df2\", \"parallel<br />participant: 22<br />block: 2<br />condition: df2\", \"parallel<br />participant: 24<br />block: 2<br />condition: df2\", \"parallel<br />participant: 25<br />block: 2<br />condition: df2\", \"parallel<br />participant: 31<br />block: 2<br />condition: df2\", \"parallel<br />participant: 36<br />block: 2<br />condition: df2\", \"parallel<br />participant: 42<br />block: 2<br />condition: df2\"], \"type\": \"violin\", \"x\": [2, 2, 2, 2, 2, 2, 2, 2], \"y\": [19.08476521353437, 30.642093628805892, 41.996432476071966, 14.597090478845608, 84.79213194012112, 51.15366477971578, 20.72259839963911, 55.28786743343576]}, {\"box\": {\"line\": {\"color\": \"dimgray\"}, \"visible\": true, \"width\": 0.5}, \"hoverinfo\": \"y+text\", \"jitter\": 0.1, \"legendgroup\": \"orthogonal\", \"line\": {\"color\": \"salmon\"}, \"meanline\": {\"color\": \"dimgray\", \"visible\": true}, \"name\": \"orthogonal\", \"pointpos\": 0.5, \"points\": \"all\", \"scalegroup\": \"orthogonal\", \"scalemode\": \"count\", \"showlegend\": false, \"side\": \"positive\", \"spanmode\": \"hard\", \"text\": [\"orthogonal<br />participant: 12<br />block: 2<br />condition: df2\", \"orthogonal<br />participant: 20<br />block: 2<br />condition: df2\", \"orthogonal<br />participant: 22<br />block: 2<br />condition: df2\", \"orthogonal<br />participant: 24<br />block: 2<br />condition: df2\", \"orthogonal<br />participant: 25<br />block: 2<br />condition: df2\", \"orthogonal<br />participant: 31<br />block: 2<br />condition: df2\", \"orthogonal<br />participant: 36<br />block: 2<br />condition: df2\", \"orthogonal<br />participant: 42<br />block: 2<br />condition: df2\"], \"type\": \"violin\", \"x\": [2, 2, 2, 2, 2, 2, 2, 2], \"y\": [13.02164706490376, 18.77716874451947, 34.069600201255696, 11.092836159798946, 43.870446063784115, 30.92589496725184, 27.7100738111554, 34.40278693617989]}, {\"box\": {\"line\": {\"color\": \"dimgray\"}, \"visible\": true, \"width\": 0.5}, \"hoverinfo\": \"y+text\", \"jitter\": 0.1, \"legendgroup\": \"parallel\", \"line\": {\"color\": \"lightgreen\"}, \"meanline\": {\"color\": \"dimgray\", \"visible\": true}, \"name\": \"parallel\", \"pointpos\": -0.5, \"points\": \"all\", \"scalegroup\": \"parallel\", \"scalemode\": \"count\", \"showlegend\": false, \"side\": \"negative\", \"spanmode\": \"hard\", \"text\": [\"parallel<br />participant: 9<br />block: 2<br />condition: df1|df2\", \"parallel<br />participant: 10<br />block: 2<br />condition: df1|df2\", \"parallel<br />participant: 11<br />block: 2<br />condition: df1|df2\", \"parallel<br />participant: 15<br />block: 2<br />condition: df1|df2\", \"parallel<br />participant: 16<br />block: 2<br />condition: df1|df2\", \"parallel<br />participant: 17<br />block: 2<br />condition: df1|df2\", \"parallel<br />participant: 18<br />block: 2<br />condition: df1|df2\", \"parallel<br />participant: 19<br />block: 2<br />condition: df1|df2\", \"parallel<br />participant: 21<br />block: 2<br />condition: df1|df2\", \"parallel<br />participant: 23<br />block: 2<br />condition: df1|df2\", \"parallel<br />participant: 26<br />block: 2<br />condition: df1|df2\", \"parallel<br />participant: 27<br />block: 2<br />condition: df1|df2\", \"parallel<br />participant: 28<br />block: 2<br />condition: df1|df2\", \"parallel<br />participant: 32<br />block: 2<br />condition: df1|df2\", \"parallel<br />participant: 35<br />block: 2<br />condition: df1|df2\", \"parallel<br />participant: 44<br />block: 2<br />condition: df1|df2\"], \"type\": \"violin\", \"x\": [3, 3, 3, 3, 3, 3, 3, 3, 3, 3, 3, 3, 3, 3, 3, 3], \"y\": [18.739056649970134, 10.02833636700435, 20.876882639869766, 16.841756005031268, 51.624231024838544, 16.190214133128528, 24.904096801434303, 2.078352796366577, 0.6518236043633752, 14.837237223647925, 0.5819445839858483, 7.393362421122278, 8.672326404904434, 39.011394016871655, 14.928694458621381, 99.25414046314579]}, {\"box\": {\"line\": {\"color\": \"dimgray\"}, \"visible\": true, \"width\": 0.5}, \"hoverinfo\": \"y+text\", \"jitter\": 0.1, \"legendgroup\": \"orthogonal\", \"line\": {\"color\": \"salmon\"}, \"meanline\": {\"color\": \"dimgray\", \"visible\": true}, \"name\": \"orthogonal\", \"pointpos\": 0.5, \"points\": \"all\", \"scalegroup\": \"orthogonal\", \"scalemode\": \"count\", \"showlegend\": false, \"side\": \"positive\", \"spanmode\": \"hard\", \"text\": [\"orthogonal<br />participant: 9<br />block: 2<br />condition: df1|df2\", \"orthogonal<br />participant: 10<br />block: 2<br />condition: df1|df2\", \"orthogonal<br />participant: 11<br />block: 2<br />condition: df1|df2\", \"orthogonal<br />participant: 15<br />block: 2<br />condition: df1|df2\", \"orthogonal<br />participant: 16<br />block: 2<br />condition: df1|df2\", \"orthogonal<br />participant: 17<br />block: 2<br />condition: df1|df2\", \"orthogonal<br />participant: 18<br />block: 2<br />condition: df1|df2\", \"orthogonal<br />participant: 19<br />block: 2<br />condition: df1|df2\", \"orthogonal<br />participant: 21<br />block: 2<br />condition: df1|df2\", \"orthogonal<br />participant: 23<br />block: 2<br />condition: df1|df2\", \"orthogonal<br />participant: 26<br />block: 2<br />condition: df1|df2\", \"orthogonal<br />participant: 27<br />block: 2<br />condition: df1|df2\", \"orthogonal<br />participant: 28<br />block: 2<br />condition: df1|df2\", \"orthogonal<br />participant: 32<br />block: 2<br />condition: df1|df2\", \"orthogonal<br />participant: 35<br />block: 2<br />condition: df1|df2\", \"orthogonal<br />participant: 44<br />block: 2<br />condition: df1|df2\"], \"type\": \"violin\", \"x\": [3, 3, 3, 3, 3, 3, 3, 3, 3, 3, 3, 3, 3, 3, 3, 3], \"y\": [16.511297888449587, 7.610366105886768, 39.742956134343096, 25.59099119176205, 18.3128693474486, 7.489641853334557, 17.692094343029574, 0.8056768046874146, 0.9808019009288944, 10.661465948427931, 1.0189225313425705, 3.0736156653204967, 8.407311107860004, 14.324196577847685, 25.680400445409518, 67.81195339198146]}, {\"box\": {\"line\": {\"color\": \"dimgray\"}, \"visible\": true, \"width\": 0.5}, \"hoverinfo\": \"y+text\", \"jitter\": 0.1, \"legendgroup\": \"parallel\", \"line\": {\"color\": \"lightgreen\"}, \"meanline\": {\"color\": \"dimgray\", \"visible\": true}, \"name\": \"parallel\", \"pointpos\": -0.5, \"points\": \"all\", \"scalegroup\": \"parallel\", \"scalemode\": \"count\", \"showlegend\": false, \"side\": \"negative\", \"spanmode\": \"hard\", \"text\": [\"parallel<br />participant: 9<br />block: 3<br />condition: df1|df2\", \"parallel<br />participant: 10<br />block: 3<br />condition: df1|df2\", \"parallel<br />participant: 11<br />block: 3<br />condition: df1|df2\", \"parallel<br />participant: 12<br />block: 3<br />condition: df2\", \"parallel<br />participant: 13<br />block: 3<br />condition: df1\", \"parallel<br />participant: 14<br />block: 3<br />condition: df1\", \"parallel<br />participant: 15<br />block: 3<br />condition: df1|df2\", \"parallel<br />participant: 16<br />block: 3<br />condition: df1|df2\", \"parallel<br />participant: 17<br />block: 3<br />condition: df1|df2\", \"parallel<br />participant: 18<br />block: 3<br />condition: df1|df2\", \"parallel<br />participant: 19<br />block: 3<br />condition: df1|df2\", \"parallel<br />participant: 20<br />block: 3<br />condition: df2\", \"parallel<br />participant: 21<br />block: 3<br />condition: df1|df2\", \"parallel<br />participant: 22<br />block: 3<br />condition: df2\", \"parallel<br />participant: 23<br />block: 3<br />condition: df1|df2\", \"parallel<br />participant: 24<br />block: 3<br />condition: df2\", \"parallel<br />participant: 25<br />block: 3<br />condition: df2\", \"parallel<br />participant: 26<br />block: 3<br />condition: df1|df2\", \"parallel<br />participant: 27<br />block: 3<br />condition: df1|df2\", \"parallel<br />participant: 28<br />block: 3<br />condition: df1|df2\", \"parallel<br />participant: 29<br />block: 3<br />condition: df1\", \"parallel<br />participant: 31<br />block: 3<br />condition: df2\", \"parallel<br />participant: 32<br />block: 3<br />condition: df1|df2\", \"parallel<br />participant: 34<br />block: 3<br />condition: df1\", \"parallel<br />participant: 35<br />block: 3<br />condition: df1|df2\", \"parallel<br />participant: 36<br />block: 3<br />condition: df2\", \"parallel<br />participant: 37<br />block: 3<br />condition: df1\", \"parallel<br />participant: 42<br />block: 3<br />condition: df2\", \"parallel<br />participant: 43<br />block: 3<br />condition: df1\", \"parallel<br />participant: 44<br />block: 3<br />condition: df1|df2\"], \"type\": \"violin\", \"x\": [4, 4, 4, 4, 4, 4, 4, 4, 4, 4, 4, 4, 4, 4, 4, 4, 4, 4, 4, 4, 4, 4, 4, 4, 4, 4, 4, 4, 4, 4], \"y\": [34.12668864356361, 7.9533024598138296, 28.21815688889617, 77.36564212486267, 17.227964853255994, 28.92210695646905, 5.9165862003150975, 22.83020621801534, 8.731583318829768, 40.386758603693316, 4.016926490203685, 2.988979276673602, 11.91911382666907, 14.537881383631165, 27.91660603567037, 2.8482689665322227, 4.8784051879731205, 3.1996359782374304, 6.4806577554356055, 22.170270921201435, 2.0549762478819185, 2.458859823851168, 33.91290134575171, 4.30839407397218, 20.96316808135279, 5.063803674731887, 255.40344176609887, 12.195517559046614, 9.5613543100365, 54.188373260851705]}, {\"box\": {\"line\": {\"color\": \"dimgray\"}, \"visible\": true, \"width\": 0.5}, \"hoverinfo\": \"y+text\", \"jitter\": 0.1, \"legendgroup\": \"orthogonal\", \"line\": {\"color\": \"salmon\"}, \"meanline\": {\"color\": \"dimgray\", \"visible\": true}, \"name\": \"orthogonal\", \"pointpos\": 0.5, \"points\": \"all\", \"scalegroup\": \"orthogonal\", \"scalemode\": \"count\", \"showlegend\": false, \"side\": \"positive\", \"spanmode\": \"hard\", \"text\": [\"orthogonal<br />participant: 9<br />block: 3<br />condition: df1|df2\", \"orthogonal<br />participant: 10<br />block: 3<br />condition: df1|df2\", \"orthogonal<br />participant: 11<br />block: 3<br />condition: df1|df2\", \"orthogonal<br />participant: 12<br />block: 3<br />condition: df2\", \"orthogonal<br />participant: 13<br />block: 3<br />condition: df1\", \"orthogonal<br />participant: 14<br />block: 3<br />condition: df1\", \"orthogonal<br />participant: 15<br />block: 3<br />condition: df1|df2\", \"orthogonal<br />participant: 16<br />block: 3<br />condition: df1|df2\", \"orthogonal<br />participant: 17<br />block: 3<br />condition: df1|df2\", \"orthogonal<br />participant: 18<br />block: 3<br />condition: df1|df2\", \"orthogonal<br />participant: 19<br />block: 3<br />condition: df1|df2\", \"orthogonal<br />participant: 20<br />block: 3<br />condition: df2\", \"orthogonal<br />participant: 21<br />block: 3<br />condition: df1|df2\", \"orthogonal<br />participant: 22<br />block: 3<br />condition: df2\", \"orthogonal<br />participant: 23<br />block: 3<br />condition: df1|df2\", \"orthogonal<br />participant: 24<br />block: 3<br />condition: df2\", \"orthogonal<br />participant: 25<br />block: 3<br />condition: df2\", \"orthogonal<br />participant: 26<br />block: 3<br />condition: df1|df2\", \"orthogonal<br />participant: 27<br />block: 3<br />condition: df1|df2\", \"orthogonal<br />participant: 28<br />block: 3<br />condition: df1|df2\", \"orthogonal<br />participant: 29<br />block: 3<br />condition: df1\", \"orthogonal<br />participant: 31<br />block: 3<br />condition: df2\", \"orthogonal<br />participant: 32<br />block: 3<br />condition: df1|df2\", \"orthogonal<br />participant: 34<br />block: 3<br />condition: df1\", \"orthogonal<br />participant: 35<br />block: 3<br />condition: df1|df2\", \"orthogonal<br />participant: 36<br />block: 3<br />condition: df2\", \"orthogonal<br />participant: 37<br />block: 3<br />condition: df1\", \"orthogonal<br />participant: 42<br />block: 3<br />condition: df2\", \"orthogonal<br />participant: 43<br />block: 3<br />condition: df1\", \"orthogonal<br />participant: 44<br />block: 3<br />condition: df1|df2\"], \"type\": \"violin\", \"x\": [4, 4, 4, 4, 4, 4, 4, 4, 4, 4, 4, 4, 4, 4, 4, 4, 4, 4, 4, 4, 4, 4, 4, 4, 4, 4, 4, 4, 4, 4], \"y\": [2.3533400121671617, 5.261341730807491, 1.1516040901944096, 2.6171535961123427, 4.3261171904423765, 2.601381330533353, 16.231592094329365, 3.7735574381157706, 0.8800668008466676, 0.7532415498964434, 0.3899344507673016, 4.463519510539242, 0.3858877121797816, 26.016719778028392, 0.7021739345847816, 0.3683901332401893, 2.8637016341124477, 0.5037226899915187, 0.5118076127356105, 3.1849500402651585, 0.4704733276044813, 1.2517049365516104, 3.8853862745501937, 2.649831827081333, 9.220017683331935, 3.184248086551277, 2.2230092794105025, 3.3309817244606457, 1.2594103332538638, 2.1414454589634984]}],\n                        {\"hovermode\": \"closest\", \"legend\": {\"orientation\": \"v\", \"title\": {\"text\": \"PROJECTION\"}, \"xanchor\": \"right\", \"yanchor\": \"top\"}, \"margin\": {\"b\": 40, \"l\": 40, \"r\": 10, \"t\": 40}, \"template\": {\"data\": {\"bar\": [{\"error_x\": {\"color\": \"#2a3f5f\"}, \"error_y\": {\"color\": \"#2a3f5f\"}, \"marker\": {\"line\": {\"color\": \"#E5ECF6\", \"width\": 0.5}}, \"type\": \"bar\"}], \"barpolar\": [{\"marker\": {\"line\": {\"color\": \"#E5ECF6\", \"width\": 0.5}}, \"type\": \"barpolar\"}], \"carpet\": [{\"aaxis\": {\"endlinecolor\": \"#2a3f5f\", \"gridcolor\": \"white\", \"linecolor\": \"white\", \"minorgridcolor\": \"white\", \"startlinecolor\": \"#2a3f5f\"}, \"baxis\": {\"endlinecolor\": \"#2a3f5f\", \"gridcolor\": \"white\", \"linecolor\": \"white\", \"minorgridcolor\": \"white\", \"startlinecolor\": \"#2a3f5f\"}, \"type\": \"carpet\"}], \"choropleth\": [{\"colorbar\": {\"outlinewidth\": 0, \"ticks\": \"\"}, \"type\": \"choropleth\"}], \"contour\": [{\"colorbar\": {\"outlinewidth\": 0, \"ticks\": \"\"}, \"colorscale\": [[0.0, \"#0d0887\"], [0.1111111111111111, \"#46039f\"], [0.2222222222222222, \"#7201a8\"], [0.3333333333333333, \"#9c179e\"], [0.4444444444444444, \"#bd3786\"], [0.5555555555555556, \"#d8576b\"], [0.6666666666666666, \"#ed7953\"], [0.7777777777777778, \"#fb9f3a\"], [0.8888888888888888, \"#fdca26\"], [1.0, \"#f0f921\"]], \"type\": \"contour\"}], \"contourcarpet\": [{\"colorbar\": {\"outlinewidth\": 0, \"ticks\": \"\"}, \"type\": \"contourcarpet\"}], \"heatmap\": [{\"colorbar\": {\"outlinewidth\": 0, \"ticks\": \"\"}, \"colorscale\": [[0.0, \"#0d0887\"], [0.1111111111111111, \"#46039f\"], [0.2222222222222222, \"#7201a8\"], [0.3333333333333333, \"#9c179e\"], [0.4444444444444444, \"#bd3786\"], [0.5555555555555556, \"#d8576b\"], [0.6666666666666666, \"#ed7953\"], [0.7777777777777778, \"#fb9f3a\"], [0.8888888888888888, \"#fdca26\"], [1.0, \"#f0f921\"]], \"type\": \"heatmap\"}], \"heatmapgl\": [{\"colorbar\": {\"outlinewidth\": 0, \"ticks\": \"\"}, \"colorscale\": [[0.0, \"#0d0887\"], [0.1111111111111111, \"#46039f\"], [0.2222222222222222, \"#7201a8\"], [0.3333333333333333, \"#9c179e\"], [0.4444444444444444, \"#bd3786\"], [0.5555555555555556, \"#d8576b\"], [0.6666666666666666, \"#ed7953\"], [0.7777777777777778, \"#fb9f3a\"], [0.8888888888888888, \"#fdca26\"], [1.0, \"#f0f921\"]], \"type\": \"heatmapgl\"}], \"histogram\": [{\"marker\": {\"colorbar\": {\"outlinewidth\": 0, \"ticks\": \"\"}}, \"type\": \"histogram\"}], \"histogram2d\": [{\"colorbar\": {\"outlinewidth\": 0, \"ticks\": \"\"}, \"colorscale\": [[0.0, \"#0d0887\"], [0.1111111111111111, \"#46039f\"], [0.2222222222222222, \"#7201a8\"], [0.3333333333333333, \"#9c179e\"], [0.4444444444444444, \"#bd3786\"], [0.5555555555555556, \"#d8576b\"], [0.6666666666666666, \"#ed7953\"], [0.7777777777777778, \"#fb9f3a\"], [0.8888888888888888, \"#fdca26\"], [1.0, \"#f0f921\"]], \"type\": \"histogram2d\"}], \"histogram2dcontour\": [{\"colorbar\": {\"outlinewidth\": 0, \"ticks\": \"\"}, \"colorscale\": [[0.0, \"#0d0887\"], [0.1111111111111111, \"#46039f\"], [0.2222222222222222, \"#7201a8\"], [0.3333333333333333, \"#9c179e\"], [0.4444444444444444, \"#bd3786\"], [0.5555555555555556, \"#d8576b\"], [0.6666666666666666, \"#ed7953\"], [0.7777777777777778, \"#fb9f3a\"], [0.8888888888888888, \"#fdca26\"], [1.0, \"#f0f921\"]], \"type\": \"histogram2dcontour\"}], \"mesh3d\": [{\"colorbar\": {\"outlinewidth\": 0, \"ticks\": \"\"}, \"type\": \"mesh3d\"}], \"parcoords\": [{\"line\": {\"colorbar\": {\"outlinewidth\": 0, \"ticks\": \"\"}}, \"type\": \"parcoords\"}], \"pie\": [{\"automargin\": true, \"type\": \"pie\"}], \"scatter\": [{\"marker\": {\"colorbar\": {\"outlinewidth\": 0, \"ticks\": \"\"}}, \"type\": \"scatter\"}], \"scatter3d\": [{\"line\": {\"colorbar\": {\"outlinewidth\": 0, \"ticks\": \"\"}}, \"marker\": {\"colorbar\": {\"outlinewidth\": 0, \"ticks\": \"\"}}, \"type\": \"scatter3d\"}], \"scattercarpet\": [{\"marker\": {\"colorbar\": {\"outlinewidth\": 0, \"ticks\": \"\"}}, \"type\": \"scattercarpet\"}], \"scattergeo\": [{\"marker\": {\"colorbar\": {\"outlinewidth\": 0, \"ticks\": \"\"}}, \"type\": \"scattergeo\"}], \"scattergl\": [{\"marker\": {\"colorbar\": {\"outlinewidth\": 0, \"ticks\": \"\"}}, \"type\": \"scattergl\"}], \"scattermapbox\": [{\"marker\": {\"colorbar\": {\"outlinewidth\": 0, \"ticks\": \"\"}}, \"type\": \"scattermapbox\"}], \"scatterpolar\": [{\"marker\": {\"colorbar\": {\"outlinewidth\": 0, \"ticks\": \"\"}}, \"type\": \"scatterpolar\"}], \"scatterpolargl\": [{\"marker\": {\"colorbar\": {\"outlinewidth\": 0, \"ticks\": \"\"}}, \"type\": \"scatterpolargl\"}], \"scatterternary\": [{\"marker\": {\"colorbar\": {\"outlinewidth\": 0, \"ticks\": \"\"}}, \"type\": \"scatterternary\"}], \"surface\": [{\"colorbar\": {\"outlinewidth\": 0, \"ticks\": \"\"}, \"colorscale\": [[0.0, \"#0d0887\"], [0.1111111111111111, \"#46039f\"], [0.2222222222222222, \"#7201a8\"], [0.3333333333333333, \"#9c179e\"], [0.4444444444444444, \"#bd3786\"], [0.5555555555555556, \"#d8576b\"], [0.6666666666666666, \"#ed7953\"], [0.7777777777777778, \"#fb9f3a\"], [0.8888888888888888, \"#fdca26\"], [1.0, \"#f0f921\"]], \"type\": \"surface\"}], \"table\": [{\"cells\": {\"fill\": {\"color\": \"#EBF0F8\"}, \"line\": {\"color\": \"white\"}}, \"header\": {\"fill\": {\"color\": \"#C8D4E3\"}, \"line\": {\"color\": \"white\"}}, \"type\": \"table\"}]}, \"layout\": {\"annotationdefaults\": {\"arrowcolor\": \"#2a3f5f\", \"arrowhead\": 0, \"arrowwidth\": 1}, \"coloraxis\": {\"colorbar\": {\"outlinewidth\": 0, \"ticks\": \"\"}}, \"colorscale\": {\"diverging\": [[0, \"#8e0152\"], [0.1, \"#c51b7d\"], [0.2, \"#de77ae\"], [0.3, \"#f1b6da\"], [0.4, \"#fde0ef\"], [0.5, \"#f7f7f7\"], [0.6, \"#e6f5d0\"], [0.7, \"#b8e186\"], [0.8, \"#7fbc41\"], [0.9, \"#4d9221\"], [1, \"#276419\"]], \"sequential\": [[0.0, \"#0d0887\"], [0.1111111111111111, \"#46039f\"], [0.2222222222222222, \"#7201a8\"], [0.3333333333333333, \"#9c179e\"], [0.4444444444444444, \"#bd3786\"], [0.5555555555555556, \"#d8576b\"], [0.6666666666666666, \"#ed7953\"], [0.7777777777777778, \"#fb9f3a\"], [0.8888888888888888, \"#fdca26\"], [1.0, \"#f0f921\"]], \"sequentialminus\": [[0.0, \"#0d0887\"], [0.1111111111111111, \"#46039f\"], [0.2222222222222222, \"#7201a8\"], [0.3333333333333333, \"#9c179e\"], [0.4444444444444444, \"#bd3786\"], [0.5555555555555556, \"#d8576b\"], [0.6666666666666666, \"#ed7953\"], [0.7777777777777778, \"#fb9f3a\"], [0.8888888888888888, \"#fdca26\"], [1.0, \"#f0f921\"]]}, \"colorway\": [\"#636efa\", \"#EF553B\", \"#00cc96\", \"#ab63fa\", \"#FFA15A\", \"#19d3f3\", \"#FF6692\", \"#B6E880\", \"#FF97FF\", \"#FECB52\"], \"font\": {\"color\": \"#2a3f5f\"}, \"geo\": {\"bgcolor\": \"white\", \"lakecolor\": \"white\", \"landcolor\": \"#E5ECF6\", \"showlakes\": true, \"showland\": true, \"subunitcolor\": \"white\"}, \"hoverlabel\": {\"align\": \"left\"}, \"hovermode\": \"closest\", \"mapbox\": {\"style\": \"light\"}, \"paper_bgcolor\": \"white\", \"plot_bgcolor\": \"#E5ECF6\", \"polar\": {\"angularaxis\": {\"gridcolor\": \"white\", \"linecolor\": \"white\", \"ticks\": \"\"}, \"bgcolor\": \"#E5ECF6\", \"radialaxis\": {\"gridcolor\": \"white\", \"linecolor\": \"white\", \"ticks\": \"\"}}, \"scene\": {\"xaxis\": {\"backgroundcolor\": \"#E5ECF6\", \"gridcolor\": \"white\", \"gridwidth\": 2, \"linecolor\": \"white\", \"showbackground\": true, \"ticks\": \"\", \"zerolinecolor\": \"white\"}, \"yaxis\": {\"backgroundcolor\": \"#E5ECF6\", \"gridcolor\": \"white\", \"gridwidth\": 2, \"linecolor\": \"white\", \"showbackground\": true, \"ticks\": \"\", \"zerolinecolor\": \"white\"}, \"zaxis\": {\"backgroundcolor\": \"#E5ECF6\", \"gridcolor\": \"white\", \"gridwidth\": 2, \"linecolor\": \"white\", \"showbackground\": true, \"ticks\": \"\", \"zerolinecolor\": \"white\"}}, \"shapedefaults\": {\"line\": {\"color\": \"#2a3f5f\"}}, \"ternary\": {\"aaxis\": {\"gridcolor\": \"white\", \"linecolor\": \"white\", \"ticks\": \"\"}, \"baxis\": {\"gridcolor\": \"white\", \"linecolor\": \"white\", \"ticks\": \"\"}, \"bgcolor\": \"#E5ECF6\", \"caxis\": {\"gridcolor\": \"white\", \"linecolor\": \"white\", \"ticks\": \"\"}}, \"title\": {\"x\": 0.05}, \"xaxis\": {\"automargin\": true, \"gridcolor\": \"white\", \"linecolor\": \"white\", \"ticks\": \"\", \"title\": {\"standoff\": 15}, \"zerolinecolor\": \"white\", \"zerolinewidth\": 2}, \"yaxis\": {\"automargin\": true, \"gridcolor\": \"white\", \"linecolor\": \"white\", \"ticks\": \"\", \"title\": {\"standoff\": 15}, \"zerolinecolor\": \"white\", \"zerolinewidth\": 2}}}, \"violingap\": 0, \"violingroupgap\": 0, \"violinmode\": \"overlay\", \"width\": 1000, \"xaxis\": {\"ticktext\": [\"pre\", \"df1|df2\", \"post\", \"df2\", \"df1\"], \"tickvals\": [0, 3, 4, 2, 1], \"title\": {\"text\": \"Task\"}}, \"yaxis\": {\"title\": {\"text\": \"Variance\"}, \"zeroline\": true, \"zerolinecolor\": \"LightPink\", \"zerolinewidth\": 2}},\n                        {\"responsive\": true}\n                    ).then(function(){\n                            \nvar gd = document.getElementById('bb8bedf3-5663-43bf-a689-6f48110e6a3a');\nvar x = new MutationObserver(function (mutations, observer) {{\n        var display = window.getComputedStyle(gd).display;\n        if (!display || display === 'none') {{\n            console.log([gd, 'removed!']);\n            Plotly.purge(gd);\n            observer.disconnect();\n        }}\n}});\n\n// Listen for the removal of the full notebook cells\nvar notebookContainer = gd.closest('#notebook-container');\nif (notebookContainer) {{\n    x.observe(notebookContainer, {childList: true});\n}}\n\n// Listen for the clearing of the current output cell\nvar outputEl = gd.closest('.output');\nif (outputEl) {{\n    x.observe(outputEl, {childList: true});\n}}\n\n                        })\n                };\n                });\n            </script>\n        </div>"
     },
     "metadata": {}
    }
   ],
   "source": [
    "fig_proj_violin = plot.generate_violin_figure(df.rename(columns={'parallel variance': 'parallel', 'orthogonal variance': 'orthogonal'}), columns=['parallel', 'orthogonal'], ytitle='Variance', legend_title=\"PROJECTION\", width=1000)\n",
    "fig_proj_violin.show()"
   ]
  },
  {
   "cell_type": "markdown",
   "metadata": {},
   "source": [
    "## Inferential Statistics\n",
    "### Wilcoxon Rank Test"
   ]
  },
  {
   "cell_type": "code",
   "execution_count": 6,
   "metadata": {
    "tags": []
   },
   "outputs": [
    {
     "output_type": "stream",
     "name": "stdout",
     "text": "The overall comparison indicates that the parallel projection scores were higher than the orthogonal projection scores across conditions, Z=3524.0, p = 0.00000.\n"
    },
    {
     "output_type": "execute_result",
     "data": {
      "text/plain": "                   decision  test statistic             p\ncondition task                                           \noverall                True          3524.0  1.416646e-09\ndf1       pre         False            17.0  1.093750e-01\n          df1          True            19.0  4.687500e-02\n          post         True            21.0  1.562500e-02\ndf2       pre          True            35.0  7.812500e-03\n          df2          True            33.0  1.953125e-02\n          post        False            27.0  1.250000e-01\ndf1|df2   pre          True           108.0  1.931763e-02\n          df1|df2     False            95.0  8.767700e-02\n          post         True           130.0  2.136230e-04",
      "text/html": "<div>\n<style scoped>\n    .dataframe tbody tr th:only-of-type {\n        vertical-align: middle;\n    }\n\n    .dataframe tbody tr th {\n        vertical-align: top;\n    }\n\n    .dataframe thead th {\n        text-align: right;\n    }\n</style>\n<table border=\"1\" class=\"dataframe\">\n  <thead>\n    <tr style=\"text-align: right;\">\n      <th></th>\n      <th></th>\n      <th>decision</th>\n      <th>test statistic</th>\n      <th>p</th>\n    </tr>\n    <tr>\n      <th>condition</th>\n      <th>task</th>\n      <th></th>\n      <th></th>\n      <th></th>\n    </tr>\n  </thead>\n  <tbody>\n    <tr>\n      <th>overall</th>\n      <th></th>\n      <td>True</td>\n      <td>3524.0</td>\n      <td>1.416646e-09</td>\n    </tr>\n    <tr>\n      <th rowspan=\"3\" valign=\"top\">df1</th>\n      <th>pre</th>\n      <td>False</td>\n      <td>17.0</td>\n      <td>1.093750e-01</td>\n    </tr>\n    <tr>\n      <th>df1</th>\n      <td>True</td>\n      <td>19.0</td>\n      <td>4.687500e-02</td>\n    </tr>\n    <tr>\n      <th>post</th>\n      <td>True</td>\n      <td>21.0</td>\n      <td>1.562500e-02</td>\n    </tr>\n    <tr>\n      <th rowspan=\"3\" valign=\"top\">df2</th>\n      <th>pre</th>\n      <td>True</td>\n      <td>35.0</td>\n      <td>7.812500e-03</td>\n    </tr>\n    <tr>\n      <th>df2</th>\n      <td>True</td>\n      <td>33.0</td>\n      <td>1.953125e-02</td>\n    </tr>\n    <tr>\n      <th>post</th>\n      <td>False</td>\n      <td>27.0</td>\n      <td>1.250000e-01</td>\n    </tr>\n    <tr>\n      <th rowspan=\"3\" valign=\"top\">df1|df2</th>\n      <th>pre</th>\n      <td>True</td>\n      <td>108.0</td>\n      <td>1.931763e-02</td>\n    </tr>\n    <tr>\n      <th>df1|df2</th>\n      <td>False</td>\n      <td>95.0</td>\n      <td>8.767700e-02</td>\n    </tr>\n    <tr>\n      <th>post</th>\n      <td>True</td>\n      <td>130.0</td>\n      <td>2.136230e-04</td>\n    </tr>\n  </tbody>\n</table>\n</div>"
     },
     "metadata": {},
     "execution_count": 6
    }
   ],
   "source": [
    "# Overall comparison.\n",
    "decision, w, p = analysis.wilcoxon_rank_test(df.rename(columns={'parallel variance': 'parallel', 'orthogonal variance': 'orthogonal'}))\n",
    "\n",
    "print(f\"The overall comparison indicates that the parallel projection scores were {(not decision) * 'not '}higher than the orthogonal projection scores across conditions, Z={w}, p = {p:.5f}.\")\n",
    "wilcoxon_results = pd.DataFrame({'decision': decision, 'test statistic': w, 'p': p}, index=pd.MultiIndex.from_tuples([('overall', '')], names=('condition', 'task')))\n",
    "# Per condition and task.\n",
    "# ToDo: Correct p-values for multiple testing?\n",
    "wilcoxon_results = wilcoxon_results.append(df.groupby(['condition', 'task']).apply(lambda x: analysis.wilcoxon_rank_test(x.rename(columns={'parallel variance': 'parallel', 'orthogonal variance': 'orthogonal'}))).apply(pd.Series).rename(columns={0: 'decision', 1: 'test statistic', 2: 'p'}))\n",
    "\n",
    "wilcoxon_results"
   ]
  },
  {
   "cell_type": "markdown",
   "metadata": {},
   "source": [
    "## Visual inspection of Synergy Index"
   ]
  },
  {
   "cell_type": "code",
   "execution_count": 7,
   "metadata": {
    "tags": []
   },
   "outputs": [
    {
     "output_type": "stream",
     "name": "stdout",
     "text": "INFO:root:Written figure to /home/olaf/code/NeuroPsyResearchAnalysis/reports/figures/line-plot-dVz_by_user.pdf\n"
    },
    {
     "output_type": "display_data",
     "data": {
      "text/plain": "<Figure size 658.4x288 with 3 Axes>",
      "image/svg+xml": "<?xml version=\"1.0\" encoding=\"utf-8\" standalone=\"no\"?>\n<!DOCTYPE svg PUBLIC \"-//W3C//DTD SVG 1.1//EN\"\n  \"http://www.w3.org/Graphics/SVG/1.1/DTD/svg11.dtd\">\n<!-- Created with matplotlib (https://matplotlib.org/) -->\n<svg height=\"519.191875pt\" version=\"1.1\" viewBox=\"0 0 644.896993 519.191875\" width=\"644.896993pt\" xmlns=\"http://www.w3.org/2000/svg\" xmlns:xlink=\"http://www.w3.org/1999/xlink\">\n <metadata>\n  <rdf:RDF xmlns:cc=\"http://creativecommons.org/ns#\" xmlns:dc=\"http://purl.org/dc/elements/1.1/\" xmlns:rdf=\"http://www.w3.org/1999/02/22-rdf-syntax-ns#\">\n   <cc:Work>\n    <dc:type rdf:resource=\"http://purl.org/dc/dcmitype/StillImage\"/>\n    <dc:date>2020-08-31T00:50:25.022168</dc:date>\n    <dc:format>image/svg+xml</dc:format>\n    <dc:creator>\n     <cc:Agent>\n      <dc:title>Matplotlib v3.3.1, https://matplotlib.org/</dc:title>\n     </cc:Agent>\n    </dc:creator>\n   </cc:Work>\n  </rdf:RDF>\n </metadata>\n <defs>\n  <style type=\"text/css\">*{stroke-linecap:butt;stroke-linejoin:round;}</style>\n </defs>\n <g id=\"figure_1\">\n  <g id=\"patch_1\">\n   <path d=\"M 0 519.191875 \nL 644.896993 519.191875 \nL 644.896993 0 \nL 0 0 \nz\n\" style=\"fill:#ffffff;\"/>\n  </g>\n  <g id=\"axes_1\">\n   <g id=\"patch_2\">\n    <path d=\"M 59.024844 354.135937 \nL 225.042063 354.135937 \nL 225.042063 144.555937 \nL 59.024844 144.555937 \nz\n\" style=\"fill:#eaeaf2;\"/>\n   </g>\n   <g id=\"matplotlib.axis_1\">\n    <g id=\"xtick_1\">\n     <g id=\"text_1\">\n      <!-- 1 -->\n      <g style=\"fill:#262626;\" transform=\"translate(83.195005 371.994219)scale(0.11 -0.11)\">\n       <defs>\n        <path d=\"M 12.40625 8.296875 \nL 28.515625 8.296875 \nL 28.515625 63.921875 \nL 10.984375 60.40625 \nL 10.984375 69.390625 \nL 28.421875 72.90625 \nL 38.28125 72.90625 \nL 38.28125 8.296875 \nL 54.390625 8.296875 \nL 54.390625 0 \nL 12.40625 0 \nz\n\" id=\"DejaVuSans-49\"/>\n       </defs>\n       <use xlink:href=\"#DejaVuSans-49\"/>\n      </g>\n     </g>\n    </g>\n    <g id=\"xtick_2\">\n     <g id=\"text_2\">\n      <!-- 2 -->\n      <g style=\"fill:#262626;\" transform=\"translate(138.534079 371.994219)scale(0.11 -0.11)\">\n       <defs>\n        <path d=\"M 19.1875 8.296875 \nL 53.609375 8.296875 \nL 53.609375 0 \nL 7.328125 0 \nL 7.328125 8.296875 \nQ 12.9375 14.109375 22.625 23.890625 \nQ 32.328125 33.6875 34.8125 36.53125 \nQ 39.546875 41.84375 41.421875 45.53125 \nQ 43.3125 49.21875 43.3125 52.78125 \nQ 43.3125 58.59375 39.234375 62.25 \nQ 35.15625 65.921875 28.609375 65.921875 \nQ 23.96875 65.921875 18.8125 64.3125 \nQ 13.671875 62.703125 7.8125 59.421875 \nL 7.8125 69.390625 \nQ 13.765625 71.78125 18.9375 73 \nQ 24.125 74.21875 28.421875 74.21875 \nQ 39.75 74.21875 46.484375 68.546875 \nQ 53.21875 62.890625 53.21875 53.421875 \nQ 53.21875 48.921875 51.53125 44.890625 \nQ 49.859375 40.875 45.40625 35.40625 \nQ 44.1875 33.984375 37.640625 27.21875 \nQ 31.109375 20.453125 19.1875 8.296875 \nz\n\" id=\"DejaVuSans-50\"/>\n       </defs>\n       <use xlink:href=\"#DejaVuSans-50\"/>\n      </g>\n     </g>\n    </g>\n    <g id=\"xtick_3\">\n     <g id=\"text_3\">\n      <!-- 3 -->\n      <g style=\"fill:#262626;\" transform=\"translate(193.873152 371.994219)scale(0.11 -0.11)\">\n       <defs>\n        <path d=\"M 40.578125 39.3125 \nQ 47.65625 37.796875 51.625 33 \nQ 55.609375 28.21875 55.609375 21.1875 \nQ 55.609375 10.40625 48.1875 4.484375 \nQ 40.765625 -1.421875 27.09375 -1.421875 \nQ 22.515625 -1.421875 17.65625 -0.515625 \nQ 12.796875 0.390625 7.625 2.203125 \nL 7.625 11.71875 \nQ 11.71875 9.328125 16.59375 8.109375 \nQ 21.484375 6.890625 26.8125 6.890625 \nQ 36.078125 6.890625 40.9375 10.546875 \nQ 45.796875 14.203125 45.796875 21.1875 \nQ 45.796875 27.640625 41.28125 31.265625 \nQ 36.765625 34.90625 28.71875 34.90625 \nL 20.21875 34.90625 \nL 20.21875 43.015625 \nL 29.109375 43.015625 \nQ 36.375 43.015625 40.234375 45.921875 \nQ 44.09375 48.828125 44.09375 54.296875 \nQ 44.09375 59.90625 40.109375 62.90625 \nQ 36.140625 65.921875 28.71875 65.921875 \nQ 24.65625 65.921875 20.015625 65.03125 \nQ 15.375 64.15625 9.8125 62.3125 \nL 9.8125 71.09375 \nQ 15.4375 72.65625 20.34375 73.4375 \nQ 25.25 74.21875 29.59375 74.21875 \nQ 40.828125 74.21875 47.359375 69.109375 \nQ 53.90625 64.015625 53.90625 55.328125 \nQ 53.90625 49.265625 50.4375 45.09375 \nQ 46.96875 40.921875 40.578125 39.3125 \nz\n\" id=\"DejaVuSans-51\"/>\n       </defs>\n       <use xlink:href=\"#DejaVuSans-51\"/>\n      </g>\n     </g>\n    </g>\n    <g id=\"text_4\">\n     <!-- block -->\n     <g style=\"fill:#262626;\" transform=\"translate(126.112829 387.4)scale(0.12 -0.12)\">\n      <defs>\n       <path d=\"M 48.6875 27.296875 \nQ 48.6875 37.203125 44.609375 42.84375 \nQ 40.53125 48.484375 33.40625 48.484375 \nQ 26.265625 48.484375 22.1875 42.84375 \nQ 18.109375 37.203125 18.109375 27.296875 \nQ 18.109375 17.390625 22.1875 11.75 \nQ 26.265625 6.109375 33.40625 6.109375 \nQ 40.53125 6.109375 44.609375 11.75 \nQ 48.6875 17.390625 48.6875 27.296875 \nz\nM 18.109375 46.390625 \nQ 20.953125 51.265625 25.265625 53.625 \nQ 29.59375 56 35.59375 56 \nQ 45.5625 56 51.78125 48.09375 \nQ 58.015625 40.1875 58.015625 27.296875 \nQ 58.015625 14.40625 51.78125 6.484375 \nQ 45.5625 -1.421875 35.59375 -1.421875 \nQ 29.59375 -1.421875 25.265625 0.953125 \nQ 20.953125 3.328125 18.109375 8.203125 \nL 18.109375 0 \nL 9.078125 0 \nL 9.078125 75.984375 \nL 18.109375 75.984375 \nz\n\" id=\"DejaVuSans-98\"/>\n       <path d=\"M 9.421875 75.984375 \nL 18.40625 75.984375 \nL 18.40625 0 \nL 9.421875 0 \nz\n\" id=\"DejaVuSans-108\"/>\n       <path d=\"M 30.609375 48.390625 \nQ 23.390625 48.390625 19.1875 42.75 \nQ 14.984375 37.109375 14.984375 27.296875 \nQ 14.984375 17.484375 19.15625 11.84375 \nQ 23.34375 6.203125 30.609375 6.203125 \nQ 37.796875 6.203125 41.984375 11.859375 \nQ 46.1875 17.53125 46.1875 27.296875 \nQ 46.1875 37.015625 41.984375 42.703125 \nQ 37.796875 48.390625 30.609375 48.390625 \nz\nM 30.609375 56 \nQ 42.328125 56 49.015625 48.375 \nQ 55.71875 40.765625 55.71875 27.296875 \nQ 55.71875 13.875 49.015625 6.21875 \nQ 42.328125 -1.421875 30.609375 -1.421875 \nQ 18.84375 -1.421875 12.171875 6.21875 \nQ 5.515625 13.875 5.515625 27.296875 \nQ 5.515625 40.765625 12.171875 48.375 \nQ 18.84375 56 30.609375 56 \nz\n\" id=\"DejaVuSans-111\"/>\n       <path d=\"M 48.78125 52.59375 \nL 48.78125 44.1875 \nQ 44.96875 46.296875 41.140625 47.34375 \nQ 37.3125 48.390625 33.40625 48.390625 \nQ 24.65625 48.390625 19.8125 42.84375 \nQ 14.984375 37.3125 14.984375 27.296875 \nQ 14.984375 17.28125 19.8125 11.734375 \nQ 24.65625 6.203125 33.40625 6.203125 \nQ 37.3125 6.203125 41.140625 7.25 \nQ 44.96875 8.296875 48.78125 10.40625 \nL 48.78125 2.09375 \nQ 45.015625 0.34375 40.984375 -0.53125 \nQ 36.96875 -1.421875 32.421875 -1.421875 \nQ 20.0625 -1.421875 12.78125 6.34375 \nQ 5.515625 14.109375 5.515625 27.296875 \nQ 5.515625 40.671875 12.859375 48.328125 \nQ 20.21875 56 33.015625 56 \nQ 37.15625 56 41.109375 55.140625 \nQ 45.0625 54.296875 48.78125 52.59375 \nz\n\" id=\"DejaVuSans-99\"/>\n       <path d=\"M 9.078125 75.984375 \nL 18.109375 75.984375 \nL 18.109375 31.109375 \nL 44.921875 54.6875 \nL 56.390625 54.6875 \nL 27.390625 29.109375 \nL 57.625 0 \nL 45.90625 0 \nL 18.109375 26.703125 \nL 18.109375 0 \nL 9.078125 0 \nz\n\" id=\"DejaVuSans-107\"/>\n      </defs>\n      <use xlink:href=\"#DejaVuSans-98\"/>\n      <use x=\"63.476562\" xlink:href=\"#DejaVuSans-108\"/>\n      <use x=\"91.259766\" xlink:href=\"#DejaVuSans-111\"/>\n      <use x=\"152.441406\" xlink:href=\"#DejaVuSans-99\"/>\n      <use x=\"207.421875\" xlink:href=\"#DejaVuSans-107\"/>\n     </g>\n    </g>\n   </g>\n   <g id=\"matplotlib.axis_2\">\n    <g id=\"ytick_1\">\n     <g id=\"line2d_1\">\n      <path clip-path=\"url(#p96af346509)\" d=\"M 59.024844 353.519318 \nL 225.042063 353.519318 \n\" style=\"fill:none;stroke:#ffffff;stroke-linecap:round;\"/>\n     </g>\n     <g id=\"text_5\">\n      <!-- −1.0 -->\n      <g style=\"fill:#262626;\" transform=\"translate(22.81375 357.698458)scale(0.11 -0.11)\">\n       <defs>\n        <path d=\"M 10.59375 35.5 \nL 73.1875 35.5 \nL 73.1875 27.203125 \nL 10.59375 27.203125 \nz\n\" id=\"DejaVuSans-8722\"/>\n        <path d=\"M 10.6875 12.40625 \nL 21 12.40625 \nL 21 0 \nL 10.6875 0 \nz\n\" id=\"DejaVuSans-46\"/>\n        <path d=\"M 31.78125 66.40625 \nQ 24.171875 66.40625 20.328125 58.90625 \nQ 16.5 51.421875 16.5 36.375 \nQ 16.5 21.390625 20.328125 13.890625 \nQ 24.171875 6.390625 31.78125 6.390625 \nQ 39.453125 6.390625 43.28125 13.890625 \nQ 47.125 21.390625 47.125 36.375 \nQ 47.125 51.421875 43.28125 58.90625 \nQ 39.453125 66.40625 31.78125 66.40625 \nz\nM 31.78125 74.21875 \nQ 44.046875 74.21875 50.515625 64.515625 \nQ 56.984375 54.828125 56.984375 36.375 \nQ 56.984375 17.96875 50.515625 8.265625 \nQ 44.046875 -1.421875 31.78125 -1.421875 \nQ 19.53125 -1.421875 13.0625 8.265625 \nQ 6.59375 17.96875 6.59375 36.375 \nQ 6.59375 54.828125 13.0625 64.515625 \nQ 19.53125 74.21875 31.78125 74.21875 \nz\n\" id=\"DejaVuSans-48\"/>\n       </defs>\n       <use xlink:href=\"#DejaVuSans-8722\"/>\n       <use x=\"83.789062\" xlink:href=\"#DejaVuSans-49\"/>\n       <use x=\"147.412109\" xlink:href=\"#DejaVuSans-46\"/>\n       <use x=\"179.199219\" xlink:href=\"#DejaVuSans-48\"/>\n      </g>\n     </g>\n    </g>\n    <g id=\"ytick_2\">\n     <g id=\"line2d_2\">\n      <path clip-path=\"url(#p96af346509)\" d=\"M 59.024844 323.94673 \nL 225.042063 323.94673 \n\" style=\"fill:none;stroke:#ffffff;stroke-linecap:round;\"/>\n     </g>\n     <g id=\"text_6\">\n      <!-- −0.5 -->\n      <g style=\"fill:#262626;\" transform=\"translate(22.81375 328.125871)scale(0.11 -0.11)\">\n       <defs>\n        <path d=\"M 10.796875 72.90625 \nL 49.515625 72.90625 \nL 49.515625 64.59375 \nL 19.828125 64.59375 \nL 19.828125 46.734375 \nQ 21.96875 47.46875 24.109375 47.828125 \nQ 26.265625 48.1875 28.421875 48.1875 \nQ 40.625 48.1875 47.75 41.5 \nQ 54.890625 34.8125 54.890625 23.390625 \nQ 54.890625 11.625 47.5625 5.09375 \nQ 40.234375 -1.421875 26.90625 -1.421875 \nQ 22.3125 -1.421875 17.546875 -0.640625 \nQ 12.796875 0.140625 7.71875 1.703125 \nL 7.71875 11.625 \nQ 12.109375 9.234375 16.796875 8.0625 \nQ 21.484375 6.890625 26.703125 6.890625 \nQ 35.15625 6.890625 40.078125 11.328125 \nQ 45.015625 15.765625 45.015625 23.390625 \nQ 45.015625 31 40.078125 35.4375 \nQ 35.15625 39.890625 26.703125 39.890625 \nQ 22.75 39.890625 18.8125 39.015625 \nQ 14.890625 38.140625 10.796875 36.28125 \nz\n\" id=\"DejaVuSans-53\"/>\n       </defs>\n       <use xlink:href=\"#DejaVuSans-8722\"/>\n       <use x=\"83.789062\" xlink:href=\"#DejaVuSans-48\"/>\n       <use x=\"147.412109\" xlink:href=\"#DejaVuSans-46\"/>\n       <use x=\"179.199219\" xlink:href=\"#DejaVuSans-53\"/>\n      </g>\n     </g>\n    </g>\n    <g id=\"ytick_3\">\n     <g id=\"line2d_3\">\n      <path clip-path=\"url(#p96af346509)\" d=\"M 59.024844 294.374142 \nL 225.042063 294.374142 \n\" style=\"fill:none;stroke:#ffffff;stroke-linecap:round;\"/>\n     </g>\n     <g id=\"text_7\">\n      <!-- 0.0 -->\n      <g style=\"fill:#262626;\" transform=\"translate(32.031406 298.553283)scale(0.11 -0.11)\">\n       <use xlink:href=\"#DejaVuSans-48\"/>\n       <use x=\"63.623047\" xlink:href=\"#DejaVuSans-46\"/>\n       <use x=\"95.410156\" xlink:href=\"#DejaVuSans-48\"/>\n      </g>\n     </g>\n    </g>\n    <g id=\"ytick_4\">\n     <g id=\"line2d_4\">\n      <path clip-path=\"url(#p96af346509)\" d=\"M 59.024844 264.801555 \nL 225.042063 264.801555 \n\" style=\"fill:none;stroke:#ffffff;stroke-linecap:round;\"/>\n     </g>\n     <g id=\"text_8\">\n      <!-- 0.5 -->\n      <g style=\"fill:#262626;\" transform=\"translate(32.031406 268.980695)scale(0.11 -0.11)\">\n       <use xlink:href=\"#DejaVuSans-48\"/>\n       <use x=\"63.623047\" xlink:href=\"#DejaVuSans-46\"/>\n       <use x=\"95.410156\" xlink:href=\"#DejaVuSans-53\"/>\n      </g>\n     </g>\n    </g>\n    <g id=\"ytick_5\">\n     <g id=\"line2d_5\">\n      <path clip-path=\"url(#p96af346509)\" d=\"M 59.024844 235.228967 \nL 225.042063 235.228967 \n\" style=\"fill:none;stroke:#ffffff;stroke-linecap:round;\"/>\n     </g>\n     <g id=\"text_9\">\n      <!-- 1.0 -->\n      <g style=\"fill:#262626;\" transform=\"translate(32.031406 239.408108)scale(0.11 -0.11)\">\n       <use xlink:href=\"#DejaVuSans-49\"/>\n       <use x=\"63.623047\" xlink:href=\"#DejaVuSans-46\"/>\n       <use x=\"95.410156\" xlink:href=\"#DejaVuSans-48\"/>\n      </g>\n     </g>\n    </g>\n    <g id=\"ytick_6\">\n     <g id=\"line2d_6\">\n      <path clip-path=\"url(#p96af346509)\" d=\"M 59.024844 205.65638 \nL 225.042063 205.65638 \n\" style=\"fill:none;stroke:#ffffff;stroke-linecap:round;\"/>\n     </g>\n     <g id=\"text_10\">\n      <!-- 1.5 -->\n      <g style=\"fill:#262626;\" transform=\"translate(32.031406 209.83552)scale(0.11 -0.11)\">\n       <use xlink:href=\"#DejaVuSans-49\"/>\n       <use x=\"63.623047\" xlink:href=\"#DejaVuSans-46\"/>\n       <use x=\"95.410156\" xlink:href=\"#DejaVuSans-53\"/>\n      </g>\n     </g>\n    </g>\n    <g id=\"ytick_7\">\n     <g id=\"line2d_7\">\n      <path clip-path=\"url(#p96af346509)\" d=\"M 59.024844 176.083792 \nL 225.042063 176.083792 \n\" style=\"fill:none;stroke:#ffffff;stroke-linecap:round;\"/>\n     </g>\n     <g id=\"text_11\">\n      <!-- 2.0 -->\n      <g style=\"fill:#262626;\" transform=\"translate(32.031406 180.262933)scale(0.11 -0.11)\">\n       <use xlink:href=\"#DejaVuSans-50\"/>\n       <use x=\"63.623047\" xlink:href=\"#DejaVuSans-46\"/>\n       <use x=\"95.410156\" xlink:href=\"#DejaVuSans-48\"/>\n      </g>\n     </g>\n    </g>\n    <g id=\"ytick_8\">\n     <g id=\"line2d_8\">\n      <path clip-path=\"url(#p96af346509)\" d=\"M 59.024844 146.511204 \nL 225.042063 146.511204 \n\" style=\"fill:none;stroke:#ffffff;stroke-linecap:round;\"/>\n     </g>\n     <g id=\"text_12\">\n      <!-- 2.5 -->\n      <g style=\"fill:#262626;\" transform=\"translate(32.031406 150.690345)scale(0.11 -0.11)\">\n       <use xlink:href=\"#DejaVuSans-50\"/>\n       <use x=\"63.623047\" xlink:href=\"#DejaVuSans-46\"/>\n       <use x=\"95.410156\" xlink:href=\"#DejaVuSans-53\"/>\n      </g>\n     </g>\n    </g>\n    <g id=\"text_13\">\n     <!-- $\\Delta V_z$ -->\n     <g style=\"fill:#262626;\" transform=\"translate(16.318125 259.965937)rotate(-90)scale(0.12 -0.12)\">\n      <defs>\n       <path d=\"M 34.1875 63.1875 \nL 14.15625 8.203125 \nL 54.25 8.203125 \nz\nM 0.78125 0 \nL 28.609375 72.90625 \nL 39.796875 72.90625 \nL 67.578125 0 \nz\n\" id=\"DejaVuSans-916\"/>\n       <path d=\"M 20.609375 0 \nL 7.8125 72.90625 \nL 17.484375 72.90625 \nL 28.078125 10.203125 \nL 63.484375 72.90625 \nL 74.21875 72.90625 \nL 32.078125 0 \nz\n\" id=\"DejaVuSans-Oblique-86\"/>\n       <path d=\"M 11.625 54.6875 \nL 54.296875 54.6875 \nL 52.6875 46.484375 \nL 11.53125 7.171875 \nL 45.515625 7.171875 \nL 44.09375 0 \nL -0.296875 0 \nL 1.3125 8.203125 \nL 42.484375 47.515625 \nL 10.203125 47.515625 \nz\n\" id=\"DejaVuSans-Oblique-122\"/>\n      </defs>\n      <use transform=\"translate(0 0.09375)\" xlink:href=\"#DejaVuSans-916\"/>\n      <use transform=\"translate(68.408203 0.09375)\" xlink:href=\"#DejaVuSans-Oblique-86\"/>\n      <use transform=\"translate(136.816406 -16.3125)scale(0.7)\" xlink:href=\"#DejaVuSans-Oblique-122\"/>\n     </g>\n    </g>\n   </g>\n   <g id=\"PathCollection_1\">\n    <defs>\n     <path d=\"M 0 3.383948 \nC 0.897434 3.383948 1.758231 3.027394 2.392813 2.392813 \nC 3.027394 1.758231 3.383948 0.897434 3.383948 -0 \nC 3.383948 -0.897434 3.027394 -1.758231 2.392813 -2.392813 \nC 1.758231 -3.027394 0.897434 -3.383948 0 -3.383948 \nC -0.897434 -3.383948 -1.758231 -3.027394 -2.392813 -2.392813 \nC -3.027394 -1.758231 -3.383948 -0.897434 -3.383948 0 \nC -3.383948 0.897434 -3.027394 1.758231 -2.392813 2.392813 \nC -1.758231 3.027394 -0.897434 3.383948 0 3.383948 \nz\n\" id=\"C0_0_e920e02f7d\"/>\n    </defs>\n   </g>\n   <g id=\"line2d_9\">\n    <path clip-path=\"url(#p96af346509)\" d=\"M 0 0 \n\" style=\"fill:none;stroke:#f8889a;stroke-linecap:round;stroke-width:2.7;\"/>\n   </g>\n   <g id=\"line2d_10\">\n    <path clip-path=\"url(#p96af346509)\" d=\"M 0 0 \n\" style=\"fill:none;stroke:#f8889a;stroke-linecap:round;stroke-width:2.7;\"/>\n   </g>\n   <g id=\"line2d_11\">\n    <path clip-path=\"url(#p96af346509)\" d=\"M 0 0 \n\" style=\"fill:none;stroke:#f8889a;stroke-linecap:round;stroke-width:2.7;\"/>\n   </g>\n   <g id=\"line2d_12\">\n    <path clip-path=\"url(#p96af346509)\" d=\"M 0 0 \n\" style=\"fill:none;stroke:#f8889a;stroke-linecap:round;stroke-width:2.7;\"/>\n   </g>\n   <g id=\"PathCollection_2\">\n    <defs>\n     <path d=\"M 0 3.383948 \nC 0.897434 3.383948 1.758231 3.027394 2.392813 2.392813 \nC 3.027394 1.758231 3.383948 0.897434 3.383948 -0 \nC 3.383948 -0.897434 3.027394 -1.758231 2.392813 -2.392813 \nC 1.758231 -3.027394 0.897434 -3.383948 0 -3.383948 \nC -0.897434 -3.383948 -1.758231 -3.027394 -2.392813 -2.392813 \nC -3.027394 -1.758231 -3.383948 -0.897434 -3.383948 0 \nC -3.383948 0.897434 -3.027394 1.758231 -2.392813 2.392813 \nC -1.758231 3.027394 -0.897434 3.383948 0 3.383948 \nz\n\" id=\"C1_0_16a62faf0b\"/>\n    </defs>\n   </g>\n   <g id=\"line2d_13\">\n    <path clip-path=\"url(#p96af346509)\" d=\"M 0 0 \n\" style=\"fill:none;stroke:#f88a82;stroke-linecap:round;stroke-width:2.7;\"/>\n   </g>\n   <g id=\"line2d_14\">\n    <path clip-path=\"url(#p96af346509)\" d=\"M 0 0 \n\" style=\"fill:none;stroke:#f88a82;stroke-linecap:round;stroke-width:2.7;\"/>\n   </g>\n   <g id=\"line2d_15\">\n    <path clip-path=\"url(#p96af346509)\" d=\"M 0 0 \n\" style=\"fill:none;stroke:#f88a82;stroke-linecap:round;stroke-width:2.7;\"/>\n   </g>\n   <g id=\"line2d_16\">\n    <path clip-path=\"url(#p96af346509)\" d=\"M 0 0 \n\" style=\"fill:none;stroke:#f88a82;stroke-linecap:round;stroke-width:2.7;\"/>\n   </g>\n   <g id=\"patch_3\">\n    <path d=\"M 59.024844 354.135937 \nL 59.024844 144.555938 \n\" style=\"fill:none;stroke:#ffffff;stroke-linecap:square;stroke-linejoin:miter;stroke-width:1.25;\"/>\n   </g>\n   <g id=\"patch_4\">\n    <path d=\"M 59.024844 354.135937 \nL 225.042063 354.135937 \n\" style=\"fill:none;stroke:#ffffff;stroke-linecap:square;stroke-linejoin:miter;stroke-width:1.25;\"/>\n   </g>\n   <g id=\"PathCollection_3\">\n    <defs>\n     <path d=\"M 0 3.383948 \nC 0.897434 3.383948 1.758231 3.027394 2.392813 2.392813 \nC 3.027394 1.758231 3.383948 0.897434 3.383948 -0 \nC 3.383948 -0.897434 3.027394 -1.758231 2.392813 -2.392813 \nC 1.758231 -3.027394 0.897434 -3.383948 0 -3.383948 \nC -0.897434 -3.383948 -1.758231 -3.027394 -2.392813 -2.392813 \nC -3.027394 -1.758231 -3.383948 -0.897434 -3.383948 0 \nC -3.383948 0.897434 -3.027394 1.758231 -2.392813 2.392813 \nC -1.758231 3.027394 -0.897434 3.383948 0 3.383948 \nz\n\" id=\"C2_0_3e885300f8\"/>\n    </defs>\n   </g>\n   <g id=\"line2d_17\">\n    <path clip-path=\"url(#p96af346509)\" d=\"M 0 0 \n\" style=\"fill:none;stroke:#f88d5d;stroke-linecap:round;stroke-width:2.7;\"/>\n   </g>\n   <g id=\"line2d_18\">\n    <path clip-path=\"url(#p96af346509)\" d=\"M 0 0 \n\" style=\"fill:none;stroke:#f88d5d;stroke-linecap:round;stroke-width:2.7;\"/>\n   </g>\n   <g id=\"line2d_19\">\n    <path clip-path=\"url(#p96af346509)\" d=\"M 0 0 \n\" style=\"fill:none;stroke:#f88d5d;stroke-linecap:round;stroke-width:2.7;\"/>\n   </g>\n   <g id=\"line2d_20\">\n    <path clip-path=\"url(#p96af346509)\" d=\"M 0 0 \n\" style=\"fill:none;stroke:#f88d5d;stroke-linecap:round;stroke-width:2.7;\"/>\n   </g>\n   <g id=\"text_14\">\n    <!-- condition = df1 -->\n    <g style=\"fill:#262626;\" transform=\"translate(95.711579 138.555938)scale(0.12 -0.12)\">\n     <defs>\n      <path d=\"M 54.890625 33.015625 \nL 54.890625 0 \nL 45.90625 0 \nL 45.90625 32.71875 \nQ 45.90625 40.484375 42.875 44.328125 \nQ 39.84375 48.1875 33.796875 48.1875 \nQ 26.515625 48.1875 22.3125 43.546875 \nQ 18.109375 38.921875 18.109375 30.90625 \nL 18.109375 0 \nL 9.078125 0 \nL 9.078125 54.6875 \nL 18.109375 54.6875 \nL 18.109375 46.1875 \nQ 21.34375 51.125 25.703125 53.5625 \nQ 30.078125 56 35.796875 56 \nQ 45.21875 56 50.046875 50.171875 \nQ 54.890625 44.34375 54.890625 33.015625 \nz\n\" id=\"DejaVuSans-110\"/>\n      <path d=\"M 45.40625 46.390625 \nL 45.40625 75.984375 \nL 54.390625 75.984375 \nL 54.390625 0 \nL 45.40625 0 \nL 45.40625 8.203125 \nQ 42.578125 3.328125 38.25 0.953125 \nQ 33.9375 -1.421875 27.875 -1.421875 \nQ 17.96875 -1.421875 11.734375 6.484375 \nQ 5.515625 14.40625 5.515625 27.296875 \nQ 5.515625 40.1875 11.734375 48.09375 \nQ 17.96875 56 27.875 56 \nQ 33.9375 56 38.25 53.625 \nQ 42.578125 51.265625 45.40625 46.390625 \nz\nM 14.796875 27.296875 \nQ 14.796875 17.390625 18.875 11.75 \nQ 22.953125 6.109375 30.078125 6.109375 \nQ 37.203125 6.109375 41.296875 11.75 \nQ 45.40625 17.390625 45.40625 27.296875 \nQ 45.40625 37.203125 41.296875 42.84375 \nQ 37.203125 48.484375 30.078125 48.484375 \nQ 22.953125 48.484375 18.875 42.84375 \nQ 14.796875 37.203125 14.796875 27.296875 \nz\n\" id=\"DejaVuSans-100\"/>\n      <path d=\"M 9.421875 54.6875 \nL 18.40625 54.6875 \nL 18.40625 0 \nL 9.421875 0 \nz\nM 9.421875 75.984375 \nL 18.40625 75.984375 \nL 18.40625 64.59375 \nL 9.421875 64.59375 \nz\n\" id=\"DejaVuSans-105\"/>\n      <path d=\"M 18.3125 70.21875 \nL 18.3125 54.6875 \nL 36.8125 54.6875 \nL 36.8125 47.703125 \nL 18.3125 47.703125 \nL 18.3125 18.015625 \nQ 18.3125 11.328125 20.140625 9.421875 \nQ 21.96875 7.515625 27.59375 7.515625 \nL 36.8125 7.515625 \nL 36.8125 0 \nL 27.59375 0 \nQ 17.1875 0 13.234375 3.875 \nQ 9.28125 7.765625 9.28125 18.015625 \nL 9.28125 47.703125 \nL 2.6875 47.703125 \nL 2.6875 54.6875 \nL 9.28125 54.6875 \nL 9.28125 70.21875 \nz\n\" id=\"DejaVuSans-116\"/>\n      <path id=\"DejaVuSans-32\"/>\n      <path d=\"M 10.59375 45.40625 \nL 73.1875 45.40625 \nL 73.1875 37.203125 \nL 10.59375 37.203125 \nz\nM 10.59375 25.484375 \nL 73.1875 25.484375 \nL 73.1875 17.1875 \nL 10.59375 17.1875 \nz\n\" id=\"DejaVuSans-61\"/>\n      <path d=\"M 37.109375 75.984375 \nL 37.109375 68.5 \nL 28.515625 68.5 \nQ 23.6875 68.5 21.796875 66.546875 \nQ 19.921875 64.59375 19.921875 59.515625 \nL 19.921875 54.6875 \nL 34.71875 54.6875 \nL 34.71875 47.703125 \nL 19.921875 47.703125 \nL 19.921875 0 \nL 10.890625 0 \nL 10.890625 47.703125 \nL 2.296875 47.703125 \nL 2.296875 54.6875 \nL 10.890625 54.6875 \nL 10.890625 58.5 \nQ 10.890625 67.625 15.140625 71.796875 \nQ 19.390625 75.984375 28.609375 75.984375 \nz\n\" id=\"DejaVuSans-102\"/>\n     </defs>\n     <use xlink:href=\"#DejaVuSans-99\"/>\n     <use x=\"54.980469\" xlink:href=\"#DejaVuSans-111\"/>\n     <use x=\"116.162109\" xlink:href=\"#DejaVuSans-110\"/>\n     <use x=\"179.541016\" xlink:href=\"#DejaVuSans-100\"/>\n     <use x=\"243.017578\" xlink:href=\"#DejaVuSans-105\"/>\n     <use x=\"270.800781\" xlink:href=\"#DejaVuSans-116\"/>\n     <use x=\"310.009766\" xlink:href=\"#DejaVuSans-105\"/>\n     <use x=\"337.792969\" xlink:href=\"#DejaVuSans-111\"/>\n     <use x=\"398.974609\" xlink:href=\"#DejaVuSans-110\"/>\n     <use x=\"462.353516\" xlink:href=\"#DejaVuSans-32\"/>\n     <use x=\"494.140625\" xlink:href=\"#DejaVuSans-61\"/>\n     <use x=\"577.929688\" xlink:href=\"#DejaVuSans-32\"/>\n     <use x=\"609.716797\" xlink:href=\"#DejaVuSans-100\"/>\n     <use x=\"673.193359\" xlink:href=\"#DejaVuSans-102\"/>\n     <use x=\"708.398438\" xlink:href=\"#DejaVuSans-49\"/>\n    </g>\n   </g>\n   <g id=\"PathCollection_4\">\n    <defs>\n     <path d=\"M 0 3.383948 \nC 0.897434 3.383948 1.758231 3.027394 2.392813 2.392813 \nC 3.027394 1.758231 3.383948 0.897434 3.383948 -0 \nC 3.383948 -0.897434 3.027394 -1.758231 2.392813 -2.392813 \nC 1.758231 -3.027394 0.897434 -3.383948 0 -3.383948 \nC -0.897434 -3.383948 -1.758231 -3.027394 -2.392813 -2.392813 \nC -3.027394 -1.758231 -3.383948 -0.897434 -3.383948 0 \nC -3.383948 0.897434 -3.027394 1.758231 -2.392813 2.392813 \nC -1.758231 3.027394 -0.897434 3.383948 0 3.383948 \nz\n\" id=\"C3_0_e234854d4e\"/>\n    </defs>\n   </g>\n   <g id=\"line2d_21\">\n    <path clip-path=\"url(#p96af346509)\" d=\"M 0 0 \n\" style=\"fill:none;stroke:#ee9537;stroke-linecap:round;stroke-width:2.7;\"/>\n   </g>\n   <g id=\"line2d_22\">\n    <path clip-path=\"url(#p96af346509)\" d=\"M 0 0 \n\" style=\"fill:none;stroke:#ee9537;stroke-linecap:round;stroke-width:2.7;\"/>\n   </g>\n   <g id=\"line2d_23\">\n    <path clip-path=\"url(#p96af346509)\" d=\"M 0 0 \n\" style=\"fill:none;stroke:#ee9537;stroke-linecap:round;stroke-width:2.7;\"/>\n   </g>\n   <g id=\"line2d_24\">\n    <path clip-path=\"url(#p96af346509)\" d=\"M 0 0 \n\" style=\"fill:none;stroke:#ee9537;stroke-linecap:round;stroke-width:2.7;\"/>\n   </g>\n   <g id=\"PathCollection_5\">\n    <defs>\n     <path d=\"M 0 3.383948 \nC 0.897434 3.383948 1.758231 3.027394 2.392813 2.392813 \nC 3.027394 1.758231 3.383948 0.897434 3.383948 0 \nC 3.383948 -0.897434 3.027394 -1.758231 2.392813 -2.392813 \nC 1.758231 -3.027394 0.897434 -3.383948 0 -3.383948 \nC -0.897434 -3.383948 -1.758231 -3.027394 -2.392813 -2.392813 \nC -3.027394 -1.758231 -3.383948 -0.897434 -3.383948 0 \nC -3.383948 0.897434 -3.027394 1.758231 -2.392813 2.392813 \nC -1.758231 3.027394 -0.897434 3.383948 0 3.383948 \nz\n\" id=\"m7bab829a1d\" style=\"stroke:#db9e37;stroke-width:2.025;\"/>\n    </defs>\n    <g clip-path=\"url(#p96af346509)\">\n     <use style=\"fill:#db9e37;stroke:#db9e37;stroke-width:2.025;\" x=\"71.66696\" xlink:href=\"#m7bab829a1d\" y=\"344.609574\"/>\n     <use style=\"fill:#db9e37;stroke:#db9e37;stroke-width:2.025;\" x=\"127.006033\" xlink:href=\"#m7bab829a1d\" y=\"269.757223\"/>\n     <use style=\"fill:#db9e37;stroke:#db9e37;stroke-width:2.025;\" x=\"182.345106\" xlink:href=\"#m7bab829a1d\" y=\"253.508863\"/>\n    </g>\n   </g>\n   <g id=\"line2d_25\">\n    <path clip-path=\"url(#p96af346509)\" d=\"M 71.66696 344.609574 \nL 127.006033 269.757223 \nL 182.345106 253.508863 \n\" style=\"fill:none;stroke:#db9e37;stroke-linecap:round;stroke-width:2.7;\"/>\n   </g>\n   <g id=\"line2d_26\">\n    <path clip-path=\"url(#p96af346509)\" d=\"M 0 0 \n\" style=\"fill:none;stroke:#db9e37;stroke-linecap:round;stroke-width:2.7;\"/>\n   </g>\n   <g id=\"line2d_27\">\n    <path clip-path=\"url(#p96af346509)\" d=\"M 0 0 \n\" style=\"fill:none;stroke:#db9e37;stroke-linecap:round;stroke-width:2.7;\"/>\n   </g>\n   <g id=\"line2d_28\">\n    <path clip-path=\"url(#p96af346509)\" d=\"M 0 0 \n\" style=\"fill:none;stroke:#db9e37;stroke-linecap:round;stroke-width:2.7;\"/>\n   </g>\n   <g id=\"PathCollection_6\">\n    <defs>\n     <path d=\"M 0 3.383948 \nC 0.897434 3.383948 1.758231 3.027394 2.392813 2.392813 \nC 3.027394 1.758231 3.383948 0.897434 3.383948 0 \nC 3.383948 -0.897434 3.027394 -1.758231 2.392813 -2.392813 \nC 1.758231 -3.027394 0.897434 -3.383948 0 -3.383948 \nC -0.897434 -3.383948 -1.758231 -3.027394 -2.392813 -2.392813 \nC -3.027394 -1.758231 -3.383948 -0.897434 -3.383948 0 \nC -3.383948 0.897434 -3.027394 1.758231 -2.392813 2.392813 \nC -1.758231 3.027394 -0.897434 3.383948 0 3.383948 \nz\n\" id=\"m005c6c5221\" style=\"stroke:#cba537;stroke-width:2.025;\"/>\n    </defs>\n    <g clip-path=\"url(#p96af346509)\">\n     <use style=\"fill:#cba537;stroke:#cba537;stroke-width:2.025;\" x=\"73.098143\" xlink:href=\"#m005c6c5221\" y=\"221.144529\"/>\n     <use style=\"fill:#cba537;stroke:#cba537;stroke-width:2.025;\" x=\"128.437216\" xlink:href=\"#m005c6c5221\" y=\"279.92655\"/>\n     <use style=\"fill:#cba537;stroke:#cba537;stroke-width:2.025;\" x=\"183.776289\" xlink:href=\"#m005c6c5221\" y=\"223.146682\"/>\n    </g>\n   </g>\n   <g id=\"line2d_29\">\n    <path clip-path=\"url(#p96af346509)\" d=\"M 73.098143 221.144529 \nL 128.437216 279.92655 \nL 183.776289 223.146682 \n\" style=\"fill:none;stroke:#cba537;stroke-linecap:round;stroke-width:2.7;\"/>\n   </g>\n   <g id=\"line2d_30\">\n    <path clip-path=\"url(#p96af346509)\" d=\"M 0 0 \n\" style=\"fill:none;stroke:#cba537;stroke-linecap:round;stroke-width:2.7;\"/>\n   </g>\n   <g id=\"line2d_31\">\n    <path clip-path=\"url(#p96af346509)\" d=\"M 0 0 \n\" style=\"fill:none;stroke:#cba537;stroke-linecap:round;stroke-width:2.7;\"/>\n   </g>\n   <g id=\"line2d_32\">\n    <path clip-path=\"url(#p96af346509)\" d=\"M 0 0 \n\" style=\"fill:none;stroke:#cba537;stroke-linecap:round;stroke-width:2.7;\"/>\n   </g>\n   <g id=\"PathCollection_7\">\n    <defs>\n     <path d=\"M 0 3.383948 \nC 0.897434 3.383948 1.758231 3.027394 2.392813 2.392813 \nC 3.027394 1.758231 3.383948 0.897434 3.383948 -0 \nC 3.383948 -0.897434 3.027394 -1.758231 2.392813 -2.392813 \nC 1.758231 -3.027394 0.897434 -3.383948 0 -3.383948 \nC -0.897434 -3.383948 -1.758231 -3.027394 -2.392813 -2.392813 \nC -3.027394 -1.758231 -3.383948 -0.897434 -3.383948 0 \nC -3.383948 0.897434 -3.027394 1.758231 -2.392813 2.392813 \nC -1.758231 3.027394 -0.897434 3.383948 0 3.383948 \nz\n\" id=\"C4_0_997a2dba67\"/>\n    </defs>\n   </g>\n   <g id=\"line2d_33\">\n    <path clip-path=\"url(#p96af346509)\" d=\"M 0 0 \n\" style=\"fill:none;stroke:#bcaa36;stroke-linecap:round;stroke-width:2.7;\"/>\n   </g>\n   <g id=\"line2d_34\">\n    <path clip-path=\"url(#p96af346509)\" d=\"M 0 0 \n\" style=\"fill:none;stroke:#bcaa36;stroke-linecap:round;stroke-width:2.7;\"/>\n   </g>\n   <g id=\"line2d_35\">\n    <path clip-path=\"url(#p96af346509)\" d=\"M 0 0 \n\" style=\"fill:none;stroke:#bcaa36;stroke-linecap:round;stroke-width:2.7;\"/>\n   </g>\n   <g id=\"line2d_36\">\n    <path clip-path=\"url(#p96af346509)\" d=\"M 0 0 \n\" style=\"fill:none;stroke:#bcaa36;stroke-linecap:round;stroke-width:2.7;\"/>\n   </g>\n   <g id=\"PathCollection_8\">\n    <defs>\n     <path d=\"M 0 3.383948 \nC 0.897434 3.383948 1.758231 3.027394 2.392813 2.392813 \nC 3.027394 1.758231 3.383948 0.897434 3.383948 -0 \nC 3.383948 -0.897434 3.027394 -1.758231 2.392813 -2.392813 \nC 1.758231 -3.027394 0.897434 -3.383948 0 -3.383948 \nC -0.897434 -3.383948 -1.758231 -3.027394 -2.392813 -2.392813 \nC -3.027394 -1.758231 -3.383948 -0.897434 -3.383948 0 \nC -3.383948 0.897434 -3.027394 1.758231 -2.392813 2.392813 \nC -1.758231 3.027394 -0.897434 3.383948 0 3.383948 \nz\n\" id=\"C5_0_3b533e64c7\"/>\n    </defs>\n   </g>\n   <g id=\"line2d_37\">\n    <path clip-path=\"url(#p96af346509)\" d=\"M 0 0 \n\" style=\"fill:none;stroke:#acaf36;stroke-linecap:round;stroke-width:2.7;\"/>\n   </g>\n   <g id=\"line2d_38\">\n    <path clip-path=\"url(#p96af346509)\" d=\"M 0 0 \n\" style=\"fill:none;stroke:#acaf36;stroke-linecap:round;stroke-width:2.7;\"/>\n   </g>\n   <g id=\"line2d_39\">\n    <path clip-path=\"url(#p96af346509)\" d=\"M 0 0 \n\" style=\"fill:none;stroke:#acaf36;stroke-linecap:round;stroke-width:2.7;\"/>\n   </g>\n   <g id=\"line2d_40\">\n    <path clip-path=\"url(#p96af346509)\" d=\"M 0 0 \n\" style=\"fill:none;stroke:#acaf36;stroke-linecap:round;stroke-width:2.7;\"/>\n   </g>\n   <g id=\"PathCollection_9\">\n    <defs>\n     <path d=\"M 0 3.383948 \nC 0.897434 3.383948 1.758231 3.027394 2.392813 2.392813 \nC 3.027394 1.758231 3.383948 0.897434 3.383948 -0 \nC 3.383948 -0.897434 3.027394 -1.758231 2.392813 -2.392813 \nC 1.758231 -3.027394 0.897434 -3.383948 0 -3.383948 \nC -0.897434 -3.383948 -1.758231 -3.027394 -2.392813 -2.392813 \nC -3.027394 -1.758231 -3.383948 -0.897434 -3.383948 0 \nC -3.383948 0.897434 -3.027394 1.758231 -2.392813 2.392813 \nC -1.758231 3.027394 -0.897434 3.383948 0 3.383948 \nz\n\" id=\"C6_0_e41a18fce0\"/>\n    </defs>\n   </g>\n   <g id=\"line2d_41\">\n    <path clip-path=\"url(#p96af346509)\" d=\"M 0 0 \n\" style=\"fill:none;stroke:#9ab436;stroke-linecap:round;stroke-width:2.7;\"/>\n   </g>\n   <g id=\"line2d_42\">\n    <path clip-path=\"url(#p96af346509)\" d=\"M 0 0 \n\" style=\"fill:none;stroke:#9ab436;stroke-linecap:round;stroke-width:2.7;\"/>\n   </g>\n   <g id=\"line2d_43\">\n    <path clip-path=\"url(#p96af346509)\" d=\"M 0 0 \n\" style=\"fill:none;stroke:#9ab436;stroke-linecap:round;stroke-width:2.7;\"/>\n   </g>\n   <g id=\"line2d_44\">\n    <path clip-path=\"url(#p96af346509)\" d=\"M 0 0 \n\" style=\"fill:none;stroke:#9ab436;stroke-linecap:round;stroke-width:2.7;\"/>\n   </g>\n   <g id=\"PathCollection_10\">\n    <defs>\n     <path d=\"M 0 3.383948 \nC 0.897434 3.383948 1.758231 3.027394 2.392813 2.392813 \nC 3.027394 1.758231 3.383948 0.897434 3.383948 -0 \nC 3.383948 -0.897434 3.027394 -1.758231 2.392813 -2.392813 \nC 1.758231 -3.027394 0.897434 -3.383948 0 -3.383948 \nC -0.897434 -3.383948 -1.758231 -3.027394 -2.392813 -2.392813 \nC -3.027394 -1.758231 -3.383948 -0.897434 -3.383948 0 \nC -3.383948 0.897434 -3.027394 1.758231 -2.392813 2.392813 \nC -1.758231 3.027394 -0.897434 3.383948 0 3.383948 \nz\n\" id=\"C7_0_8d43dd315f\"/>\n    </defs>\n   </g>\n   <g id=\"line2d_45\">\n    <path clip-path=\"url(#p96af346509)\" d=\"M 0 0 \n\" style=\"fill:none;stroke:#82b936;stroke-linecap:round;stroke-width:2.7;\"/>\n   </g>\n   <g id=\"line2d_46\">\n    <path clip-path=\"url(#p96af346509)\" d=\"M 0 0 \n\" style=\"fill:none;stroke:#82b936;stroke-linecap:round;stroke-width:2.7;\"/>\n   </g>\n   <g id=\"line2d_47\">\n    <path clip-path=\"url(#p96af346509)\" d=\"M 0 0 \n\" style=\"fill:none;stroke:#82b936;stroke-linecap:round;stroke-width:2.7;\"/>\n   </g>\n   <g id=\"line2d_48\">\n    <path clip-path=\"url(#p96af346509)\" d=\"M 0 0 \n\" style=\"fill:none;stroke:#82b936;stroke-linecap:round;stroke-width:2.7;\"/>\n   </g>\n   <g id=\"PathCollection_11\">\n    <defs>\n     <path d=\"M 0 3.383948 \nC 0.897434 3.383948 1.758231 3.027394 2.392813 2.392813 \nC 3.027394 1.758231 3.383948 0.897434 3.383948 -0 \nC 3.383948 -0.897434 3.027394 -1.758231 2.392813 -2.392813 \nC 1.758231 -3.027394 0.897434 -3.383948 0 -3.383948 \nC -0.897434 -3.383948 -1.758231 -3.027394 -2.392813 -2.392813 \nC -3.027394 -1.758231 -3.383948 -0.897434 -3.383948 0 \nC -3.383948 0.897434 -3.027394 1.758231 -2.392813 2.392813 \nC -1.758231 3.027394 -0.897434 3.383948 0 3.383948 \nz\n\" id=\"C8_0_4c392a9314\"/>\n    </defs>\n   </g>\n   <g id=\"line2d_49\">\n    <path clip-path=\"url(#p96af346509)\" d=\"M 0 0 \n\" style=\"fill:none;stroke:#57bf36;stroke-linecap:round;stroke-width:2.7;\"/>\n   </g>\n   <g id=\"line2d_50\">\n    <path clip-path=\"url(#p96af346509)\" d=\"M 0 0 \n\" style=\"fill:none;stroke:#57bf36;stroke-linecap:round;stroke-width:2.7;\"/>\n   </g>\n   <g id=\"line2d_51\">\n    <path clip-path=\"url(#p96af346509)\" d=\"M 0 0 \n\" style=\"fill:none;stroke:#57bf36;stroke-linecap:round;stroke-width:2.7;\"/>\n   </g>\n   <g id=\"line2d_52\">\n    <path clip-path=\"url(#p96af346509)\" d=\"M 0 0 \n\" style=\"fill:none;stroke:#57bf36;stroke-linecap:round;stroke-width:2.7;\"/>\n   </g>\n   <g id=\"PathCollection_12\">\n    <defs>\n     <path d=\"M 0 3.383948 \nC 0.897434 3.383948 1.758231 3.027394 2.392813 2.392813 \nC 3.027394 1.758231 3.383948 0.897434 3.383948 -0 \nC 3.383948 -0.897434 3.027394 -1.758231 2.392813 -2.392813 \nC 1.758231 -3.027394 0.897434 -3.383948 0 -3.383948 \nC -0.897434 -3.383948 -1.758231 -3.027394 -2.392813 -2.392813 \nC -3.027394 -1.758231 -3.383948 -0.897434 -3.383948 0 \nC -3.383948 0.897434 -3.027394 1.758231 -2.392813 2.392813 \nC -1.758231 3.027394 -0.897434 3.383948 0 3.383948 \nz\n\" id=\"C9_0_c9904a80dc\"/>\n    </defs>\n   </g>\n   <g id=\"line2d_53\">\n    <path clip-path=\"url(#p96af346509)\" d=\"M 0 0 \n\" style=\"fill:none;stroke:#37c164;stroke-linecap:round;stroke-width:2.7;\"/>\n   </g>\n   <g id=\"line2d_54\">\n    <path clip-path=\"url(#p96af346509)\" d=\"M 0 0 \n\" style=\"fill:none;stroke:#37c164;stroke-linecap:round;stroke-width:2.7;\"/>\n   </g>\n   <g id=\"line2d_55\">\n    <path clip-path=\"url(#p96af346509)\" d=\"M 0 0 \n\" style=\"fill:none;stroke:#37c164;stroke-linecap:round;stroke-width:2.7;\"/>\n   </g>\n   <g id=\"line2d_56\">\n    <path clip-path=\"url(#p96af346509)\" d=\"M 0 0 \n\" style=\"fill:none;stroke:#37c164;stroke-linecap:round;stroke-width:2.7;\"/>\n   </g>\n   <g id=\"PathCollection_13\">\n    <defs>\n     <path d=\"M 0 3.383948 \nC 0.897434 3.383948 1.758231 3.027394 2.392813 2.392813 \nC 3.027394 1.758231 3.383948 0.897434 3.383948 -0 \nC 3.383948 -0.897434 3.027394 -1.758231 2.392813 -2.392813 \nC 1.758231 -3.027394 0.897434 -3.383948 0 -3.383948 \nC -0.897434 -3.383948 -1.758231 -3.027394 -2.392813 -2.392813 \nC -3.027394 -1.758231 -3.383948 -0.897434 -3.383948 0 \nC -3.383948 0.897434 -3.027394 1.758231 -2.392813 2.392813 \nC -1.758231 3.027394 -0.897434 3.383948 0 3.383948 \nz\n\" id=\"Ca_0_5e02fe65ae\"/>\n    </defs>\n   </g>\n   <g id=\"line2d_57\">\n    <path clip-path=\"url(#p96af346509)\" d=\"M 0 0 \n\" style=\"fill:none;stroke:#38bf85;stroke-linecap:round;stroke-width:2.7;\"/>\n   </g>\n   <g id=\"line2d_58\">\n    <path clip-path=\"url(#p96af346509)\" d=\"M 0 0 \n\" style=\"fill:none;stroke:#38bf85;stroke-linecap:round;stroke-width:2.7;\"/>\n   </g>\n   <g id=\"line2d_59\">\n    <path clip-path=\"url(#p96af346509)\" d=\"M 0 0 \n\" style=\"fill:none;stroke:#38bf85;stroke-linecap:round;stroke-width:2.7;\"/>\n   </g>\n   <g id=\"line2d_60\">\n    <path clip-path=\"url(#p96af346509)\" d=\"M 0 0 \n\" style=\"fill:none;stroke:#38bf85;stroke-linecap:round;stroke-width:2.7;\"/>\n   </g>\n   <g id=\"PathCollection_14\">\n    <defs>\n     <path d=\"M 0 3.383948 \nC 0.897434 3.383948 1.758231 3.027394 2.392813 2.392813 \nC 3.027394 1.758231 3.383948 0.897434 3.383948 -0 \nC 3.383948 -0.897434 3.027394 -1.758231 2.392813 -2.392813 \nC 1.758231 -3.027394 0.897434 -3.383948 0 -3.383948 \nC -0.897434 -3.383948 -1.758231 -3.027394 -2.392813 -2.392813 \nC -3.027394 -1.758231 -3.383948 -0.897434 -3.383948 0 \nC -3.383948 0.897434 -3.027394 1.758231 -2.392813 2.392813 \nC -1.758231 3.027394 -0.897434 3.383948 0 3.383948 \nz\n\" id=\"Cb_0_7768373705\"/>\n    </defs>\n   </g>\n   <g id=\"line2d_61\">\n    <path clip-path=\"url(#p96af346509)\" d=\"M 0 0 \n\" style=\"fill:none;stroke:#39be98;stroke-linecap:round;stroke-width:2.7;\"/>\n   </g>\n   <g id=\"line2d_62\">\n    <path clip-path=\"url(#p96af346509)\" d=\"M 0 0 \n\" style=\"fill:none;stroke:#39be98;stroke-linecap:round;stroke-width:2.7;\"/>\n   </g>\n   <g id=\"line2d_63\">\n    <path clip-path=\"url(#p96af346509)\" d=\"M 0 0 \n\" style=\"fill:none;stroke:#39be98;stroke-linecap:round;stroke-width:2.7;\"/>\n   </g>\n   <g id=\"line2d_64\">\n    <path clip-path=\"url(#p96af346509)\" d=\"M 0 0 \n\" style=\"fill:none;stroke:#39be98;stroke-linecap:round;stroke-width:2.7;\"/>\n   </g>\n   <g id=\"PathCollection_15\">\n    <defs>\n     <path d=\"M 0 3.383948 \nC 0.897434 3.383948 1.758231 3.027394 2.392813 2.392813 \nC 3.027394 1.758231 3.383948 0.897434 3.383948 -0 \nC 3.383948 -0.897434 3.027394 -1.758231 2.392813 -2.392813 \nC 1.758231 -3.027394 0.897434 -3.383948 0 -3.383948 \nC -0.897434 -3.383948 -1.758231 -3.027394 -2.392813 -2.392813 \nC -3.027394 -1.758231 -3.383948 -0.897434 -3.383948 0 \nC -3.383948 0.897434 -3.027394 1.758231 -2.392813 2.392813 \nC -1.758231 3.027394 -0.897434 3.383948 0 3.383948 \nz\n\" id=\"Cc_0_af273e6de0\"/>\n    </defs>\n   </g>\n   <g id=\"line2d_65\">\n    <path clip-path=\"url(#p96af346509)\" d=\"M 0 0 \n\" style=\"fill:none;stroke:#3abca6;stroke-linecap:round;stroke-width:2.7;\"/>\n   </g>\n   <g id=\"line2d_66\">\n    <path clip-path=\"url(#p96af346509)\" d=\"M 0 0 \n\" style=\"fill:none;stroke:#3abca6;stroke-linecap:round;stroke-width:2.7;\"/>\n   </g>\n   <g id=\"line2d_67\">\n    <path clip-path=\"url(#p96af346509)\" d=\"M 0 0 \n\" style=\"fill:none;stroke:#3abca6;stroke-linecap:round;stroke-width:2.7;\"/>\n   </g>\n   <g id=\"line2d_68\">\n    <path clip-path=\"url(#p96af346509)\" d=\"M 0 0 \n\" style=\"fill:none;stroke:#3abca6;stroke-linecap:round;stroke-width:2.7;\"/>\n   </g>\n   <g id=\"PathCollection_16\">\n    <defs>\n     <path d=\"M 0 3.383948 \nC 0.897434 3.383948 1.758231 3.027394 2.392813 2.392813 \nC 3.027394 1.758231 3.383948 0.897434 3.383948 -0 \nC 3.383948 -0.897434 3.027394 -1.758231 2.392813 -2.392813 \nC 1.758231 -3.027394 0.897434 -3.383948 0 -3.383948 \nC -0.897434 -3.383948 -1.758231 -3.027394 -2.392813 -2.392813 \nC -3.027394 -1.758231 -3.383948 -0.897434 -3.383948 0 \nC -3.383948 0.897434 -3.027394 1.758231 -2.392813 2.392813 \nC -1.758231 3.027394 -0.897434 3.383948 0 3.383948 \nz\n\" id=\"Cd_0_543084e3db\"/>\n    </defs>\n   </g>\n   <g id=\"line2d_69\">\n    <path clip-path=\"url(#p96af346509)\" d=\"M 0 0 \n\" style=\"fill:none;stroke:#3bbbb2;stroke-linecap:round;stroke-width:2.7;\"/>\n   </g>\n   <g id=\"line2d_70\">\n    <path clip-path=\"url(#p96af346509)\" d=\"M 0 0 \n\" style=\"fill:none;stroke:#3bbbb2;stroke-linecap:round;stroke-width:2.7;\"/>\n   </g>\n   <g id=\"line2d_71\">\n    <path clip-path=\"url(#p96af346509)\" d=\"M 0 0 \n\" style=\"fill:none;stroke:#3bbbb2;stroke-linecap:round;stroke-width:2.7;\"/>\n   </g>\n   <g id=\"line2d_72\">\n    <path clip-path=\"url(#p96af346509)\" d=\"M 0 0 \n\" style=\"fill:none;stroke:#3bbbb2;stroke-linecap:round;stroke-width:2.7;\"/>\n   </g>\n   <g id=\"PathCollection_17\">\n    <defs>\n     <path d=\"M 0 3.383948 \nC 0.897434 3.383948 1.758231 3.027394 2.392813 2.392813 \nC 3.027394 1.758231 3.383948 0.897434 3.383948 -0 \nC 3.383948 -0.897434 3.027394 -1.758231 2.392813 -2.392813 \nC 1.758231 -3.027394 0.897434 -3.383948 0 -3.383948 \nC -0.897434 -3.383948 -1.758231 -3.027394 -2.392813 -2.392813 \nC -3.027394 -1.758231 -3.383948 -0.897434 -3.383948 0 \nC -3.383948 0.897434 -3.027394 1.758231 -2.392813 2.392813 \nC -1.758231 3.027394 -0.897434 3.383948 0 3.383948 \nz\n\" id=\"Ce_0_bf537bfac4\"/>\n    </defs>\n   </g>\n   <g id=\"line2d_73\">\n    <path clip-path=\"url(#p96af346509)\" d=\"M 0 0 \n\" style=\"fill:none;stroke:#3cbabd;stroke-linecap:round;stroke-width:2.7;\"/>\n   </g>\n   <g id=\"line2d_74\">\n    <path clip-path=\"url(#p96af346509)\" d=\"M 0 0 \n\" style=\"fill:none;stroke:#3cbabd;stroke-linecap:round;stroke-width:2.7;\"/>\n   </g>\n   <g id=\"line2d_75\">\n    <path clip-path=\"url(#p96af346509)\" d=\"M 0 0 \n\" style=\"fill:none;stroke:#3cbabd;stroke-linecap:round;stroke-width:2.7;\"/>\n   </g>\n   <g id=\"line2d_76\">\n    <path clip-path=\"url(#p96af346509)\" d=\"M 0 0 \n\" style=\"fill:none;stroke:#3cbabd;stroke-linecap:round;stroke-width:2.7;\"/>\n   </g>\n   <g id=\"PathCollection_18\">\n    <defs>\n     <path d=\"M 0 3.383948 \nC 0.897434 3.383948 1.758231 3.027394 2.392813 2.392813 \nC 3.027394 1.758231 3.383948 0.897434 3.383948 -0 \nC 3.383948 -0.897434 3.027394 -1.758231 2.392813 -2.392813 \nC 1.758231 -3.027394 0.897434 -3.383948 0 -3.383948 \nC -0.897434 -3.383948 -1.758231 -3.027394 -2.392813 -2.392813 \nC -3.027394 -1.758231 -3.383948 -0.897434 -3.383948 0 \nC -3.383948 0.897434 -3.027394 1.758231 -2.392813 2.392813 \nC -1.758231 3.027394 -0.897434 3.383948 0 3.383948 \nz\n\" id=\"Cf_0_4c10f74ad6\"/>\n    </defs>\n   </g>\n   <g id=\"line2d_77\">\n    <path clip-path=\"url(#p96af346509)\" d=\"M 0 0 \n\" style=\"fill:none;stroke:#3cb9c8;stroke-linecap:round;stroke-width:2.7;\"/>\n   </g>\n   <g id=\"line2d_78\">\n    <path clip-path=\"url(#p96af346509)\" d=\"M 0 0 \n\" style=\"fill:none;stroke:#3cb9c8;stroke-linecap:round;stroke-width:2.7;\"/>\n   </g>\n   <g id=\"line2d_79\">\n    <path clip-path=\"url(#p96af346509)\" d=\"M 0 0 \n\" style=\"fill:none;stroke:#3cb9c8;stroke-linecap:round;stroke-width:2.7;\"/>\n   </g>\n   <g id=\"line2d_80\">\n    <path clip-path=\"url(#p96af346509)\" d=\"M 0 0 \n\" style=\"fill:none;stroke:#3cb9c8;stroke-linecap:round;stroke-width:2.7;\"/>\n   </g>\n   <g id=\"PathCollection_19\">\n    <defs>\n     <path d=\"M 0 3.383948 \nC 0.897434 3.383948 1.758231 3.027394 2.392813 2.392813 \nC 3.027394 1.758231 3.383948 0.897434 3.383948 -0 \nC 3.383948 -0.897434 3.027394 -1.758231 2.392813 -2.392813 \nC 1.758231 -3.027394 0.897434 -3.383948 0 -3.383948 \nC -0.897434 -3.383948 -1.758231 -3.027394 -2.392813 -2.392813 \nC -3.027394 -1.758231 -3.383948 -0.897434 -3.383948 0 \nC -3.383948 0.897434 -3.027394 1.758231 -2.392813 2.392813 \nC -1.758231 3.027394 -0.897434 3.383948 0 3.383948 \nz\n\" id=\"C10_0_3db0818ac5\"/>\n    </defs>\n   </g>\n   <g id=\"line2d_81\">\n    <path clip-path=\"url(#p96af346509)\" d=\"M 0 0 \n\" style=\"fill:none;stroke:#3db7d6;stroke-linecap:round;stroke-width:2.7;\"/>\n   </g>\n   <g id=\"line2d_82\">\n    <path clip-path=\"url(#p96af346509)\" d=\"M 0 0 \n\" style=\"fill:none;stroke:#3db7d6;stroke-linecap:round;stroke-width:2.7;\"/>\n   </g>\n   <g id=\"line2d_83\">\n    <path clip-path=\"url(#p96af346509)\" d=\"M 0 0 \n\" style=\"fill:none;stroke:#3db7d6;stroke-linecap:round;stroke-width:2.7;\"/>\n   </g>\n   <g id=\"line2d_84\">\n    <path clip-path=\"url(#p96af346509)\" d=\"M 0 0 \n\" style=\"fill:none;stroke:#3db7d6;stroke-linecap:round;stroke-width:2.7;\"/>\n   </g>\n   <g id=\"PathCollection_20\">\n    <defs>\n     <path d=\"M 0 3.383948 \nC 0.897434 3.383948 1.758231 3.027394 2.392813 2.392813 \nC 3.027394 1.758231 3.383948 0.897434 3.383948 -0 \nC 3.383948 -0.897434 3.027394 -1.758231 2.392813 -2.392813 \nC 1.758231 -3.027394 0.897434 -3.383948 0 -3.383948 \nC -0.897434 -3.383948 -1.758231 -3.027394 -2.392813 -2.392813 \nC -3.027394 -1.758231 -3.383948 -0.897434 -3.383948 0 \nC -3.383948 0.897434 -3.027394 1.758231 -2.392813 2.392813 \nC -1.758231 3.027394 -0.897434 3.383948 0 3.383948 \nz\n\" id=\"C11_0_d1f8ef115e\"/>\n    </defs>\n   </g>\n   <g id=\"line2d_85\">\n    <path clip-path=\"url(#p96af346509)\" d=\"M 0 0 \n\" style=\"fill:none;stroke:#3fb5e6;stroke-linecap:round;stroke-width:2.7;\"/>\n   </g>\n   <g id=\"line2d_86\">\n    <path clip-path=\"url(#p96af346509)\" d=\"M 0 0 \n\" style=\"fill:none;stroke:#3fb5e6;stroke-linecap:round;stroke-width:2.7;\"/>\n   </g>\n   <g id=\"line2d_87\">\n    <path clip-path=\"url(#p96af346509)\" d=\"M 0 0 \n\" style=\"fill:none;stroke:#3fb5e6;stroke-linecap:round;stroke-width:2.7;\"/>\n   </g>\n   <g id=\"line2d_88\">\n    <path clip-path=\"url(#p96af346509)\" d=\"M 0 0 \n\" style=\"fill:none;stroke:#3fb5e6;stroke-linecap:round;stroke-width:2.7;\"/>\n   </g>\n   <g id=\"PathCollection_21\">\n    <defs>\n     <path d=\"M 0 3.383948 \nC 0.897434 3.383948 1.758231 3.027394 2.392813 2.392813 \nC 3.027394 1.758231 3.383948 0.897434 3.383948 0 \nC 3.383948 -0.897434 3.027394 -1.758231 2.392813 -2.392813 \nC 1.758231 -3.027394 0.897434 -3.383948 0 -3.383948 \nC -0.897434 -3.383948 -1.758231 -3.027394 -2.392813 -2.392813 \nC -3.027394 -1.758231 -3.383948 -0.897434 -3.383948 0 \nC -3.383948 0.897434 -3.027394 1.758231 -2.392813 2.392813 \nC -1.758231 3.027394 -0.897434 3.383948 0 3.383948 \nz\n\" id=\"ma7d543de6f\" style=\"stroke:#59b0f6;stroke-width:2.025;\"/>\n    </defs>\n    <g clip-path=\"url(#p96af346509)\">\n     <use style=\"fill:#59b0f6;stroke:#59b0f6;stroke-width:2.025;\" x=\"94.565886\" xlink:href=\"#ma7d543de6f\" y=\"184.355067\"/>\n     <use style=\"fill:#59b0f6;stroke:#59b0f6;stroke-width:2.025;\" x=\"149.90496\" xlink:href=\"#ma7d543de6f\" y=\"280.1314\"/>\n     <use style=\"fill:#59b0f6;stroke:#59b0f6;stroke-width:2.025;\" x=\"205.244033\" xlink:href=\"#ma7d543de6f\" y=\"250.775859\"/>\n    </g>\n   </g>\n   <g id=\"line2d_89\">\n    <path clip-path=\"url(#p96af346509)\" d=\"M 94.565886 184.355067 \nL 149.90496 280.1314 \nL 205.244033 250.775859 \n\" style=\"fill:none;stroke:#59b0f6;stroke-linecap:round;stroke-width:2.7;\"/>\n   </g>\n   <g id=\"line2d_90\">\n    <path clip-path=\"url(#p96af346509)\" d=\"M 0 0 \n\" style=\"fill:none;stroke:#59b0f6;stroke-linecap:round;stroke-width:2.7;\"/>\n   </g>\n   <g id=\"line2d_91\">\n    <path clip-path=\"url(#p96af346509)\" d=\"M 0 0 \n\" style=\"fill:none;stroke:#59b0f6;stroke-linecap:round;stroke-width:2.7;\"/>\n   </g>\n   <g id=\"line2d_92\">\n    <path clip-path=\"url(#p96af346509)\" d=\"M 0 0 \n\" style=\"fill:none;stroke:#59b0f6;stroke-linecap:round;stroke-width:2.7;\"/>\n   </g>\n   <g id=\"PathCollection_22\">\n    <defs>\n     <path d=\"M 0 3.383948 \nC 0.897434 3.383948 1.758231 3.027394 2.392813 2.392813 \nC 3.027394 1.758231 3.383948 0.897434 3.383948 -0 \nC 3.383948 -0.897434 3.027394 -1.758231 2.392813 -2.392813 \nC 1.758231 -3.027394 0.897434 -3.383948 0 -3.383948 \nC -0.897434 -3.383948 -1.758231 -3.027394 -2.392813 -2.392813 \nC -3.027394 -1.758231 -3.383948 -0.897434 -3.383948 0 \nC -3.383948 0.897434 -3.027394 1.758231 -2.392813 2.392813 \nC -1.758231 3.027394 -0.897434 3.383948 0 3.383948 \nz\n\" id=\"C12_0_9ce4d71c88\"/>\n    </defs>\n   </g>\n   <g id=\"line2d_93\">\n    <path clip-path=\"url(#p96af346509)\" d=\"M 0 0 \n\" style=\"fill:none;stroke:#86a8f6;stroke-linecap:round;stroke-width:2.7;\"/>\n   </g>\n   <g id=\"line2d_94\">\n    <path clip-path=\"url(#p96af346509)\" d=\"M 0 0 \n\" style=\"fill:none;stroke:#86a8f6;stroke-linecap:round;stroke-width:2.7;\"/>\n   </g>\n   <g id=\"line2d_95\">\n    <path clip-path=\"url(#p96af346509)\" d=\"M 0 0 \n\" style=\"fill:none;stroke:#86a8f6;stroke-linecap:round;stroke-width:2.7;\"/>\n   </g>\n   <g id=\"line2d_96\">\n    <path clip-path=\"url(#p96af346509)\" d=\"M 0 0 \n\" style=\"fill:none;stroke:#86a8f6;stroke-linecap:round;stroke-width:2.7;\"/>\n   </g>\n   <g id=\"PathCollection_23\">\n    <defs>\n     <path d=\"M 0 3.383948 \nC 0.897434 3.383948 1.758231 3.027394 2.392813 2.392813 \nC 3.027394 1.758231 3.383948 0.897434 3.383948 -0 \nC 3.383948 -0.897434 3.027394 -1.758231 2.392813 -2.392813 \nC 1.758231 -3.027394 0.897434 -3.383948 0 -3.383948 \nC -0.897434 -3.383948 -1.758231 -3.027394 -2.392813 -2.392813 \nC -3.027394 -1.758231 -3.383948 -0.897434 -3.383948 0 \nC -3.383948 0.897434 -3.027394 1.758231 -2.392813 2.392813 \nC -1.758231 3.027394 -0.897434 3.383948 0 3.383948 \nz\n\" id=\"C13_0_fb71435039\"/>\n    </defs>\n   </g>\n   <g id=\"line2d_97\">\n    <path clip-path=\"url(#p96af346509)\" d=\"M 0 0 \n\" style=\"fill:none;stroke:#a3a0f6;stroke-linecap:round;stroke-width:2.7;\"/>\n   </g>\n   <g id=\"line2d_98\">\n    <path clip-path=\"url(#p96af346509)\" d=\"M 0 0 \n\" style=\"fill:none;stroke:#a3a0f6;stroke-linecap:round;stroke-width:2.7;\"/>\n   </g>\n   <g id=\"line2d_99\">\n    <path clip-path=\"url(#p96af346509)\" d=\"M 0 0 \n\" style=\"fill:none;stroke:#a3a0f6;stroke-linecap:round;stroke-width:2.7;\"/>\n   </g>\n   <g id=\"line2d_100\">\n    <path clip-path=\"url(#p96af346509)\" d=\"M 0 0 \n\" style=\"fill:none;stroke:#a3a0f6;stroke-linecap:round;stroke-width:2.7;\"/>\n   </g>\n   <g id=\"PathCollection_24\">\n    <defs>\n     <path d=\"M 0 3.383948 \nC 0.897434 3.383948 1.758231 3.027394 2.392813 2.392813 \nC 3.027394 1.758231 3.383948 0.897434 3.383948 0 \nC 3.383948 -0.897434 3.027394 -1.758231 2.392813 -2.392813 \nC 1.758231 -3.027394 0.897434 -3.383948 0 -3.383948 \nC -0.897434 -3.383948 -1.758231 -3.027394 -2.392813 -2.392813 \nC -3.027394 -1.758231 -3.383948 -0.897434 -3.383948 0 \nC -3.383948 0.897434 -3.027394 1.758231 -2.392813 2.392813 \nC -1.758231 3.027394 -0.897434 3.383948 0 3.383948 \nz\n\" id=\"mb192090a18\" style=\"stroke:#bb98f6;stroke-width:2.025;\"/>\n    </defs>\n    <g clip-path=\"url(#p96af346509)\">\n     <use style=\"fill:#bb98f6;stroke:#bb98f6;stroke-width:2.025;\" x=\"98.859435\" xlink:href=\"#mb192090a18\" y=\"273.32129\"/>\n     <use style=\"fill:#bb98f6;stroke:#bb98f6;stroke-width:2.025;\" x=\"154.198509\" xlink:href=\"#mb192090a18\" y=\"300.531841\"/>\n     <use style=\"fill:#bb98f6;stroke:#bb98f6;stroke-width:2.025;\" x=\"209.537582\" xlink:href=\"#mb192090a18\" y=\"279.999823\"/>\n    </g>\n   </g>\n   <g id=\"line2d_101\">\n    <path clip-path=\"url(#p96af346509)\" d=\"M 98.859435 273.32129 \nL 154.198509 300.531841 \nL 209.537582 279.999823 \n\" style=\"fill:none;stroke:#bb98f6;stroke-linecap:round;stroke-width:2.7;\"/>\n   </g>\n   <g id=\"line2d_102\">\n    <path clip-path=\"url(#p96af346509)\" d=\"M 0 0 \n\" style=\"fill:none;stroke:#bb98f6;stroke-linecap:round;stroke-width:2.7;\"/>\n   </g>\n   <g id=\"line2d_103\">\n    <path clip-path=\"url(#p96af346509)\" d=\"M 0 0 \n\" style=\"fill:none;stroke:#bb98f6;stroke-linecap:round;stroke-width:2.7;\"/>\n   </g>\n   <g id=\"line2d_104\">\n    <path clip-path=\"url(#p96af346509)\" d=\"M 0 0 \n\" style=\"fill:none;stroke:#bb98f6;stroke-linecap:round;stroke-width:2.7;\"/>\n   </g>\n   <g id=\"PathCollection_25\">\n    <defs>\n     <path d=\"M 0 3.383948 \nC 0.897434 3.383948 1.758231 3.027394 2.392813 2.392813 \nC 3.027394 1.758231 3.383948 0.897434 3.383948 -0 \nC 3.383948 -0.897434 3.027394 -1.758231 2.392813 -2.392813 \nC 1.758231 -3.027394 0.897434 -3.383948 0 -3.383948 \nC -0.897434 -3.383948 -1.758231 -3.027394 -2.392813 -2.392813 \nC -3.027394 -1.758231 -3.383948 -0.897434 -3.383948 0 \nC -3.383948 0.897434 -3.027394 1.758231 -2.392813 2.392813 \nC -1.758231 3.027394 -0.897434 3.383948 0 3.383948 \nz\n\" id=\"C14_0_033fbb4fbc\"/>\n    </defs>\n   </g>\n   <g id=\"line2d_105\">\n    <path clip-path=\"url(#p96af346509)\" d=\"M 0 0 \n\" style=\"fill:none;stroke:#d28ef6;stroke-linecap:round;stroke-width:2.7;\"/>\n   </g>\n   <g id=\"line2d_106\">\n    <path clip-path=\"url(#p96af346509)\" d=\"M 0 0 \n\" style=\"fill:none;stroke:#d28ef6;stroke-linecap:round;stroke-width:2.7;\"/>\n   </g>\n   <g id=\"line2d_107\">\n    <path clip-path=\"url(#p96af346509)\" d=\"M 0 0 \n\" style=\"fill:none;stroke:#d28ef6;stroke-linecap:round;stroke-width:2.7;\"/>\n   </g>\n   <g id=\"line2d_108\">\n    <path clip-path=\"url(#p96af346509)\" d=\"M 0 0 \n\" style=\"fill:none;stroke:#d28ef6;stroke-linecap:round;stroke-width:2.7;\"/>\n   </g>\n   <g id=\"PathCollection_26\">\n    <defs>\n     <path d=\"M 0 3.383948 \nC 0.897434 3.383948 1.758231 3.027394 2.392813 2.392813 \nC 3.027394 1.758231 3.383948 0.897434 3.383948 -0 \nC 3.383948 -0.897434 3.027394 -1.758231 2.392813 -2.392813 \nC 1.758231 -3.027394 0.897434 -3.383948 0 -3.383948 \nC -0.897434 -3.383948 -1.758231 -3.027394 -2.392813 -2.392813 \nC -3.027394 -1.758231 -3.383948 -0.897434 -3.383948 0 \nC -3.383948 0.897434 -3.027394 1.758231 -2.392813 2.392813 \nC -1.758231 3.027394 -0.897434 3.383948 0 3.383948 \nz\n\" id=\"C15_0_cb4db14177\"/>\n    </defs>\n   </g>\n   <g id=\"line2d_109\">\n    <path clip-path=\"url(#p96af346509)\" d=\"M 0 0 \n\" style=\"fill:none;stroke:#ea80f6;stroke-linecap:round;stroke-width:2.7;\"/>\n   </g>\n   <g id=\"line2d_110\">\n    <path clip-path=\"url(#p96af346509)\" d=\"M 0 0 \n\" style=\"fill:none;stroke:#ea80f6;stroke-linecap:round;stroke-width:2.7;\"/>\n   </g>\n   <g id=\"line2d_111\">\n    <path clip-path=\"url(#p96af346509)\" d=\"M 0 0 \n\" style=\"fill:none;stroke:#ea80f6;stroke-linecap:round;stroke-width:2.7;\"/>\n   </g>\n   <g id=\"line2d_112\">\n    <path clip-path=\"url(#p96af346509)\" d=\"M 0 0 \n\" style=\"fill:none;stroke:#ea80f6;stroke-linecap:round;stroke-width:2.7;\"/>\n   </g>\n   <g id=\"PathCollection_27\">\n    <defs>\n     <path d=\"M 0 3.383948 \nC 0.897434 3.383948 1.758231 3.027394 2.392813 2.392813 \nC 3.027394 1.758231 3.383948 0.897434 3.383948 0 \nC 3.383948 -0.897434 3.027394 -1.758231 2.392813 -2.392813 \nC 1.758231 -3.027394 0.897434 -3.383948 0 -3.383948 \nC -0.897434 -3.383948 -1.758231 -3.027394 -2.392813 -2.392813 \nC -3.027394 -1.758231 -3.383948 -0.897434 -3.383948 0 \nC -3.383948 0.897434 -3.027394 1.758231 -2.392813 2.392813 \nC -1.758231 3.027394 -0.897434 3.383948 0 3.383948 \nz\n\" id=\"m8b7df93524\" style=\"stroke:#f67ce7;stroke-width:2.025;\"/>\n    </defs>\n    <g clip-path=\"url(#p96af346509)\">\n     <use style=\"fill:#f67ce7;stroke:#f67ce7;stroke-width:2.025;\" x=\"103.152984\" xlink:href=\"#m8b7df93524\" y=\"198.48427\"/>\n     <use style=\"fill:#f67ce7;stroke:#f67ce7;stroke-width:2.025;\" x=\"158.492057\" xlink:href=\"#m8b7df93524\" y=\"289.434176\"/>\n     <use style=\"fill:#f67ce7;stroke:#f67ce7;stroke-width:2.025;\" x=\"213.831131\" xlink:href=\"#m8b7df93524\" y=\"154.082301\"/>\n    </g>\n   </g>\n   <g id=\"line2d_113\">\n    <path clip-path=\"url(#p96af346509)\" d=\"M 103.152984 198.48427 \nL 158.492057 289.434176 \nL 213.831131 154.082301 \n\" style=\"fill:none;stroke:#f67ce7;stroke-linecap:round;stroke-width:2.7;\"/>\n   </g>\n   <g id=\"line2d_114\">\n    <path clip-path=\"url(#p96af346509)\" d=\"M 0 0 \n\" style=\"fill:none;stroke:#f67ce7;stroke-linecap:round;stroke-width:2.7;\"/>\n   </g>\n   <g id=\"line2d_115\">\n    <path clip-path=\"url(#p96af346509)\" d=\"M 0 0 \n\" style=\"fill:none;stroke:#f67ce7;stroke-linecap:round;stroke-width:2.7;\"/>\n   </g>\n   <g id=\"line2d_116\">\n    <path clip-path=\"url(#p96af346509)\" d=\"M 0 0 \n\" style=\"fill:none;stroke:#f67ce7;stroke-linecap:round;stroke-width:2.7;\"/>\n   </g>\n   <g id=\"PathCollection_28\">\n    <defs>\n     <path d=\"M 0 3.383948 \nC 0.897434 3.383948 1.758231 3.027394 2.392813 2.392813 \nC 3.027394 1.758231 3.383948 0.897434 3.383948 -0 \nC 3.383948 -0.897434 3.027394 -1.758231 2.392813 -2.392813 \nC 1.758231 -3.027394 0.897434 -3.383948 0 -3.383948 \nC -0.897434 -3.383948 -1.758231 -3.027394 -2.392813 -2.392813 \nC -3.027394 -1.758231 -3.383948 -0.897434 -3.383948 0 \nC -3.383948 0.897434 -3.027394 1.758231 -2.392813 2.392813 \nC -1.758231 3.027394 -0.897434 3.383948 0 3.383948 \nz\n\" id=\"C16_0_69f960b149\"/>\n    </defs>\n   </g>\n   <g id=\"line2d_117\">\n    <path clip-path=\"url(#p96af346509)\" d=\"M 0 0 \n\" style=\"fill:none;stroke:#f780d2;stroke-linecap:round;stroke-width:2.7;\"/>\n   </g>\n   <g id=\"line2d_118\">\n    <path clip-path=\"url(#p96af346509)\" d=\"M 0 0 \n\" style=\"fill:none;stroke:#f780d2;stroke-linecap:round;stroke-width:2.7;\"/>\n   </g>\n   <g id=\"line2d_119\">\n    <path clip-path=\"url(#p96af346509)\" d=\"M 0 0 \n\" style=\"fill:none;stroke:#f780d2;stroke-linecap:round;stroke-width:2.7;\"/>\n   </g>\n   <g id=\"line2d_120\">\n    <path clip-path=\"url(#p96af346509)\" d=\"M 0 0 \n\" style=\"fill:none;stroke:#f780d2;stroke-linecap:round;stroke-width:2.7;\"/>\n   </g>\n   <g id=\"PathCollection_29\">\n    <defs>\n     <path d=\"M 0 3.383948 \nC 0.897434 3.383948 1.758231 3.027394 2.392813 2.392813 \nC 3.027394 1.758231 3.383948 0.897434 3.383948 0 \nC 3.383948 -0.897434 3.027394 -1.758231 2.392813 -2.392813 \nC 1.758231 -3.027394 0.897434 -3.383948 0 -3.383948 \nC -0.897434 -3.383948 -1.758231 -3.027394 -2.392813 -2.392813 \nC -3.027394 -1.758231 -3.383948 -0.897434 -3.383948 0 \nC -3.383948 0.897434 -3.027394 1.758231 -2.392813 2.392813 \nC -1.758231 3.027394 -0.897434 3.383948 0 3.383948 \nz\n\" id=\"m2139734f81\" style=\"stroke:#f783c0;stroke-width:2.025;\"/>\n    </defs>\n    <g clip-path=\"url(#p96af346509)\">\n     <use style=\"fill:#f783c0;stroke:#f783c0;stroke-width:2.025;\" x=\"106.01535\" xlink:href=\"#m2139734f81\" y=\"300.386161\"/>\n     <use style=\"fill:#f783c0;stroke:#f783c0;stroke-width:2.025;\" x=\"161.354423\" xlink:href=\"#m2139734f81\" y=\"285.880056\"/>\n     <use style=\"fill:#f783c0;stroke:#f783c0;stroke-width:2.025;\" x=\"216.693496\" xlink:href=\"#m2139734f81\" y=\"234.427971\"/>\n    </g>\n   </g>\n   <g id=\"line2d_121\">\n    <path clip-path=\"url(#p96af346509)\" d=\"M 106.01535 300.386161 \nL 161.354423 285.880056 \nL 216.693496 234.427971 \n\" style=\"fill:none;stroke:#f783c0;stroke-linecap:round;stroke-width:2.7;\"/>\n   </g>\n   <g id=\"line2d_122\">\n    <path clip-path=\"url(#p96af346509)\" d=\"M 0 0 \n\" style=\"fill:none;stroke:#f783c0;stroke-linecap:round;stroke-width:2.7;\"/>\n   </g>\n   <g id=\"line2d_123\">\n    <path clip-path=\"url(#p96af346509)\" d=\"M 0 0 \n\" style=\"fill:none;stroke:#f783c0;stroke-linecap:round;stroke-width:2.7;\"/>\n   </g>\n   <g id=\"line2d_124\">\n    <path clip-path=\"url(#p96af346509)\" d=\"M 0 0 \n\" style=\"fill:none;stroke:#f783c0;stroke-linecap:round;stroke-width:2.7;\"/>\n   </g>\n   <g id=\"PathCollection_30\">\n    <defs>\n     <path d=\"M 0 3.383948 \nC 0.897434 3.383948 1.758231 3.027394 2.392813 2.392813 \nC 3.027394 1.758231 3.383948 0.897434 3.383948 -0 \nC 3.383948 -0.897434 3.027394 -1.758231 2.392813 -2.392813 \nC 1.758231 -3.027394 0.897434 -3.383948 0 -3.383948 \nC -0.897434 -3.383948 -1.758231 -3.027394 -2.392813 -2.392813 \nC -3.027394 -1.758231 -3.383948 -0.897434 -3.383948 0 \nC -3.383948 0.897434 -3.027394 1.758231 -2.392813 2.392813 \nC -1.758231 3.027394 -0.897434 3.383948 0 3.383948 \nz\n\" id=\"C17_0_2ee4cbb343\"/>\n    </defs>\n   </g>\n   <g id=\"line2d_125\">\n    <path clip-path=\"url(#p96af346509)\" d=\"M 0 0 \n\" style=\"fill:none;stroke:#f785ae;stroke-linecap:round;stroke-width:2.7;\"/>\n   </g>\n   <g id=\"line2d_126\">\n    <path clip-path=\"url(#p96af346509)\" d=\"M 0 0 \n\" style=\"fill:none;stroke:#f785ae;stroke-linecap:round;stroke-width:2.7;\"/>\n   </g>\n   <g id=\"line2d_127\">\n    <path clip-path=\"url(#p96af346509)\" d=\"M 0 0 \n\" style=\"fill:none;stroke:#f785ae;stroke-linecap:round;stroke-width:2.7;\"/>\n   </g>\n   <g id=\"line2d_128\">\n    <path clip-path=\"url(#p96af346509)\" d=\"M 0 0 \n\" style=\"fill:none;stroke:#f785ae;stroke-linecap:round;stroke-width:2.7;\"/>\n   </g>\n  </g>\n  <g id=\"axes_2\">\n   <g id=\"patch_5\">\n    <path d=\"M 238.010309 354.135937 \nL 404.027528 354.135937 \nL 404.027528 144.555937 \nL 238.010309 144.555937 \nz\n\" style=\"fill:#eaeaf2;\"/>\n   </g>\n   <g id=\"matplotlib.axis_3\">\n    <g id=\"xtick_4\">\n     <g id=\"text_15\">\n      <!-- 1 -->\n      <g style=\"fill:#262626;\" transform=\"translate(262.18047 371.994219)scale(0.11 -0.11)\">\n       <use xlink:href=\"#DejaVuSans-49\"/>\n      </g>\n     </g>\n    </g>\n    <g id=\"xtick_5\">\n     <g id=\"text_16\">\n      <!-- 2 -->\n      <g style=\"fill:#262626;\" transform=\"translate(317.519543 371.994219)scale(0.11 -0.11)\">\n       <use xlink:href=\"#DejaVuSans-50\"/>\n      </g>\n     </g>\n    </g>\n    <g id=\"xtick_6\">\n     <g id=\"text_17\">\n      <!-- 3 -->\n      <g style=\"fill:#262626;\" transform=\"translate(372.858617 371.994219)scale(0.11 -0.11)\">\n       <use xlink:href=\"#DejaVuSans-51\"/>\n      </g>\n     </g>\n    </g>\n    <g id=\"text_18\">\n     <!-- block -->\n     <g style=\"fill:#262626;\" transform=\"translate(305.098293 387.4)scale(0.12 -0.12)\">\n      <use xlink:href=\"#DejaVuSans-98\"/>\n      <use x=\"63.476562\" xlink:href=\"#DejaVuSans-108\"/>\n      <use x=\"91.259766\" xlink:href=\"#DejaVuSans-111\"/>\n      <use x=\"152.441406\" xlink:href=\"#DejaVuSans-99\"/>\n      <use x=\"207.421875\" xlink:href=\"#DejaVuSans-107\"/>\n     </g>\n    </g>\n   </g>\n   <g id=\"matplotlib.axis_4\">\n    <g id=\"ytick_9\">\n     <g id=\"line2d_129\">\n      <path clip-path=\"url(#p1f107a4c4f)\" d=\"M 238.010309 353.519318 \nL 404.027528 353.519318 \n\" style=\"fill:none;stroke:#ffffff;stroke-linecap:round;\"/>\n     </g>\n    </g>\n    <g id=\"ytick_10\">\n     <g id=\"line2d_130\">\n      <path clip-path=\"url(#p1f107a4c4f)\" d=\"M 238.010309 323.94673 \nL 404.027528 323.94673 \n\" style=\"fill:none;stroke:#ffffff;stroke-linecap:round;\"/>\n     </g>\n    </g>\n    <g id=\"ytick_11\">\n     <g id=\"line2d_131\">\n      <path clip-path=\"url(#p1f107a4c4f)\" d=\"M 238.010309 294.374142 \nL 404.027528 294.374142 \n\" style=\"fill:none;stroke:#ffffff;stroke-linecap:round;\"/>\n     </g>\n    </g>\n    <g id=\"ytick_12\">\n     <g id=\"line2d_132\">\n      <path clip-path=\"url(#p1f107a4c4f)\" d=\"M 238.010309 264.801555 \nL 404.027528 264.801555 \n\" style=\"fill:none;stroke:#ffffff;stroke-linecap:round;\"/>\n     </g>\n    </g>\n    <g id=\"ytick_13\">\n     <g id=\"line2d_133\">\n      <path clip-path=\"url(#p1f107a4c4f)\" d=\"M 238.010309 235.228967 \nL 404.027528 235.228967 \n\" style=\"fill:none;stroke:#ffffff;stroke-linecap:round;\"/>\n     </g>\n    </g>\n    <g id=\"ytick_14\">\n     <g id=\"line2d_134\">\n      <path clip-path=\"url(#p1f107a4c4f)\" d=\"M 238.010309 205.65638 \nL 404.027528 205.65638 \n\" style=\"fill:none;stroke:#ffffff;stroke-linecap:round;\"/>\n     </g>\n    </g>\n    <g id=\"ytick_15\">\n     <g id=\"line2d_135\">\n      <path clip-path=\"url(#p1f107a4c4f)\" d=\"M 238.010309 176.083792 \nL 404.027528 176.083792 \n\" style=\"fill:none;stroke:#ffffff;stroke-linecap:round;\"/>\n     </g>\n    </g>\n    <g id=\"ytick_16\">\n     <g id=\"line2d_136\">\n      <path clip-path=\"url(#p1f107a4c4f)\" d=\"M 238.010309 146.511204 \nL 404.027528 146.511204 \n\" style=\"fill:none;stroke:#ffffff;stroke-linecap:round;\"/>\n     </g>\n    </g>\n   </g>\n   <g id=\"PathCollection_31\">\n    <defs>\n     <path d=\"M 0 3.383948 \nC 0.897434 3.383948 1.758231 3.027394 2.392813 2.392813 \nC 3.027394 1.758231 3.383948 0.897434 3.383948 -0 \nC 3.383948 -0.897434 3.027394 -1.758231 2.392813 -2.392813 \nC 1.758231 -3.027394 0.897434 -3.383948 0 -3.383948 \nC -0.897434 -3.383948 -1.758231 -3.027394 -2.392813 -2.392813 \nC -3.027394 -1.758231 -3.383948 -0.897434 -3.383948 0 \nC -3.383948 0.897434 -3.027394 1.758231 -2.392813 2.392813 \nC -1.758231 3.027394 -0.897434 3.383948 0 3.383948 \nz\n\" id=\"C18_0_834737bc11\"/>\n    </defs>\n   </g>\n   <g id=\"line2d_137\">\n    <path clip-path=\"url(#p1f107a4c4f)\" d=\"M 0 0 \n\" style=\"fill:none;stroke:#f8889a;stroke-linecap:round;stroke-width:2.7;\"/>\n   </g>\n   <g id=\"line2d_138\">\n    <path clip-path=\"url(#p1f107a4c4f)\" d=\"M 0 0 \n\" style=\"fill:none;stroke:#f8889a;stroke-linecap:round;stroke-width:2.7;\"/>\n   </g>\n   <g id=\"line2d_139\">\n    <path clip-path=\"url(#p1f107a4c4f)\" d=\"M 0 0 \n\" style=\"fill:none;stroke:#f8889a;stroke-linecap:round;stroke-width:2.7;\"/>\n   </g>\n   <g id=\"line2d_140\">\n    <path clip-path=\"url(#p1f107a4c4f)\" d=\"M 0 0 \n\" style=\"fill:none;stroke:#f8889a;stroke-linecap:round;stroke-width:2.7;\"/>\n   </g>\n   <g id=\"PathCollection_32\">\n    <defs>\n     <path d=\"M 0 3.383948 \nC 0.897434 3.383948 1.758231 3.027394 2.392813 2.392813 \nC 3.027394 1.758231 3.383948 0.897434 3.383948 -0 \nC 3.383948 -0.897434 3.027394 -1.758231 2.392813 -2.392813 \nC 1.758231 -3.027394 0.897434 -3.383948 0 -3.383948 \nC -0.897434 -3.383948 -1.758231 -3.027394 -2.392813 -2.392813 \nC -3.027394 -1.758231 -3.383948 -0.897434 -3.383948 0 \nC -3.383948 0.897434 -3.027394 1.758231 -2.392813 2.392813 \nC -1.758231 3.027394 -0.897434 3.383948 0 3.383948 \nz\n\" id=\"C19_0_a52083d4c7\"/>\n    </defs>\n   </g>\n   <g id=\"line2d_141\">\n    <path clip-path=\"url(#p1f107a4c4f)\" d=\"M 0 0 \n\" style=\"fill:none;stroke:#f88a82;stroke-linecap:round;stroke-width:2.7;\"/>\n   </g>\n   <g id=\"line2d_142\">\n    <path clip-path=\"url(#p1f107a4c4f)\" d=\"M 0 0 \n\" style=\"fill:none;stroke:#f88a82;stroke-linecap:round;stroke-width:2.7;\"/>\n   </g>\n   <g id=\"line2d_143\">\n    <path clip-path=\"url(#p1f107a4c4f)\" d=\"M 0 0 \n\" style=\"fill:none;stroke:#f88a82;stroke-linecap:round;stroke-width:2.7;\"/>\n   </g>\n   <g id=\"line2d_144\">\n    <path clip-path=\"url(#p1f107a4c4f)\" d=\"M 0 0 \n\" style=\"fill:none;stroke:#f88a82;stroke-linecap:round;stroke-width:2.7;\"/>\n   </g>\n   <g id=\"patch_6\">\n    <path d=\"M 238.010309 354.135937 \nL 238.010309 144.555938 \n\" style=\"fill:none;stroke:#ffffff;stroke-linecap:square;stroke-linejoin:miter;stroke-width:1.25;\"/>\n   </g>\n   <g id=\"patch_7\">\n    <path d=\"M 238.010309 354.135937 \nL 404.027528 354.135937 \n\" style=\"fill:none;stroke:#ffffff;stroke-linecap:square;stroke-linejoin:miter;stroke-width:1.25;\"/>\n   </g>\n   <g id=\"PathCollection_33\">\n    <defs>\n     <path d=\"M 0 3.383948 \nC 0.897434 3.383948 1.758231 3.027394 2.392813 2.392813 \nC 3.027394 1.758231 3.383948 0.897434 3.383948 -0 \nC 3.383948 -0.897434 3.027394 -1.758231 2.392813 -2.392813 \nC 1.758231 -3.027394 0.897434 -3.383948 0 -3.383948 \nC -0.897434 -3.383948 -1.758231 -3.027394 -2.392813 -2.392813 \nC -3.027394 -1.758231 -3.383948 -0.897434 -3.383948 0 \nC -3.383948 0.897434 -3.027394 1.758231 -2.392813 2.392813 \nC -1.758231 3.027394 -0.897434 3.383948 0 3.383948 \nz\n\" id=\"C1a_0_9e4e55976f\"/>\n    </defs>\n   </g>\n   <g id=\"line2d_145\">\n    <path clip-path=\"url(#p1f107a4c4f)\" d=\"M 0 0 \n\" style=\"fill:none;stroke:#f88d5d;stroke-linecap:round;stroke-width:2.7;\"/>\n   </g>\n   <g id=\"line2d_146\">\n    <path clip-path=\"url(#p1f107a4c4f)\" d=\"M 0 0 \n\" style=\"fill:none;stroke:#f88d5d;stroke-linecap:round;stroke-width:2.7;\"/>\n   </g>\n   <g id=\"line2d_147\">\n    <path clip-path=\"url(#p1f107a4c4f)\" d=\"M 0 0 \n\" style=\"fill:none;stroke:#f88d5d;stroke-linecap:round;stroke-width:2.7;\"/>\n   </g>\n   <g id=\"line2d_148\">\n    <path clip-path=\"url(#p1f107a4c4f)\" d=\"M 0 0 \n\" style=\"fill:none;stroke:#f88d5d;stroke-linecap:round;stroke-width:2.7;\"/>\n   </g>\n   <g id=\"text_19\">\n    <!-- condition = df2 -->\n    <g style=\"fill:#262626;\" transform=\"translate(274.697043 138.555938)scale(0.12 -0.12)\">\n     <use xlink:href=\"#DejaVuSans-99\"/>\n     <use x=\"54.980469\" xlink:href=\"#DejaVuSans-111\"/>\n     <use x=\"116.162109\" xlink:href=\"#DejaVuSans-110\"/>\n     <use x=\"179.541016\" xlink:href=\"#DejaVuSans-100\"/>\n     <use x=\"243.017578\" xlink:href=\"#DejaVuSans-105\"/>\n     <use x=\"270.800781\" xlink:href=\"#DejaVuSans-116\"/>\n     <use x=\"310.009766\" xlink:href=\"#DejaVuSans-105\"/>\n     <use x=\"337.792969\" xlink:href=\"#DejaVuSans-111\"/>\n     <use x=\"398.974609\" xlink:href=\"#DejaVuSans-110\"/>\n     <use x=\"462.353516\" xlink:href=\"#DejaVuSans-32\"/>\n     <use x=\"494.140625\" xlink:href=\"#DejaVuSans-61\"/>\n     <use x=\"577.929688\" xlink:href=\"#DejaVuSans-32\"/>\n     <use x=\"609.716797\" xlink:href=\"#DejaVuSans-100\"/>\n     <use x=\"673.193359\" xlink:href=\"#DejaVuSans-102\"/>\n     <use x=\"708.398438\" xlink:href=\"#DejaVuSans-50\"/>\n    </g>\n   </g>\n   <g id=\"PathCollection_34\">\n    <defs>\n     <path d=\"M 0 3.383948 \nC 0.897434 3.383948 1.758231 3.027394 2.392813 2.392813 \nC 3.027394 1.758231 3.383948 0.897434 3.383948 0 \nC 3.383948 -0.897434 3.027394 -1.758231 2.392813 -2.392813 \nC 1.758231 -3.027394 0.897434 -3.383948 0 -3.383948 \nC -0.897434 -3.383948 -1.758231 -3.027394 -2.392813 -2.392813 \nC -3.027394 -1.758231 -3.383948 -0.897434 -3.383948 0 \nC -3.383948 0.897434 -3.027394 1.758231 -2.392813 2.392813 \nC -1.758231 3.027394 -0.897434 3.383948 0 3.383948 \nz\n\" id=\"m4c88ac287a\" style=\"stroke:#ee9537;stroke-width:2.025;\"/>\n    </defs>\n    <g clip-path=\"url(#p1f107a4c4f)\">\n     <use style=\"fill:#ee9537;stroke:#ee9537;stroke-width:2.025;\" x=\"249.221242\" xlink:href=\"#m4c88ac287a\" y=\"199.83075\"/>\n     <use style=\"fill:#ee9537;stroke:#ee9537;stroke-width:2.025;\" x=\"304.560315\" xlink:href=\"#m4c88ac287a\" y=\"283.069215\"/>\n     <use style=\"fill:#ee9537;stroke:#ee9537;stroke-width:2.025;\" x=\"359.899388\" xlink:href=\"#m4c88ac287a\" y=\"194.227891\"/>\n    </g>\n   </g>\n   <g id=\"line2d_149\">\n    <path clip-path=\"url(#p1f107a4c4f)\" d=\"M 249.221242 199.83075 \nL 304.560315 283.069215 \nL 359.899388 194.227891 \n\" style=\"fill:none;stroke:#ee9537;stroke-linecap:round;stroke-width:2.7;\"/>\n   </g>\n   <g id=\"line2d_150\">\n    <path clip-path=\"url(#p1f107a4c4f)\" d=\"M 0 0 \n\" style=\"fill:none;stroke:#ee9537;stroke-linecap:round;stroke-width:2.7;\"/>\n   </g>\n   <g id=\"line2d_151\">\n    <path clip-path=\"url(#p1f107a4c4f)\" d=\"M 0 0 \n\" style=\"fill:none;stroke:#ee9537;stroke-linecap:round;stroke-width:2.7;\"/>\n   </g>\n   <g id=\"line2d_152\">\n    <path clip-path=\"url(#p1f107a4c4f)\" d=\"M 0 0 \n\" style=\"fill:none;stroke:#ee9537;stroke-linecap:round;stroke-width:2.7;\"/>\n   </g>\n   <g id=\"PathCollection_35\">\n    <defs>\n     <path d=\"M 0 3.383948 \nC 0.897434 3.383948 1.758231 3.027394 2.392813 2.392813 \nC 3.027394 1.758231 3.383948 0.897434 3.383948 -0 \nC 3.383948 -0.897434 3.027394 -1.758231 2.392813 -2.392813 \nC 1.758231 -3.027394 0.897434 -3.383948 0 -3.383948 \nC -0.897434 -3.383948 -1.758231 -3.027394 -2.392813 -2.392813 \nC -3.027394 -1.758231 -3.383948 -0.897434 -3.383948 0 \nC -3.383948 0.897434 -3.027394 1.758231 -2.392813 2.392813 \nC -1.758231 3.027394 -0.897434 3.383948 0 3.383948 \nz\n\" id=\"C1b_0_af46f52a93\"/>\n    </defs>\n   </g>\n   <g id=\"line2d_153\">\n    <path clip-path=\"url(#p1f107a4c4f)\" d=\"M 0 0 \n\" style=\"fill:none;stroke:#db9e37;stroke-linecap:round;stroke-width:2.7;\"/>\n   </g>\n   <g id=\"line2d_154\">\n    <path clip-path=\"url(#p1f107a4c4f)\" d=\"M 0 0 \n\" style=\"fill:none;stroke:#db9e37;stroke-linecap:round;stroke-width:2.7;\"/>\n   </g>\n   <g id=\"line2d_155\">\n    <path clip-path=\"url(#p1f107a4c4f)\" d=\"M 0 0 \n\" style=\"fill:none;stroke:#db9e37;stroke-linecap:round;stroke-width:2.7;\"/>\n   </g>\n   <g id=\"line2d_156\">\n    <path clip-path=\"url(#p1f107a4c4f)\" d=\"M 0 0 \n\" style=\"fill:none;stroke:#db9e37;stroke-linecap:round;stroke-width:2.7;\"/>\n   </g>\n   <g id=\"PathCollection_36\">\n    <defs>\n     <path d=\"M 0 3.383948 \nC 0.897434 3.383948 1.758231 3.027394 2.392813 2.392813 \nC 3.027394 1.758231 3.383948 0.897434 3.383948 -0 \nC 3.383948 -0.897434 3.027394 -1.758231 2.392813 -2.392813 \nC 1.758231 -3.027394 0.897434 -3.383948 0 -3.383948 \nC -0.897434 -3.383948 -1.758231 -3.027394 -2.392813 -2.392813 \nC -3.027394 -1.758231 -3.383948 -0.897434 -3.383948 0 \nC -3.383948 0.897434 -3.027394 1.758231 -2.392813 2.392813 \nC -1.758231 3.027394 -0.897434 3.383948 0 3.383948 \nz\n\" id=\"C1c_0_825141f2a7\"/>\n    </defs>\n   </g>\n   <g id=\"line2d_157\">\n    <path clip-path=\"url(#p1f107a4c4f)\" d=\"M 0 0 \n\" style=\"fill:none;stroke:#cba537;stroke-linecap:round;stroke-width:2.7;\"/>\n   </g>\n   <g id=\"line2d_158\">\n    <path clip-path=\"url(#p1f107a4c4f)\" d=\"M 0 0 \n\" style=\"fill:none;stroke:#cba537;stroke-linecap:round;stroke-width:2.7;\"/>\n   </g>\n   <g id=\"line2d_159\">\n    <path clip-path=\"url(#p1f107a4c4f)\" d=\"M 0 0 \n\" style=\"fill:none;stroke:#cba537;stroke-linecap:round;stroke-width:2.7;\"/>\n   </g>\n   <g id=\"line2d_160\">\n    <path clip-path=\"url(#p1f107a4c4f)\" d=\"M 0 0 \n\" style=\"fill:none;stroke:#cba537;stroke-linecap:round;stroke-width:2.7;\"/>\n   </g>\n   <g id=\"PathCollection_37\">\n    <defs>\n     <path d=\"M 0 3.383948 \nC 0.897434 3.383948 1.758231 3.027394 2.392813 2.392813 \nC 3.027394 1.758231 3.383948 0.897434 3.383948 -0 \nC 3.383948 -0.897434 3.027394 -1.758231 2.392813 -2.392813 \nC 1.758231 -3.027394 0.897434 -3.383948 0 -3.383948 \nC -0.897434 -3.383948 -1.758231 -3.027394 -2.392813 -2.392813 \nC -3.027394 -1.758231 -3.383948 -0.897434 -3.383948 0 \nC -3.383948 0.897434 -3.027394 1.758231 -2.392813 2.392813 \nC -1.758231 3.027394 -0.897434 3.383948 0 3.383948 \nz\n\" id=\"C1d_0_f2d5efe8ab\"/>\n    </defs>\n   </g>\n   <g id=\"line2d_161\">\n    <path clip-path=\"url(#p1f107a4c4f)\" d=\"M 0 0 \n\" style=\"fill:none;stroke:#bcaa36;stroke-linecap:round;stroke-width:2.7;\"/>\n   </g>\n   <g id=\"line2d_162\">\n    <path clip-path=\"url(#p1f107a4c4f)\" d=\"M 0 0 \n\" style=\"fill:none;stroke:#bcaa36;stroke-linecap:round;stroke-width:2.7;\"/>\n   </g>\n   <g id=\"line2d_163\">\n    <path clip-path=\"url(#p1f107a4c4f)\" d=\"M 0 0 \n\" style=\"fill:none;stroke:#bcaa36;stroke-linecap:round;stroke-width:2.7;\"/>\n   </g>\n   <g id=\"line2d_164\">\n    <path clip-path=\"url(#p1f107a4c4f)\" d=\"M 0 0 \n\" style=\"fill:none;stroke:#bcaa36;stroke-linecap:round;stroke-width:2.7;\"/>\n   </g>\n   <g id=\"PathCollection_38\">\n    <defs>\n     <path d=\"M 0 3.383948 \nC 0.897434 3.383948 1.758231 3.027394 2.392813 2.392813 \nC 3.027394 1.758231 3.383948 0.897434 3.383948 -0 \nC 3.383948 -0.897434 3.027394 -1.758231 2.392813 -2.392813 \nC 1.758231 -3.027394 0.897434 -3.383948 0 -3.383948 \nC -0.897434 -3.383948 -1.758231 -3.027394 -2.392813 -2.392813 \nC -3.027394 -1.758231 -3.383948 -0.897434 -3.383948 0 \nC -3.383948 0.897434 -3.027394 1.758231 -2.392813 2.392813 \nC -1.758231 3.027394 -0.897434 3.383948 0 3.383948 \nz\n\" id=\"C1e_0_d70684d259\"/>\n    </defs>\n   </g>\n   <g id=\"line2d_165\">\n    <path clip-path=\"url(#p1f107a4c4f)\" d=\"M 0 0 \n\" style=\"fill:none;stroke:#acaf36;stroke-linecap:round;stroke-width:2.7;\"/>\n   </g>\n   <g id=\"line2d_166\">\n    <path clip-path=\"url(#p1f107a4c4f)\" d=\"M 0 0 \n\" style=\"fill:none;stroke:#acaf36;stroke-linecap:round;stroke-width:2.7;\"/>\n   </g>\n   <g id=\"line2d_167\">\n    <path clip-path=\"url(#p1f107a4c4f)\" d=\"M 0 0 \n\" style=\"fill:none;stroke:#acaf36;stroke-linecap:round;stroke-width:2.7;\"/>\n   </g>\n   <g id=\"line2d_168\">\n    <path clip-path=\"url(#p1f107a4c4f)\" d=\"M 0 0 \n\" style=\"fill:none;stroke:#acaf36;stroke-linecap:round;stroke-width:2.7;\"/>\n   </g>\n   <g id=\"PathCollection_39\">\n    <defs>\n     <path d=\"M 0 3.383948 \nC 0.897434 3.383948 1.758231 3.027394 2.392813 2.392813 \nC 3.027394 1.758231 3.383948 0.897434 3.383948 -0 \nC 3.383948 -0.897434 3.027394 -1.758231 2.392813 -2.392813 \nC 1.758231 -3.027394 0.897434 -3.383948 0 -3.383948 \nC -0.897434 -3.383948 -1.758231 -3.027394 -2.392813 -2.392813 \nC -3.027394 -1.758231 -3.383948 -0.897434 -3.383948 0 \nC -3.383948 0.897434 -3.027394 1.758231 -2.392813 2.392813 \nC -1.758231 3.027394 -0.897434 3.383948 0 3.383948 \nz\n\" id=\"C1f_0_cfa65a516b\"/>\n    </defs>\n   </g>\n   <g id=\"line2d_169\">\n    <path clip-path=\"url(#p1f107a4c4f)\" d=\"M 0 0 \n\" style=\"fill:none;stroke:#9ab436;stroke-linecap:round;stroke-width:2.7;\"/>\n   </g>\n   <g id=\"line2d_170\">\n    <path clip-path=\"url(#p1f107a4c4f)\" d=\"M 0 0 \n\" style=\"fill:none;stroke:#9ab436;stroke-linecap:round;stroke-width:2.7;\"/>\n   </g>\n   <g id=\"line2d_171\">\n    <path clip-path=\"url(#p1f107a4c4f)\" d=\"M 0 0 \n\" style=\"fill:none;stroke:#9ab436;stroke-linecap:round;stroke-width:2.7;\"/>\n   </g>\n   <g id=\"line2d_172\">\n    <path clip-path=\"url(#p1f107a4c4f)\" d=\"M 0 0 \n\" style=\"fill:none;stroke:#9ab436;stroke-linecap:round;stroke-width:2.7;\"/>\n   </g>\n   <g id=\"PathCollection_40\">\n    <defs>\n     <path d=\"M 0 3.383948 \nC 0.897434 3.383948 1.758231 3.027394 2.392813 2.392813 \nC 3.027394 1.758231 3.383948 0.897434 3.383948 -0 \nC 3.383948 -0.897434 3.027394 -1.758231 2.392813 -2.392813 \nC 1.758231 -3.027394 0.897434 -3.383948 0 -3.383948 \nC -0.897434 -3.383948 -1.758231 -3.027394 -2.392813 -2.392813 \nC -3.027394 -1.758231 -3.383948 -0.897434 -3.383948 0 \nC -3.383948 0.897434 -3.027394 1.758231 -2.392813 2.392813 \nC -1.758231 3.027394 -0.897434 3.383948 0 3.383948 \nz\n\" id=\"C20_0_a3dc4502bc\"/>\n    </defs>\n   </g>\n   <g id=\"line2d_173\">\n    <path clip-path=\"url(#p1f107a4c4f)\" d=\"M 0 0 \n\" style=\"fill:none;stroke:#82b936;stroke-linecap:round;stroke-width:2.7;\"/>\n   </g>\n   <g id=\"line2d_174\">\n    <path clip-path=\"url(#p1f107a4c4f)\" d=\"M 0 0 \n\" style=\"fill:none;stroke:#82b936;stroke-linecap:round;stroke-width:2.7;\"/>\n   </g>\n   <g id=\"line2d_175\">\n    <path clip-path=\"url(#p1f107a4c4f)\" d=\"M 0 0 \n\" style=\"fill:none;stroke:#82b936;stroke-linecap:round;stroke-width:2.7;\"/>\n   </g>\n   <g id=\"line2d_176\">\n    <path clip-path=\"url(#p1f107a4c4f)\" d=\"M 0 0 \n\" style=\"fill:none;stroke:#82b936;stroke-linecap:round;stroke-width:2.7;\"/>\n   </g>\n   <g id=\"PathCollection_41\">\n    <defs>\n     <path d=\"M 0 3.383948 \nC 0.897434 3.383948 1.758231 3.027394 2.392813 2.392813 \nC 3.027394 1.758231 3.383948 0.897434 3.383948 -0 \nC 3.383948 -0.897434 3.027394 -1.758231 2.392813 -2.392813 \nC 1.758231 -3.027394 0.897434 -3.383948 0 -3.383948 \nC -0.897434 -3.383948 -1.758231 -3.027394 -2.392813 -2.392813 \nC -3.027394 -1.758231 -3.383948 -0.897434 -3.383948 0 \nC -3.383948 0.897434 -3.027394 1.758231 -2.392813 2.392813 \nC -1.758231 3.027394 -0.897434 3.383948 0 3.383948 \nz\n\" id=\"C21_0_16a17bccac\"/>\n    </defs>\n   </g>\n   <g id=\"line2d_177\">\n    <path clip-path=\"url(#p1f107a4c4f)\" d=\"M 0 0 \n\" style=\"fill:none;stroke:#57bf36;stroke-linecap:round;stroke-width:2.7;\"/>\n   </g>\n   <g id=\"line2d_178\">\n    <path clip-path=\"url(#p1f107a4c4f)\" d=\"M 0 0 \n\" style=\"fill:none;stroke:#57bf36;stroke-linecap:round;stroke-width:2.7;\"/>\n   </g>\n   <g id=\"line2d_179\">\n    <path clip-path=\"url(#p1f107a4c4f)\" d=\"M 0 0 \n\" style=\"fill:none;stroke:#57bf36;stroke-linecap:round;stroke-width:2.7;\"/>\n   </g>\n   <g id=\"line2d_180\">\n    <path clip-path=\"url(#p1f107a4c4f)\" d=\"M 0 0 \n\" style=\"fill:none;stroke:#57bf36;stroke-linecap:round;stroke-width:2.7;\"/>\n   </g>\n   <g id=\"PathCollection_42\">\n    <defs>\n     <path d=\"M 0 3.383948 \nC 0.897434 3.383948 1.758231 3.027394 2.392813 2.392813 \nC 3.027394 1.758231 3.383948 0.897434 3.383948 0 \nC 3.383948 -0.897434 3.027394 -1.758231 2.392813 -2.392813 \nC 1.758231 -3.027394 0.897434 -3.383948 0 -3.383948 \nC -0.897434 -3.383948 -1.758231 -3.027394 -2.392813 -2.392813 \nC -3.027394 -1.758231 -3.383948 -0.897434 -3.383948 0 \nC -3.383948 0.897434 -3.027394 1.758231 -2.392813 2.392813 \nC -1.758231 3.027394 -0.897434 3.383948 0 3.383948 \nz\n\" id=\"m0ce6c70315\" style=\"stroke:#37c164;stroke-width:2.025;\"/>\n    </defs>\n    <g clip-path=\"url(#p1f107a4c4f)\">\n     <use style=\"fill:#37c164;stroke:#37c164;stroke-width:2.025;\" x=\"260.670705\" xlink:href=\"#m0ce6c70315\" y=\"274.825859\"/>\n     <use style=\"fill:#37c164;stroke:#37c164;stroke-width:2.025;\" x=\"316.009778\" xlink:href=\"#m0ce6c70315\" y=\"279.891471\"/>\n     <use style=\"fill:#37c164;stroke:#37c164;stroke-width:2.025;\" x=\"371.348851\" xlink:href=\"#m0ce6c70315\" y=\"306.232917\"/>\n    </g>\n   </g>\n   <g id=\"line2d_181\">\n    <path clip-path=\"url(#p1f107a4c4f)\" d=\"M 260.670705 274.825859 \nL 316.009778 279.891471 \nL 371.348851 306.232917 \n\" style=\"fill:none;stroke:#37c164;stroke-linecap:round;stroke-width:2.7;\"/>\n   </g>\n   <g id=\"line2d_182\">\n    <path clip-path=\"url(#p1f107a4c4f)\" d=\"M 0 0 \n\" style=\"fill:none;stroke:#37c164;stroke-linecap:round;stroke-width:2.7;\"/>\n   </g>\n   <g id=\"line2d_183\">\n    <path clip-path=\"url(#p1f107a4c4f)\" d=\"M 0 0 \n\" style=\"fill:none;stroke:#37c164;stroke-linecap:round;stroke-width:2.7;\"/>\n   </g>\n   <g id=\"line2d_184\">\n    <path clip-path=\"url(#p1f107a4c4f)\" d=\"M 0 0 \n\" style=\"fill:none;stroke:#37c164;stroke-linecap:round;stroke-width:2.7;\"/>\n   </g>\n   <g id=\"PathCollection_43\">\n    <defs>\n     <path d=\"M 0 3.383948 \nC 0.897434 3.383948 1.758231 3.027394 2.392813 2.392813 \nC 3.027394 1.758231 3.383948 0.897434 3.383948 -0 \nC 3.383948 -0.897434 3.027394 -1.758231 2.392813 -2.392813 \nC 1.758231 -3.027394 0.897434 -3.383948 0 -3.383948 \nC -0.897434 -3.383948 -1.758231 -3.027394 -2.392813 -2.392813 \nC -3.027394 -1.758231 -3.383948 -0.897434 -3.383948 0 \nC -3.383948 0.897434 -3.027394 1.758231 -2.392813 2.392813 \nC -1.758231 3.027394 -0.897434 3.383948 0 3.383948 \nz\n\" id=\"C22_0_cf914798b8\"/>\n    </defs>\n   </g>\n   <g id=\"line2d_185\">\n    <path clip-path=\"url(#p1f107a4c4f)\" d=\"M 0 0 \n\" style=\"fill:none;stroke:#38bf85;stroke-linecap:round;stroke-width:2.7;\"/>\n   </g>\n   <g id=\"line2d_186\">\n    <path clip-path=\"url(#p1f107a4c4f)\" d=\"M 0 0 \n\" style=\"fill:none;stroke:#38bf85;stroke-linecap:round;stroke-width:2.7;\"/>\n   </g>\n   <g id=\"line2d_187\">\n    <path clip-path=\"url(#p1f107a4c4f)\" d=\"M 0 0 \n\" style=\"fill:none;stroke:#38bf85;stroke-linecap:round;stroke-width:2.7;\"/>\n   </g>\n   <g id=\"line2d_188\">\n    <path clip-path=\"url(#p1f107a4c4f)\" d=\"M 0 0 \n\" style=\"fill:none;stroke:#38bf85;stroke-linecap:round;stroke-width:2.7;\"/>\n   </g>\n   <g id=\"PathCollection_44\">\n    <defs>\n     <path d=\"M 0 3.383948 \nC 0.897434 3.383948 1.758231 3.027394 2.392813 2.392813 \nC 3.027394 1.758231 3.383948 0.897434 3.383948 0 \nC 3.383948 -0.897434 3.027394 -1.758231 2.392813 -2.392813 \nC 1.758231 -3.027394 0.897434 -3.383948 0 -3.383948 \nC -0.897434 -3.383948 -1.758231 -3.027394 -2.392813 -2.392813 \nC -3.027394 -1.758231 -3.383948 -0.897434 -3.383948 0 \nC -3.383948 0.897434 -3.027394 1.758231 -2.392813 2.392813 \nC -1.758231 3.027394 -0.897434 3.383948 0 3.383948 \nz\n\" id=\"m2b3344f897\" style=\"stroke:#39be98;stroke-width:2.025;\"/>\n    </defs>\n    <g clip-path=\"url(#p1f107a4c4f)\">\n     <use style=\"fill:#39be98;stroke:#39be98;stroke-width:2.025;\" x=\"263.533071\" xlink:href=\"#m2b3344f897\" y=\"278.1902\"/>\n     <use style=\"fill:#39be98;stroke:#39be98;stroke-width:2.025;\" x=\"318.872144\" xlink:href=\"#m2b3344f897\" y=\"288.188173\"/>\n     <use style=\"fill:#39be98;stroke:#39be98;stroke-width:2.025;\" x=\"374.211217\" xlink:href=\"#m2b3344f897\" y=\"311.584846\"/>\n    </g>\n   </g>\n   <g id=\"line2d_189\">\n    <path clip-path=\"url(#p1f107a4c4f)\" d=\"M 263.533071 278.1902 \nL 318.872144 288.188173 \nL 374.211217 311.584846 \n\" style=\"fill:none;stroke:#39be98;stroke-linecap:round;stroke-width:2.7;\"/>\n   </g>\n   <g id=\"line2d_190\">\n    <path clip-path=\"url(#p1f107a4c4f)\" d=\"M 0 0 \n\" style=\"fill:none;stroke:#39be98;stroke-linecap:round;stroke-width:2.7;\"/>\n   </g>\n   <g id=\"line2d_191\">\n    <path clip-path=\"url(#p1f107a4c4f)\" d=\"M 0 0 \n\" style=\"fill:none;stroke:#39be98;stroke-linecap:round;stroke-width:2.7;\"/>\n   </g>\n   <g id=\"line2d_192\">\n    <path clip-path=\"url(#p1f107a4c4f)\" d=\"M 0 0 \n\" style=\"fill:none;stroke:#39be98;stroke-linecap:round;stroke-width:2.7;\"/>\n   </g>\n   <g id=\"PathCollection_45\">\n    <defs>\n     <path d=\"M 0 3.383948 \nC 0.897434 3.383948 1.758231 3.027394 2.392813 2.392813 \nC 3.027394 1.758231 3.383948 0.897434 3.383948 -0 \nC 3.383948 -0.897434 3.027394 -1.758231 2.392813 -2.392813 \nC 1.758231 -3.027394 0.897434 -3.383948 0 -3.383948 \nC -0.897434 -3.383948 -1.758231 -3.027394 -2.392813 -2.392813 \nC -3.027394 -1.758231 -3.383948 -0.897434 -3.383948 0 \nC -3.383948 0.897434 -3.027394 1.758231 -2.392813 2.392813 \nC -1.758231 3.027394 -0.897434 3.383948 0 3.383948 \nz\n\" id=\"C23_0_862851fa11\"/>\n    </defs>\n   </g>\n   <g id=\"line2d_193\">\n    <path clip-path=\"url(#p1f107a4c4f)\" d=\"M 0 0 \n\" style=\"fill:none;stroke:#3abca6;stroke-linecap:round;stroke-width:2.7;\"/>\n   </g>\n   <g id=\"line2d_194\">\n    <path clip-path=\"url(#p1f107a4c4f)\" d=\"M 0 0 \n\" style=\"fill:none;stroke:#3abca6;stroke-linecap:round;stroke-width:2.7;\"/>\n   </g>\n   <g id=\"line2d_195\">\n    <path clip-path=\"url(#p1f107a4c4f)\" d=\"M 0 0 \n\" style=\"fill:none;stroke:#3abca6;stroke-linecap:round;stroke-width:2.7;\"/>\n   </g>\n   <g id=\"line2d_196\">\n    <path clip-path=\"url(#p1f107a4c4f)\" d=\"M 0 0 \n\" style=\"fill:none;stroke:#3abca6;stroke-linecap:round;stroke-width:2.7;\"/>\n   </g>\n   <g id=\"PathCollection_46\">\n    <defs>\n     <path d=\"M 0 3.383948 \nC 0.897434 3.383948 1.758231 3.027394 2.392813 2.392813 \nC 3.027394 1.758231 3.383948 0.897434 3.383948 0 \nC 3.383948 -0.897434 3.027394 -1.758231 2.392813 -2.392813 \nC 1.758231 -3.027394 0.897434 -3.383948 0 -3.383948 \nC -0.897434 -3.383948 -1.758231 -3.027394 -2.392813 -2.392813 \nC -3.027394 -1.758231 -3.383948 -0.897434 -3.383948 0 \nC -3.383948 0.897434 -3.027394 1.758231 -2.392813 2.392813 \nC -1.758231 3.027394 -0.897434 3.383948 0 3.383948 \nz\n\" id=\"m293480f9e6\" style=\"stroke:#3bbbb2;stroke-width:2.025;\"/>\n    </defs>\n    <g clip-path=\"url(#p1f107a4c4f)\">\n     <use style=\"fill:#3bbbb2;stroke:#3bbbb2;stroke-width:2.025;\" x=\"266.395437\" xlink:href=\"#m293480f9e6\" y=\"273.441432\"/>\n     <use style=\"fill:#3bbbb2;stroke:#3bbbb2;stroke-width:2.025;\" x=\"321.73451\" xlink:href=\"#m293480f9e6\" y=\"286.255795\"/>\n     <use style=\"fill:#3bbbb2;stroke:#3bbbb2;stroke-width:2.025;\" x=\"377.073583\" xlink:href=\"#m293480f9e6\" y=\"233.888614\"/>\n    </g>\n   </g>\n   <g id=\"line2d_197\">\n    <path clip-path=\"url(#p1f107a4c4f)\" d=\"M 266.395437 273.441432 \nL 321.73451 286.255795 \nL 377.073583 233.888614 \n\" style=\"fill:none;stroke:#3bbbb2;stroke-linecap:round;stroke-width:2.7;\"/>\n   </g>\n   <g id=\"line2d_198\">\n    <path clip-path=\"url(#p1f107a4c4f)\" d=\"M 0 0 \n\" style=\"fill:none;stroke:#3bbbb2;stroke-linecap:round;stroke-width:2.7;\"/>\n   </g>\n   <g id=\"line2d_199\">\n    <path clip-path=\"url(#p1f107a4c4f)\" d=\"M 0 0 \n\" style=\"fill:none;stroke:#3bbbb2;stroke-linecap:round;stroke-width:2.7;\"/>\n   </g>\n   <g id=\"line2d_200\">\n    <path clip-path=\"url(#p1f107a4c4f)\" d=\"M 0 0 \n\" style=\"fill:none;stroke:#3bbbb2;stroke-linecap:round;stroke-width:2.7;\"/>\n   </g>\n   <g id=\"PathCollection_47\">\n    <defs>\n     <path d=\"M 0 3.383948 \nC 0.897434 3.383948 1.758231 3.027394 2.392813 2.392813 \nC 3.027394 1.758231 3.383948 0.897434 3.383948 0 \nC 3.383948 -0.897434 3.027394 -1.758231 2.392813 -2.392813 \nC 1.758231 -3.027394 0.897434 -3.383948 0 -3.383948 \nC -0.897434 -3.383948 -1.758231 -3.027394 -2.392813 -2.392813 \nC -3.027394 -1.758231 -3.383948 -0.897434 -3.383948 0 \nC -3.383948 0.897434 -3.027394 1.758231 -2.392813 2.392813 \nC -1.758231 3.027394 -0.897434 3.383948 0 3.383948 \nz\n\" id=\"m55fd60f116\" style=\"stroke:#3cbabd;stroke-width:2.025;\"/>\n    </defs>\n    <g clip-path=\"url(#p1f107a4c4f)\">\n     <use style=\"fill:#3cbabd;stroke:#3cbabd;stroke-width:2.025;\" x=\"267.82662\" xlink:href=\"#m55fd60f116\" y=\"294.507881\"/>\n     <use style=\"fill:#3cbabd;stroke:#3cbabd;stroke-width:2.025;\" x=\"323.165693\" xlink:href=\"#m55fd60f116\" y=\"274.886935\"/>\n     <use style=\"fill:#3cbabd;stroke:#3cbabd;stroke-width:2.025;\" x=\"378.504766\" xlink:href=\"#m55fd60f116\" y=\"278.620728\"/>\n    </g>\n   </g>\n   <g id=\"line2d_201\">\n    <path clip-path=\"url(#p1f107a4c4f)\" d=\"M 267.82662 294.507881 \nL 323.165693 274.886935 \nL 378.504766 278.620728 \n\" style=\"fill:none;stroke:#3cbabd;stroke-linecap:round;stroke-width:2.7;\"/>\n   </g>\n   <g id=\"line2d_202\">\n    <path clip-path=\"url(#p1f107a4c4f)\" d=\"M 0 0 \n\" style=\"fill:none;stroke:#3cbabd;stroke-linecap:round;stroke-width:2.7;\"/>\n   </g>\n   <g id=\"line2d_203\">\n    <path clip-path=\"url(#p1f107a4c4f)\" d=\"M 0 0 \n\" style=\"fill:none;stroke:#3cbabd;stroke-linecap:round;stroke-width:2.7;\"/>\n   </g>\n   <g id=\"line2d_204\">\n    <path clip-path=\"url(#p1f107a4c4f)\" d=\"M 0 0 \n\" style=\"fill:none;stroke:#3cbabd;stroke-linecap:round;stroke-width:2.7;\"/>\n   </g>\n   <g id=\"PathCollection_48\">\n    <defs>\n     <path d=\"M 0 3.383948 \nC 0.897434 3.383948 1.758231 3.027394 2.392813 2.392813 \nC 3.027394 1.758231 3.383948 0.897434 3.383948 -0 \nC 3.383948 -0.897434 3.027394 -1.758231 2.392813 -2.392813 \nC 1.758231 -3.027394 0.897434 -3.383948 0 -3.383948 \nC -0.897434 -3.383948 -1.758231 -3.027394 -2.392813 -2.392813 \nC -3.027394 -1.758231 -3.383948 -0.897434 -3.383948 0 \nC -3.383948 0.897434 -3.027394 1.758231 -2.392813 2.392813 \nC -1.758231 3.027394 -0.897434 3.383948 0 3.383948 \nz\n\" id=\"C24_0_90beabe951\"/>\n    </defs>\n   </g>\n   <g id=\"line2d_205\">\n    <path clip-path=\"url(#p1f107a4c4f)\" d=\"M 0 0 \n\" style=\"fill:none;stroke:#3cb9c8;stroke-linecap:round;stroke-width:2.7;\"/>\n   </g>\n   <g id=\"line2d_206\">\n    <path clip-path=\"url(#p1f107a4c4f)\" d=\"M 0 0 \n\" style=\"fill:none;stroke:#3cb9c8;stroke-linecap:round;stroke-width:2.7;\"/>\n   </g>\n   <g id=\"line2d_207\">\n    <path clip-path=\"url(#p1f107a4c4f)\" d=\"M 0 0 \n\" style=\"fill:none;stroke:#3cb9c8;stroke-linecap:round;stroke-width:2.7;\"/>\n   </g>\n   <g id=\"line2d_208\">\n    <path clip-path=\"url(#p1f107a4c4f)\" d=\"M 0 0 \n\" style=\"fill:none;stroke:#3cb9c8;stroke-linecap:round;stroke-width:2.7;\"/>\n   </g>\n   <g id=\"PathCollection_49\">\n    <defs>\n     <path d=\"M 0 3.383948 \nC 0.897434 3.383948 1.758231 3.027394 2.392813 2.392813 \nC 3.027394 1.758231 3.383948 0.897434 3.383948 -0 \nC 3.383948 -0.897434 3.027394 -1.758231 2.392813 -2.392813 \nC 1.758231 -3.027394 0.897434 -3.383948 0 -3.383948 \nC -0.897434 -3.383948 -1.758231 -3.027394 -2.392813 -2.392813 \nC -3.027394 -1.758231 -3.383948 -0.897434 -3.383948 0 \nC -3.383948 0.897434 -3.027394 1.758231 -2.392813 2.392813 \nC -1.758231 3.027394 -0.897434 3.383948 0 3.383948 \nz\n\" id=\"C25_0_bf5fcaa3e8\"/>\n    </defs>\n   </g>\n   <g id=\"line2d_209\">\n    <path clip-path=\"url(#p1f107a4c4f)\" d=\"M 0 0 \n\" style=\"fill:none;stroke:#3db7d6;stroke-linecap:round;stroke-width:2.7;\"/>\n   </g>\n   <g id=\"line2d_210\">\n    <path clip-path=\"url(#p1f107a4c4f)\" d=\"M 0 0 \n\" style=\"fill:none;stroke:#3db7d6;stroke-linecap:round;stroke-width:2.7;\"/>\n   </g>\n   <g id=\"line2d_211\">\n    <path clip-path=\"url(#p1f107a4c4f)\" d=\"M 0 0 \n\" style=\"fill:none;stroke:#3db7d6;stroke-linecap:round;stroke-width:2.7;\"/>\n   </g>\n   <g id=\"line2d_212\">\n    <path clip-path=\"url(#p1f107a4c4f)\" d=\"M 0 0 \n\" style=\"fill:none;stroke:#3db7d6;stroke-linecap:round;stroke-width:2.7;\"/>\n   </g>\n   <g id=\"PathCollection_50\">\n    <defs>\n     <path d=\"M 0 3.383948 \nC 0.897434 3.383948 1.758231 3.027394 2.392813 2.392813 \nC 3.027394 1.758231 3.383948 0.897434 3.383948 -0 \nC 3.383948 -0.897434 3.027394 -1.758231 2.392813 -2.392813 \nC 1.758231 -3.027394 0.897434 -3.383948 0 -3.383948 \nC -0.897434 -3.383948 -1.758231 -3.027394 -2.392813 -2.392813 \nC -3.027394 -1.758231 -3.383948 -0.897434 -3.383948 0 \nC -3.383948 0.897434 -3.027394 1.758231 -2.392813 2.392813 \nC -1.758231 3.027394 -0.897434 3.383948 0 3.383948 \nz\n\" id=\"C26_0_bdb87d765c\"/>\n    </defs>\n   </g>\n   <g id=\"line2d_213\">\n    <path clip-path=\"url(#p1f107a4c4f)\" d=\"M 0 0 \n\" style=\"fill:none;stroke:#3fb5e6;stroke-linecap:round;stroke-width:2.7;\"/>\n   </g>\n   <g id=\"line2d_214\">\n    <path clip-path=\"url(#p1f107a4c4f)\" d=\"M 0 0 \n\" style=\"fill:none;stroke:#3fb5e6;stroke-linecap:round;stroke-width:2.7;\"/>\n   </g>\n   <g id=\"line2d_215\">\n    <path clip-path=\"url(#p1f107a4c4f)\" d=\"M 0 0 \n\" style=\"fill:none;stroke:#3fb5e6;stroke-linecap:round;stroke-width:2.7;\"/>\n   </g>\n   <g id=\"line2d_216\">\n    <path clip-path=\"url(#p1f107a4c4f)\" d=\"M 0 0 \n\" style=\"fill:none;stroke:#3fb5e6;stroke-linecap:round;stroke-width:2.7;\"/>\n   </g>\n   <g id=\"PathCollection_51\">\n    <defs>\n     <path d=\"M 0 3.383948 \nC 0.897434 3.383948 1.758231 3.027394 2.392813 2.392813 \nC 3.027394 1.758231 3.383948 0.897434 3.383948 -0 \nC 3.383948 -0.897434 3.027394 -1.758231 2.392813 -2.392813 \nC 1.758231 -3.027394 0.897434 -3.383948 0 -3.383948 \nC -0.897434 -3.383948 -1.758231 -3.027394 -2.392813 -2.392813 \nC -3.027394 -1.758231 -3.383948 -0.897434 -3.383948 0 \nC -3.383948 0.897434 -3.027394 1.758231 -2.392813 2.392813 \nC -1.758231 3.027394 -0.897434 3.383948 0 3.383948 \nz\n\" id=\"C27_0_e50aae68c8\"/>\n    </defs>\n   </g>\n   <g id=\"line2d_217\">\n    <path clip-path=\"url(#p1f107a4c4f)\" d=\"M 0 0 \n\" style=\"fill:none;stroke:#59b0f6;stroke-linecap:round;stroke-width:2.7;\"/>\n   </g>\n   <g id=\"line2d_218\">\n    <path clip-path=\"url(#p1f107a4c4f)\" d=\"M 0 0 \n\" style=\"fill:none;stroke:#59b0f6;stroke-linecap:round;stroke-width:2.7;\"/>\n   </g>\n   <g id=\"line2d_219\">\n    <path clip-path=\"url(#p1f107a4c4f)\" d=\"M 0 0 \n\" style=\"fill:none;stroke:#59b0f6;stroke-linecap:round;stroke-width:2.7;\"/>\n   </g>\n   <g id=\"line2d_220\">\n    <path clip-path=\"url(#p1f107a4c4f)\" d=\"M 0 0 \n\" style=\"fill:none;stroke:#59b0f6;stroke-linecap:round;stroke-width:2.7;\"/>\n   </g>\n   <g id=\"PathCollection_52\">\n    <defs>\n     <path d=\"M 0 3.383948 \nC 0.897434 3.383948 1.758231 3.027394 2.392813 2.392813 \nC 3.027394 1.758231 3.383948 0.897434 3.383948 0 \nC 3.383948 -0.897434 3.027394 -1.758231 2.392813 -2.392813 \nC 1.758231 -3.027394 0.897434 -3.383948 0 -3.383948 \nC -0.897434 -3.383948 -1.758231 -3.027394 -2.392813 -2.392813 \nC -3.027394 -1.758231 -3.383948 -0.897434 -3.383948 0 \nC -3.383948 0.897434 -3.027394 1.758231 -2.392813 2.392813 \nC -1.758231 3.027394 -0.897434 3.383948 0 3.383948 \nz\n\" id=\"mb1b3b4ed35\" style=\"stroke:#86a8f6;stroke-width:2.025;\"/>\n    </defs>\n    <g clip-path=\"url(#p1f107a4c4f)\">\n     <use style=\"fill:#86a8f6;stroke:#86a8f6;stroke-width:2.025;\" x=\"274.982534\" xlink:href=\"#mb1b3b4ed35\" y=\"231.040174\"/>\n     <use style=\"fill:#86a8f6;stroke:#86a8f6;stroke-width:2.025;\" x=\"330.321608\" xlink:href=\"#mb1b3b4ed35\" y=\"279.492025\"/>\n     <use style=\"fill:#86a8f6;stroke:#86a8f6;stroke-width:2.025;\" x=\"385.660681\" xlink:href=\"#mb1b3b4ed35\" y=\"274.406992\"/>\n    </g>\n   </g>\n   <g id=\"line2d_221\">\n    <path clip-path=\"url(#p1f107a4c4f)\" d=\"M 274.982534 231.040174 \nL 330.321608 279.492025 \nL 385.660681 274.406992 \n\" style=\"fill:none;stroke:#86a8f6;stroke-linecap:round;stroke-width:2.7;\"/>\n   </g>\n   <g id=\"line2d_222\">\n    <path clip-path=\"url(#p1f107a4c4f)\" d=\"M 0 0 \n\" style=\"fill:none;stroke:#86a8f6;stroke-linecap:round;stroke-width:2.7;\"/>\n   </g>\n   <g id=\"line2d_223\">\n    <path clip-path=\"url(#p1f107a4c4f)\" d=\"M 0 0 \n\" style=\"fill:none;stroke:#86a8f6;stroke-linecap:round;stroke-width:2.7;\"/>\n   </g>\n   <g id=\"line2d_224\">\n    <path clip-path=\"url(#p1f107a4c4f)\" d=\"M 0 0 \n\" style=\"fill:none;stroke:#86a8f6;stroke-linecap:round;stroke-width:2.7;\"/>\n   </g>\n   <g id=\"PathCollection_53\">\n    <defs>\n     <path d=\"M 0 3.383948 \nC 0.897434 3.383948 1.758231 3.027394 2.392813 2.392813 \nC 3.027394 1.758231 3.383948 0.897434 3.383948 -0 \nC 3.383948 -0.897434 3.027394 -1.758231 2.392813 -2.392813 \nC 1.758231 -3.027394 0.897434 -3.383948 0 -3.383948 \nC -0.897434 -3.383948 -1.758231 -3.027394 -2.392813 -2.392813 \nC -3.027394 -1.758231 -3.383948 -0.897434 -3.383948 0 \nC -3.383948 0.897434 -3.027394 1.758231 -2.392813 2.392813 \nC -1.758231 3.027394 -0.897434 3.383948 0 3.383948 \nz\n\" id=\"C28_0_e77cba4936\"/>\n    </defs>\n   </g>\n   <g id=\"line2d_225\">\n    <path clip-path=\"url(#p1f107a4c4f)\" d=\"M 0 0 \n\" style=\"fill:none;stroke:#a3a0f6;stroke-linecap:round;stroke-width:2.7;\"/>\n   </g>\n   <g id=\"line2d_226\">\n    <path clip-path=\"url(#p1f107a4c4f)\" d=\"M 0 0 \n\" style=\"fill:none;stroke:#a3a0f6;stroke-linecap:round;stroke-width:2.7;\"/>\n   </g>\n   <g id=\"line2d_227\">\n    <path clip-path=\"url(#p1f107a4c4f)\" d=\"M 0 0 \n\" style=\"fill:none;stroke:#a3a0f6;stroke-linecap:round;stroke-width:2.7;\"/>\n   </g>\n   <g id=\"line2d_228\">\n    <path clip-path=\"url(#p1f107a4c4f)\" d=\"M 0 0 \n\" style=\"fill:none;stroke:#a3a0f6;stroke-linecap:round;stroke-width:2.7;\"/>\n   </g>\n   <g id=\"PathCollection_54\">\n    <defs>\n     <path d=\"M 0 3.383948 \nC 0.897434 3.383948 1.758231 3.027394 2.392813 2.392813 \nC 3.027394 1.758231 3.383948 0.897434 3.383948 -0 \nC 3.383948 -0.897434 3.027394 -1.758231 2.392813 -2.392813 \nC 1.758231 -3.027394 0.897434 -3.383948 0 -3.383948 \nC -0.897434 -3.383948 -1.758231 -3.027394 -2.392813 -2.392813 \nC -3.027394 -1.758231 -3.383948 -0.897434 -3.383948 0 \nC -3.383948 0.897434 -3.027394 1.758231 -2.392813 2.392813 \nC -1.758231 3.027394 -0.897434 3.383948 0 3.383948 \nz\n\" id=\"C29_0_977ba1552b\"/>\n    </defs>\n   </g>\n   <g id=\"line2d_229\">\n    <path clip-path=\"url(#p1f107a4c4f)\" d=\"M 0 0 \n\" style=\"fill:none;stroke:#bb98f6;stroke-linecap:round;stroke-width:2.7;\"/>\n   </g>\n   <g id=\"line2d_230\">\n    <path clip-path=\"url(#p1f107a4c4f)\" d=\"M 0 0 \n\" style=\"fill:none;stroke:#bb98f6;stroke-linecap:round;stroke-width:2.7;\"/>\n   </g>\n   <g id=\"line2d_231\">\n    <path clip-path=\"url(#p1f107a4c4f)\" d=\"M 0 0 \n\" style=\"fill:none;stroke:#bb98f6;stroke-linecap:round;stroke-width:2.7;\"/>\n   </g>\n   <g id=\"line2d_232\">\n    <path clip-path=\"url(#p1f107a4c4f)\" d=\"M 0 0 \n\" style=\"fill:none;stroke:#bb98f6;stroke-linecap:round;stroke-width:2.7;\"/>\n   </g>\n   <g id=\"PathCollection_55\">\n    <defs>\n     <path d=\"M 0 3.383948 \nC 0.897434 3.383948 1.758231 3.027394 2.392813 2.392813 \nC 3.027394 1.758231 3.383948 0.897434 3.383948 -0 \nC 3.383948 -0.897434 3.027394 -1.758231 2.392813 -2.392813 \nC 1.758231 -3.027394 0.897434 -3.383948 0 -3.383948 \nC -0.897434 -3.383948 -1.758231 -3.027394 -2.392813 -2.392813 \nC -3.027394 -1.758231 -3.383948 -0.897434 -3.383948 0 \nC -3.383948 0.897434 -3.027394 1.758231 -2.392813 2.392813 \nC -1.758231 3.027394 -0.897434 3.383948 0 3.383948 \nz\n\" id=\"C2a_0_03bb4d0506\"/>\n    </defs>\n   </g>\n   <g id=\"line2d_233\">\n    <path clip-path=\"url(#p1f107a4c4f)\" d=\"M 0 0 \n\" style=\"fill:none;stroke:#d28ef6;stroke-linecap:round;stroke-width:2.7;\"/>\n   </g>\n   <g id=\"line2d_234\">\n    <path clip-path=\"url(#p1f107a4c4f)\" d=\"M 0 0 \n\" style=\"fill:none;stroke:#d28ef6;stroke-linecap:round;stroke-width:2.7;\"/>\n   </g>\n   <g id=\"line2d_235\">\n    <path clip-path=\"url(#p1f107a4c4f)\" d=\"M 0 0 \n\" style=\"fill:none;stroke:#d28ef6;stroke-linecap:round;stroke-width:2.7;\"/>\n   </g>\n   <g id=\"line2d_236\">\n    <path clip-path=\"url(#p1f107a4c4f)\" d=\"M 0 0 \n\" style=\"fill:none;stroke:#d28ef6;stroke-linecap:round;stroke-width:2.7;\"/>\n   </g>\n   <g id=\"PathCollection_56\">\n    <defs>\n     <path d=\"M 0 3.383948 \nC 0.897434 3.383948 1.758231 3.027394 2.392813 2.392813 \nC 3.027394 1.758231 3.383948 0.897434 3.383948 0 \nC 3.383948 -0.897434 3.027394 -1.758231 2.392813 -2.392813 \nC 1.758231 -3.027394 0.897434 -3.383948 0 -3.383948 \nC -0.897434 -3.383948 -1.758231 -3.027394 -2.392813 -2.392813 \nC -3.027394 -1.758231 -3.383948 -0.897434 -3.383948 0 \nC -3.383948 0.897434 -3.027394 1.758231 -2.392813 2.392813 \nC -1.758231 3.027394 -0.897434 3.383948 0 3.383948 \nz\n\" id=\"md74e7ae5f7\" style=\"stroke:#ea80f6;stroke-width:2.025;\"/>\n    </defs>\n    <g clip-path=\"url(#p1f107a4c4f)\">\n     <use style=\"fill:#ea80f6;stroke:#ea80f6;stroke-width:2.025;\" x=\"280.707266\" xlink:href=\"#md74e7ae5f7\" y=\"249.155707\"/>\n     <use style=\"fill:#ea80f6;stroke:#ea80f6;stroke-width:2.025;\" x=\"336.046339\" xlink:href=\"#md74e7ae5f7\" y=\"302.967085\"/>\n     <use style=\"fill:#ea80f6;stroke:#ea80f6;stroke-width:2.025;\" x=\"391.385412\" xlink:href=\"#md74e7ae5f7\" y=\"280.655368\"/>\n    </g>\n   </g>\n   <g id=\"line2d_237\">\n    <path clip-path=\"url(#p1f107a4c4f)\" d=\"M 280.707266 249.155707 \nL 336.046339 302.967085 \nL 391.385412 280.655368 \n\" style=\"fill:none;stroke:#ea80f6;stroke-linecap:round;stroke-width:2.7;\"/>\n   </g>\n   <g id=\"line2d_238\">\n    <path clip-path=\"url(#p1f107a4c4f)\" d=\"M 0 0 \n\" style=\"fill:none;stroke:#ea80f6;stroke-linecap:round;stroke-width:2.7;\"/>\n   </g>\n   <g id=\"line2d_239\">\n    <path clip-path=\"url(#p1f107a4c4f)\" d=\"M 0 0 \n\" style=\"fill:none;stroke:#ea80f6;stroke-linecap:round;stroke-width:2.7;\"/>\n   </g>\n   <g id=\"line2d_240\">\n    <path clip-path=\"url(#p1f107a4c4f)\" d=\"M 0 0 \n\" style=\"fill:none;stroke:#ea80f6;stroke-linecap:round;stroke-width:2.7;\"/>\n   </g>\n   <g id=\"PathCollection_57\">\n    <defs>\n     <path d=\"M 0 3.383948 \nC 0.897434 3.383948 1.758231 3.027394 2.392813 2.392813 \nC 3.027394 1.758231 3.383948 0.897434 3.383948 -0 \nC 3.383948 -0.897434 3.027394 -1.758231 2.392813 -2.392813 \nC 1.758231 -3.027394 0.897434 -3.383948 0 -3.383948 \nC -0.897434 -3.383948 -1.758231 -3.027394 -2.392813 -2.392813 \nC -3.027394 -1.758231 -3.383948 -0.897434 -3.383948 0 \nC -3.383948 0.897434 -3.027394 1.758231 -2.392813 2.392813 \nC -1.758231 3.027394 -0.897434 3.383948 0 3.383948 \nz\n\" id=\"C2b_0_139f82453b\"/>\n    </defs>\n   </g>\n   <g id=\"line2d_241\">\n    <path clip-path=\"url(#p1f107a4c4f)\" d=\"M 0 0 \n\" style=\"fill:none;stroke:#f67ce7;stroke-linecap:round;stroke-width:2.7;\"/>\n   </g>\n   <g id=\"line2d_242\">\n    <path clip-path=\"url(#p1f107a4c4f)\" d=\"M 0 0 \n\" style=\"fill:none;stroke:#f67ce7;stroke-linecap:round;stroke-width:2.7;\"/>\n   </g>\n   <g id=\"line2d_243\">\n    <path clip-path=\"url(#p1f107a4c4f)\" d=\"M 0 0 \n\" style=\"fill:none;stroke:#f67ce7;stroke-linecap:round;stroke-width:2.7;\"/>\n   </g>\n   <g id=\"line2d_244\">\n    <path clip-path=\"url(#p1f107a4c4f)\" d=\"M 0 0 \n\" style=\"fill:none;stroke:#f67ce7;stroke-linecap:round;stroke-width:2.7;\"/>\n   </g>\n   <g id=\"PathCollection_58\">\n    <defs>\n     <path d=\"M 0 3.383948 \nC 0.897434 3.383948 1.758231 3.027394 2.392813 2.392813 \nC 3.027394 1.758231 3.383948 0.897434 3.383948 0 \nC 3.383948 -0.897434 3.027394 -1.758231 2.392813 -2.392813 \nC 1.758231 -3.027394 0.897434 -3.383948 0 -3.383948 \nC -0.897434 -3.383948 -1.758231 -3.027394 -2.392813 -2.392813 \nC -3.027394 -1.758231 -3.383948 -0.897434 -3.383948 0 \nC -3.383948 0.897434 -3.027394 1.758231 -2.392813 2.392813 \nC -1.758231 3.027394 -0.897434 3.383948 0 3.383948 \nz\n\" id=\"m96af9d39f6\" style=\"stroke:#f780d2;stroke-width:2.025;\"/>\n    </defs>\n    <g clip-path=\"url(#p1f107a4c4f)\">\n     <use style=\"fill:#f780d2;stroke:#f780d2;stroke-width:2.025;\" x=\"283.569632\" xlink:href=\"#m96af9d39f6\" y=\"262.643264\"/>\n     <use style=\"fill:#f780d2;stroke:#f780d2;stroke-width:2.025;\" x=\"338.908705\" xlink:href=\"#m96af9d39f6\" y=\"280.344436\"/>\n     <use style=\"fill:#f780d2;stroke:#f780d2;stroke-width:2.025;\" x=\"394.247778\" xlink:href=\"#m96af9d39f6\" y=\"255.994797\"/>\n    </g>\n   </g>\n   <g id=\"line2d_245\">\n    <path clip-path=\"url(#p1f107a4c4f)\" d=\"M 283.569632 262.643264 \nL 338.908705 280.344436 \nL 394.247778 255.994797 \n\" style=\"fill:none;stroke:#f780d2;stroke-linecap:round;stroke-width:2.7;\"/>\n   </g>\n   <g id=\"line2d_246\">\n    <path clip-path=\"url(#p1f107a4c4f)\" d=\"M 0 0 \n\" style=\"fill:none;stroke:#f780d2;stroke-linecap:round;stroke-width:2.7;\"/>\n   </g>\n   <g id=\"line2d_247\">\n    <path clip-path=\"url(#p1f107a4c4f)\" d=\"M 0 0 \n\" style=\"fill:none;stroke:#f780d2;stroke-linecap:round;stroke-width:2.7;\"/>\n   </g>\n   <g id=\"line2d_248\">\n    <path clip-path=\"url(#p1f107a4c4f)\" d=\"M 0 0 \n\" style=\"fill:none;stroke:#f780d2;stroke-linecap:round;stroke-width:2.7;\"/>\n   </g>\n   <g id=\"PathCollection_59\">\n    <defs>\n     <path d=\"M 0 3.383948 \nC 0.897434 3.383948 1.758231 3.027394 2.392813 2.392813 \nC 3.027394 1.758231 3.383948 0.897434 3.383948 -0 \nC 3.383948 -0.897434 3.027394 -1.758231 2.392813 -2.392813 \nC 1.758231 -3.027394 0.897434 -3.383948 0 -3.383948 \nC -0.897434 -3.383948 -1.758231 -3.027394 -2.392813 -2.392813 \nC -3.027394 -1.758231 -3.383948 -0.897434 -3.383948 0 \nC -3.383948 0.897434 -3.027394 1.758231 -2.392813 2.392813 \nC -1.758231 3.027394 -0.897434 3.383948 0 3.383948 \nz\n\" id=\"C2c_0_930c6ba2fa\"/>\n    </defs>\n   </g>\n   <g id=\"line2d_249\">\n    <path clip-path=\"url(#p1f107a4c4f)\" d=\"M 0 0 \n\" style=\"fill:none;stroke:#f783c0;stroke-linecap:round;stroke-width:2.7;\"/>\n   </g>\n   <g id=\"line2d_250\">\n    <path clip-path=\"url(#p1f107a4c4f)\" d=\"M 0 0 \n\" style=\"fill:none;stroke:#f783c0;stroke-linecap:round;stroke-width:2.7;\"/>\n   </g>\n   <g id=\"line2d_251\">\n    <path clip-path=\"url(#p1f107a4c4f)\" d=\"M 0 0 \n\" style=\"fill:none;stroke:#f783c0;stroke-linecap:round;stroke-width:2.7;\"/>\n   </g>\n   <g id=\"line2d_252\">\n    <path clip-path=\"url(#p1f107a4c4f)\" d=\"M 0 0 \n\" style=\"fill:none;stroke:#f783c0;stroke-linecap:round;stroke-width:2.7;\"/>\n   </g>\n   <g id=\"PathCollection_60\">\n    <defs>\n     <path d=\"M 0 3.383948 \nC 0.897434 3.383948 1.758231 3.027394 2.392813 2.392813 \nC 3.027394 1.758231 3.383948 0.897434 3.383948 -0 \nC 3.383948 -0.897434 3.027394 -1.758231 2.392813 -2.392813 \nC 1.758231 -3.027394 0.897434 -3.383948 0 -3.383948 \nC -0.897434 -3.383948 -1.758231 -3.027394 -2.392813 -2.392813 \nC -3.027394 -1.758231 -3.383948 -0.897434 -3.383948 0 \nC -3.383948 0.897434 -3.027394 1.758231 -2.392813 2.392813 \nC -1.758231 3.027394 -0.897434 3.383948 0 3.383948 \nz\n\" id=\"C2d_0_e0b9ced94c\"/>\n    </defs>\n   </g>\n   <g id=\"line2d_253\">\n    <path clip-path=\"url(#p1f107a4c4f)\" d=\"M 0 0 \n\" style=\"fill:none;stroke:#f785ae;stroke-linecap:round;stroke-width:2.7;\"/>\n   </g>\n   <g id=\"line2d_254\">\n    <path clip-path=\"url(#p1f107a4c4f)\" d=\"M 0 0 \n\" style=\"fill:none;stroke:#f785ae;stroke-linecap:round;stroke-width:2.7;\"/>\n   </g>\n   <g id=\"line2d_255\">\n    <path clip-path=\"url(#p1f107a4c4f)\" d=\"M 0 0 \n\" style=\"fill:none;stroke:#f785ae;stroke-linecap:round;stroke-width:2.7;\"/>\n   </g>\n   <g id=\"line2d_256\">\n    <path clip-path=\"url(#p1f107a4c4f)\" d=\"M 0 0 \n\" style=\"fill:none;stroke:#f785ae;stroke-linecap:round;stroke-width:2.7;\"/>\n   </g>\n  </g>\n  <g id=\"axes_3\">\n   <g id=\"patch_8\">\n    <path d=\"M 416.995774 354.135937 \nL 583.012993 354.135937 \nL 583.012993 144.555937 \nL 416.995774 144.555937 \nz\n\" style=\"fill:#eaeaf2;\"/>\n   </g>\n   <g id=\"matplotlib.axis_5\">\n    <g id=\"xtick_7\">\n     <g id=\"text_20\">\n      <!-- 1 -->\n      <g style=\"fill:#262626;\" transform=\"translate(441.165935 371.994219)scale(0.11 -0.11)\">\n       <use xlink:href=\"#DejaVuSans-49\"/>\n      </g>\n     </g>\n    </g>\n    <g id=\"xtick_8\">\n     <g id=\"text_21\">\n      <!-- 2 -->\n      <g style=\"fill:#262626;\" transform=\"translate(496.505008 371.994219)scale(0.11 -0.11)\">\n       <use xlink:href=\"#DejaVuSans-50\"/>\n      </g>\n     </g>\n    </g>\n    <g id=\"xtick_9\">\n     <g id=\"text_22\">\n      <!-- 3 -->\n      <g style=\"fill:#262626;\" transform=\"translate(551.844082 371.994219)scale(0.11 -0.11)\">\n       <use xlink:href=\"#DejaVuSans-51\"/>\n      </g>\n     </g>\n    </g>\n    <g id=\"text_23\">\n     <!-- block -->\n     <g style=\"fill:#262626;\" transform=\"translate(484.083758 387.4)scale(0.12 -0.12)\">\n      <use xlink:href=\"#DejaVuSans-98\"/>\n      <use x=\"63.476562\" xlink:href=\"#DejaVuSans-108\"/>\n      <use x=\"91.259766\" xlink:href=\"#DejaVuSans-111\"/>\n      <use x=\"152.441406\" xlink:href=\"#DejaVuSans-99\"/>\n      <use x=\"207.421875\" xlink:href=\"#DejaVuSans-107\"/>\n     </g>\n    </g>\n   </g>\n   <g id=\"matplotlib.axis_6\">\n    <g id=\"ytick_17\">\n     <g id=\"line2d_257\">\n      <path clip-path=\"url(#pdc38db403c)\" d=\"M 416.995774 353.519318 \nL 583.012993 353.519318 \n\" style=\"fill:none;stroke:#ffffff;stroke-linecap:round;\"/>\n     </g>\n    </g>\n    <g id=\"ytick_18\">\n     <g id=\"line2d_258\">\n      <path clip-path=\"url(#pdc38db403c)\" d=\"M 416.995774 323.94673 \nL 583.012993 323.94673 \n\" style=\"fill:none;stroke:#ffffff;stroke-linecap:round;\"/>\n     </g>\n    </g>\n    <g id=\"ytick_19\">\n     <g id=\"line2d_259\">\n      <path clip-path=\"url(#pdc38db403c)\" d=\"M 416.995774 294.374142 \nL 583.012993 294.374142 \n\" style=\"fill:none;stroke:#ffffff;stroke-linecap:round;\"/>\n     </g>\n    </g>\n    <g id=\"ytick_20\">\n     <g id=\"line2d_260\">\n      <path clip-path=\"url(#pdc38db403c)\" d=\"M 416.995774 264.801555 \nL 583.012993 264.801555 \n\" style=\"fill:none;stroke:#ffffff;stroke-linecap:round;\"/>\n     </g>\n    </g>\n    <g id=\"ytick_21\">\n     <g id=\"line2d_261\">\n      <path clip-path=\"url(#pdc38db403c)\" d=\"M 416.995774 235.228967 \nL 583.012993 235.228967 \n\" style=\"fill:none;stroke:#ffffff;stroke-linecap:round;\"/>\n     </g>\n    </g>\n    <g id=\"ytick_22\">\n     <g id=\"line2d_262\">\n      <path clip-path=\"url(#pdc38db403c)\" d=\"M 416.995774 205.65638 \nL 583.012993 205.65638 \n\" style=\"fill:none;stroke:#ffffff;stroke-linecap:round;\"/>\n     </g>\n    </g>\n    <g id=\"ytick_23\">\n     <g id=\"line2d_263\">\n      <path clip-path=\"url(#pdc38db403c)\" d=\"M 416.995774 176.083792 \nL 583.012993 176.083792 \n\" style=\"fill:none;stroke:#ffffff;stroke-linecap:round;\"/>\n     </g>\n    </g>\n    <g id=\"ytick_24\">\n     <g id=\"line2d_264\">\n      <path clip-path=\"url(#pdc38db403c)\" d=\"M 416.995774 146.511204 \nL 583.012993 146.511204 \n\" style=\"fill:none;stroke:#ffffff;stroke-linecap:round;\"/>\n     </g>\n    </g>\n   </g>\n   <g id=\"PathCollection_61\">\n    <defs>\n     <path d=\"M 0 3.383948 \nC 0.897434 3.383948 1.758231 3.027394 2.392813 2.392813 \nC 3.027394 1.758231 3.383948 0.897434 3.383948 0 \nC 3.383948 -0.897434 3.027394 -1.758231 2.392813 -2.392813 \nC 1.758231 -3.027394 0.897434 -3.383948 0 -3.383948 \nC -0.897434 -3.383948 -1.758231 -3.027394 -2.392813 -2.392813 \nC -3.027394 -1.758231 -3.383948 -0.897434 -3.383948 0 \nC -3.383948 0.897434 -3.027394 1.758231 -2.392813 2.392813 \nC -1.758231 3.027394 -0.897434 3.383948 0 3.383948 \nz\n\" id=\"mb4dda219c1\" style=\"stroke:#f8889a;stroke-width:2.025;\"/>\n    </defs>\n    <g clip-path=\"url(#pdc38db403c)\">\n     <use style=\"fill:#f8889a;stroke:#f8889a;stroke-width:2.025;\" x=\"423.913158\" xlink:href=\"#mb4dda219c1\" y=\"232.125781\"/>\n     <use style=\"fill:#f8889a;stroke:#f8889a;stroke-width:2.025;\" x=\"479.252231\" xlink:href=\"#mb4dda219c1\" y=\"290.631286\"/>\n     <use style=\"fill:#f8889a;stroke:#f8889a;stroke-width:2.025;\" x=\"534.591304\" xlink:href=\"#mb4dda219c1\" y=\"215.289823\"/>\n    </g>\n   </g>\n   <g id=\"line2d_265\">\n    <path clip-path=\"url(#pdc38db403c)\" d=\"M 423.913158 232.125781 \nL 479.252231 290.631286 \nL 534.591304 215.289823 \n\" style=\"fill:none;stroke:#f8889a;stroke-linecap:round;stroke-width:2.7;\"/>\n   </g>\n   <g id=\"line2d_266\">\n    <path clip-path=\"url(#pdc38db403c)\" d=\"M 0 0 \n\" style=\"fill:none;stroke:#f8889a;stroke-linecap:round;stroke-width:2.7;\"/>\n   </g>\n   <g id=\"line2d_267\">\n    <path clip-path=\"url(#pdc38db403c)\" d=\"M 0 0 \n\" style=\"fill:none;stroke:#f8889a;stroke-linecap:round;stroke-width:2.7;\"/>\n   </g>\n   <g id=\"line2d_268\">\n    <path clip-path=\"url(#pdc38db403c)\" d=\"M 0 0 \n\" style=\"fill:none;stroke:#f8889a;stroke-linecap:round;stroke-width:2.7;\"/>\n   </g>\n   <g id=\"PathCollection_62\">\n    <defs>\n     <path d=\"M 0 3.383948 \nC 0.897434 3.383948 1.758231 3.027394 2.392813 2.392813 \nC 3.027394 1.758231 3.383948 0.897434 3.383948 0 \nC 3.383948 -0.897434 3.027394 -1.758231 2.392813 -2.392813 \nC 1.758231 -3.027394 0.897434 -3.383948 0 -3.383948 \nC -0.897434 -3.383948 -1.758231 -3.027394 -2.392813 -2.392813 \nC -3.027394 -1.758231 -3.383948 -0.897434 -3.383948 0 \nC -3.383948 0.897434 -3.027394 1.758231 -2.392813 2.392813 \nC -1.758231 3.027394 -0.897434 3.383948 0 3.383948 \nz\n\" id=\"macbf1a4eab\" style=\"stroke:#f88a82;stroke-width:2.025;\"/>\n    </defs>\n    <g clip-path=\"url(#pdc38db403c)\">\n     <use style=\"fill:#f88a82;stroke:#f88a82;stroke-width:2.025;\" x=\"425.344341\" xlink:href=\"#macbf1a4eab\" y=\"207.169236\"/>\n     <use style=\"fill:#f88a82;stroke:#f88a82;stroke-width:2.025;\" x=\"480.683414\" xlink:href=\"#macbf1a4eab\" y=\"286.214964\"/>\n     <use style=\"fill:#f88a82;stroke:#f88a82;stroke-width:2.025;\" x=\"536.022487\" xlink:href=\"#macbf1a4eab\" y=\"282.154715\"/>\n    </g>\n   </g>\n   <g id=\"line2d_269\">\n    <path clip-path=\"url(#pdc38db403c)\" d=\"M 425.344341 207.169236 \nL 480.683414 286.214964 \nL 536.022487 282.154715 \n\" style=\"fill:none;stroke:#f88a82;stroke-linecap:round;stroke-width:2.7;\"/>\n   </g>\n   <g id=\"line2d_270\">\n    <path clip-path=\"url(#pdc38db403c)\" d=\"M 0 0 \n\" style=\"fill:none;stroke:#f88a82;stroke-linecap:round;stroke-width:2.7;\"/>\n   </g>\n   <g id=\"line2d_271\">\n    <path clip-path=\"url(#pdc38db403c)\" d=\"M 0 0 \n\" style=\"fill:none;stroke:#f88a82;stroke-linecap:round;stroke-width:2.7;\"/>\n   </g>\n   <g id=\"line2d_272\">\n    <path clip-path=\"url(#pdc38db403c)\" d=\"M 0 0 \n\" style=\"fill:none;stroke:#f88a82;stroke-linecap:round;stroke-width:2.7;\"/>\n   </g>\n   <g id=\"patch_9\">\n    <path d=\"M 416.995774 354.135937 \nL 416.995774 144.555938 \n\" style=\"fill:none;stroke:#ffffff;stroke-linecap:square;stroke-linejoin:miter;stroke-width:1.25;\"/>\n   </g>\n   <g id=\"patch_10\">\n    <path d=\"M 416.995774 354.135937 \nL 583.012993 354.135937 \n\" style=\"fill:none;stroke:#ffffff;stroke-linecap:square;stroke-linejoin:miter;stroke-width:1.25;\"/>\n   </g>\n   <g id=\"PathCollection_63\">\n    <defs>\n     <path d=\"M 0 3.383948 \nC 0.897434 3.383948 1.758231 3.027394 2.392813 2.392813 \nC 3.027394 1.758231 3.383948 0.897434 3.383948 0 \nC 3.383948 -0.897434 3.027394 -1.758231 2.392813 -2.392813 \nC 1.758231 -3.027394 0.897434 -3.383948 0 -3.383948 \nC -0.897434 -3.383948 -1.758231 -3.027394 -2.392813 -2.392813 \nC -3.027394 -1.758231 -3.383948 -0.897434 -3.383948 0 \nC -3.383948 0.897434 -3.027394 1.758231 -2.392813 2.392813 \nC -1.758231 3.027394 -0.897434 3.383948 0 3.383948 \nz\n\" id=\"m12e05d0e93\" style=\"stroke:#f88d5d;stroke-width:2.025;\"/>\n    </defs>\n    <g clip-path=\"url(#pdc38db403c)\">\n     <use style=\"fill:#f88d5d;stroke:#f88d5d;stroke-width:2.025;\" x=\"426.775524\" xlink:href=\"#m12e05d0e93\" y=\"232.191897\"/>\n     <use style=\"fill:#f88d5d;stroke:#f88d5d;stroke-width:2.025;\" x=\"482.114597\" xlink:href=\"#m12e05d0e93\" y=\"313.412684\"/>\n     <use style=\"fill:#f88d5d;stroke:#f88d5d;stroke-width:2.025;\" x=\"537.45367\" xlink:href=\"#m12e05d0e93\" y=\"199.777059\"/>\n    </g>\n   </g>\n   <g id=\"line2d_273\">\n    <path clip-path=\"url(#pdc38db403c)\" d=\"M 426.775524 232.191897 \nL 482.114597 313.412684 \nL 537.45367 199.777059 \n\" style=\"fill:none;stroke:#f88d5d;stroke-linecap:round;stroke-width:2.7;\"/>\n   </g>\n   <g id=\"line2d_274\">\n    <path clip-path=\"url(#pdc38db403c)\" d=\"M 0 0 \n\" style=\"fill:none;stroke:#f88d5d;stroke-linecap:round;stroke-width:2.7;\"/>\n   </g>\n   <g id=\"line2d_275\">\n    <path clip-path=\"url(#pdc38db403c)\" d=\"M 0 0 \n\" style=\"fill:none;stroke:#f88d5d;stroke-linecap:round;stroke-width:2.7;\"/>\n   </g>\n   <g id=\"line2d_276\">\n    <path clip-path=\"url(#pdc38db403c)\" d=\"M 0 0 \n\" style=\"fill:none;stroke:#f88d5d;stroke-linecap:round;stroke-width:2.7;\"/>\n   </g>\n   <g id=\"text_24\">\n    <!-- condition = df1|df2 -->\n    <g style=\"fill:#262626;\" transform=\"translate(441.922508 138.555938)scale(0.12 -0.12)\">\n     <defs>\n      <path d=\"M 21 76.421875 \nL 21 -23.578125 \nL 12.703125 -23.578125 \nL 12.703125 76.421875 \nz\n\" id=\"DejaVuSans-124\"/>\n     </defs>\n     <use xlink:href=\"#DejaVuSans-99\"/>\n     <use x=\"54.980469\" xlink:href=\"#DejaVuSans-111\"/>\n     <use x=\"116.162109\" xlink:href=\"#DejaVuSans-110\"/>\n     <use x=\"179.541016\" xlink:href=\"#DejaVuSans-100\"/>\n     <use x=\"243.017578\" xlink:href=\"#DejaVuSans-105\"/>\n     <use x=\"270.800781\" xlink:href=\"#DejaVuSans-116\"/>\n     <use x=\"310.009766\" xlink:href=\"#DejaVuSans-105\"/>\n     <use x=\"337.792969\" xlink:href=\"#DejaVuSans-111\"/>\n     <use x=\"398.974609\" xlink:href=\"#DejaVuSans-110\"/>\n     <use x=\"462.353516\" xlink:href=\"#DejaVuSans-32\"/>\n     <use x=\"494.140625\" xlink:href=\"#DejaVuSans-61\"/>\n     <use x=\"577.929688\" xlink:href=\"#DejaVuSans-32\"/>\n     <use x=\"609.716797\" xlink:href=\"#DejaVuSans-100\"/>\n     <use x=\"673.193359\" xlink:href=\"#DejaVuSans-102\"/>\n     <use x=\"708.398438\" xlink:href=\"#DejaVuSans-49\"/>\n     <use x=\"772.021484\" xlink:href=\"#DejaVuSans-124\"/>\n     <use x=\"805.712891\" xlink:href=\"#DejaVuSans-100\"/>\n     <use x=\"869.189453\" xlink:href=\"#DejaVuSans-102\"/>\n     <use x=\"904.394531\" xlink:href=\"#DejaVuSans-50\"/>\n    </g>\n   </g>\n   <g id=\"PathCollection_64\">\n    <defs>\n     <path d=\"M 0 3.383948 \nC 0.897434 3.383948 1.758231 3.027394 2.392813 2.392813 \nC 3.027394 1.758231 3.383948 0.897434 3.383948 -0 \nC 3.383948 -0.897434 3.027394 -1.758231 2.392813 -2.392813 \nC 1.758231 -3.027394 0.897434 -3.383948 0 -3.383948 \nC -0.897434 -3.383948 -1.758231 -3.027394 -2.392813 -2.392813 \nC -3.027394 -1.758231 -3.383948 -0.897434 -3.383948 0 \nC -3.383948 0.897434 -3.027394 1.758231 -2.392813 2.392813 \nC -1.758231 3.027394 -0.897434 3.383948 0 3.383948 \nz\n\" id=\"C2e_0_2a3137580d\"/>\n    </defs>\n   </g>\n   <g id=\"line2d_277\">\n    <path clip-path=\"url(#pdc38db403c)\" d=\"M 0 0 \n\" style=\"fill:none;stroke:#ee9537;stroke-linecap:round;stroke-width:2.7;\"/>\n   </g>\n   <g id=\"line2d_278\">\n    <path clip-path=\"url(#pdc38db403c)\" d=\"M 0 0 \n\" style=\"fill:none;stroke:#ee9537;stroke-linecap:round;stroke-width:2.7;\"/>\n   </g>\n   <g id=\"line2d_279\">\n    <path clip-path=\"url(#pdc38db403c)\" d=\"M 0 0 \n\" style=\"fill:none;stroke:#ee9537;stroke-linecap:round;stroke-width:2.7;\"/>\n   </g>\n   <g id=\"line2d_280\">\n    <path clip-path=\"url(#pdc38db403c)\" d=\"M 0 0 \n\" style=\"fill:none;stroke:#ee9537;stroke-linecap:round;stroke-width:2.7;\"/>\n   </g>\n   <g id=\"PathCollection_65\">\n    <defs>\n     <path d=\"M 0 3.383948 \nC 0.897434 3.383948 1.758231 3.027394 2.392813 2.392813 \nC 3.027394 1.758231 3.383948 0.897434 3.383948 -0 \nC 3.383948 -0.897434 3.027394 -1.758231 2.392813 -2.392813 \nC 1.758231 -3.027394 0.897434 -3.383948 0 -3.383948 \nC -0.897434 -3.383948 -1.758231 -3.027394 -2.392813 -2.392813 \nC -3.027394 -1.758231 -3.383948 -0.897434 -3.383948 0 \nC -3.383948 0.897434 -3.027394 1.758231 -2.392813 2.392813 \nC -1.758231 3.027394 -0.897434 3.383948 0 3.383948 \nz\n\" id=\"C2f_0_aad69fea86\"/>\n    </defs>\n   </g>\n   <g id=\"line2d_281\">\n    <path clip-path=\"url(#pdc38db403c)\" d=\"M 0 0 \n\" style=\"fill:none;stroke:#db9e37;stroke-linecap:round;stroke-width:2.7;\"/>\n   </g>\n   <g id=\"line2d_282\">\n    <path clip-path=\"url(#pdc38db403c)\" d=\"M 0 0 \n\" style=\"fill:none;stroke:#db9e37;stroke-linecap:round;stroke-width:2.7;\"/>\n   </g>\n   <g id=\"line2d_283\">\n    <path clip-path=\"url(#pdc38db403c)\" d=\"M 0 0 \n\" style=\"fill:none;stroke:#db9e37;stroke-linecap:round;stroke-width:2.7;\"/>\n   </g>\n   <g id=\"line2d_284\">\n    <path clip-path=\"url(#pdc38db403c)\" d=\"M 0 0 \n\" style=\"fill:none;stroke:#db9e37;stroke-linecap:round;stroke-width:2.7;\"/>\n   </g>\n   <g id=\"PathCollection_66\">\n    <defs>\n     <path d=\"M 0 3.383948 \nC 0.897434 3.383948 1.758231 3.027394 2.392813 2.392813 \nC 3.027394 1.758231 3.383948 0.897434 3.383948 -0 \nC 3.383948 -0.897434 3.027394 -1.758231 2.392813 -2.392813 \nC 1.758231 -3.027394 0.897434 -3.383948 0 -3.383948 \nC -0.897434 -3.383948 -1.758231 -3.027394 -2.392813 -2.392813 \nC -3.027394 -1.758231 -3.383948 -0.897434 -3.383948 0 \nC -3.383948 0.897434 -3.027394 1.758231 -2.392813 2.392813 \nC -1.758231 3.027394 -0.897434 3.383948 0 3.383948 \nz\n\" id=\"C30_0_323ba2a1e8\"/>\n    </defs>\n   </g>\n   <g id=\"line2d_285\">\n    <path clip-path=\"url(#pdc38db403c)\" d=\"M 0 0 \n\" style=\"fill:none;stroke:#cba537;stroke-linecap:round;stroke-width:2.7;\"/>\n   </g>\n   <g id=\"line2d_286\">\n    <path clip-path=\"url(#pdc38db403c)\" d=\"M 0 0 \n\" style=\"fill:none;stroke:#cba537;stroke-linecap:round;stroke-width:2.7;\"/>\n   </g>\n   <g id=\"line2d_287\">\n    <path clip-path=\"url(#pdc38db403c)\" d=\"M 0 0 \n\" style=\"fill:none;stroke:#cba537;stroke-linecap:round;stroke-width:2.7;\"/>\n   </g>\n   <g id=\"line2d_288\">\n    <path clip-path=\"url(#pdc38db403c)\" d=\"M 0 0 \n\" style=\"fill:none;stroke:#cba537;stroke-linecap:round;stroke-width:2.7;\"/>\n   </g>\n   <g id=\"PathCollection_67\">\n    <defs>\n     <path d=\"M 0 3.383948 \nC 0.897434 3.383948 1.758231 3.027394 2.392813 2.392813 \nC 3.027394 1.758231 3.383948 0.897434 3.383948 0 \nC 3.383948 -0.897434 3.027394 -1.758231 2.392813 -2.392813 \nC 1.758231 -3.027394 0.897434 -3.383948 0 -3.383948 \nC -0.897434 -3.383948 -1.758231 -3.027394 -2.392813 -2.392813 \nC -3.027394 -1.758231 -3.383948 -0.897434 -3.383948 0 \nC -3.383948 0.897434 -3.027394 1.758231 -2.392813 2.392813 \nC -1.758231 3.027394 -0.897434 3.383948 0 3.383948 \nz\n\" id=\"m1d98ef91f1\" style=\"stroke:#bcaa36;stroke-width:2.025;\"/>\n    </defs>\n    <g clip-path=\"url(#pdc38db403c)\">\n     <use style=\"fill:#bcaa36;stroke:#bcaa36;stroke-width:2.025;\" x=\"432.500255\" xlink:href=\"#m1d98ef91f1\" y=\"269.106894\"/>\n     <use style=\"fill:#bcaa36;stroke:#bcaa36;stroke-width:2.025;\" x=\"487.839328\" xlink:href=\"#m1d98ef91f1\" y=\"306.746695\"/>\n     <use style=\"fill:#bcaa36;stroke:#bcaa36;stroke-width:2.025;\" x=\"543.178402\" xlink:href=\"#m1d98ef91f1\" y=\"324.218793\"/>\n    </g>\n   </g>\n   <g id=\"line2d_289\">\n    <path clip-path=\"url(#pdc38db403c)\" d=\"M 432.500255 269.106894 \nL 487.839328 306.746695 \nL 543.178402 324.218793 \n\" style=\"fill:none;stroke:#bcaa36;stroke-linecap:round;stroke-width:2.7;\"/>\n   </g>\n   <g id=\"line2d_290\">\n    <path clip-path=\"url(#pdc38db403c)\" d=\"M 0 0 \n\" style=\"fill:none;stroke:#bcaa36;stroke-linecap:round;stroke-width:2.7;\"/>\n   </g>\n   <g id=\"line2d_291\">\n    <path clip-path=\"url(#pdc38db403c)\" d=\"M 0 0 \n\" style=\"fill:none;stroke:#bcaa36;stroke-linecap:round;stroke-width:2.7;\"/>\n   </g>\n   <g id=\"line2d_292\">\n    <path clip-path=\"url(#pdc38db403c)\" d=\"M 0 0 \n\" style=\"fill:none;stroke:#bcaa36;stroke-linecap:round;stroke-width:2.7;\"/>\n   </g>\n   <g id=\"PathCollection_68\">\n    <defs>\n     <path d=\"M 0 3.383948 \nC 0.897434 3.383948 1.758231 3.027394 2.392813 2.392813 \nC 3.027394 1.758231 3.383948 0.897434 3.383948 0 \nC 3.383948 -0.897434 3.027394 -1.758231 2.392813 -2.392813 \nC 1.758231 -3.027394 0.897434 -3.383948 0 -3.383948 \nC -0.897434 -3.383948 -1.758231 -3.027394 -2.392813 -2.392813 \nC -3.027394 -1.758231 -3.383948 -0.897434 -3.383948 0 \nC -3.383948 0.897434 -3.027394 1.758231 -2.392813 2.392813 \nC -1.758231 3.027394 -0.897434 3.383948 0 3.383948 \nz\n\" id=\"m8245329832\" style=\"stroke:#acaf36;stroke-width:2.025;\"/>\n    </defs>\n    <g clip-path=\"url(#pdc38db403c)\">\n     <use style=\"fill:#acaf36;stroke:#acaf36;stroke-width:2.025;\" x=\"433.931438\" xlink:href=\"#m8245329832\" y=\"228.204476\"/>\n     <use style=\"fill:#acaf36;stroke:#acaf36;stroke-width:2.025;\" x=\"489.270511\" xlink:href=\"#m8245329832\" y=\"263.725494\"/>\n     <use style=\"fill:#acaf36;stroke:#acaf36;stroke-width:2.025;\" x=\"544.609585\" xlink:href=\"#m8245329832\" y=\"241.141524\"/>\n    </g>\n   </g>\n   <g id=\"line2d_293\">\n    <path clip-path=\"url(#pdc38db403c)\" d=\"M 433.931438 228.204476 \nL 489.270511 263.725494 \nL 544.609585 241.141524 \n\" style=\"fill:none;stroke:#acaf36;stroke-linecap:round;stroke-width:2.7;\"/>\n   </g>\n   <g id=\"line2d_294\">\n    <path clip-path=\"url(#pdc38db403c)\" d=\"M 0 0 \n\" style=\"fill:none;stroke:#acaf36;stroke-linecap:round;stroke-width:2.7;\"/>\n   </g>\n   <g id=\"line2d_295\">\n    <path clip-path=\"url(#pdc38db403c)\" d=\"M 0 0 \n\" style=\"fill:none;stroke:#acaf36;stroke-linecap:round;stroke-width:2.7;\"/>\n   </g>\n   <g id=\"line2d_296\">\n    <path clip-path=\"url(#pdc38db403c)\" d=\"M 0 0 \n\" style=\"fill:none;stroke:#acaf36;stroke-linecap:round;stroke-width:2.7;\"/>\n   </g>\n   <g id=\"PathCollection_69\">\n    <defs>\n     <path d=\"M 0 3.383948 \nC 0.897434 3.383948 1.758231 3.027394 2.392813 2.392813 \nC 3.027394 1.758231 3.383948 0.897434 3.383948 0 \nC 3.383948 -0.897434 3.027394 -1.758231 2.392813 -2.392813 \nC 1.758231 -3.027394 0.897434 -3.383948 0 -3.383948 \nC -0.897434 -3.383948 -1.758231 -3.027394 -2.392813 -2.392813 \nC -3.027394 -1.758231 -3.383948 -0.897434 -3.383948 0 \nC -3.383948 0.897434 -3.027394 1.758231 -2.392813 2.392813 \nC -1.758231 3.027394 -0.897434 3.383948 0 3.383948 \nz\n\" id=\"ma7da3e5c06\" style=\"stroke:#9ab436;stroke-width:2.025;\"/>\n    </defs>\n    <g clip-path=\"url(#pdc38db403c)\">\n     <use style=\"fill:#9ab436;stroke:#9ab436;stroke-width:2.025;\" x=\"435.362621\" xlink:href=\"#ma7da3e5c06\" y=\"303.990793\"/>\n     <use style=\"fill:#9ab436;stroke:#9ab436;stroke-width:2.025;\" x=\"490.701694\" xlink:href=\"#ma7da3e5c06\" y=\"271.577048\"/>\n     <use style=\"fill:#9ab436;stroke:#9ab436;stroke-width:2.025;\" x=\"546.040768\" xlink:href=\"#ma7da3e5c06\" y=\"226.513802\"/>\n    </g>\n   </g>\n   <g id=\"line2d_297\">\n    <path clip-path=\"url(#pdc38db403c)\" d=\"M 435.362621 303.990793 \nL 490.701694 271.577048 \nL 546.040768 226.513802 \n\" style=\"fill:none;stroke:#9ab436;stroke-linecap:round;stroke-width:2.7;\"/>\n   </g>\n   <g id=\"line2d_298\">\n    <path clip-path=\"url(#pdc38db403c)\" d=\"M 0 0 \n\" style=\"fill:none;stroke:#9ab436;stroke-linecap:round;stroke-width:2.7;\"/>\n   </g>\n   <g id=\"line2d_299\">\n    <path clip-path=\"url(#pdc38db403c)\" d=\"M 0 0 \n\" style=\"fill:none;stroke:#9ab436;stroke-linecap:round;stroke-width:2.7;\"/>\n   </g>\n   <g id=\"line2d_300\">\n    <path clip-path=\"url(#pdc38db403c)\" d=\"M 0 0 \n\" style=\"fill:none;stroke:#9ab436;stroke-linecap:round;stroke-width:2.7;\"/>\n   </g>\n   <g id=\"PathCollection_70\">\n    <defs>\n     <path d=\"M 0 3.383948 \nC 0.897434 3.383948 1.758231 3.027394 2.392813 2.392813 \nC 3.027394 1.758231 3.383948 0.897434 3.383948 0 \nC 3.383948 -0.897434 3.027394 -1.758231 2.392813 -2.392813 \nC 1.758231 -3.027394 0.897434 -3.383948 0 -3.383948 \nC -0.897434 -3.383948 -1.758231 -3.027394 -2.392813 -2.392813 \nC -3.027394 -1.758231 -3.383948 -0.897434 -3.383948 0 \nC -3.383948 0.897434 -3.027394 1.758231 -2.392813 2.392813 \nC -1.758231 3.027394 -0.897434 3.383948 0 3.383948 \nz\n\" id=\"m3e153760dc\" style=\"stroke:#82b936;stroke-width:2.025;\"/>\n    </defs>\n    <g clip-path=\"url(#pdc38db403c)\">\n     <use style=\"fill:#82b936;stroke:#82b936;stroke-width:2.025;\" x=\"436.793804\" xlink:href=\"#m3e153760dc\" y=\"232.448316\"/>\n     <use style=\"fill:#82b936;stroke:#82b936;stroke-width:2.025;\" x=\"492.132877\" xlink:href=\"#m3e153760dc\" y=\"284.262848\"/>\n     <use style=\"fill:#82b936;stroke:#82b936;stroke-width:2.025;\" x=\"547.47195\" xlink:href=\"#m3e153760dc\" y=\"176.619905\"/>\n    </g>\n   </g>\n   <g id=\"line2d_301\">\n    <path clip-path=\"url(#pdc38db403c)\" d=\"M 436.793804 232.448316 \nL 492.132877 284.262848 \nL 547.47195 176.619905 \n\" style=\"fill:none;stroke:#82b936;stroke-linecap:round;stroke-width:2.7;\"/>\n   </g>\n   <g id=\"line2d_302\">\n    <path clip-path=\"url(#pdc38db403c)\" d=\"M 0 0 \n\" style=\"fill:none;stroke:#82b936;stroke-linecap:round;stroke-width:2.7;\"/>\n   </g>\n   <g id=\"line2d_303\">\n    <path clip-path=\"url(#pdc38db403c)\" d=\"M 0 0 \n\" style=\"fill:none;stroke:#82b936;stroke-linecap:round;stroke-width:2.7;\"/>\n   </g>\n   <g id=\"line2d_304\">\n    <path clip-path=\"url(#pdc38db403c)\" d=\"M 0 0 \n\" style=\"fill:none;stroke:#82b936;stroke-linecap:round;stroke-width:2.7;\"/>\n   </g>\n   <g id=\"PathCollection_71\">\n    <defs>\n     <path d=\"M 0 3.383948 \nC 0.897434 3.383948 1.758231 3.027394 2.392813 2.392813 \nC 3.027394 1.758231 3.383948 0.897434 3.383948 0 \nC 3.383948 -0.897434 3.027394 -1.758231 2.392813 -2.392813 \nC 1.758231 -3.027394 0.897434 -3.383948 0 -3.383948 \nC -0.897434 -3.383948 -1.758231 -3.027394 -2.392813 -2.392813 \nC -3.027394 -1.758231 -3.383948 -0.897434 -3.383948 0 \nC -3.383948 0.897434 -3.027394 1.758231 -2.392813 2.392813 \nC -1.758231 3.027394 -0.897434 3.383948 0 3.383948 \nz\n\" id=\"m71d8bd1d53\" style=\"stroke:#57bf36;stroke-width:2.025;\"/>\n    </defs>\n    <g clip-path=\"url(#pdc38db403c)\">\n     <use style=\"fill:#57bf36;stroke:#57bf36;stroke-width:2.025;\" x=\"438.224987\" xlink:href=\"#m71d8bd1d53\" y=\"241.677243\"/>\n     <use style=\"fill:#57bf36;stroke:#57bf36;stroke-width:2.025;\" x=\"493.56406\" xlink:href=\"#m71d8bd1d53\" y=\"266.349731\"/>\n     <use style=\"fill:#57bf36;stroke:#57bf36;stroke-width:2.025;\" x=\"548.903133\" xlink:href=\"#m71d8bd1d53\" y=\"225.402183\"/>\n    </g>\n   </g>\n   <g id=\"line2d_305\">\n    <path clip-path=\"url(#pdc38db403c)\" d=\"M 438.224987 241.677243 \nL 493.56406 266.349731 \nL 548.903133 225.402183 \n\" style=\"fill:none;stroke:#57bf36;stroke-linecap:round;stroke-width:2.7;\"/>\n   </g>\n   <g id=\"line2d_306\">\n    <path clip-path=\"url(#pdc38db403c)\" d=\"M 0 0 \n\" style=\"fill:none;stroke:#57bf36;stroke-linecap:round;stroke-width:2.7;\"/>\n   </g>\n   <g id=\"line2d_307\">\n    <path clip-path=\"url(#pdc38db403c)\" d=\"M 0 0 \n\" style=\"fill:none;stroke:#57bf36;stroke-linecap:round;stroke-width:2.7;\"/>\n   </g>\n   <g id=\"line2d_308\">\n    <path clip-path=\"url(#pdc38db403c)\" d=\"M 0 0 \n\" style=\"fill:none;stroke:#57bf36;stroke-linecap:round;stroke-width:2.7;\"/>\n   </g>\n   <g id=\"PathCollection_72\">\n    <defs>\n     <path d=\"M 0 3.383948 \nC 0.897434 3.383948 1.758231 3.027394 2.392813 2.392813 \nC 3.027394 1.758231 3.383948 0.897434 3.383948 -0 \nC 3.383948 -0.897434 3.027394 -1.758231 2.392813 -2.392813 \nC 1.758231 -3.027394 0.897434 -3.383948 0 -3.383948 \nC -0.897434 -3.383948 -1.758231 -3.027394 -2.392813 -2.392813 \nC -3.027394 -1.758231 -3.383948 -0.897434 -3.383948 0 \nC -3.383948 0.897434 -3.027394 1.758231 -2.392813 2.392813 \nC -1.758231 3.027394 -0.897434 3.383948 0 3.383948 \nz\n\" id=\"C31_0_791e01dbc4\"/>\n    </defs>\n   </g>\n   <g id=\"line2d_309\">\n    <path clip-path=\"url(#pdc38db403c)\" d=\"M 0 0 \n\" style=\"fill:none;stroke:#37c164;stroke-linecap:round;stroke-width:2.7;\"/>\n   </g>\n   <g id=\"line2d_310\">\n    <path clip-path=\"url(#pdc38db403c)\" d=\"M 0 0 \n\" style=\"fill:none;stroke:#37c164;stroke-linecap:round;stroke-width:2.7;\"/>\n   </g>\n   <g id=\"line2d_311\">\n    <path clip-path=\"url(#pdc38db403c)\" d=\"M 0 0 \n\" style=\"fill:none;stroke:#37c164;stroke-linecap:round;stroke-width:2.7;\"/>\n   </g>\n   <g id=\"line2d_312\">\n    <path clip-path=\"url(#pdc38db403c)\" d=\"M 0 0 \n\" style=\"fill:none;stroke:#37c164;stroke-linecap:round;stroke-width:2.7;\"/>\n   </g>\n   <g id=\"PathCollection_73\">\n    <defs>\n     <path d=\"M 0 3.383948 \nC 0.897434 3.383948 1.758231 3.027394 2.392813 2.392813 \nC 3.027394 1.758231 3.383948 0.897434 3.383948 0 \nC 3.383948 -0.897434 3.027394 -1.758231 2.392813 -2.392813 \nC 1.758231 -3.027394 0.897434 -3.383948 0 -3.383948 \nC -0.897434 -3.383948 -1.758231 -3.027394 -2.392813 -2.392813 \nC -3.027394 -1.758231 -3.383948 -0.897434 -3.383948 0 \nC -3.383948 0.897434 -3.027394 1.758231 -2.392813 2.392813 \nC -1.758231 3.027394 -0.897434 3.383948 0 3.383948 \nz\n\" id=\"ma3db3f00b5\" style=\"stroke:#38bf85;stroke-width:2.025;\"/>\n    </defs>\n    <g clip-path=\"url(#pdc38db403c)\">\n     <use style=\"fill:#38bf85;stroke:#38bf85;stroke-width:2.025;\" x=\"441.087353\" xlink:href=\"#ma3db3f00b5\" y=\"236.632478\"/>\n     <use style=\"fill:#38bf85;stroke:#38bf85;stroke-width:2.025;\" x=\"496.426426\" xlink:href=\"#ma3db3f00b5\" y=\"306.457399\"/>\n     <use style=\"fill:#38bf85;stroke:#38bf85;stroke-width:2.025;\" x=\"551.765499\" xlink:href=\"#ma3db3f00b5\" y=\"192.929752\"/>\n    </g>\n   </g>\n   <g id=\"line2d_313\">\n    <path clip-path=\"url(#pdc38db403c)\" d=\"M 441.087353 236.632478 \nL 496.426426 306.457399 \nL 551.765499 192.929752 \n\" style=\"fill:none;stroke:#38bf85;stroke-linecap:round;stroke-width:2.7;\"/>\n   </g>\n   <g id=\"line2d_314\">\n    <path clip-path=\"url(#pdc38db403c)\" d=\"M 0 0 \n\" style=\"fill:none;stroke:#38bf85;stroke-linecap:round;stroke-width:2.7;\"/>\n   </g>\n   <g id=\"line2d_315\">\n    <path clip-path=\"url(#pdc38db403c)\" d=\"M 0 0 \n\" style=\"fill:none;stroke:#38bf85;stroke-linecap:round;stroke-width:2.7;\"/>\n   </g>\n   <g id=\"line2d_316\">\n    <path clip-path=\"url(#pdc38db403c)\" d=\"M 0 0 \n\" style=\"fill:none;stroke:#38bf85;stroke-linecap:round;stroke-width:2.7;\"/>\n   </g>\n   <g id=\"PathCollection_74\">\n    <defs>\n     <path d=\"M 0 3.383948 \nC 0.897434 3.383948 1.758231 3.027394 2.392813 2.392813 \nC 3.027394 1.758231 3.383948 0.897434 3.383948 -0 \nC 3.383948 -0.897434 3.027394 -1.758231 2.392813 -2.392813 \nC 1.758231 -3.027394 0.897434 -3.383948 0 -3.383948 \nC -0.897434 -3.383948 -1.758231 -3.027394 -2.392813 -2.392813 \nC -3.027394 -1.758231 -3.383948 -0.897434 -3.383948 0 \nC -3.383948 0.897434 -3.027394 1.758231 -2.392813 2.392813 \nC -1.758231 3.027394 -0.897434 3.383948 0 3.383948 \nz\n\" id=\"C32_0_4fbbbf727c\"/>\n    </defs>\n   </g>\n   <g id=\"line2d_317\">\n    <path clip-path=\"url(#pdc38db403c)\" d=\"M 0 0 \n\" style=\"fill:none;stroke:#39be98;stroke-linecap:round;stroke-width:2.7;\"/>\n   </g>\n   <g id=\"line2d_318\">\n    <path clip-path=\"url(#pdc38db403c)\" d=\"M 0 0 \n\" style=\"fill:none;stroke:#39be98;stroke-linecap:round;stroke-width:2.7;\"/>\n   </g>\n   <g id=\"line2d_319\">\n    <path clip-path=\"url(#pdc38db403c)\" d=\"M 0 0 \n\" style=\"fill:none;stroke:#39be98;stroke-linecap:round;stroke-width:2.7;\"/>\n   </g>\n   <g id=\"line2d_320\">\n    <path clip-path=\"url(#pdc38db403c)\" d=\"M 0 0 \n\" style=\"fill:none;stroke:#39be98;stroke-linecap:round;stroke-width:2.7;\"/>\n   </g>\n   <g id=\"PathCollection_75\">\n    <defs>\n     <path d=\"M 0 3.383948 \nC 0.897434 3.383948 1.758231 3.027394 2.392813 2.392813 \nC 3.027394 1.758231 3.383948 0.897434 3.383948 0 \nC 3.383948 -0.897434 3.027394 -1.758231 2.392813 -2.392813 \nC 1.758231 -3.027394 0.897434 -3.383948 0 -3.383948 \nC -0.897434 -3.383948 -1.758231 -3.027394 -2.392813 -2.392813 \nC -3.027394 -1.758231 -3.383948 -0.897434 -3.383948 0 \nC -3.383948 0.897434 -3.027394 1.758231 -2.392813 2.392813 \nC -1.758231 3.027394 -0.897434 3.383948 0 3.383948 \nz\n\" id=\"mff88380b50\" style=\"stroke:#3abca6;stroke-width:2.025;\"/>\n    </defs>\n    <g clip-path=\"url(#pdc38db403c)\">\n     <use style=\"fill:#3abca6;stroke:#3abca6;stroke-width:2.025;\" x=\"443.949719\" xlink:href=\"#mff88380b50\" y=\"246.795886\"/>\n     <use style=\"fill:#3abca6;stroke:#3abca6;stroke-width:2.025;\" x=\"499.288792\" xlink:href=\"#mff88380b50\" y=\"284.60028\"/>\n     <use style=\"fill:#3abca6;stroke:#3abca6;stroke-width:2.025;\" x=\"554.627865\" xlink:href=\"#mff88380b50\" y=\"185.46434\"/>\n    </g>\n   </g>\n   <g id=\"line2d_321\">\n    <path clip-path=\"url(#pdc38db403c)\" d=\"M 443.949719 246.795886 \nL 499.288792 284.60028 \nL 554.627865 185.46434 \n\" style=\"fill:none;stroke:#3abca6;stroke-linecap:round;stroke-width:2.7;\"/>\n   </g>\n   <g id=\"line2d_322\">\n    <path clip-path=\"url(#pdc38db403c)\" d=\"M 0 0 \n\" style=\"fill:none;stroke:#3abca6;stroke-linecap:round;stroke-width:2.7;\"/>\n   </g>\n   <g id=\"line2d_323\">\n    <path clip-path=\"url(#pdc38db403c)\" d=\"M 0 0 \n\" style=\"fill:none;stroke:#3abca6;stroke-linecap:round;stroke-width:2.7;\"/>\n   </g>\n   <g id=\"line2d_324\">\n    <path clip-path=\"url(#pdc38db403c)\" d=\"M 0 0 \n\" style=\"fill:none;stroke:#3abca6;stroke-linecap:round;stroke-width:2.7;\"/>\n   </g>\n   <g id=\"PathCollection_76\">\n    <defs>\n     <path d=\"M 0 3.383948 \nC 0.897434 3.383948 1.758231 3.027394 2.392813 2.392813 \nC 3.027394 1.758231 3.383948 0.897434 3.383948 -0 \nC 3.383948 -0.897434 3.027394 -1.758231 2.392813 -2.392813 \nC 1.758231 -3.027394 0.897434 -3.383948 0 -3.383948 \nC -0.897434 -3.383948 -1.758231 -3.027394 -2.392813 -2.392813 \nC -3.027394 -1.758231 -3.383948 -0.897434 -3.383948 0 \nC -3.383948 0.897434 -3.027394 1.758231 -2.392813 2.392813 \nC -1.758231 3.027394 -0.897434 3.383948 0 3.383948 \nz\n\" id=\"C33_0_d2a1e0a041\"/>\n    </defs>\n   </g>\n   <g id=\"line2d_325\">\n    <path clip-path=\"url(#pdc38db403c)\" d=\"M 0 0 \n\" style=\"fill:none;stroke:#3bbbb2;stroke-linecap:round;stroke-width:2.7;\"/>\n   </g>\n   <g id=\"line2d_326\">\n    <path clip-path=\"url(#pdc38db403c)\" d=\"M 0 0 \n\" style=\"fill:none;stroke:#3bbbb2;stroke-linecap:round;stroke-width:2.7;\"/>\n   </g>\n   <g id=\"line2d_327\">\n    <path clip-path=\"url(#pdc38db403c)\" d=\"M 0 0 \n\" style=\"fill:none;stroke:#3bbbb2;stroke-linecap:round;stroke-width:2.7;\"/>\n   </g>\n   <g id=\"line2d_328\">\n    <path clip-path=\"url(#pdc38db403c)\" d=\"M 0 0 \n\" style=\"fill:none;stroke:#3bbbb2;stroke-linecap:round;stroke-width:2.7;\"/>\n   </g>\n   <g id=\"PathCollection_77\">\n    <defs>\n     <path d=\"M 0 3.383948 \nC 0.897434 3.383948 1.758231 3.027394 2.392813 2.392813 \nC 3.027394 1.758231 3.383948 0.897434 3.383948 -0 \nC 3.383948 -0.897434 3.027394 -1.758231 2.392813 -2.392813 \nC 1.758231 -3.027394 0.897434 -3.383948 0 -3.383948 \nC -0.897434 -3.383948 -1.758231 -3.027394 -2.392813 -2.392813 \nC -3.027394 -1.758231 -3.383948 -0.897434 -3.383948 0 \nC -3.383948 0.897434 -3.027394 1.758231 -2.392813 2.392813 \nC -1.758231 3.027394 -0.897434 3.383948 0 3.383948 \nz\n\" id=\"C34_0_c4d848d441\"/>\n    </defs>\n   </g>\n   <g id=\"line2d_329\">\n    <path clip-path=\"url(#pdc38db403c)\" d=\"M 0 0 \n\" style=\"fill:none;stroke:#3cbabd;stroke-linecap:round;stroke-width:2.7;\"/>\n   </g>\n   <g id=\"line2d_330\">\n    <path clip-path=\"url(#pdc38db403c)\" d=\"M 0 0 \n\" style=\"fill:none;stroke:#3cbabd;stroke-linecap:round;stroke-width:2.7;\"/>\n   </g>\n   <g id=\"line2d_331\">\n    <path clip-path=\"url(#pdc38db403c)\" d=\"M 0 0 \n\" style=\"fill:none;stroke:#3cbabd;stroke-linecap:round;stroke-width:2.7;\"/>\n   </g>\n   <g id=\"line2d_332\">\n    <path clip-path=\"url(#pdc38db403c)\" d=\"M 0 0 \n\" style=\"fill:none;stroke:#3cbabd;stroke-linecap:round;stroke-width:2.7;\"/>\n   </g>\n   <g id=\"PathCollection_78\">\n    <defs>\n     <path d=\"M 0 3.383948 \nC 0.897434 3.383948 1.758231 3.027394 2.392813 2.392813 \nC 3.027394 1.758231 3.383948 0.897434 3.383948 0 \nC 3.383948 -0.897434 3.027394 -1.758231 2.392813 -2.392813 \nC 1.758231 -3.027394 0.897434 -3.383948 0 -3.383948 \nC -0.897434 -3.383948 -1.758231 -3.027394 -2.392813 -2.392813 \nC -3.027394 -1.758231 -3.383948 -0.897434 -3.383948 0 \nC -3.383948 0.897434 -3.027394 1.758231 -2.392813 2.392813 \nC -1.758231 3.027394 -0.897434 3.383948 0 3.383948 \nz\n\" id=\"m2660745621\" style=\"stroke:#3cb9c8;stroke-width:2.025;\"/>\n    </defs>\n    <g clip-path=\"url(#pdc38db403c)\">\n     <use style=\"fill:#3cb9c8;stroke:#3cb9c8;stroke-width:2.025;\" x=\"448.243267\" xlink:href=\"#m2660745621\" y=\"225.76731\"/>\n     <use style=\"fill:#3cb9c8;stroke:#3cb9c8;stroke-width:2.025;\" x=\"503.582341\" xlink:href=\"#m2660745621\" y=\"310.938511\"/>\n     <use style=\"fill:#3cb9c8;stroke:#3cb9c8;stroke-width:2.025;\" x=\"558.921414\" xlink:href=\"#m2660745621\" y=\"239.701335\"/>\n    </g>\n   </g>\n   <g id=\"line2d_333\">\n    <path clip-path=\"url(#pdc38db403c)\" d=\"M 448.243267 225.76731 \nL 503.582341 310.938511 \nL 558.921414 239.701335 \n\" style=\"fill:none;stroke:#3cb9c8;stroke-linecap:round;stroke-width:2.7;\"/>\n   </g>\n   <g id=\"line2d_334\">\n    <path clip-path=\"url(#pdc38db403c)\" d=\"M 0 0 \n\" style=\"fill:none;stroke:#3cb9c8;stroke-linecap:round;stroke-width:2.7;\"/>\n   </g>\n   <g id=\"line2d_335\">\n    <path clip-path=\"url(#pdc38db403c)\" d=\"M 0 0 \n\" style=\"fill:none;stroke:#3cb9c8;stroke-linecap:round;stroke-width:2.7;\"/>\n   </g>\n   <g id=\"line2d_336\">\n    <path clip-path=\"url(#pdc38db403c)\" d=\"M 0 0 \n\" style=\"fill:none;stroke:#3cb9c8;stroke-linecap:round;stroke-width:2.7;\"/>\n   </g>\n   <g id=\"PathCollection_79\">\n    <defs>\n     <path d=\"M 0 3.383948 \nC 0.897434 3.383948 1.758231 3.027394 2.392813 2.392813 \nC 3.027394 1.758231 3.383948 0.897434 3.383948 0 \nC 3.383948 -0.897434 3.027394 -1.758231 2.392813 -2.392813 \nC 1.758231 -3.027394 0.897434 -3.383948 0 -3.383948 \nC -0.897434 -3.383948 -1.758231 -3.027394 -2.392813 -2.392813 \nC -3.027394 -1.758231 -3.383948 -0.897434 -3.383948 0 \nC -3.383948 0.897434 -3.027394 1.758231 -2.392813 2.392813 \nC -1.758231 3.027394 -0.897434 3.383948 0 3.383948 \nz\n\" id=\"m99356d6e2d\" style=\"stroke:#3db7d6;stroke-width:2.025;\"/>\n    </defs>\n    <g clip-path=\"url(#pdc38db403c)\">\n     <use style=\"fill:#3db7d6;stroke:#3db7d6;stroke-width:2.025;\" x=\"449.67445\" xlink:href=\"#m99356d6e2d\" y=\"244.279031\"/>\n     <use style=\"fill:#3db7d6;stroke:#3db7d6;stroke-width:2.025;\" x=\"505.013524\" xlink:href=\"#m99356d6e2d\" y=\"268.417454\"/>\n     <use style=\"fill:#3db7d6;stroke:#3db7d6;stroke-width:2.025;\" x=\"560.352597\" xlink:href=\"#m99356d6e2d\" y=\"219.300329\"/>\n    </g>\n   </g>\n   <g id=\"line2d_337\">\n    <path clip-path=\"url(#pdc38db403c)\" d=\"M 449.67445 244.279031 \nL 505.013524 268.417454 \nL 560.352597 219.300329 \n\" style=\"fill:none;stroke:#3db7d6;stroke-linecap:round;stroke-width:2.7;\"/>\n   </g>\n   <g id=\"line2d_338\">\n    <path clip-path=\"url(#pdc38db403c)\" d=\"M 0 0 \n\" style=\"fill:none;stroke:#3db7d6;stroke-linecap:round;stroke-width:2.7;\"/>\n   </g>\n   <g id=\"line2d_339\">\n    <path clip-path=\"url(#pdc38db403c)\" d=\"M 0 0 \n\" style=\"fill:none;stroke:#3db7d6;stroke-linecap:round;stroke-width:2.7;\"/>\n   </g>\n   <g id=\"line2d_340\">\n    <path clip-path=\"url(#pdc38db403c)\" d=\"M 0 0 \n\" style=\"fill:none;stroke:#3db7d6;stroke-linecap:round;stroke-width:2.7;\"/>\n   </g>\n   <g id=\"PathCollection_80\">\n    <defs>\n     <path d=\"M 0 3.383948 \nC 0.897434 3.383948 1.758231 3.027394 2.392813 2.392813 \nC 3.027394 1.758231 3.383948 0.897434 3.383948 0 \nC 3.383948 -0.897434 3.027394 -1.758231 2.392813 -2.392813 \nC 1.758231 -3.027394 0.897434 -3.383948 0 -3.383948 \nC -0.897434 -3.383948 -1.758231 -3.027394 -2.392813 -2.392813 \nC -3.027394 -1.758231 -3.383948 -0.897434 -3.383948 0 \nC -3.383948 0.897434 -3.027394 1.758231 -2.392813 2.392813 \nC -1.758231 3.027394 -0.897434 3.383948 0 3.383948 \nz\n\" id=\"m6f2de020ff\" style=\"stroke:#3fb5e6;stroke-width:2.025;\"/>\n    </defs>\n    <g clip-path=\"url(#pdc38db403c)\">\n     <use style=\"fill:#3fb5e6;stroke:#3fb5e6;stroke-width:2.025;\" x=\"451.105633\" xlink:href=\"#m6f2de020ff\" y=\"239.385832\"/>\n     <use style=\"fill:#3fb5e6;stroke:#3fb5e6;stroke-width:2.025;\" x=\"506.444707\" xlink:href=\"#m6f2de020ff\" y=\"293.456346\"/>\n     <use style=\"fill:#3fb5e6;stroke:#3fb5e6;stroke-width:2.025;\" x=\"561.78378\" xlink:href=\"#m6f2de020ff\" y=\"236.993988\"/>\n    </g>\n   </g>\n   <g id=\"line2d_341\">\n    <path clip-path=\"url(#pdc38db403c)\" d=\"M 451.105633 239.385832 \nL 506.444707 293.456346 \nL 561.78378 236.993988 \n\" style=\"fill:none;stroke:#3fb5e6;stroke-linecap:round;stroke-width:2.7;\"/>\n   </g>\n   <g id=\"line2d_342\">\n    <path clip-path=\"url(#pdc38db403c)\" d=\"M 0 0 \n\" style=\"fill:none;stroke:#3fb5e6;stroke-linecap:round;stroke-width:2.7;\"/>\n   </g>\n   <g id=\"line2d_343\">\n    <path clip-path=\"url(#pdc38db403c)\" d=\"M 0 0 \n\" style=\"fill:none;stroke:#3fb5e6;stroke-linecap:round;stroke-width:2.7;\"/>\n   </g>\n   <g id=\"line2d_344\">\n    <path clip-path=\"url(#pdc38db403c)\" d=\"M 0 0 \n\" style=\"fill:none;stroke:#3fb5e6;stroke-linecap:round;stroke-width:2.7;\"/>\n   </g>\n   <g id=\"PathCollection_81\">\n    <defs>\n     <path d=\"M 0 3.383948 \nC 0.897434 3.383948 1.758231 3.027394 2.392813 2.392813 \nC 3.027394 1.758231 3.383948 0.897434 3.383948 -0 \nC 3.383948 -0.897434 3.027394 -1.758231 2.392813 -2.392813 \nC 1.758231 -3.027394 0.897434 -3.383948 0 -3.383948 \nC -0.897434 -3.383948 -1.758231 -3.027394 -2.392813 -2.392813 \nC -3.027394 -1.758231 -3.383948 -0.897434 -3.383948 0 \nC -3.383948 0.897434 -3.027394 1.758231 -2.392813 2.392813 \nC -1.758231 3.027394 -0.897434 3.383948 0 3.383948 \nz\n\" id=\"C35_0_b557b7d63b\"/>\n    </defs>\n   </g>\n   <g id=\"line2d_345\">\n    <path clip-path=\"url(#pdc38db403c)\" d=\"M 0 0 \n\" style=\"fill:none;stroke:#59b0f6;stroke-linecap:round;stroke-width:2.7;\"/>\n   </g>\n   <g id=\"line2d_346\">\n    <path clip-path=\"url(#pdc38db403c)\" d=\"M 0 0 \n\" style=\"fill:none;stroke:#59b0f6;stroke-linecap:round;stroke-width:2.7;\"/>\n   </g>\n   <g id=\"line2d_347\">\n    <path clip-path=\"url(#pdc38db403c)\" d=\"M 0 0 \n\" style=\"fill:none;stroke:#59b0f6;stroke-linecap:round;stroke-width:2.7;\"/>\n   </g>\n   <g id=\"line2d_348\">\n    <path clip-path=\"url(#pdc38db403c)\" d=\"M 0 0 \n\" style=\"fill:none;stroke:#59b0f6;stroke-linecap:round;stroke-width:2.7;\"/>\n   </g>\n   <g id=\"PathCollection_82\">\n    <defs>\n     <path d=\"M 0 3.383948 \nC 0.897434 3.383948 1.758231 3.027394 2.392813 2.392813 \nC 3.027394 1.758231 3.383948 0.897434 3.383948 -0 \nC 3.383948 -0.897434 3.027394 -1.758231 2.392813 -2.392813 \nC 1.758231 -3.027394 0.897434 -3.383948 0 -3.383948 \nC -0.897434 -3.383948 -1.758231 -3.027394 -2.392813 -2.392813 \nC -3.027394 -1.758231 -3.383948 -0.897434 -3.383948 0 \nC -3.383948 0.897434 -3.027394 1.758231 -2.392813 2.392813 \nC -1.758231 3.027394 -0.897434 3.383948 0 3.383948 \nz\n\" id=\"C36_0_3c8629eb5d\"/>\n    </defs>\n   </g>\n   <g id=\"line2d_349\">\n    <path clip-path=\"url(#pdc38db403c)\" d=\"M 0 0 \n\" style=\"fill:none;stroke:#86a8f6;stroke-linecap:round;stroke-width:2.7;\"/>\n   </g>\n   <g id=\"line2d_350\">\n    <path clip-path=\"url(#pdc38db403c)\" d=\"M 0 0 \n\" style=\"fill:none;stroke:#86a8f6;stroke-linecap:round;stroke-width:2.7;\"/>\n   </g>\n   <g id=\"line2d_351\">\n    <path clip-path=\"url(#pdc38db403c)\" d=\"M 0 0 \n\" style=\"fill:none;stroke:#86a8f6;stroke-linecap:round;stroke-width:2.7;\"/>\n   </g>\n   <g id=\"line2d_352\">\n    <path clip-path=\"url(#pdc38db403c)\" d=\"M 0 0 \n\" style=\"fill:none;stroke:#86a8f6;stroke-linecap:round;stroke-width:2.7;\"/>\n   </g>\n   <g id=\"PathCollection_83\">\n    <defs>\n     <path d=\"M 0 3.383948 \nC 0.897434 3.383948 1.758231 3.027394 2.392813 2.392813 \nC 3.027394 1.758231 3.383948 0.897434 3.383948 0 \nC 3.383948 -0.897434 3.027394 -1.758231 2.392813 -2.392813 \nC 1.758231 -3.027394 0.897434 -3.383948 0 -3.383948 \nC -0.897434 -3.383948 -1.758231 -3.027394 -2.392813 -2.392813 \nC -3.027394 -1.758231 -3.383948 -0.897434 -3.383948 0 \nC -3.383948 0.897434 -3.027394 1.758231 -2.392813 2.392813 \nC -1.758231 3.027394 -0.897434 3.383948 0 3.383948 \nz\n\" id=\"m53fc5c6d0f\" style=\"stroke:#a3a0f6;stroke-width:2.025;\"/>\n    </defs>\n    <g clip-path=\"url(#pdc38db403c)\">\n     <use style=\"fill:#a3a0f6;stroke:#a3a0f6;stroke-width:2.025;\" x=\"455.399182\" xlink:href=\"#m53fc5c6d0f\" y=\"336.218215\"/>\n     <use style=\"fill:#a3a0f6;stroke:#a3a0f6;stroke-width:2.025;\" x=\"510.738255\" xlink:href=\"#m53fc5c6d0f\" y=\"264.745261\"/>\n     <use style=\"fill:#a3a0f6;stroke:#a3a0f6;stroke-width:2.025;\" x=\"566.077329\" xlink:href=\"#m53fc5c6d0f\" y=\"230.302969\"/>\n    </g>\n   </g>\n   <g id=\"line2d_353\">\n    <path clip-path=\"url(#pdc38db403c)\" d=\"M 455.399182 336.218215 \nL 510.738255 264.745261 \nL 566.077329 230.302969 \n\" style=\"fill:none;stroke:#a3a0f6;stroke-linecap:round;stroke-width:2.7;\"/>\n   </g>\n   <g id=\"line2d_354\">\n    <path clip-path=\"url(#pdc38db403c)\" d=\"M 0 0 \n\" style=\"fill:none;stroke:#a3a0f6;stroke-linecap:round;stroke-width:2.7;\"/>\n   </g>\n   <g id=\"line2d_355\">\n    <path clip-path=\"url(#pdc38db403c)\" d=\"M 0 0 \n\" style=\"fill:none;stroke:#a3a0f6;stroke-linecap:round;stroke-width:2.7;\"/>\n   </g>\n   <g id=\"line2d_356\">\n    <path clip-path=\"url(#pdc38db403c)\" d=\"M 0 0 \n\" style=\"fill:none;stroke:#a3a0f6;stroke-linecap:round;stroke-width:2.7;\"/>\n   </g>\n   <g id=\"PathCollection_84\">\n    <defs>\n     <path d=\"M 0 3.383948 \nC 0.897434 3.383948 1.758231 3.027394 2.392813 2.392813 \nC 3.027394 1.758231 3.383948 0.897434 3.383948 -0 \nC 3.383948 -0.897434 3.027394 -1.758231 2.392813 -2.392813 \nC 1.758231 -3.027394 0.897434 -3.383948 0 -3.383948 \nC -0.897434 -3.383948 -1.758231 -3.027394 -2.392813 -2.392813 \nC -3.027394 -1.758231 -3.383948 -0.897434 -3.383948 0 \nC -3.383948 0.897434 -3.027394 1.758231 -2.392813 2.392813 \nC -1.758231 3.027394 -0.897434 3.383948 0 3.383948 \nz\n\" id=\"C37_0_e4f09c48b8\"/>\n    </defs>\n   </g>\n   <g id=\"line2d_357\">\n    <path clip-path=\"url(#pdc38db403c)\" d=\"M 0 0 \n\" style=\"fill:none;stroke:#bb98f6;stroke-linecap:round;stroke-width:2.7;\"/>\n   </g>\n   <g id=\"line2d_358\">\n    <path clip-path=\"url(#pdc38db403c)\" d=\"M 0 0 \n\" style=\"fill:none;stroke:#bb98f6;stroke-linecap:round;stroke-width:2.7;\"/>\n   </g>\n   <g id=\"line2d_359\">\n    <path clip-path=\"url(#pdc38db403c)\" d=\"M 0 0 \n\" style=\"fill:none;stroke:#bb98f6;stroke-linecap:round;stroke-width:2.7;\"/>\n   </g>\n   <g id=\"line2d_360\">\n    <path clip-path=\"url(#pdc38db403c)\" d=\"M 0 0 \n\" style=\"fill:none;stroke:#bb98f6;stroke-linecap:round;stroke-width:2.7;\"/>\n   </g>\n   <g id=\"PathCollection_85\">\n    <defs>\n     <path d=\"M 0 3.383948 \nC 0.897434 3.383948 1.758231 3.027394 2.392813 2.392813 \nC 3.027394 1.758231 3.383948 0.897434 3.383948 0 \nC 3.383948 -0.897434 3.027394 -1.758231 2.392813 -2.392813 \nC 1.758231 -3.027394 0.897434 -3.383948 0 -3.383948 \nC -0.897434 -3.383948 -1.758231 -3.027394 -2.392813 -2.392813 \nC -3.027394 -1.758231 -3.383948 -0.897434 -3.383948 0 \nC -3.383948 0.897434 -3.027394 1.758231 -2.392813 2.392813 \nC -1.758231 3.027394 -0.897434 3.383948 0 3.383948 \nz\n\" id=\"m933f40878f\" style=\"stroke:#d28ef6;stroke-width:2.025;\"/>\n    </defs>\n    <g clip-path=\"url(#pdc38db403c)\">\n     <use style=\"fill:#d28ef6;stroke:#d28ef6;stroke-width:2.025;\" x=\"458.261548\" xlink:href=\"#m933f40878f\" y=\"316.38006\"/>\n     <use style=\"fill:#d28ef6;stroke:#d28ef6;stroke-width:2.025;\" x=\"513.600621\" xlink:href=\"#m933f40878f\" y=\"310.415583\"/>\n     <use style=\"fill:#d28ef6;stroke:#d28ef6;stroke-width:2.025;\" x=\"568.939694\" xlink:href=\"#m933f40878f\" y=\"270.083513\"/>\n    </g>\n   </g>\n   <g id=\"line2d_361\">\n    <path clip-path=\"url(#pdc38db403c)\" d=\"M 458.261548 316.38006 \nL 513.600621 310.415583 \nL 568.939694 270.083513 \n\" style=\"fill:none;stroke:#d28ef6;stroke-linecap:round;stroke-width:2.7;\"/>\n   </g>\n   <g id=\"line2d_362\">\n    <path clip-path=\"url(#pdc38db403c)\" d=\"M 0 0 \n\" style=\"fill:none;stroke:#d28ef6;stroke-linecap:round;stroke-width:2.7;\"/>\n   </g>\n   <g id=\"line2d_363\">\n    <path clip-path=\"url(#pdc38db403c)\" d=\"M 0 0 \n\" style=\"fill:none;stroke:#d28ef6;stroke-linecap:round;stroke-width:2.7;\"/>\n   </g>\n   <g id=\"line2d_364\">\n    <path clip-path=\"url(#pdc38db403c)\" d=\"M 0 0 \n\" style=\"fill:none;stroke:#d28ef6;stroke-linecap:round;stroke-width:2.7;\"/>\n   </g>\n   <g id=\"PathCollection_86\">\n    <defs>\n     <path d=\"M 0 3.383948 \nC 0.897434 3.383948 1.758231 3.027394 2.392813 2.392813 \nC 3.027394 1.758231 3.383948 0.897434 3.383948 -0 \nC 3.383948 -0.897434 3.027394 -1.758231 2.392813 -2.392813 \nC 1.758231 -3.027394 0.897434 -3.383948 0 -3.383948 \nC -0.897434 -3.383948 -1.758231 -3.027394 -2.392813 -2.392813 \nC -3.027394 -1.758231 -3.383948 -0.897434 -3.383948 0 \nC -3.383948 0.897434 -3.027394 1.758231 -2.392813 2.392813 \nC -1.758231 3.027394 -0.897434 3.383948 0 3.383948 \nz\n\" id=\"C38_0_9552756b00\"/>\n    </defs>\n   </g>\n   <g id=\"line2d_365\">\n    <path clip-path=\"url(#pdc38db403c)\" d=\"M 0 0 \n\" style=\"fill:none;stroke:#ea80f6;stroke-linecap:round;stroke-width:2.7;\"/>\n   </g>\n   <g id=\"line2d_366\">\n    <path clip-path=\"url(#pdc38db403c)\" d=\"M 0 0 \n\" style=\"fill:none;stroke:#ea80f6;stroke-linecap:round;stroke-width:2.7;\"/>\n   </g>\n   <g id=\"line2d_367\">\n    <path clip-path=\"url(#pdc38db403c)\" d=\"M 0 0 \n\" style=\"fill:none;stroke:#ea80f6;stroke-linecap:round;stroke-width:2.7;\"/>\n   </g>\n   <g id=\"line2d_368\">\n    <path clip-path=\"url(#pdc38db403c)\" d=\"M 0 0 \n\" style=\"fill:none;stroke:#ea80f6;stroke-linecap:round;stroke-width:2.7;\"/>\n   </g>\n   <g id=\"PathCollection_87\">\n    <defs>\n     <path d=\"M 0 3.383948 \nC 0.897434 3.383948 1.758231 3.027394 2.392813 2.392813 \nC 3.027394 1.758231 3.383948 0.897434 3.383948 -0 \nC 3.383948 -0.897434 3.027394 -1.758231 2.392813 -2.392813 \nC 1.758231 -3.027394 0.897434 -3.383948 0 -3.383948 \nC -0.897434 -3.383948 -1.758231 -3.027394 -2.392813 -2.392813 \nC -3.027394 -1.758231 -3.383948 -0.897434 -3.383948 0 \nC -3.383948 0.897434 -3.027394 1.758231 -2.392813 2.392813 \nC -1.758231 3.027394 -0.897434 3.383948 0 3.383948 \nz\n\" id=\"C39_0_4766b2059d\"/>\n    </defs>\n   </g>\n   <g id=\"line2d_369\">\n    <path clip-path=\"url(#pdc38db403c)\" d=\"M 0 0 \n\" style=\"fill:none;stroke:#f67ce7;stroke-linecap:round;stroke-width:2.7;\"/>\n   </g>\n   <g id=\"line2d_370\">\n    <path clip-path=\"url(#pdc38db403c)\" d=\"M 0 0 \n\" style=\"fill:none;stroke:#f67ce7;stroke-linecap:round;stroke-width:2.7;\"/>\n   </g>\n   <g id=\"line2d_371\">\n    <path clip-path=\"url(#pdc38db403c)\" d=\"M 0 0 \n\" style=\"fill:none;stroke:#f67ce7;stroke-linecap:round;stroke-width:2.7;\"/>\n   </g>\n   <g id=\"line2d_372\">\n    <path clip-path=\"url(#pdc38db403c)\" d=\"M 0 0 \n\" style=\"fill:none;stroke:#f67ce7;stroke-linecap:round;stroke-width:2.7;\"/>\n   </g>\n   <g id=\"PathCollection_88\">\n    <defs>\n     <path d=\"M 0 3.383948 \nC 0.897434 3.383948 1.758231 3.027394 2.392813 2.392813 \nC 3.027394 1.758231 3.383948 0.897434 3.383948 -0 \nC 3.383948 -0.897434 3.027394 -1.758231 2.392813 -2.392813 \nC 1.758231 -3.027394 0.897434 -3.383948 0 -3.383948 \nC -0.897434 -3.383948 -1.758231 -3.027394 -2.392813 -2.392813 \nC -3.027394 -1.758231 -3.383948 -0.897434 -3.383948 0 \nC -3.383948 0.897434 -3.027394 1.758231 -2.392813 2.392813 \nC -1.758231 3.027394 -0.897434 3.383948 0 3.383948 \nz\n\" id=\"C3a_0_9e88b8a2ae\"/>\n    </defs>\n   </g>\n   <g id=\"line2d_373\">\n    <path clip-path=\"url(#pdc38db403c)\" d=\"M 0 0 \n\" style=\"fill:none;stroke:#f780d2;stroke-linecap:round;stroke-width:2.7;\"/>\n   </g>\n   <g id=\"line2d_374\">\n    <path clip-path=\"url(#pdc38db403c)\" d=\"M 0 0 \n\" style=\"fill:none;stroke:#f780d2;stroke-linecap:round;stroke-width:2.7;\"/>\n   </g>\n   <g id=\"line2d_375\">\n    <path clip-path=\"url(#pdc38db403c)\" d=\"M 0 0 \n\" style=\"fill:none;stroke:#f780d2;stroke-linecap:round;stroke-width:2.7;\"/>\n   </g>\n   <g id=\"line2d_376\">\n    <path clip-path=\"url(#pdc38db403c)\" d=\"M 0 0 \n\" style=\"fill:none;stroke:#f780d2;stroke-linecap:round;stroke-width:2.7;\"/>\n   </g>\n   <g id=\"PathCollection_89\">\n    <defs>\n     <path d=\"M 0 3.383948 \nC 0.897434 3.383948 1.758231 3.027394 2.392813 2.392813 \nC 3.027394 1.758231 3.383948 0.897434 3.383948 -0 \nC 3.383948 -0.897434 3.027394 -1.758231 2.392813 -2.392813 \nC 1.758231 -3.027394 0.897434 -3.383948 0 -3.383948 \nC -0.897434 -3.383948 -1.758231 -3.027394 -2.392813 -2.392813 \nC -3.027394 -1.758231 -3.383948 -0.897434 -3.383948 0 \nC -3.383948 0.897434 -3.027394 1.758231 -2.392813 2.392813 \nC -1.758231 3.027394 -0.897434 3.383948 0 3.383948 \nz\n\" id=\"C3b_0_c78f4010ad\"/>\n    </defs>\n   </g>\n   <g id=\"line2d_377\">\n    <path clip-path=\"url(#pdc38db403c)\" d=\"M 0 0 \n\" style=\"fill:none;stroke:#f783c0;stroke-linecap:round;stroke-width:2.7;\"/>\n   </g>\n   <g id=\"line2d_378\">\n    <path clip-path=\"url(#pdc38db403c)\" d=\"M 0 0 \n\" style=\"fill:none;stroke:#f783c0;stroke-linecap:round;stroke-width:2.7;\"/>\n   </g>\n   <g id=\"line2d_379\">\n    <path clip-path=\"url(#pdc38db403c)\" d=\"M 0 0 \n\" style=\"fill:none;stroke:#f783c0;stroke-linecap:round;stroke-width:2.7;\"/>\n   </g>\n   <g id=\"line2d_380\">\n    <path clip-path=\"url(#pdc38db403c)\" d=\"M 0 0 \n\" style=\"fill:none;stroke:#f783c0;stroke-linecap:round;stroke-width:2.7;\"/>\n   </g>\n   <g id=\"PathCollection_90\">\n    <defs>\n     <path d=\"M 0 3.383948 \nC 0.897434 3.383948 1.758231 3.027394 2.392813 2.392813 \nC 3.027394 1.758231 3.383948 0.897434 3.383948 0 \nC 3.383948 -0.897434 3.027394 -1.758231 2.392813 -2.392813 \nC 1.758231 -3.027394 0.897434 -3.383948 0 -3.383948 \nC -0.897434 -3.383948 -1.758231 -3.027394 -2.392813 -2.392813 \nC -3.027394 -1.758231 -3.383948 -0.897434 -3.383948 0 \nC -3.383948 0.897434 -3.027394 1.758231 -2.392813 2.392813 \nC -1.758231 3.027394 -0.897434 3.383948 0 3.383948 \nz\n\" id=\"m1bc014128d\" style=\"stroke:#f785ae;stroke-width:2.025;\"/>\n    </defs>\n    <g clip-path=\"url(#pdc38db403c)\">\n     <use style=\"fill:#f785ae;stroke:#f785ae;stroke-width:2.025;\" x=\"465.417463\" xlink:href=\"#m1bc014128d\" y=\"267.631944\"/>\n     <use style=\"fill:#f785ae;stroke:#f785ae;stroke-width:2.025;\" x=\"520.756536\" xlink:href=\"#m1bc014128d\" y=\"283.108609\"/>\n     <use style=\"fill:#f785ae;stroke:#f785ae;stroke-width:2.025;\" x=\"576.095609\" xlink:href=\"#m1bc014128d\" y=\"198.825546\"/>\n    </g>\n   </g>\n   <g id=\"line2d_381\">\n    <path clip-path=\"url(#pdc38db403c)\" d=\"M 465.417463 267.631944 \nL 520.756536 283.108609 \nL 576.095609 198.825546 \n\" style=\"fill:none;stroke:#f785ae;stroke-linecap:round;stroke-width:2.7;\"/>\n   </g>\n   <g id=\"line2d_382\">\n    <path clip-path=\"url(#pdc38db403c)\" d=\"M 0 0 \n\" style=\"fill:none;stroke:#f785ae;stroke-linecap:round;stroke-width:2.7;\"/>\n   </g>\n   <g id=\"line2d_383\">\n    <path clip-path=\"url(#pdc38db403c)\" d=\"M 0 0 \n\" style=\"fill:none;stroke:#f785ae;stroke-linecap:round;stroke-width:2.7;\"/>\n   </g>\n   <g id=\"line2d_384\">\n    <path clip-path=\"url(#pdc38db403c)\" d=\"M 0 0 \n\" style=\"fill:none;stroke:#f785ae;stroke-linecap:round;stroke-width:2.7;\"/>\n   </g>\n  </g>\n  <g id=\"legend_1\">\n   <g id=\"text_25\">\n    <!-- user -->\n    <g style=\"fill:#262626;\" transform=\"translate(599.511681 20.718125)scale(0.12 -0.12)\">\n     <defs>\n      <path d=\"M 8.5 21.578125 \nL 8.5 54.6875 \nL 17.484375 54.6875 \nL 17.484375 21.921875 \nQ 17.484375 14.15625 20.5 10.265625 \nQ 23.53125 6.390625 29.59375 6.390625 \nQ 36.859375 6.390625 41.078125 11.03125 \nQ 45.3125 15.671875 45.3125 23.6875 \nL 45.3125 54.6875 \nL 54.296875 54.6875 \nL 54.296875 0 \nL 45.3125 0 \nL 45.3125 8.40625 \nQ 42.046875 3.421875 37.71875 1 \nQ 33.40625 -1.421875 27.6875 -1.421875 \nQ 18.265625 -1.421875 13.375 4.4375 \nQ 8.5 10.296875 8.5 21.578125 \nz\nM 31.109375 56 \nz\n\" id=\"DejaVuSans-117\"/>\n      <path d=\"M 44.28125 53.078125 \nL 44.28125 44.578125 \nQ 40.484375 46.53125 36.375 47.5 \nQ 32.28125 48.484375 27.875 48.484375 \nQ 21.1875 48.484375 17.84375 46.4375 \nQ 14.5 44.390625 14.5 40.28125 \nQ 14.5 37.15625 16.890625 35.375 \nQ 19.28125 33.59375 26.515625 31.984375 \nL 29.59375 31.296875 \nQ 39.15625 29.25 43.1875 25.515625 \nQ 47.21875 21.78125 47.21875 15.09375 \nQ 47.21875 7.46875 41.1875 3.015625 \nQ 35.15625 -1.421875 24.609375 -1.421875 \nQ 20.21875 -1.421875 15.453125 -0.5625 \nQ 10.6875 0.296875 5.421875 2 \nL 5.421875 11.28125 \nQ 10.40625 8.6875 15.234375 7.390625 \nQ 20.0625 6.109375 24.8125 6.109375 \nQ 31.15625 6.109375 34.5625 8.28125 \nQ 37.984375 10.453125 37.984375 14.40625 \nQ 37.984375 18.0625 35.515625 20.015625 \nQ 33.0625 21.96875 24.703125 23.78125 \nL 21.578125 24.515625 \nQ 13.234375 26.265625 9.515625 29.90625 \nQ 5.8125 33.546875 5.8125 39.890625 \nQ 5.8125 47.609375 11.28125 51.796875 \nQ 16.75 56 26.8125 56 \nQ 31.78125 56 36.171875 55.265625 \nQ 40.578125 54.546875 44.28125 53.078125 \nz\n\" id=\"DejaVuSans-115\"/>\n      <path d=\"M 56.203125 29.59375 \nL 56.203125 25.203125 \nL 14.890625 25.203125 \nQ 15.484375 15.921875 20.484375 11.0625 \nQ 25.484375 6.203125 34.421875 6.203125 \nQ 39.59375 6.203125 44.453125 7.46875 \nQ 49.3125 8.734375 54.109375 11.28125 \nL 54.109375 2.78125 \nQ 49.265625 0.734375 44.1875 -0.34375 \nQ 39.109375 -1.421875 33.890625 -1.421875 \nQ 20.796875 -1.421875 13.15625 6.1875 \nQ 5.515625 13.8125 5.515625 26.8125 \nQ 5.515625 40.234375 12.765625 48.109375 \nQ 20.015625 56 32.328125 56 \nQ 43.359375 56 49.78125 48.890625 \nQ 56.203125 41.796875 56.203125 29.59375 \nz\nM 47.21875 32.234375 \nQ 47.125 39.59375 43.09375 43.984375 \nQ 39.0625 48.390625 32.421875 48.390625 \nQ 24.90625 48.390625 20.390625 44.140625 \nQ 15.875 39.890625 15.1875 32.171875 \nz\n\" id=\"DejaVuSans-101\"/>\n      <path d=\"M 41.109375 46.296875 \nQ 39.59375 47.171875 37.8125 47.578125 \nQ 36.03125 48 33.890625 48 \nQ 26.265625 48 22.1875 43.046875 \nQ 18.109375 38.09375 18.109375 28.8125 \nL 18.109375 0 \nL 9.078125 0 \nL 9.078125 54.6875 \nL 18.109375 54.6875 \nL 18.109375 46.1875 \nQ 20.953125 51.171875 25.484375 53.578125 \nQ 30.03125 56 36.53125 56 \nQ 37.453125 56 38.578125 55.875 \nQ 39.703125 55.765625 41.0625 55.515625 \nz\n\" id=\"DejaVuSans-114\"/>\n     </defs>\n     <use xlink:href=\"#DejaVuSans-117\"/>\n     <use x=\"63.378906\" xlink:href=\"#DejaVuSans-115\"/>\n     <use x=\"115.478516\" xlink:href=\"#DejaVuSans-101\"/>\n     <use x=\"177.001953\" xlink:href=\"#DejaVuSans-114\"/>\n    </g>\n   </g>\n   <g id=\"PathCollection_91\">\n    <g>\n     <use style=\"fill:#f8889a;stroke:#f8889a;stroke-width:2.025;\" x=\"601.199493\" xlink:href=\"#mb4dda219c1\" y=\"34.184531\"/>\n    </g>\n   </g>\n   <g id=\"text_26\">\n    <!-- 9 -->\n    <g style=\"fill:#262626;\" transform=\"translate(620.999493 37.072031)scale(0.11 -0.11)\">\n     <defs>\n      <path d=\"M 10.984375 1.515625 \nL 10.984375 10.5 \nQ 14.703125 8.734375 18.5 7.8125 \nQ 22.3125 6.890625 25.984375 6.890625 \nQ 35.75 6.890625 40.890625 13.453125 \nQ 46.046875 20.015625 46.78125 33.40625 \nQ 43.953125 29.203125 39.59375 26.953125 \nQ 35.25 24.703125 29.984375 24.703125 \nQ 19.046875 24.703125 12.671875 31.3125 \nQ 6.296875 37.9375 6.296875 49.421875 \nQ 6.296875 60.640625 12.9375 67.421875 \nQ 19.578125 74.21875 30.609375 74.21875 \nQ 43.265625 74.21875 49.921875 64.515625 \nQ 56.59375 54.828125 56.59375 36.375 \nQ 56.59375 19.140625 48.40625 8.859375 \nQ 40.234375 -1.421875 26.421875 -1.421875 \nQ 22.703125 -1.421875 18.890625 -0.6875 \nQ 15.09375 0.046875 10.984375 1.515625 \nz\nM 30.609375 32.421875 \nQ 37.25 32.421875 41.125 36.953125 \nQ 45.015625 41.5 45.015625 49.421875 \nQ 45.015625 57.28125 41.125 61.84375 \nQ 37.25 66.40625 30.609375 66.40625 \nQ 23.96875 66.40625 20.09375 61.84375 \nQ 16.21875 57.28125 16.21875 49.421875 \nQ 16.21875 41.5 20.09375 36.953125 \nQ 23.96875 32.421875 30.609375 32.421875 \nz\n\" id=\"DejaVuSans-57\"/>\n     </defs>\n     <use xlink:href=\"#DejaVuSans-57\"/>\n    </g>\n   </g>\n   <g id=\"PathCollection_92\">\n    <g>\n     <use style=\"fill:#f88a82;stroke:#f88a82;stroke-width:2.025;\" x=\"601.199493\" xlink:href=\"#macbf1a4eab\" y=\"50.330469\"/>\n    </g>\n   </g>\n   <g id=\"text_27\">\n    <!-- 10 -->\n    <g style=\"fill:#262626;\" transform=\"translate(620.999493 53.217969)scale(0.11 -0.11)\">\n     <use xlink:href=\"#DejaVuSans-49\"/>\n     <use x=\"63.623047\" xlink:href=\"#DejaVuSans-48\"/>\n    </g>\n   </g>\n   <g id=\"PathCollection_93\">\n    <g>\n     <use style=\"fill:#f88d5d;stroke:#f88d5d;stroke-width:2.025;\" x=\"601.199493\" xlink:href=\"#m12e05d0e93\" y=\"66.476406\"/>\n    </g>\n   </g>\n   <g id=\"text_28\">\n    <!-- 11 -->\n    <g style=\"fill:#262626;\" transform=\"translate(620.999493 69.363906)scale(0.11 -0.11)\">\n     <use xlink:href=\"#DejaVuSans-49\"/>\n     <use x=\"63.623047\" xlink:href=\"#DejaVuSans-49\"/>\n    </g>\n   </g>\n   <g id=\"PathCollection_94\">\n    <path d=\"M 601.199493 86.006292 \nC 602.096927 86.006292 602.957725 85.649738 603.592306 85.015156 \nC 604.226887 84.380575 604.583441 83.519777 604.583441 82.622344 \nC 604.583441 81.72491 604.226887 80.864112 603.592306 80.229531 \nC 602.957725 79.59495 602.096927 79.238396 601.199493 79.238396 \nC 600.30206 79.238396 599.441262 79.59495 598.806681 80.229531 \nC 598.172099 80.864112 597.815545 81.72491 597.815545 82.622344 \nC 597.815545 83.519777 598.172099 84.380575 598.806681 85.015156 \nC 599.441262 85.649738 600.30206 86.006292 601.199493 86.006292 \nz\n\" style=\"fill:#ee9537;\"/>\n   </g>\n   <g id=\"text_29\">\n    <!-- 12 -->\n    <g style=\"fill:#262626;\" transform=\"translate(620.999493 85.509844)scale(0.11 -0.11)\">\n     <use xlink:href=\"#DejaVuSans-49\"/>\n     <use x=\"63.623047\" xlink:href=\"#DejaVuSans-50\"/>\n    </g>\n   </g>\n   <g id=\"PathCollection_95\">\n    <path d=\"M 601.199493 102.152229 \nC 602.096927 102.152229 602.957725 101.795675 603.592306 101.161094 \nC 604.226887 100.526513 604.583441 99.665715 604.583441 98.768281 \nC 604.583441 97.870848 604.226887 97.01005 603.592306 96.375469 \nC 602.957725 95.740887 602.096927 95.384333 601.199493 95.384333 \nC 600.30206 95.384333 599.441262 95.740887 598.806681 96.375469 \nC 598.172099 97.01005 597.815545 97.870848 597.815545 98.768281 \nC 597.815545 99.665715 598.172099 100.526513 598.806681 101.161094 \nC 599.441262 101.795675 600.30206 102.152229 601.199493 102.152229 \nz\n\" style=\"fill:#db9e37;\"/>\n   </g>\n   <g id=\"text_30\">\n    <!-- 13 -->\n    <g style=\"fill:#262626;\" transform=\"translate(620.999493 101.655781)scale(0.11 -0.11)\">\n     <use xlink:href=\"#DejaVuSans-49\"/>\n     <use x=\"63.623047\" xlink:href=\"#DejaVuSans-51\"/>\n    </g>\n   </g>\n   <g id=\"PathCollection_96\">\n    <path d=\"M 601.199493 118.298167 \nC 602.096927 118.298167 602.957725 117.941613 603.592306 117.307031 \nC 604.226887 116.67245 604.583441 115.811652 604.583441 114.914219 \nC 604.583441 114.016785 604.226887 113.155987 603.592306 112.521406 \nC 602.957725 111.886825 602.096927 111.530271 601.199493 111.530271 \nC 600.30206 111.530271 599.441262 111.886825 598.806681 112.521406 \nC 598.172099 113.155987 597.815545 114.016785 597.815545 114.914219 \nC 597.815545 115.811652 598.172099 116.67245 598.806681 117.307031 \nC 599.441262 117.941613 600.30206 118.298167 601.199493 118.298167 \nz\n\" style=\"fill:#cba537;\"/>\n   </g>\n   <g id=\"text_31\">\n    <!-- 14 -->\n    <g style=\"fill:#262626;\" transform=\"translate(620.999493 117.801719)scale(0.11 -0.11)\">\n     <defs>\n      <path d=\"M 37.796875 64.3125 \nL 12.890625 25.390625 \nL 37.796875 25.390625 \nz\nM 35.203125 72.90625 \nL 47.609375 72.90625 \nL 47.609375 25.390625 \nL 58.015625 25.390625 \nL 58.015625 17.1875 \nL 47.609375 17.1875 \nL 47.609375 0 \nL 37.796875 0 \nL 37.796875 17.1875 \nL 4.890625 17.1875 \nL 4.890625 26.703125 \nz\n\" id=\"DejaVuSans-52\"/>\n     </defs>\n     <use xlink:href=\"#DejaVuSans-49\"/>\n     <use x=\"63.623047\" xlink:href=\"#DejaVuSans-52\"/>\n    </g>\n   </g>\n   <g id=\"PathCollection_97\">\n    <g>\n     <use style=\"fill:#bcaa36;stroke:#bcaa36;stroke-width:2.025;\" x=\"601.199493\" xlink:href=\"#m1d98ef91f1\" y=\"131.060156\"/>\n    </g>\n   </g>\n   <g id=\"text_32\">\n    <!-- 15 -->\n    <g style=\"fill:#262626;\" transform=\"translate(620.999493 133.947656)scale(0.11 -0.11)\">\n     <use xlink:href=\"#DejaVuSans-49\"/>\n     <use x=\"63.623047\" xlink:href=\"#DejaVuSans-53\"/>\n    </g>\n   </g>\n   <g id=\"PathCollection_98\">\n    <g>\n     <use style=\"fill:#acaf36;stroke:#acaf36;stroke-width:2.025;\" x=\"601.199493\" xlink:href=\"#m8245329832\" y=\"147.206094\"/>\n    </g>\n   </g>\n   <g id=\"text_33\">\n    <!-- 16 -->\n    <g style=\"fill:#262626;\" transform=\"translate(620.999493 150.093594)scale(0.11 -0.11)\">\n     <defs>\n      <path d=\"M 33.015625 40.375 \nQ 26.375 40.375 22.484375 35.828125 \nQ 18.609375 31.296875 18.609375 23.390625 \nQ 18.609375 15.53125 22.484375 10.953125 \nQ 26.375 6.390625 33.015625 6.390625 \nQ 39.65625 6.390625 43.53125 10.953125 \nQ 47.40625 15.53125 47.40625 23.390625 \nQ 47.40625 31.296875 43.53125 35.828125 \nQ 39.65625 40.375 33.015625 40.375 \nz\nM 52.59375 71.296875 \nL 52.59375 62.3125 \nQ 48.875 64.0625 45.09375 64.984375 \nQ 41.3125 65.921875 37.59375 65.921875 \nQ 27.828125 65.921875 22.671875 59.328125 \nQ 17.53125 52.734375 16.796875 39.40625 \nQ 19.671875 43.65625 24.015625 45.921875 \nQ 28.375 48.1875 33.59375 48.1875 \nQ 44.578125 48.1875 50.953125 41.515625 \nQ 57.328125 34.859375 57.328125 23.390625 \nQ 57.328125 12.15625 50.6875 5.359375 \nQ 44.046875 -1.421875 33.015625 -1.421875 \nQ 20.359375 -1.421875 13.671875 8.265625 \nQ 6.984375 17.96875 6.984375 36.375 \nQ 6.984375 53.65625 15.1875 63.9375 \nQ 23.390625 74.21875 37.203125 74.21875 \nQ 40.921875 74.21875 44.703125 73.484375 \nQ 48.484375 72.75 52.59375 71.296875 \nz\n\" id=\"DejaVuSans-54\"/>\n     </defs>\n     <use xlink:href=\"#DejaVuSans-49\"/>\n     <use x=\"63.623047\" xlink:href=\"#DejaVuSans-54\"/>\n    </g>\n   </g>\n   <g id=\"PathCollection_99\">\n    <g>\n     <use style=\"fill:#9ab436;stroke:#9ab436;stroke-width:2.025;\" x=\"601.199493\" xlink:href=\"#ma7da3e5c06\" y=\"163.352031\"/>\n    </g>\n   </g>\n   <g id=\"text_34\">\n    <!-- 17 -->\n    <g style=\"fill:#262626;\" transform=\"translate(620.999493 166.239531)scale(0.11 -0.11)\">\n     <defs>\n      <path d=\"M 8.203125 72.90625 \nL 55.078125 72.90625 \nL 55.078125 68.703125 \nL 28.609375 0 \nL 18.3125 0 \nL 43.21875 64.59375 \nL 8.203125 64.59375 \nz\n\" id=\"DejaVuSans-55\"/>\n     </defs>\n     <use xlink:href=\"#DejaVuSans-49\"/>\n     <use x=\"63.623047\" xlink:href=\"#DejaVuSans-55\"/>\n    </g>\n   </g>\n   <g id=\"PathCollection_100\">\n    <g>\n     <use style=\"fill:#82b936;stroke:#82b936;stroke-width:2.025;\" x=\"601.199493\" xlink:href=\"#m3e153760dc\" y=\"179.497969\"/>\n    </g>\n   </g>\n   <g id=\"text_35\">\n    <!-- 18 -->\n    <g style=\"fill:#262626;\" transform=\"translate(620.999493 182.385469)scale(0.11 -0.11)\">\n     <defs>\n      <path d=\"M 31.78125 34.625 \nQ 24.75 34.625 20.71875 30.859375 \nQ 16.703125 27.09375 16.703125 20.515625 \nQ 16.703125 13.921875 20.71875 10.15625 \nQ 24.75 6.390625 31.78125 6.390625 \nQ 38.8125 6.390625 42.859375 10.171875 \nQ 46.921875 13.96875 46.921875 20.515625 \nQ 46.921875 27.09375 42.890625 30.859375 \nQ 38.875 34.625 31.78125 34.625 \nz\nM 21.921875 38.8125 \nQ 15.578125 40.375 12.03125 44.71875 \nQ 8.5 49.078125 8.5 55.328125 \nQ 8.5 64.0625 14.71875 69.140625 \nQ 20.953125 74.21875 31.78125 74.21875 \nQ 42.671875 74.21875 48.875 69.140625 \nQ 55.078125 64.0625 55.078125 55.328125 \nQ 55.078125 49.078125 51.53125 44.71875 \nQ 48 40.375 41.703125 38.8125 \nQ 48.828125 37.15625 52.796875 32.3125 \nQ 56.78125 27.484375 56.78125 20.515625 \nQ 56.78125 9.90625 50.3125 4.234375 \nQ 43.84375 -1.421875 31.78125 -1.421875 \nQ 19.734375 -1.421875 13.25 4.234375 \nQ 6.78125 9.90625 6.78125 20.515625 \nQ 6.78125 27.484375 10.78125 32.3125 \nQ 14.796875 37.15625 21.921875 38.8125 \nz\nM 18.3125 54.390625 \nQ 18.3125 48.734375 21.84375 45.5625 \nQ 25.390625 42.390625 31.78125 42.390625 \nQ 38.140625 42.390625 41.71875 45.5625 \nQ 45.3125 48.734375 45.3125 54.390625 \nQ 45.3125 60.0625 41.71875 63.234375 \nQ 38.140625 66.40625 31.78125 66.40625 \nQ 25.390625 66.40625 21.84375 63.234375 \nQ 18.3125 60.0625 18.3125 54.390625 \nz\n\" id=\"DejaVuSans-56\"/>\n     </defs>\n     <use xlink:href=\"#DejaVuSans-49\"/>\n     <use x=\"63.623047\" xlink:href=\"#DejaVuSans-56\"/>\n    </g>\n   </g>\n   <g id=\"PathCollection_101\">\n    <g>\n     <use style=\"fill:#57bf36;stroke:#57bf36;stroke-width:2.025;\" x=\"601.199493\" xlink:href=\"#m71d8bd1d53\" y=\"195.643906\"/>\n    </g>\n   </g>\n   <g id=\"text_36\">\n    <!-- 19 -->\n    <g style=\"fill:#262626;\" transform=\"translate(620.999493 198.531406)scale(0.11 -0.11)\">\n     <use xlink:href=\"#DejaVuSans-49\"/>\n     <use x=\"63.623047\" xlink:href=\"#DejaVuSans-57\"/>\n    </g>\n   </g>\n   <g id=\"PathCollection_102\">\n    <path d=\"M 601.199493 215.173792 \nC 602.096927 215.173792 602.957725 214.817238 603.592306 214.182656 \nC 604.226887 213.548075 604.583441 212.687277 604.583441 211.789844 \nC 604.583441 210.89241 604.226887 210.031612 603.592306 209.397031 \nC 602.957725 208.76245 602.096927 208.405896 601.199493 208.405896 \nC 600.30206 208.405896 599.441262 208.76245 598.806681 209.397031 \nC 598.172099 210.031612 597.815545 210.89241 597.815545 211.789844 \nC 597.815545 212.687277 598.172099 213.548075 598.806681 214.182656 \nC 599.441262 214.817238 600.30206 215.173792 601.199493 215.173792 \nz\n\" style=\"fill:#37c164;\"/>\n   </g>\n   <g id=\"text_37\">\n    <!-- 20 -->\n    <g style=\"fill:#262626;\" transform=\"translate(620.999493 214.677344)scale(0.11 -0.11)\">\n     <use xlink:href=\"#DejaVuSans-50\"/>\n     <use x=\"63.623047\" xlink:href=\"#DejaVuSans-48\"/>\n    </g>\n   </g>\n   <g id=\"PathCollection_103\">\n    <g>\n     <use style=\"fill:#38bf85;stroke:#38bf85;stroke-width:2.025;\" x=\"601.199493\" xlink:href=\"#ma3db3f00b5\" y=\"227.935781\"/>\n    </g>\n   </g>\n   <g id=\"text_38\">\n    <!-- 21 -->\n    <g style=\"fill:#262626;\" transform=\"translate(620.999493 230.823281)scale(0.11 -0.11)\">\n     <use xlink:href=\"#DejaVuSans-50\"/>\n     <use x=\"63.623047\" xlink:href=\"#DejaVuSans-49\"/>\n    </g>\n   </g>\n   <g id=\"PathCollection_104\">\n    <path d=\"M 601.199493 247.465667 \nC 602.096927 247.465667 602.957725 247.109113 603.592306 246.474531 \nC 604.226887 245.83995 604.583441 244.979152 604.583441 244.081719 \nC 604.583441 243.184285 604.226887 242.323487 603.592306 241.688906 \nC 602.957725 241.054325 602.096927 240.697771 601.199493 240.697771 \nC 600.30206 240.697771 599.441262 241.054325 598.806681 241.688906 \nC 598.172099 242.323487 597.815545 243.184285 597.815545 244.081719 \nC 597.815545 244.979152 598.172099 245.83995 598.806681 246.474531 \nC 599.441262 247.109113 600.30206 247.465667 601.199493 247.465667 \nz\n\" style=\"fill:#39be98;\"/>\n   </g>\n   <g id=\"text_39\">\n    <!-- 22 -->\n    <g style=\"fill:#262626;\" transform=\"translate(620.999493 246.969219)scale(0.11 -0.11)\">\n     <use xlink:href=\"#DejaVuSans-50\"/>\n     <use x=\"63.623047\" xlink:href=\"#DejaVuSans-50\"/>\n    </g>\n   </g>\n   <g id=\"PathCollection_105\">\n    <g>\n     <use style=\"fill:#3abca6;stroke:#3abca6;stroke-width:2.025;\" x=\"601.199493\" xlink:href=\"#mff88380b50\" y=\"260.227656\"/>\n    </g>\n   </g>\n   <g id=\"text_40\">\n    <!-- 23 -->\n    <g style=\"fill:#262626;\" transform=\"translate(620.999493 263.115156)scale(0.11 -0.11)\">\n     <use xlink:href=\"#DejaVuSans-50\"/>\n     <use x=\"63.623047\" xlink:href=\"#DejaVuSans-51\"/>\n    </g>\n   </g>\n   <g id=\"PathCollection_106\">\n    <path d=\"M 601.199493 279.757542 \nC 602.096927 279.757542 602.957725 279.400988 603.592306 278.766406 \nC 604.226887 278.131825 604.583441 277.271027 604.583441 276.373594 \nC 604.583441 275.47616 604.226887 274.615362 603.592306 273.980781 \nC 602.957725 273.3462 602.096927 272.989646 601.199493 272.989646 \nC 600.30206 272.989646 599.441262 273.3462 598.806681 273.980781 \nC 598.172099 274.615362 597.815545 275.47616 597.815545 276.373594 \nC 597.815545 277.271027 598.172099 278.131825 598.806681 278.766406 \nC 599.441262 279.400988 600.30206 279.757542 601.199493 279.757542 \nz\n\" style=\"fill:#3bbbb2;\"/>\n   </g>\n   <g id=\"text_41\">\n    <!-- 24 -->\n    <g style=\"fill:#262626;\" transform=\"translate(620.999493 279.261094)scale(0.11 -0.11)\">\n     <use xlink:href=\"#DejaVuSans-50\"/>\n     <use x=\"63.623047\" xlink:href=\"#DejaVuSans-52\"/>\n    </g>\n   </g>\n   <g id=\"PathCollection_107\">\n    <path d=\"M 601.199493 295.903479 \nC 602.096927 295.903479 602.957725 295.546925 603.592306 294.912344 \nC 604.226887 294.277763 604.583441 293.416965 604.583441 292.519531 \nC 604.583441 291.622098 604.226887 290.7613 603.592306 290.126719 \nC 602.957725 289.492137 602.096927 289.135583 601.199493 289.135583 \nC 600.30206 289.135583 599.441262 289.492137 598.806681 290.126719 \nC 598.172099 290.7613 597.815545 291.622098 597.815545 292.519531 \nC 597.815545 293.416965 598.172099 294.277763 598.806681 294.912344 \nC 599.441262 295.546925 600.30206 295.903479 601.199493 295.903479 \nz\n\" style=\"fill:#3cbabd;\"/>\n   </g>\n   <g id=\"text_42\">\n    <!-- 25 -->\n    <g style=\"fill:#262626;\" transform=\"translate(620.999493 295.407031)scale(0.11 -0.11)\">\n     <use xlink:href=\"#DejaVuSans-50\"/>\n     <use x=\"63.623047\" xlink:href=\"#DejaVuSans-53\"/>\n    </g>\n   </g>\n   <g id=\"PathCollection_108\">\n    <g>\n     <use style=\"fill:#3cb9c8;stroke:#3cb9c8;stroke-width:2.025;\" x=\"601.199493\" xlink:href=\"#m2660745621\" y=\"308.665469\"/>\n    </g>\n   </g>\n   <g id=\"text_43\">\n    <!-- 26 -->\n    <g style=\"fill:#262626;\" transform=\"translate(620.999493 311.552969)scale(0.11 -0.11)\">\n     <use xlink:href=\"#DejaVuSans-50\"/>\n     <use x=\"63.623047\" xlink:href=\"#DejaVuSans-54\"/>\n    </g>\n   </g>\n   <g id=\"PathCollection_109\">\n    <g>\n     <use style=\"fill:#3db7d6;stroke:#3db7d6;stroke-width:2.025;\" x=\"601.199493\" xlink:href=\"#m99356d6e2d\" y=\"324.811406\"/>\n    </g>\n   </g>\n   <g id=\"text_44\">\n    <!-- 27 -->\n    <g style=\"fill:#262626;\" transform=\"translate(620.999493 327.698906)scale(0.11 -0.11)\">\n     <use xlink:href=\"#DejaVuSans-50\"/>\n     <use x=\"63.623047\" xlink:href=\"#DejaVuSans-55\"/>\n    </g>\n   </g>\n   <g id=\"PathCollection_110\">\n    <g>\n     <use style=\"fill:#3fb5e6;stroke:#3fb5e6;stroke-width:2.025;\" x=\"601.199493\" xlink:href=\"#m6f2de020ff\" y=\"340.957344\"/>\n    </g>\n   </g>\n   <g id=\"text_45\">\n    <!-- 28 -->\n    <g style=\"fill:#262626;\" transform=\"translate(620.999493 343.844844)scale(0.11 -0.11)\">\n     <use xlink:href=\"#DejaVuSans-50\"/>\n     <use x=\"63.623047\" xlink:href=\"#DejaVuSans-56\"/>\n    </g>\n   </g>\n   <g id=\"PathCollection_111\">\n    <path d=\"M 601.199493 360.487229 \nC 602.096927 360.487229 602.957725 360.130675 603.592306 359.496094 \nC 604.226887 358.861513 604.583441 358.000715 604.583441 357.103281 \nC 604.583441 356.205848 604.226887 355.34505 603.592306 354.710469 \nC 602.957725 354.075887 602.096927 353.719333 601.199493 353.719333 \nC 600.30206 353.719333 599.441262 354.075887 598.806681 354.710469 \nC 598.172099 355.34505 597.815545 356.205848 597.815545 357.103281 \nC 597.815545 358.000715 598.172099 358.861513 598.806681 359.496094 \nC 599.441262 360.130675 600.30206 360.487229 601.199493 360.487229 \nz\n\" style=\"fill:#59b0f6;\"/>\n   </g>\n   <g id=\"text_46\">\n    <!-- 29 -->\n    <g style=\"fill:#262626;\" transform=\"translate(620.999493 359.990781)scale(0.11 -0.11)\">\n     <use xlink:href=\"#DejaVuSans-50\"/>\n     <use x=\"63.623047\" xlink:href=\"#DejaVuSans-57\"/>\n    </g>\n   </g>\n   <g id=\"PathCollection_112\">\n    <path d=\"M 601.199493 376.633167 \nC 602.096927 376.633167 602.957725 376.276613 603.592306 375.642031 \nC 604.226887 375.00745 604.583441 374.146652 604.583441 373.249219 \nC 604.583441 372.351785 604.226887 371.490987 603.592306 370.856406 \nC 602.957725 370.221825 602.096927 369.865271 601.199493 369.865271 \nC 600.30206 369.865271 599.441262 370.221825 598.806681 370.856406 \nC 598.172099 371.490987 597.815545 372.351785 597.815545 373.249219 \nC 597.815545 374.146652 598.172099 375.00745 598.806681 375.642031 \nC 599.441262 376.276613 600.30206 376.633167 601.199493 376.633167 \nz\n\" style=\"fill:#86a8f6;\"/>\n   </g>\n   <g id=\"text_47\">\n    <!-- 31 -->\n    <g style=\"fill:#262626;\" transform=\"translate(620.999493 376.136719)scale(0.11 -0.11)\">\n     <use xlink:href=\"#DejaVuSans-51\"/>\n     <use x=\"63.623047\" xlink:href=\"#DejaVuSans-49\"/>\n    </g>\n   </g>\n   <g id=\"PathCollection_113\">\n    <g>\n     <use style=\"fill:#a3a0f6;stroke:#a3a0f6;stroke-width:2.025;\" x=\"601.199493\" xlink:href=\"#m53fc5c6d0f\" y=\"389.395156\"/>\n    </g>\n   </g>\n   <g id=\"text_48\">\n    <!-- 32 -->\n    <g style=\"fill:#262626;\" transform=\"translate(620.999493 392.282656)scale(0.11 -0.11)\">\n     <use xlink:href=\"#DejaVuSans-51\"/>\n     <use x=\"63.623047\" xlink:href=\"#DejaVuSans-50\"/>\n    </g>\n   </g>\n   <g id=\"PathCollection_114\">\n    <path d=\"M 601.199493 408.925042 \nC 602.096927 408.925042 602.957725 408.568488 603.592306 407.933906 \nC 604.226887 407.299325 604.583441 406.438527 604.583441 405.541094 \nC 604.583441 404.64366 604.226887 403.782862 603.592306 403.148281 \nC 602.957725 402.5137 602.096927 402.157146 601.199493 402.157146 \nC 600.30206 402.157146 599.441262 402.5137 598.806681 403.148281 \nC 598.172099 403.782862 597.815545 404.64366 597.815545 405.541094 \nC 597.815545 406.438527 598.172099 407.299325 598.806681 407.933906 \nC 599.441262 408.568488 600.30206 408.925042 601.199493 408.925042 \nz\n\" style=\"fill:#bb98f6;\"/>\n   </g>\n   <g id=\"text_49\">\n    <!-- 34 -->\n    <g style=\"fill:#262626;\" transform=\"translate(620.999493 408.428594)scale(0.11 -0.11)\">\n     <use xlink:href=\"#DejaVuSans-51\"/>\n     <use x=\"63.623047\" xlink:href=\"#DejaVuSans-52\"/>\n    </g>\n   </g>\n   <g id=\"PathCollection_115\">\n    <g>\n     <use style=\"fill:#d28ef6;stroke:#d28ef6;stroke-width:2.025;\" x=\"601.199493\" xlink:href=\"#m933f40878f\" y=\"421.687031\"/>\n    </g>\n   </g>\n   <g id=\"text_50\">\n    <!-- 35 -->\n    <g style=\"fill:#262626;\" transform=\"translate(620.999493 424.574531)scale(0.11 -0.11)\">\n     <use xlink:href=\"#DejaVuSans-51\"/>\n     <use x=\"63.623047\" xlink:href=\"#DejaVuSans-53\"/>\n    </g>\n   </g>\n   <g id=\"PathCollection_116\">\n    <path d=\"M 601.199493 441.216917 \nC 602.096927 441.216917 602.957725 440.860363 603.592306 440.225781 \nC 604.226887 439.5912 604.583441 438.730402 604.583441 437.832969 \nC 604.583441 436.935535 604.226887 436.074737 603.592306 435.440156 \nC 602.957725 434.805575 602.096927 434.449021 601.199493 434.449021 \nC 600.30206 434.449021 599.441262 434.805575 598.806681 435.440156 \nC 598.172099 436.074737 597.815545 436.935535 597.815545 437.832969 \nC 597.815545 438.730402 598.172099 439.5912 598.806681 440.225781 \nC 599.441262 440.860363 600.30206 441.216917 601.199493 441.216917 \nz\n\" style=\"fill:#ea80f6;\"/>\n   </g>\n   <g id=\"text_51\">\n    <!-- 36 -->\n    <g style=\"fill:#262626;\" transform=\"translate(620.999493 440.720469)scale(0.11 -0.11)\">\n     <use xlink:href=\"#DejaVuSans-51\"/>\n     <use x=\"63.623047\" xlink:href=\"#DejaVuSans-54\"/>\n    </g>\n   </g>\n   <g id=\"PathCollection_117\">\n    <path d=\"M 601.199493 457.362854 \nC 602.096927 457.362854 602.957725 457.0063 603.592306 456.371719 \nC 604.226887 455.737138 604.583441 454.87634 604.583441 453.978906 \nC 604.583441 453.081473 604.226887 452.220675 603.592306 451.586094 \nC 602.957725 450.951512 602.096927 450.594958 601.199493 450.594958 \nC 600.30206 450.594958 599.441262 450.951512 598.806681 451.586094 \nC 598.172099 452.220675 597.815545 453.081473 597.815545 453.978906 \nC 597.815545 454.87634 598.172099 455.737138 598.806681 456.371719 \nC 599.441262 457.0063 600.30206 457.362854 601.199493 457.362854 \nz\n\" style=\"fill:#f67ce7;\"/>\n   </g>\n   <g id=\"text_52\">\n    <!-- 37 -->\n    <g style=\"fill:#262626;\" transform=\"translate(620.999493 456.866406)scale(0.11 -0.11)\">\n     <use xlink:href=\"#DejaVuSans-51\"/>\n     <use x=\"63.623047\" xlink:href=\"#DejaVuSans-55\"/>\n    </g>\n   </g>\n   <g id=\"PathCollection_118\">\n    <path d=\"M 601.199493 473.508792 \nC 602.096927 473.508792 602.957725 473.152238 603.592306 472.517656 \nC 604.226887 471.883075 604.583441 471.022277 604.583441 470.124844 \nC 604.583441 469.22741 604.226887 468.366612 603.592306 467.732031 \nC 602.957725 467.09745 602.096927 466.740896 601.199493 466.740896 \nC 600.30206 466.740896 599.441262 467.09745 598.806681 467.732031 \nC 598.172099 468.366612 597.815545 469.22741 597.815545 470.124844 \nC 597.815545 471.022277 598.172099 471.883075 598.806681 472.517656 \nC 599.441262 473.152238 600.30206 473.508792 601.199493 473.508792 \nz\n\" style=\"fill:#f780d2;\"/>\n   </g>\n   <g id=\"text_53\">\n    <!-- 42 -->\n    <g style=\"fill:#262626;\" transform=\"translate(620.999493 473.012344)scale(0.11 -0.11)\">\n     <use xlink:href=\"#DejaVuSans-52\"/>\n     <use x=\"63.623047\" xlink:href=\"#DejaVuSans-50\"/>\n    </g>\n   </g>\n   <g id=\"PathCollection_119\">\n    <path d=\"M 601.199493 489.654729 \nC 602.096927 489.654729 602.957725 489.298175 603.592306 488.663594 \nC 604.226887 488.029013 604.583441 487.168215 604.583441 486.270781 \nC 604.583441 485.373348 604.226887 484.51255 603.592306 483.877969 \nC 602.957725 483.243387 602.096927 482.886833 601.199493 482.886833 \nC 600.30206 482.886833 599.441262 483.243387 598.806681 483.877969 \nC 598.172099 484.51255 597.815545 485.373348 597.815545 486.270781 \nC 597.815545 487.168215 598.172099 488.029013 598.806681 488.663594 \nC 599.441262 489.298175 600.30206 489.654729 601.199493 489.654729 \nz\n\" style=\"fill:#f783c0;\"/>\n   </g>\n   <g id=\"text_54\">\n    <!-- 43 -->\n    <g style=\"fill:#262626;\" transform=\"translate(620.999493 489.158281)scale(0.11 -0.11)\">\n     <use xlink:href=\"#DejaVuSans-52\"/>\n     <use x=\"63.623047\" xlink:href=\"#DejaVuSans-51\"/>\n    </g>\n   </g>\n   <g id=\"PathCollection_120\">\n    <g>\n     <use style=\"fill:#f785ae;stroke:#f785ae;stroke-width:2.025;\" x=\"601.199493\" xlink:href=\"#m1bc014128d\" y=\"502.416719\"/>\n    </g>\n   </g>\n   <g id=\"text_55\">\n    <!-- 44 -->\n    <g style=\"fill:#262626;\" transform=\"translate(620.999493 505.304219)scale(0.11 -0.11)\">\n     <use xlink:href=\"#DejaVuSans-52\"/>\n     <use x=\"63.623047\" xlink:href=\"#DejaVuSans-52\"/>\n    </g>\n   </g>\n  </g>\n </g>\n <defs>\n  <clipPath id=\"p96af346509\">\n   <rect height=\"209.58\" width=\"166.01722\" x=\"59.024844\" y=\"144.555938\"/>\n  </clipPath>\n  <clipPath id=\"p1f107a4c4f\">\n   <rect height=\"209.58\" width=\"166.01722\" x=\"238.010309\" y=\"144.555938\"/>\n  </clipPath>\n  <clipPath id=\"pdc38db403c\">\n   <rect height=\"209.58\" width=\"166.01722\" x=\"416.995774\" y=\"144.555938\"/>\n  </clipPath>\n </defs>\n</svg>\n",
      "image/png": "[encoded data removed]"
     },
     "metadata": {}
    }
   ],
   "source": [
    "fig_dVz = sns.catplot(x=\"block\", y=\"$\\\\Delta V_z$\",\n",
    "                      hue=\"user\", col=\"condition\",\n",
    "                      data=df.rename(columns={'dVz': '$\\\\Delta V_z$'}), kind=\"point\",\n",
    "                      dodge=True,\n",
    "                      height=4, aspect=.7)\n",
    "\n",
    "fig_filepath = figures_path / 'line-plot-dVz_by_user.pdf'\n",
    "plt.savefig(str(fig_filepath))\n",
    "logging.info(f\"Written figure to {fig_filepath.resolve()}\")"
   ]
  },
  {
   "cell_type": "code",
   "execution_count": 8,
   "metadata": {
    "tags": []
   },
   "outputs": [
    {
     "output_type": "stream",
     "name": "stdout",
     "text": "INFO:root:Written figure to /home/olaf/code/NeuroPsyResearchAnalysis/reports/figures/line-plot-dVz.pdf\n"
    },
    {
     "output_type": "display_data",
     "data": {
      "text/plain": "<Figure size 463.129x288 with 1 Axes>",
      "image/svg+xml": "<?xml version=\"1.0\" encoding=\"utf-8\" standalone=\"no\"?>\n<!DOCTYPE svg PUBLIC \"-//W3C//DTD SVG 1.1//EN\"\n  \"http://www.w3.org/Graphics/SVG/1.1/DTD/svg11.dtd\">\n<!-- Created with matplotlib (https://matplotlib.org/) -->\n<svg height=\"275.739688pt\" version=\"1.1\" viewBox=\"0 0 442.093149 275.739688\" width=\"442.093149pt\" xmlns=\"http://www.w3.org/2000/svg\" xmlns:xlink=\"http://www.w3.org/1999/xlink\">\n <metadata>\n  <rdf:RDF xmlns:cc=\"http://creativecommons.org/ns#\" xmlns:dc=\"http://purl.org/dc/elements/1.1/\" xmlns:rdf=\"http://www.w3.org/1999/02/22-rdf-syntax-ns#\">\n   <cc:Work>\n    <dc:type rdf:resource=\"http://purl.org/dc/dcmitype/StillImage\"/>\n    <dc:date>2020-08-31T00:50:28.518847</dc:date>\n    <dc:format>image/svg+xml</dc:format>\n    <dc:creator>\n     <cc:Agent>\n      <dc:title>Matplotlib v3.3.1, https://matplotlib.org/</dc:title>\n     </cc:Agent>\n    </dc:creator>\n   </cc:Work>\n  </rdf:RDF>\n </metadata>\n <defs>\n  <style type=\"text/css\">*{stroke-linecap:butt;stroke-linejoin:round;}</style>\n </defs>\n <g id=\"figure_1\">\n  <g id=\"patch_1\">\n   <path d=\"M 0 275.739688 \nL 442.093149 275.739688 \nL 442.093149 0 \nL 0 0 \nz\n\" style=\"fill:#ffffff;\"/>\n  </g>\n  <g id=\"axes_1\">\n   <g id=\"patch_2\">\n    <path d=\"M 56.805937 232.78 \nL 356.536859 232.78 \nL 356.536859 7.2 \nL 56.805937 7.2 \nz\n\" style=\"fill:#eaeaf2;\"/>\n   </g>\n   <g id=\"matplotlib.axis_1\">\n    <g id=\"xtick_1\">\n     <g id=\"text_1\">\n      <!-- 1 -->\n      <g style=\"fill:#262626;\" transform=\"translate(103.261716 250.638281)scale(0.11 -0.11)\">\n       <defs>\n        <path d=\"M 12.40625 8.296875 \nL 28.515625 8.296875 \nL 28.515625 63.921875 \nL 10.984375 60.40625 \nL 10.984375 69.390625 \nL 28.421875 72.90625 \nL 38.28125 72.90625 \nL 38.28125 8.296875 \nL 54.390625 8.296875 \nL 54.390625 0 \nL 12.40625 0 \nz\n\" id=\"DejaVuSans-49\"/>\n       </defs>\n       <use xlink:href=\"#DejaVuSans-49\"/>\n      </g>\n     </g>\n    </g>\n    <g id=\"xtick_2\">\n     <g id=\"text_2\">\n      <!-- 2 -->\n      <g style=\"fill:#262626;\" transform=\"translate(203.172023 250.638281)scale(0.11 -0.11)\">\n       <defs>\n        <path d=\"M 19.1875 8.296875 \nL 53.609375 8.296875 \nL 53.609375 0 \nL 7.328125 0 \nL 7.328125 8.296875 \nQ 12.9375 14.109375 22.625 23.890625 \nQ 32.328125 33.6875 34.8125 36.53125 \nQ 39.546875 41.84375 41.421875 45.53125 \nQ 43.3125 49.21875 43.3125 52.78125 \nQ 43.3125 58.59375 39.234375 62.25 \nQ 35.15625 65.921875 28.609375 65.921875 \nQ 23.96875 65.921875 18.8125 64.3125 \nQ 13.671875 62.703125 7.8125 59.421875 \nL 7.8125 69.390625 \nQ 13.765625 71.78125 18.9375 73 \nQ 24.125 74.21875 28.421875 74.21875 \nQ 39.75 74.21875 46.484375 68.546875 \nQ 53.21875 62.890625 53.21875 53.421875 \nQ 53.21875 48.921875 51.53125 44.890625 \nQ 49.859375 40.875 45.40625 35.40625 \nQ 44.1875 33.984375 37.640625 27.21875 \nQ 31.109375 20.453125 19.1875 8.296875 \nz\n\" id=\"DejaVuSans-50\"/>\n       </defs>\n       <use xlink:href=\"#DejaVuSans-50\"/>\n      </g>\n     </g>\n    </g>\n    <g id=\"xtick_3\">\n     <g id=\"text_3\">\n      <!-- 3 -->\n      <g style=\"fill:#262626;\" transform=\"translate(303.082331 250.638281)scale(0.11 -0.11)\">\n       <defs>\n        <path d=\"M 40.578125 39.3125 \nQ 47.65625 37.796875 51.625 33 \nQ 55.609375 28.21875 55.609375 21.1875 \nQ 55.609375 10.40625 48.1875 4.484375 \nQ 40.765625 -1.421875 27.09375 -1.421875 \nQ 22.515625 -1.421875 17.65625 -0.515625 \nQ 12.796875 0.390625 7.625 2.203125 \nL 7.625 11.71875 \nQ 11.71875 9.328125 16.59375 8.109375 \nQ 21.484375 6.890625 26.8125 6.890625 \nQ 36.078125 6.890625 40.9375 10.546875 \nQ 45.796875 14.203125 45.796875 21.1875 \nQ 45.796875 27.640625 41.28125 31.265625 \nQ 36.765625 34.90625 28.71875 34.90625 \nL 20.21875 34.90625 \nL 20.21875 43.015625 \nL 29.109375 43.015625 \nQ 36.375 43.015625 40.234375 45.921875 \nQ 44.09375 48.828125 44.09375 54.296875 \nQ 44.09375 59.90625 40.109375 62.90625 \nQ 36.140625 65.921875 28.71875 65.921875 \nQ 24.65625 65.921875 20.015625 65.03125 \nQ 15.375 64.15625 9.8125 62.3125 \nL 9.8125 71.09375 \nQ 15.4375 72.65625 20.34375 73.4375 \nQ 25.25 74.21875 29.59375 74.21875 \nQ 40.828125 74.21875 47.359375 69.109375 \nQ 53.90625 64.015625 53.90625 55.328125 \nQ 53.90625 49.265625 50.4375 45.09375 \nQ 46.96875 40.921875 40.578125 39.3125 \nz\n\" id=\"DejaVuSans-51\"/>\n       </defs>\n       <use xlink:href=\"#DejaVuSans-51\"/>\n      </g>\n     </g>\n    </g>\n    <g id=\"text_4\">\n     <!-- block -->\n     <g style=\"fill:#262626;\" transform=\"translate(190.750773 266.044063)scale(0.12 -0.12)\">\n      <defs>\n       <path d=\"M 48.6875 27.296875 \nQ 48.6875 37.203125 44.609375 42.84375 \nQ 40.53125 48.484375 33.40625 48.484375 \nQ 26.265625 48.484375 22.1875 42.84375 \nQ 18.109375 37.203125 18.109375 27.296875 \nQ 18.109375 17.390625 22.1875 11.75 \nQ 26.265625 6.109375 33.40625 6.109375 \nQ 40.53125 6.109375 44.609375 11.75 \nQ 48.6875 17.390625 48.6875 27.296875 \nz\nM 18.109375 46.390625 \nQ 20.953125 51.265625 25.265625 53.625 \nQ 29.59375 56 35.59375 56 \nQ 45.5625 56 51.78125 48.09375 \nQ 58.015625 40.1875 58.015625 27.296875 \nQ 58.015625 14.40625 51.78125 6.484375 \nQ 45.5625 -1.421875 35.59375 -1.421875 \nQ 29.59375 -1.421875 25.265625 0.953125 \nQ 20.953125 3.328125 18.109375 8.203125 \nL 18.109375 0 \nL 9.078125 0 \nL 9.078125 75.984375 \nL 18.109375 75.984375 \nz\n\" id=\"DejaVuSans-98\"/>\n       <path d=\"M 9.421875 75.984375 \nL 18.40625 75.984375 \nL 18.40625 0 \nL 9.421875 0 \nz\n\" id=\"DejaVuSans-108\"/>\n       <path d=\"M 30.609375 48.390625 \nQ 23.390625 48.390625 19.1875 42.75 \nQ 14.984375 37.109375 14.984375 27.296875 \nQ 14.984375 17.484375 19.15625 11.84375 \nQ 23.34375 6.203125 30.609375 6.203125 \nQ 37.796875 6.203125 41.984375 11.859375 \nQ 46.1875 17.53125 46.1875 27.296875 \nQ 46.1875 37.015625 41.984375 42.703125 \nQ 37.796875 48.390625 30.609375 48.390625 \nz\nM 30.609375 56 \nQ 42.328125 56 49.015625 48.375 \nQ 55.71875 40.765625 55.71875 27.296875 \nQ 55.71875 13.875 49.015625 6.21875 \nQ 42.328125 -1.421875 30.609375 -1.421875 \nQ 18.84375 -1.421875 12.171875 6.21875 \nQ 5.515625 13.875 5.515625 27.296875 \nQ 5.515625 40.765625 12.171875 48.375 \nQ 18.84375 56 30.609375 56 \nz\n\" id=\"DejaVuSans-111\"/>\n       <path d=\"M 48.78125 52.59375 \nL 48.78125 44.1875 \nQ 44.96875 46.296875 41.140625 47.34375 \nQ 37.3125 48.390625 33.40625 48.390625 \nQ 24.65625 48.390625 19.8125 42.84375 \nQ 14.984375 37.3125 14.984375 27.296875 \nQ 14.984375 17.28125 19.8125 11.734375 \nQ 24.65625 6.203125 33.40625 6.203125 \nQ 37.3125 6.203125 41.140625 7.25 \nQ 44.96875 8.296875 48.78125 10.40625 \nL 48.78125 2.09375 \nQ 45.015625 0.34375 40.984375 -0.53125 \nQ 36.96875 -1.421875 32.421875 -1.421875 \nQ 20.0625 -1.421875 12.78125 6.34375 \nQ 5.515625 14.109375 5.515625 27.296875 \nQ 5.515625 40.671875 12.859375 48.328125 \nQ 20.21875 56 33.015625 56 \nQ 37.15625 56 41.109375 55.140625 \nQ 45.0625 54.296875 48.78125 52.59375 \nz\n\" id=\"DejaVuSans-99\"/>\n       <path d=\"M 9.078125 75.984375 \nL 18.109375 75.984375 \nL 18.109375 31.109375 \nL 44.921875 54.6875 \nL 56.390625 54.6875 \nL 27.390625 29.109375 \nL 57.625 0 \nL 45.90625 0 \nL 18.109375 26.703125 \nL 18.109375 0 \nL 9.078125 0 \nz\n\" id=\"DejaVuSans-107\"/>\n      </defs>\n      <use xlink:href=\"#DejaVuSans-98\"/>\n      <use x=\"63.476562\" xlink:href=\"#DejaVuSans-108\"/>\n      <use x=\"91.259766\" xlink:href=\"#DejaVuSans-111\"/>\n      <use x=\"152.441406\" xlink:href=\"#DejaVuSans-99\"/>\n      <use x=\"207.421875\" xlink:href=\"#DejaVuSans-107\"/>\n     </g>\n    </g>\n   </g>\n   <g id=\"matplotlib.axis_2\">\n    <g id=\"ytick_1\">\n     <g id=\"line2d_1\">\n      <path clip-path=\"url(#p9d4d55b887)\" d=\"M 56.805937 216.125839 \nL 356.536859 216.125839 \n\" style=\"fill:none;stroke:#ffffff;stroke-linecap:round;\"/>\n     </g>\n     <g id=\"text_5\">\n      <!-- 0.00 -->\n      <g style=\"fill:#262626;\" transform=\"translate(22.81375 220.30498)scale(0.11 -0.11)\">\n       <defs>\n        <path d=\"M 31.78125 66.40625 \nQ 24.171875 66.40625 20.328125 58.90625 \nQ 16.5 51.421875 16.5 36.375 \nQ 16.5 21.390625 20.328125 13.890625 \nQ 24.171875 6.390625 31.78125 6.390625 \nQ 39.453125 6.390625 43.28125 13.890625 \nQ 47.125 21.390625 47.125 36.375 \nQ 47.125 51.421875 43.28125 58.90625 \nQ 39.453125 66.40625 31.78125 66.40625 \nz\nM 31.78125 74.21875 \nQ 44.046875 74.21875 50.515625 64.515625 \nQ 56.984375 54.828125 56.984375 36.375 \nQ 56.984375 17.96875 50.515625 8.265625 \nQ 44.046875 -1.421875 31.78125 -1.421875 \nQ 19.53125 -1.421875 13.0625 8.265625 \nQ 6.59375 17.96875 6.59375 36.375 \nQ 6.59375 54.828125 13.0625 64.515625 \nQ 19.53125 74.21875 31.78125 74.21875 \nz\n\" id=\"DejaVuSans-48\"/>\n        <path d=\"M 10.6875 12.40625 \nL 21 12.40625 \nL 21 0 \nL 10.6875 0 \nz\n\" id=\"DejaVuSans-46\"/>\n       </defs>\n       <use xlink:href=\"#DejaVuSans-48\"/>\n       <use x=\"63.623047\" xlink:href=\"#DejaVuSans-46\"/>\n       <use x=\"95.410156\" xlink:href=\"#DejaVuSans-48\"/>\n       <use x=\"159.033203\" xlink:href=\"#DejaVuSans-48\"/>\n      </g>\n     </g>\n    </g>\n    <g id=\"ytick_2\">\n     <g id=\"line2d_2\">\n      <path clip-path=\"url(#p9d4d55b887)\" d=\"M 56.805937 184.947127 \nL 356.536859 184.947127 \n\" style=\"fill:none;stroke:#ffffff;stroke-linecap:round;\"/>\n     </g>\n     <g id=\"text_6\">\n      <!-- 0.25 -->\n      <g style=\"fill:#262626;\" transform=\"translate(22.81375 189.126268)scale(0.11 -0.11)\">\n       <defs>\n        <path d=\"M 10.796875 72.90625 \nL 49.515625 72.90625 \nL 49.515625 64.59375 \nL 19.828125 64.59375 \nL 19.828125 46.734375 \nQ 21.96875 47.46875 24.109375 47.828125 \nQ 26.265625 48.1875 28.421875 48.1875 \nQ 40.625 48.1875 47.75 41.5 \nQ 54.890625 34.8125 54.890625 23.390625 \nQ 54.890625 11.625 47.5625 5.09375 \nQ 40.234375 -1.421875 26.90625 -1.421875 \nQ 22.3125 -1.421875 17.546875 -0.640625 \nQ 12.796875 0.140625 7.71875 1.703125 \nL 7.71875 11.625 \nQ 12.109375 9.234375 16.796875 8.0625 \nQ 21.484375 6.890625 26.703125 6.890625 \nQ 35.15625 6.890625 40.078125 11.328125 \nQ 45.015625 15.765625 45.015625 23.390625 \nQ 45.015625 31 40.078125 35.4375 \nQ 35.15625 39.890625 26.703125 39.890625 \nQ 22.75 39.890625 18.8125 39.015625 \nQ 14.890625 38.140625 10.796875 36.28125 \nz\n\" id=\"DejaVuSans-53\"/>\n       </defs>\n       <use xlink:href=\"#DejaVuSans-48\"/>\n       <use x=\"63.623047\" xlink:href=\"#DejaVuSans-46\"/>\n       <use x=\"95.410156\" xlink:href=\"#DejaVuSans-50\"/>\n       <use x=\"159.033203\" xlink:href=\"#DejaVuSans-53\"/>\n      </g>\n     </g>\n    </g>\n    <g id=\"ytick_3\">\n     <g id=\"line2d_3\">\n      <path clip-path=\"url(#p9d4d55b887)\" d=\"M 56.805937 153.768416 \nL 356.536859 153.768416 \n\" style=\"fill:none;stroke:#ffffff;stroke-linecap:round;\"/>\n     </g>\n     <g id=\"text_7\">\n      <!-- 0.50 -->\n      <g style=\"fill:#262626;\" transform=\"translate(22.81375 157.947556)scale(0.11 -0.11)\">\n       <use xlink:href=\"#DejaVuSans-48\"/>\n       <use x=\"63.623047\" xlink:href=\"#DejaVuSans-46\"/>\n       <use x=\"95.410156\" xlink:href=\"#DejaVuSans-53\"/>\n       <use x=\"159.033203\" xlink:href=\"#DejaVuSans-48\"/>\n      </g>\n     </g>\n    </g>\n    <g id=\"ytick_4\">\n     <g id=\"line2d_4\">\n      <path clip-path=\"url(#p9d4d55b887)\" d=\"M 56.805937 122.589704 \nL 356.536859 122.589704 \n\" style=\"fill:none;stroke:#ffffff;stroke-linecap:round;\"/>\n     </g>\n     <g id=\"text_8\">\n      <!-- 0.75 -->\n      <g style=\"fill:#262626;\" transform=\"translate(22.81375 126.768844)scale(0.11 -0.11)\">\n       <defs>\n        <path d=\"M 8.203125 72.90625 \nL 55.078125 72.90625 \nL 55.078125 68.703125 \nL 28.609375 0 \nL 18.3125 0 \nL 43.21875 64.59375 \nL 8.203125 64.59375 \nz\n\" id=\"DejaVuSans-55\"/>\n       </defs>\n       <use xlink:href=\"#DejaVuSans-48\"/>\n       <use x=\"63.623047\" xlink:href=\"#DejaVuSans-46\"/>\n       <use x=\"95.410156\" xlink:href=\"#DejaVuSans-55\"/>\n       <use x=\"159.033203\" xlink:href=\"#DejaVuSans-53\"/>\n      </g>\n     </g>\n    </g>\n    <g id=\"ytick_5\">\n     <g id=\"line2d_5\">\n      <path clip-path=\"url(#p9d4d55b887)\" d=\"M 56.805937 91.410992 \nL 356.536859 91.410992 \n\" style=\"fill:none;stroke:#ffffff;stroke-linecap:round;\"/>\n     </g>\n     <g id=\"text_9\">\n      <!-- 1.00 -->\n      <g style=\"fill:#262626;\" transform=\"translate(22.81375 95.590133)scale(0.11 -0.11)\">\n       <use xlink:href=\"#DejaVuSans-49\"/>\n       <use x=\"63.623047\" xlink:href=\"#DejaVuSans-46\"/>\n       <use x=\"95.410156\" xlink:href=\"#DejaVuSans-48\"/>\n       <use x=\"159.033203\" xlink:href=\"#DejaVuSans-48\"/>\n      </g>\n     </g>\n    </g>\n    <g id=\"ytick_6\">\n     <g id=\"line2d_6\">\n      <path clip-path=\"url(#p9d4d55b887)\" d=\"M 56.805937 60.23228 \nL 356.536859 60.23228 \n\" style=\"fill:none;stroke:#ffffff;stroke-linecap:round;\"/>\n     </g>\n     <g id=\"text_10\">\n      <!-- 1.25 -->\n      <g style=\"fill:#262626;\" transform=\"translate(22.81375 64.411421)scale(0.11 -0.11)\">\n       <use xlink:href=\"#DejaVuSans-49\"/>\n       <use x=\"63.623047\" xlink:href=\"#DejaVuSans-46\"/>\n       <use x=\"95.410156\" xlink:href=\"#DejaVuSans-50\"/>\n       <use x=\"159.033203\" xlink:href=\"#DejaVuSans-53\"/>\n      </g>\n     </g>\n    </g>\n    <g id=\"ytick_7\">\n     <g id=\"line2d_7\">\n      <path clip-path=\"url(#p9d4d55b887)\" d=\"M 56.805937 29.053568 \nL 356.536859 29.053568 \n\" style=\"fill:none;stroke:#ffffff;stroke-linecap:round;\"/>\n     </g>\n     <g id=\"text_11\">\n      <!-- 1.50 -->\n      <g style=\"fill:#262626;\" transform=\"translate(22.81375 33.232709)scale(0.11 -0.11)\">\n       <use xlink:href=\"#DejaVuSans-49\"/>\n       <use x=\"63.623047\" xlink:href=\"#DejaVuSans-46\"/>\n       <use x=\"95.410156\" xlink:href=\"#DejaVuSans-53\"/>\n       <use x=\"159.033203\" xlink:href=\"#DejaVuSans-48\"/>\n      </g>\n     </g>\n    </g>\n    <g id=\"text_12\">\n     <!-- $\\Delta V_z$ -->\n     <g style=\"fill:#262626;\" transform=\"translate(16.318125 130.61)rotate(-90)scale(0.12 -0.12)\">\n      <defs>\n       <path d=\"M 34.1875 63.1875 \nL 14.15625 8.203125 \nL 54.25 8.203125 \nz\nM 0.78125 0 \nL 28.609375 72.90625 \nL 39.796875 72.90625 \nL 67.578125 0 \nz\n\" id=\"DejaVuSans-916\"/>\n       <path d=\"M 20.609375 0 \nL 7.8125 72.90625 \nL 17.484375 72.90625 \nL 28.078125 10.203125 \nL 63.484375 72.90625 \nL 74.21875 72.90625 \nL 32.078125 0 \nz\n\" id=\"DejaVuSans-Oblique-86\"/>\n       <path d=\"M 11.625 54.6875 \nL 54.296875 54.6875 \nL 52.6875 46.484375 \nL 11.53125 7.171875 \nL 45.515625 7.171875 \nL 44.09375 0 \nL -0.296875 0 \nL 1.3125 8.203125 \nL 42.484375 47.515625 \nL 10.203125 47.515625 \nz\n\" id=\"DejaVuSans-Oblique-122\"/>\n      </defs>\n      <use transform=\"translate(0 0.09375)\" xlink:href=\"#DejaVuSans-916\"/>\n      <use transform=\"translate(68.408203 0.09375)\" xlink:href=\"#DejaVuSans-Oblique-86\"/>\n      <use transform=\"translate(136.816406 -16.3125)scale(0.7)\" xlink:href=\"#DejaVuSans-Oblique-122\"/>\n     </g>\n    </g>\n   </g>\n   <g id=\"PathCollection_1\">\n    <defs>\n     <path d=\"M 0 3.383948 \nC 0.897434 3.383948 1.758231 3.027394 2.392813 2.392813 \nC 3.027394 1.758231 3.383948 0.897434 3.383948 0 \nC 3.383948 -0.897434 3.027394 -1.758231 2.392813 -2.392813 \nC 1.758231 -3.027394 0.897434 -3.383948 0 -3.383948 \nC -0.897434 -3.383948 -1.758231 -3.027394 -2.392813 -2.392813 \nC -3.027394 -1.758231 -3.383948 -0.897434 -3.383948 0 \nC -3.383948 0.897434 -3.027394 1.758231 -2.392813 2.392813 \nC -1.758231 3.027394 -0.897434 3.383948 0 3.383948 \nz\n\" id=\"meb5e7956b3\" style=\"stroke:#4c72b0;stroke-width:2.025;\"/>\n    </defs>\n    <g clip-path=\"url(#p9d4d55b887)\">\n     <use style=\"fill:#4c72b0;stroke:#4c72b0;stroke-width:2.025;\" x=\"103.014455\" xlink:href=\"#meb5e7956b3\" y=\"130.394884\"/>\n     <use style=\"fill:#4c72b0;stroke:#4c72b0;stroke-width:2.025;\" x=\"202.924762\" xlink:href=\"#meb5e7956b3\" y=\"194.834512\"/>\n     <use style=\"fill:#4c72b0;stroke:#4c72b0;stroke-width:2.025;\" x=\"302.835069\" xlink:href=\"#meb5e7956b3\" y=\"85.987508\"/>\n    </g>\n   </g>\n   <g id=\"line2d_8\">\n    <path clip-path=\"url(#p9d4d55b887)\" d=\"M 103.014455 130.394884 \nL 202.924762 194.834512 \nL 302.835069 85.987508 \n\" style=\"fill:none;stroke:#4c72b0;stroke-linecap:round;stroke-width:2.7;\"/>\n   </g>\n   <g id=\"line2d_9\">\n    <path clip-path=\"url(#p9d4d55b887)\" d=\"M 103.014455 222.526364 \nL 103.014455 37.757362 \n\" style=\"fill:none;stroke:#4c72b0;stroke-linecap:round;stroke-width:2.7;\"/>\n   </g>\n   <g id=\"line2d_10\">\n    <path clip-path=\"url(#p9d4d55b887)\" d=\"M 202.924762 210.799035 \nL 202.924762 180.445292 \n\" style=\"fill:none;stroke:#4c72b0;stroke-linecap:round;stroke-width:2.7;\"/>\n   </g>\n   <g id=\"line2d_11\">\n    <path clip-path=\"url(#p9d4d55b887)\" d=\"M 302.835069 140.909991 \nL 302.835069 17.453636 \n\" style=\"fill:none;stroke:#4c72b0;stroke-linecap:round;stroke-width:2.7;\"/>\n   </g>\n   <g id=\"PathCollection_2\">\n    <defs>\n     <path d=\"M 0 3.383948 \nC 0.897434 3.383948 1.758231 3.027394 2.392813 2.392813 \nC 3.027394 1.758231 3.383948 0.897434 3.383948 0 \nC 3.383948 -0.897434 3.027394 -1.758231 2.392813 -2.392813 \nC 1.758231 -3.027394 0.897434 -3.383948 0 -3.383948 \nC -0.897434 -3.383948 -1.758231 -3.027394 -2.392813 -2.392813 \nC -3.027394 -1.758231 -3.383948 -0.897434 -3.383948 0 \nC -3.383948 0.897434 -3.027394 1.758231 -2.392813 2.392813 \nC -1.758231 3.027394 -0.897434 3.383948 0 3.383948 \nz\n\" id=\"m9c5e341a5f\" style=\"stroke:#dd8452;stroke-width:2.025;\"/>\n    </defs>\n    <g clip-path=\"url(#p9d4d55b887)\">\n     <use style=\"fill:#dd8452;stroke:#dd8452;stroke-width:2.025;\" x=\"106.761091\" xlink:href=\"#m9c5e341a5f\" y=\"139.330368\"/>\n     <use style=\"fill:#dd8452;stroke:#dd8452;stroke-width:2.025;\" x=\"206.671398\" xlink:href=\"#m9c5e341a5f\" y=\"195.066498\"/>\n     <use style=\"fill:#dd8452;stroke:#dd8452;stroke-width:2.025;\" x=\"306.581706\" xlink:href=\"#m9c5e341a5f\" y=\"158.301878\"/>\n    </g>\n   </g>\n   <g id=\"line2d_12\">\n    <path clip-path=\"url(#p9d4d55b887)\" d=\"M 106.761091 139.330368 \nL 206.671398 195.066498 \nL 306.581706 158.301878 \n\" style=\"fill:none;stroke:#dd8452;stroke-linecap:round;stroke-width:2.7;\"/>\n   </g>\n   <g id=\"line2d_13\">\n    <path clip-path=\"url(#p9d4d55b887)\" d=\"M 106.761091 179.410431 \nL 106.761091 98.022743 \n\" style=\"fill:none;stroke:#dd8452;stroke-linecap:round;stroke-width:2.7;\"/>\n   </g>\n   <g id=\"line2d_14\">\n    <path clip-path=\"url(#p9d4d55b887)\" d=\"M 206.671398 208.661283 \nL 206.671398 184.877473 \n\" style=\"fill:none;stroke:#dd8452;stroke-linecap:round;stroke-width:2.7;\"/>\n   </g>\n   <g id=\"line2d_15\">\n    <path clip-path=\"url(#p9d4d55b887)\" d=\"M 306.581706 208.067268 \nL 306.581706 103.477417 \n\" style=\"fill:none;stroke:#dd8452;stroke-linecap:round;stroke-width:2.7;\"/>\n   </g>\n   <g id=\"patch_3\">\n    <path d=\"M 56.805937 232.78 \nL 56.805937 7.2 \n\" style=\"fill:none;stroke:#ffffff;stroke-linecap:square;stroke-linejoin:miter;stroke-width:1.25;\"/>\n   </g>\n   <g id=\"patch_4\">\n    <path d=\"M 56.805937 232.78 \nL 356.536859 232.78 \n\" style=\"fill:none;stroke:#ffffff;stroke-linecap:square;stroke-linejoin:miter;stroke-width:1.25;\"/>\n   </g>\n   <g id=\"PathCollection_3\">\n    <defs>\n     <path d=\"M 0 3.383948 \nC 0.897434 3.383948 1.758231 3.027394 2.392813 2.392813 \nC 3.027394 1.758231 3.383948 0.897434 3.383948 0 \nC 3.383948 -0.897434 3.027394 -1.758231 2.392813 -2.392813 \nC 1.758231 -3.027394 0.897434 -3.383948 0 -3.383948 \nC -0.897434 -3.383948 -1.758231 -3.027394 -2.392813 -2.392813 \nC -3.027394 -1.758231 -3.383948 -0.897434 -3.383948 0 \nC -3.383948 0.897434 -3.027394 1.758231 -2.392813 2.392813 \nC -1.758231 3.027394 -0.897434 3.383948 0 3.383948 \nz\n\" id=\"m4f86a02766\" style=\"stroke:#55a868;stroke-width:2.025;\"/>\n    </defs>\n    <g clip-path=\"url(#p9d4d55b887)\">\n     <use style=\"fill:#55a868;stroke:#55a868;stroke-width:2.025;\" x=\"110.507728\" xlink:href=\"#m4f86a02766\" y=\"130.465569\"/>\n     <use style=\"fill:#55a868;stroke:#55a868;stroke-width:2.025;\" x=\"210.418035\" xlink:href=\"#m4f86a02766\" y=\"202.297745\"/>\n     <use style=\"fill:#55a868;stroke:#55a868;stroke-width:2.025;\" x=\"310.328342\" xlink:href=\"#m4f86a02766\" y=\"78.371284\"/>\n    </g>\n   </g>\n   <g id=\"line2d_16\">\n    <path clip-path=\"url(#p9d4d55b887)\" d=\"M 110.507728 130.465569 \nL 210.418035 202.297745 \nL 310.328342 78.371284 \n\" style=\"fill:none;stroke:#55a868;stroke-linecap:round;stroke-width:2.7;\"/>\n   </g>\n   <g id=\"line2d_17\">\n    <path clip-path=\"url(#p9d4d55b887)\" d=\"M 110.507728 166.796146 \nL 110.507728 95.878685 \n\" style=\"fill:none;stroke:#55a868;stroke-linecap:round;stroke-width:2.7;\"/>\n   </g>\n   <g id=\"line2d_18\">\n    <path clip-path=\"url(#p9d4d55b887)\" d=\"M 210.418035 220.078992 \nL 210.418035 185.28542 \n\" style=\"fill:none;stroke:#55a868;stroke-linecap:round;stroke-width:2.7;\"/>\n   </g>\n   <g id=\"line2d_19\">\n    <path clip-path=\"url(#p9d4d55b887)\" d=\"M 310.328342 121.013276 \nL 310.328342 43.746845 \n\" style=\"fill:none;stroke:#55a868;stroke-linecap:round;stroke-width:2.7;\"/>\n   </g>\n  </g>\n  <g id=\"legend_1\">\n   <g id=\"text_13\">\n    <!-- condition -->\n    <g style=\"fill:#262626;\" transform=\"translate(369.344399 116.785156)scale(0.12 -0.12)\">\n     <defs>\n      <path d=\"M 54.890625 33.015625 \nL 54.890625 0 \nL 45.90625 0 \nL 45.90625 32.71875 \nQ 45.90625 40.484375 42.875 44.328125 \nQ 39.84375 48.1875 33.796875 48.1875 \nQ 26.515625 48.1875 22.3125 43.546875 \nQ 18.109375 38.921875 18.109375 30.90625 \nL 18.109375 0 \nL 9.078125 0 \nL 9.078125 54.6875 \nL 18.109375 54.6875 \nL 18.109375 46.1875 \nQ 21.34375 51.125 25.703125 53.5625 \nQ 30.078125 56 35.796875 56 \nQ 45.21875 56 50.046875 50.171875 \nQ 54.890625 44.34375 54.890625 33.015625 \nz\n\" id=\"DejaVuSans-110\"/>\n      <path d=\"M 45.40625 46.390625 \nL 45.40625 75.984375 \nL 54.390625 75.984375 \nL 54.390625 0 \nL 45.40625 0 \nL 45.40625 8.203125 \nQ 42.578125 3.328125 38.25 0.953125 \nQ 33.9375 -1.421875 27.875 -1.421875 \nQ 17.96875 -1.421875 11.734375 6.484375 \nQ 5.515625 14.40625 5.515625 27.296875 \nQ 5.515625 40.1875 11.734375 48.09375 \nQ 17.96875 56 27.875 56 \nQ 33.9375 56 38.25 53.625 \nQ 42.578125 51.265625 45.40625 46.390625 \nz\nM 14.796875 27.296875 \nQ 14.796875 17.390625 18.875 11.75 \nQ 22.953125 6.109375 30.078125 6.109375 \nQ 37.203125 6.109375 41.296875 11.75 \nQ 45.40625 17.390625 45.40625 27.296875 \nQ 45.40625 37.203125 41.296875 42.84375 \nQ 37.203125 48.484375 30.078125 48.484375 \nQ 22.953125 48.484375 18.875 42.84375 \nQ 14.796875 37.203125 14.796875 27.296875 \nz\n\" id=\"DejaVuSans-100\"/>\n      <path d=\"M 9.421875 54.6875 \nL 18.40625 54.6875 \nL 18.40625 0 \nL 9.421875 0 \nz\nM 9.421875 75.984375 \nL 18.40625 75.984375 \nL 18.40625 64.59375 \nL 9.421875 64.59375 \nz\n\" id=\"DejaVuSans-105\"/>\n      <path d=\"M 18.3125 70.21875 \nL 18.3125 54.6875 \nL 36.8125 54.6875 \nL 36.8125 47.703125 \nL 18.3125 47.703125 \nL 18.3125 18.015625 \nQ 18.3125 11.328125 20.140625 9.421875 \nQ 21.96875 7.515625 27.59375 7.515625 \nL 36.8125 7.515625 \nL 36.8125 0 \nL 27.59375 0 \nQ 17.1875 0 13.234375 3.875 \nQ 9.28125 7.765625 9.28125 18.015625 \nL 9.28125 47.703125 \nL 2.6875 47.703125 \nL 2.6875 54.6875 \nL 9.28125 54.6875 \nL 9.28125 70.21875 \nz\n\" id=\"DejaVuSans-116\"/>\n     </defs>\n     <use xlink:href=\"#DejaVuSans-99\"/>\n     <use x=\"54.980469\" xlink:href=\"#DejaVuSans-111\"/>\n     <use x=\"116.162109\" xlink:href=\"#DejaVuSans-110\"/>\n     <use x=\"179.541016\" xlink:href=\"#DejaVuSans-100\"/>\n     <use x=\"243.017578\" xlink:href=\"#DejaVuSans-105\"/>\n     <use x=\"270.800781\" xlink:href=\"#DejaVuSans-116\"/>\n     <use x=\"310.009766\" xlink:href=\"#DejaVuSans-105\"/>\n     <use x=\"337.792969\" xlink:href=\"#DejaVuSans-111\"/>\n     <use x=\"398.974609\" xlink:href=\"#DejaVuSans-110\"/>\n    </g>\n   </g>\n   <g id=\"PathCollection_4\">\n    <g>\n     <use style=\"fill:#4c72b0;stroke:#4c72b0;stroke-width:2.025;\" x=\"372.978774\" xlink:href=\"#meb5e7956b3\" y=\"130.251563\"/>\n    </g>\n   </g>\n   <g id=\"text_14\">\n    <!-- df1 -->\n    <g style=\"fill:#262626;\" transform=\"translate(392.778774 133.139063)scale(0.11 -0.11)\">\n     <defs>\n      <path d=\"M 37.109375 75.984375 \nL 37.109375 68.5 \nL 28.515625 68.5 \nQ 23.6875 68.5 21.796875 66.546875 \nQ 19.921875 64.59375 19.921875 59.515625 \nL 19.921875 54.6875 \nL 34.71875 54.6875 \nL 34.71875 47.703125 \nL 19.921875 47.703125 \nL 19.921875 0 \nL 10.890625 0 \nL 10.890625 47.703125 \nL 2.296875 47.703125 \nL 2.296875 54.6875 \nL 10.890625 54.6875 \nL 10.890625 58.5 \nQ 10.890625 67.625 15.140625 71.796875 \nQ 19.390625 75.984375 28.609375 75.984375 \nz\n\" id=\"DejaVuSans-102\"/>\n     </defs>\n     <use xlink:href=\"#DejaVuSans-100\"/>\n     <use x=\"63.476562\" xlink:href=\"#DejaVuSans-102\"/>\n     <use x=\"98.681641\" xlink:href=\"#DejaVuSans-49\"/>\n    </g>\n   </g>\n   <g id=\"PathCollection_5\">\n    <g>\n     <use style=\"fill:#dd8452;stroke:#dd8452;stroke-width:2.025;\" x=\"372.978774\" xlink:href=\"#m9c5e341a5f\" y=\"146.3975\"/>\n    </g>\n   </g>\n   <g id=\"text_15\">\n    <!-- df2 -->\n    <g style=\"fill:#262626;\" transform=\"translate(392.778774 149.285)scale(0.11 -0.11)\">\n     <use xlink:href=\"#DejaVuSans-100\"/>\n     <use x=\"63.476562\" xlink:href=\"#DejaVuSans-102\"/>\n     <use x=\"98.681641\" xlink:href=\"#DejaVuSans-50\"/>\n    </g>\n   </g>\n   <g id=\"PathCollection_6\">\n    <g>\n     <use style=\"fill:#55a868;stroke:#55a868;stroke-width:2.025;\" x=\"372.978774\" xlink:href=\"#m4f86a02766\" y=\"162.591563\"/>\n    </g>\n   </g>\n   <g id=\"text_16\">\n    <!-- df1|df2 -->\n    <g style=\"fill:#262626;\" transform=\"translate(392.778774 165.479063)scale(0.11 -0.11)\">\n     <defs>\n      <path d=\"M 21 76.421875 \nL 21 -23.578125 \nL 12.703125 -23.578125 \nL 12.703125 76.421875 \nz\n\" id=\"DejaVuSans-124\"/>\n     </defs>\n     <use xlink:href=\"#DejaVuSans-100\"/>\n     <use x=\"63.476562\" xlink:href=\"#DejaVuSans-102\"/>\n     <use x=\"98.681641\" xlink:href=\"#DejaVuSans-49\"/>\n     <use x=\"162.304688\" xlink:href=\"#DejaVuSans-124\"/>\n     <use x=\"195.996094\" xlink:href=\"#DejaVuSans-100\"/>\n     <use x=\"259.472656\" xlink:href=\"#DejaVuSans-102\"/>\n     <use x=\"294.677734\" xlink:href=\"#DejaVuSans-50\"/>\n    </g>\n   </g>\n  </g>\n </g>\n <defs>\n  <clipPath id=\"p9d4d55b887\">\n   <rect height=\"225.58\" width=\"299.730922\" x=\"56.805937\" y=\"7.2\"/>\n  </clipPath>\n </defs>\n</svg>\n",
      "image/png": "[encoded data removed]"
     },
     "metadata": {}
    }
   ],
   "source": [
    "fig_dVz = sns.catplot(x=\"block\", y=\"$\\\\Delta V_z$\",\n",
    "                      hue=\"condition\",\n",
    "                      data=df.rename(columns={'dVz': '$\\\\Delta V_z$'}), kind=\"point\",\n",
    "                      dodge=True,\n",
    "                      height=4, aspect=1.333)\n",
    "\n",
    "fig_filepath = figures_path / 'line-plot-dVz.pdf'\n",
    "plt.savefig(str(fig_filepath))\n",
    "logging.info(f\"Written figure to {fig_filepath.resolve()}\")"
   ]
  },
  {
   "cell_type": "markdown",
   "metadata": {},
   "source": [
    "### Normality of Fisher-z-transformed Synergy Index\n",
    "Make sure the tranformation worked."
   ]
  },
  {
   "cell_type": "code",
   "execution_count": 9,
   "metadata": {},
   "outputs": [
    {
     "output_type": "execute_result",
     "data": {
      "text/plain": "                W      pval normal\ntask                              \npre      0.966253  0.442354   True\ndf1      0.975935  0.929658   True\ndf2       0.85596  0.109407   True\ndf1|df2  0.907364  0.105527   True\npost     0.985355  0.943076   True",
      "text/html": "<div>\n<style scoped>\n    .dataframe tbody tr th:only-of-type {\n        vertical-align: middle;\n    }\n\n    .dataframe tbody tr th {\n        vertical-align: top;\n    }\n\n    .dataframe thead th {\n        text-align: right;\n    }\n</style>\n<table border=\"1\" class=\"dataframe\">\n  <thead>\n    <tr style=\"text-align: right;\">\n      <th></th>\n      <th>W</th>\n      <th>pval</th>\n      <th>normal</th>\n    </tr>\n    <tr>\n      <th>task</th>\n      <th></th>\n      <th></th>\n      <th></th>\n    </tr>\n  </thead>\n  <tbody>\n    <tr>\n      <th>pre</th>\n      <td>0.966253</td>\n      <td>0.442354</td>\n      <td>True</td>\n    </tr>\n    <tr>\n      <th>df1</th>\n      <td>0.975935</td>\n      <td>0.929658</td>\n      <td>True</td>\n    </tr>\n    <tr>\n      <th>df2</th>\n      <td>0.85596</td>\n      <td>0.109407</td>\n      <td>True</td>\n    </tr>\n    <tr>\n      <th>df1|df2</th>\n      <td>0.907364</td>\n      <td>0.105527</td>\n      <td>True</td>\n    </tr>\n    <tr>\n      <th>post</th>\n      <td>0.985355</td>\n      <td>0.943076</td>\n      <td>True</td>\n    </tr>\n  </tbody>\n</table>\n</div>"
     },
     "metadata": {},
     "execution_count": 9
    }
   ],
   "source": [
    "import pingouin as pg\n",
    "pg.options['round'] = 4\n",
    "\n",
    "norm_dVz = df.groupby('task')['dVz'].apply(lambda x: pg.normality(x).iloc[0]).unstack(level=1)\n",
    "norm_dVz"
   ]
  },
  {
   "cell_type": "markdown",
   "metadata": {},
   "source": [
    "### Mixed ANOVA\n"
   ]
  },
  {
   "cell_type": "code",
   "execution_count": 10,
   "metadata": {
    "tags": []
   },
   "outputs": [
    {
     "output_type": "execute_result",
     "data": {
      "text/plain": "        Source        SS  DF1  DF2        MS          F     p-unc  p-GG-corr  \\\n0    condition  0.835976    2   27  0.417988   0.967500  0.392820        NaN   \n1        block  9.580924    2   54  4.790462  17.325812  0.000002   0.000002   \n2  Interaction  1.522061    4   54  0.380515   1.376221  0.254394        NaN   \n\n        np2       eps sphericity   W-spher   p-spher  \n0  0.066874       NaN        NaN       NaN       NaN  \n1  0.390874  0.987982       True  0.987836  0.842538  \n2  0.092511       NaN        NaN       NaN       NaN  ",
      "text/html": "<div>\n<style scoped>\n    .dataframe tbody tr th:only-of-type {\n        vertical-align: middle;\n    }\n\n    .dataframe tbody tr th {\n        vertical-align: top;\n    }\n\n    .dataframe thead th {\n        text-align: right;\n    }\n</style>\n<table border=\"1\" class=\"dataframe\">\n  <thead>\n    <tr style=\"text-align: right;\">\n      <th></th>\n      <th>Source</th>\n      <th>SS</th>\n      <th>DF1</th>\n      <th>DF2</th>\n      <th>MS</th>\n      <th>F</th>\n      <th>p-unc</th>\n      <th>p-GG-corr</th>\n      <th>np2</th>\n      <th>eps</th>\n      <th>sphericity</th>\n      <th>W-spher</th>\n      <th>p-spher</th>\n    </tr>\n  </thead>\n  <tbody>\n    <tr>\n      <th>0</th>\n      <td>condition</td>\n      <td>0.835976</td>\n      <td>2</td>\n      <td>27</td>\n      <td>0.417988</td>\n      <td>0.967500</td>\n      <td>0.392820</td>\n      <td>NaN</td>\n      <td>0.066874</td>\n      <td>NaN</td>\n      <td>NaN</td>\n      <td>NaN</td>\n      <td>NaN</td>\n    </tr>\n    <tr>\n      <th>1</th>\n      <td>block</td>\n      <td>9.580924</td>\n      <td>2</td>\n      <td>54</td>\n      <td>4.790462</td>\n      <td>17.325812</td>\n      <td>0.000002</td>\n      <td>0.000002</td>\n      <td>0.390874</td>\n      <td>0.987982</td>\n      <td>True</td>\n      <td>0.987836</td>\n      <td>0.842538</td>\n    </tr>\n    <tr>\n      <th>2</th>\n      <td>Interaction</td>\n      <td>1.522061</td>\n      <td>4</td>\n      <td>54</td>\n      <td>0.380515</td>\n      <td>1.376221</td>\n      <td>0.254394</td>\n      <td>NaN</td>\n      <td>0.092511</td>\n      <td>NaN</td>\n      <td>NaN</td>\n      <td>NaN</td>\n      <td>NaN</td>\n    </tr>\n  </tbody>\n</table>\n</div>"
     },
     "metadata": {},
     "execution_count": 10
    }
   ],
   "source": [
    "anova_dVz = analysis.mixed_anova_synergy_index_z(df)\n",
    "anova_dVz"
   ]
  },
  {
   "cell_type": "markdown",
   "metadata": {},
   "source": [
    "There's evidence for a main effect of block on the synergy index with the effect accounting for 39% of variability (partial eta squared/np2) in the index for this sample.\n",
    "\n",
    "_**To do: Compare effect size with other research in that domain**_\n",
    "\n",
    "## Posthoc Testing"
   ]
  },
  {
   "cell_type": "code",
   "execution_count": 11,
   "metadata": {},
   "outputs": [
    {
     "output_type": "execute_result",
     "data": {
      "text/plain": "             Contrast condition        A    B   mean(A)    std(A)   mean(B)  \\\n0           condition         -  df1|df2  df2  0.634094  0.337876  0.416093   \n1           condition         -  df1|df2  df1  0.634094  0.337876  0.633874   \n2           condition         -      df2  df1  0.416093  0.355479  0.633874   \n3               block         -        1    2  0.668008  0.671723  0.138308   \n4               block         -        1    3  0.668008  0.671723  0.921434   \n5               block         -        2    3  0.138308  0.240211  0.921434   \n6   condition * block   df1|df2        1    2  0.686849  0.608842  0.110878   \n7   condition * block   df1|df2        1    3  0.686849  0.608842  1.104556   \n8   condition * block   df1|df2        2    3  0.110878  0.299517  1.104556   \n9   condition * block       df2        1    2  0.615768  0.514115  0.168860   \n10  condition * block       df2        1    3  0.615768  0.514115  0.463649   \n11  condition * block       df2        2    3  0.168860  0.145116  0.463649   \n12  condition * block       df1        1    2  0.687416  1.062529  0.170720   \n13  condition * block       df1        1    3  0.687416  1.062529  1.043487   \n14  condition * block       df1        2    3  0.170720  0.175761  1.043487   \n\n      std(B) Paired  Parametric         T        dof       Tail         p-unc  \\\n0   0.355479  False        True  1.439632  13.469636  one-sided  8.640295e-02   \n1   0.508192  False        True  0.000982   6.733359  one-sided  4.996224e-01   \n2   0.508192  False        True -0.897820   8.523200  one-sided  1.969679e-01   \n3   0.240211   True        True  3.873672  29.000000  one-sided  2.815777e-04   \n4   0.699630   True        True -1.756597  29.000000  one-sided  4.477130e-02   \n5   0.699630   True        True -5.967739  29.000000  one-sided  8.701285e-07   \n6   0.299517   True        True  3.201622  15.000000  one-sided  2.972036e-03   \n7   0.646230   True        True -2.064421  15.000000  one-sided  2.835910e-02   \n8   0.646230   True        True -6.035259  15.000000  one-sided  1.141374e-05   \n9   0.145116   True        True  2.273350   7.000000  one-sided  2.859715e-02   \n10  0.652222   True        True  0.853738   7.000000  one-sided  2.107508e-01   \n11  0.652222   True        True -1.268779   7.000000  one-sided  1.225399e-01   \n12  0.175761   True        True  1.132358   5.000000  one-sided  1.544236e-01   \n13  0.728086   True        True -0.900166   5.000000  one-sided  2.046454e-01   \n14  0.728086   True        True -2.863213   5.000000  one-sided  1.763678e-02   \n\n      p-corr p-adjust       BF10    hedges  \n0   0.475216   fdr_by        1.6  0.612630  \n1   0.915974   fdr_by      0.832  0.000546  \n2   0.541662   fdr_by      1.165 -0.478798  \n3   0.000774   fdr_by    110.212  1.036444  \n4   0.082081   fdr_by      1.519 -0.364725  \n5   0.000005   fdr_by  2.113e+04 -1.477758  \n6   0.037835   fdr_by     16.846  1.170200  \n7   0.145621   fdr_by      2.728 -0.648562  \n8   0.000291   fdr_by   2115.127 -1.923221  \n9   0.145621   fdr_by      3.436  1.118583  \n10  0.596207   fdr_by      0.903  0.244910  \n11  0.519992   fdr_by      1.244 -0.589902  \n12  0.561677   fdr_by      1.203  0.626304  \n13  0.596207   fdr_by      1.023 -0.360875  \n14  0.145621   fdr_by      5.393 -1.521141  ",
      "text/html": "<div>\n<style scoped>\n    .dataframe tbody tr th:only-of-type {\n        vertical-align: middle;\n    }\n\n    .dataframe tbody tr th {\n        vertical-align: top;\n    }\n\n    .dataframe thead th {\n        text-align: right;\n    }\n</style>\n<table border=\"1\" class=\"dataframe\">\n  <thead>\n    <tr style=\"text-align: right;\">\n      <th></th>\n      <th>Contrast</th>\n      <th>condition</th>\n      <th>A</th>\n      <th>B</th>\n      <th>mean(A)</th>\n      <th>std(A)</th>\n      <th>mean(B)</th>\n      <th>std(B)</th>\n      <th>Paired</th>\n      <th>Parametric</th>\n      <th>T</th>\n      <th>dof</th>\n      <th>Tail</th>\n      <th>p-unc</th>\n      <th>p-corr</th>\n      <th>p-adjust</th>\n      <th>BF10</th>\n      <th>hedges</th>\n    </tr>\n  </thead>\n  <tbody>\n    <tr>\n      <th>0</th>\n      <td>condition</td>\n      <td>-</td>\n      <td>df1|df2</td>\n      <td>df2</td>\n      <td>0.634094</td>\n      <td>0.337876</td>\n      <td>0.416093</td>\n      <td>0.355479</td>\n      <td>False</td>\n      <td>True</td>\n      <td>1.439632</td>\n      <td>13.469636</td>\n      <td>one-sided</td>\n      <td>8.640295e-02</td>\n      <td>0.475216</td>\n      <td>fdr_by</td>\n      <td>1.6</td>\n      <td>0.612630</td>\n    </tr>\n    <tr>\n      <th>1</th>\n      <td>condition</td>\n      <td>-</td>\n      <td>df1|df2</td>\n      <td>df1</td>\n      <td>0.634094</td>\n      <td>0.337876</td>\n      <td>0.633874</td>\n      <td>0.508192</td>\n      <td>False</td>\n      <td>True</td>\n      <td>0.000982</td>\n      <td>6.733359</td>\n      <td>one-sided</td>\n      <td>4.996224e-01</td>\n      <td>0.915974</td>\n      <td>fdr_by</td>\n      <td>0.832</td>\n      <td>0.000546</td>\n    </tr>\n    <tr>\n      <th>2</th>\n      <td>condition</td>\n      <td>-</td>\n      <td>df2</td>\n      <td>df1</td>\n      <td>0.416093</td>\n      <td>0.355479</td>\n      <td>0.633874</td>\n      <td>0.508192</td>\n      <td>False</td>\n      <td>True</td>\n      <td>-0.897820</td>\n      <td>8.523200</td>\n      <td>one-sided</td>\n      <td>1.969679e-01</td>\n      <td>0.541662</td>\n      <td>fdr_by</td>\n      <td>1.165</td>\n      <td>-0.478798</td>\n    </tr>\n    <tr>\n      <th>3</th>\n      <td>block</td>\n      <td>-</td>\n      <td>1</td>\n      <td>2</td>\n      <td>0.668008</td>\n      <td>0.671723</td>\n      <td>0.138308</td>\n      <td>0.240211</td>\n      <td>True</td>\n      <td>True</td>\n      <td>3.873672</td>\n      <td>29.000000</td>\n      <td>one-sided</td>\n      <td>2.815777e-04</td>\n      <td>0.000774</td>\n      <td>fdr_by</td>\n      <td>110.212</td>\n      <td>1.036444</td>\n    </tr>\n    <tr>\n      <th>4</th>\n      <td>block</td>\n      <td>-</td>\n      <td>1</td>\n      <td>3</td>\n      <td>0.668008</td>\n      <td>0.671723</td>\n      <td>0.921434</td>\n      <td>0.699630</td>\n      <td>True</td>\n      <td>True</td>\n      <td>-1.756597</td>\n      <td>29.000000</td>\n      <td>one-sided</td>\n      <td>4.477130e-02</td>\n      <td>0.082081</td>\n      <td>fdr_by</td>\n      <td>1.519</td>\n      <td>-0.364725</td>\n    </tr>\n    <tr>\n      <th>5</th>\n      <td>block</td>\n      <td>-</td>\n      <td>2</td>\n      <td>3</td>\n      <td>0.138308</td>\n      <td>0.240211</td>\n      <td>0.921434</td>\n      <td>0.699630</td>\n      <td>True</td>\n      <td>True</td>\n      <td>-5.967739</td>\n      <td>29.000000</td>\n      <td>one-sided</td>\n      <td>8.701285e-07</td>\n      <td>0.000005</td>\n      <td>fdr_by</td>\n      <td>2.113e+04</td>\n      <td>-1.477758</td>\n    </tr>\n    <tr>\n      <th>6</th>\n      <td>condition * block</td>\n      <td>df1|df2</td>\n      <td>1</td>\n      <td>2</td>\n      <td>0.686849</td>\n      <td>0.608842</td>\n      <td>0.110878</td>\n      <td>0.299517</td>\n      <td>True</td>\n      <td>True</td>\n      <td>3.201622</td>\n      <td>15.000000</td>\n      <td>one-sided</td>\n      <td>2.972036e-03</td>\n      <td>0.037835</td>\n      <td>fdr_by</td>\n      <td>16.846</td>\n      <td>1.170200</td>\n    </tr>\n    <tr>\n      <th>7</th>\n      <td>condition * block</td>\n      <td>df1|df2</td>\n      <td>1</td>\n      <td>3</td>\n      <td>0.686849</td>\n      <td>0.608842</td>\n      <td>1.104556</td>\n      <td>0.646230</td>\n      <td>True</td>\n      <td>True</td>\n      <td>-2.064421</td>\n      <td>15.000000</td>\n      <td>one-sided</td>\n      <td>2.835910e-02</td>\n      <td>0.145621</td>\n      <td>fdr_by</td>\n      <td>2.728</td>\n      <td>-0.648562</td>\n    </tr>\n    <tr>\n      <th>8</th>\n      <td>condition * block</td>\n      <td>df1|df2</td>\n      <td>2</td>\n      <td>3</td>\n      <td>0.110878</td>\n      <td>0.299517</td>\n      <td>1.104556</td>\n      <td>0.646230</td>\n      <td>True</td>\n      <td>True</td>\n      <td>-6.035259</td>\n      <td>15.000000</td>\n      <td>one-sided</td>\n      <td>1.141374e-05</td>\n      <td>0.000291</td>\n      <td>fdr_by</td>\n      <td>2115.127</td>\n      <td>-1.923221</td>\n    </tr>\n    <tr>\n      <th>9</th>\n      <td>condition * block</td>\n      <td>df2</td>\n      <td>1</td>\n      <td>2</td>\n      <td>0.615768</td>\n      <td>0.514115</td>\n      <td>0.168860</td>\n      <td>0.145116</td>\n      <td>True</td>\n      <td>True</td>\n      <td>2.273350</td>\n      <td>7.000000</td>\n      <td>one-sided</td>\n      <td>2.859715e-02</td>\n      <td>0.145621</td>\n      <td>fdr_by</td>\n      <td>3.436</td>\n      <td>1.118583</td>\n    </tr>\n    <tr>\n      <th>10</th>\n      <td>condition * block</td>\n      <td>df2</td>\n      <td>1</td>\n      <td>3</td>\n      <td>0.615768</td>\n      <td>0.514115</td>\n      <td>0.463649</td>\n      <td>0.652222</td>\n      <td>True</td>\n      <td>True</td>\n      <td>0.853738</td>\n      <td>7.000000</td>\n      <td>one-sided</td>\n      <td>2.107508e-01</td>\n      <td>0.596207</td>\n      <td>fdr_by</td>\n      <td>0.903</td>\n      <td>0.244910</td>\n    </tr>\n    <tr>\n      <th>11</th>\n      <td>condition * block</td>\n      <td>df2</td>\n      <td>2</td>\n      <td>3</td>\n      <td>0.168860</td>\n      <td>0.145116</td>\n      <td>0.463649</td>\n      <td>0.652222</td>\n      <td>True</td>\n      <td>True</td>\n      <td>-1.268779</td>\n      <td>7.000000</td>\n      <td>one-sided</td>\n      <td>1.225399e-01</td>\n      <td>0.519992</td>\n      <td>fdr_by</td>\n      <td>1.244</td>\n      <td>-0.589902</td>\n    </tr>\n    <tr>\n      <th>12</th>\n      <td>condition * block</td>\n      <td>df1</td>\n      <td>1</td>\n      <td>2</td>\n      <td>0.687416</td>\n      <td>1.062529</td>\n      <td>0.170720</td>\n      <td>0.175761</td>\n      <td>True</td>\n      <td>True</td>\n      <td>1.132358</td>\n      <td>5.000000</td>\n      <td>one-sided</td>\n      <td>1.544236e-01</td>\n      <td>0.561677</td>\n      <td>fdr_by</td>\n      <td>1.203</td>\n      <td>0.626304</td>\n    </tr>\n    <tr>\n      <th>13</th>\n      <td>condition * block</td>\n      <td>df1</td>\n      <td>1</td>\n      <td>3</td>\n      <td>0.687416</td>\n      <td>1.062529</td>\n      <td>1.043487</td>\n      <td>0.728086</td>\n      <td>True</td>\n      <td>True</td>\n      <td>-0.900166</td>\n      <td>5.000000</td>\n      <td>one-sided</td>\n      <td>2.046454e-01</td>\n      <td>0.596207</td>\n      <td>fdr_by</td>\n      <td>1.023</td>\n      <td>-0.360875</td>\n    </tr>\n    <tr>\n      <th>14</th>\n      <td>condition * block</td>\n      <td>df1</td>\n      <td>2</td>\n      <td>3</td>\n      <td>0.170720</td>\n      <td>0.175761</td>\n      <td>1.043487</td>\n      <td>0.728086</td>\n      <td>True</td>\n      <td>True</td>\n      <td>-2.863213</td>\n      <td>5.000000</td>\n      <td>one-sided</td>\n      <td>1.763678e-02</td>\n      <td>0.145621</td>\n      <td>fdr_by</td>\n      <td>5.393</td>\n      <td>-1.521141</td>\n    </tr>\n  </tbody>\n</table>\n</div>"
     },
     "metadata": {},
     "execution_count": 11
    }
   ],
   "source": [
    "posthoc_comparisons = analysis.posthoc_ttests(df)\n",
    "posthoc_comparisons"
   ]
  },
  {
   "cell_type": "markdown",
   "metadata": {},
   "source": [
    "The synergy index in block 2 is different from blocks 1 and 3 as was expected after visual inspection of the data. The synergy index is on average smaller in block 2.\n",
    "\n",
    "_**To do: How to interpret hedges effect size?**_"
   ]
  },
  {
   "cell_type": "markdown",
   "metadata": {},
   "source": [
    "## Reshape Data for Analysis of $\\Delta V_z$ in External Software.\n",
    "For RM ANOVA in JASP or JAMOVI we need the data in a different form. Each block is a column. Each row is an observation of repeated measures, i.e. all $\\Delta V_z$ of the same user."
   ]
  },
  {
   "cell_type": "code",
   "execution_count": null,
   "metadata": {},
   "outputs": [],
   "source": [
    "dVz_export = df[['user', 'condition', 'block', 'dVz']].set_index(['user', 'condition', 'block']).unstack(level='block').reset_index(level='condition')\n",
    "dVz_export.columns = [f\"{dvz_export.columns.names[1]}{col}\" if col else \"condition\" for col in dvz_export.columns.get_level_values(1)]"
   ]
  },
  {
   "cell_type": "markdown",
   "metadata": {},
   "source": [
    "### Save Reports"
   ]
  },
  {
   "cell_type": "code",
   "execution_count": 12,
   "metadata": {
    "tags": []
   },
   "outputs": [
    {
     "output_type": "stream",
     "name": "stdout",
     "text": "INFO:root:Written report to /home/olaf/code/NeuroPsyResearchAnalysis/reports/wilcoxon-projection-results.csv\nINFO:root:Written report to /home/olaf/code/NeuroPsyResearchAnalysis/reports/normality-test-dVz.csv\nINFO:root:Written report to /home/olaf/code/NeuroPsyResearchAnalysis/reports/anova-dVz.csv\nINFO:root:Written report to /home/olaf/code/NeuroPsyResearchAnalysis/reports/posthoc-dVz.csv\nINFO:root:Written figure to /home/olaf/code/NeuroPsyResearchAnalysis/reports/figures/line-plot-projections_by_user.pdf\nINFO:root:Written figure to /home/olaf/code/NeuroPsyResearchAnalysis/reports/figures/violin-projections.pdf\n"
    }
   ],
   "source": [
    "reports_path = Path('../reports')\n",
    "# Save tables.\n",
    "out_file = reports_path / 'wilcoxon-projection-results.csv'\n",
    "wilcoxon_results.reset_index().to_csv(out_file, index=False)\n",
    "logging.info(f\"Written report to {out_file.resolve()}\")\n",
    "\n",
    "out_file = reports_path / 'normality-test-dVz.csv'\n",
    "norm_dVz.to_csv(out_file)\n",
    "logging.info(f\"Written report to {out_file.resolve()}\")\n",
    "\n",
    "out_file = reports_path / 'anova-dVz.csv'\n",
    "anova_dVz.to_csv(out_file, index=False)\n",
    "logging.info(f\"Written report to {out_file.resolve()}\")\n",
    "\n",
    "out_file = reports_path / 'posthoc-dVz.csv'\n",
    "posthoc_comparisons.to_csv(out_file, index=False)\n",
    "logging.info(f\"Written report to {out_file.resolve()}\")\n",
    "\n",
    "out_file = reports_path / 'dVz-export.csv'\n",
    "dVz_export.to_csv(out_file)\n",
    "logging.info(f\"Written report to {out_file.resolve()}\")\n",
    "\n",
    "# Save figures.\n",
    "fig_filepath = figures_path / 'line-plot-projections_by_user.pdf'\n",
    "fig_proj_line.write_image(str(fig_filepath))\n",
    "logging.info(f\"Written figure to {fig_filepath.resolve()}\")\n",
    "\n",
    "fig_filepath = figures_path / 'violin-projections.pdf'\n",
    "fig_proj_violin.write_image(str(fig_filepath))\n",
    "logging.info(f\"Written figure to {fig_filepath.resolve()}\")"
   ]
  }
 ],
 "metadata": {
  "kernelspec": {
   "display_name": "Python 3",
   "language": "python",
   "name": "python3"
  },
  "language_info": {
   "codemirror_mode": {
    "name": "ipython",
    "version": 2
   },
   "file_extension": ".py",
   "mimetype": "text/x-python",
   "name": "python",
   "nbconvert_exporter": "python",
   "pygments_lexer": "ipython2",
   "version": "3.8.3-final"
  }
 },
 "nbformat": 4,
 "nbformat_minor": 0
}